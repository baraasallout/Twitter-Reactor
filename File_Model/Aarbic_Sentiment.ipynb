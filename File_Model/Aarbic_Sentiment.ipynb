{
 "cells": [
  {
   "cell_type": "markdown",
   "metadata": {
    "colab_type": "text",
    "id": "uAE6Icc0uylP"
   },
   "source": [
    "# TASK #2: IMPORT LIBRARIES AND DATASETS"
   ]
  },
  {
   "cell_type": "markdown",
   "metadata": {
    "colab_type": "text",
    "id": "VbX0jYELZend"
   },
   "source": [
    "Data source: https://www.kaggle.com/arkhoshghalb/twitter-sentiment-analysis-hatred-speech"
   ]
  },
  {
   "cell_type": "code",
   "execution_count": 1,
   "metadata": {
    "colab": {
     "base_uri": "https://localhost:8080/",
     "height": 70
    },
    "colab_type": "code",
    "id": "YBp2qDPb8pDo",
    "outputId": "42021516-5452-4958-b8fb-71111552dbd3"
   },
   "outputs": [],
   "source": [
    "import pandas as pd\n",
    "import numpy as np\n",
    "import seaborn as sns\n",
    "import matplotlib.pyplot as plt "
   ]
  },
  {
   "cell_type": "code",
   "execution_count": 2,
   "metadata": {},
   "outputs": [],
   "source": [
    "#import pandas as pd\n",
    "#dfs = pd.read_csv('Arabic_tweets.tsv', sep='\\t', chunksize=50)\n",
    "#for df in dfs:\n",
    " #   df.to_csv('Arabic_tweet.csv', sep=',', mode='a')\n"
   ]
  },
  {
   "cell_type": "code",
   "execution_count": 3,
   "metadata": {},
   "outputs": [],
   "source": [
    "tweets_df = pd.read_csv(\"Arabic_tweet.csv\")"
   ]
  },
  {
   "cell_type": "code",
   "execution_count": 4,
   "metadata": {
    "colab": {
     "base_uri": "https://localhost:8080/",
     "height": 185
    },
    "colab_type": "code",
    "id": "RUt2ON_UxyYk",
    "outputId": "4948f7ca-ec1b-4561-97bb-8d3ce688e623",
    "scrolled": false
   },
   "outputs": [
    {
     "name": "stdout",
     "output_type": "stream",
     "text": [
      "<class 'pandas.core.frame.DataFrame'>\n",
      "RangeIndex: 57930 entries, 0 to 57929\n",
      "Data columns (total 2 columns):\n",
      " #   Column     Non-Null Count  Dtype \n",
      "---  ------     --------------  ----- \n",
      " 0   Sentiment  57930 non-null  int64 \n",
      " 1   text       57930 non-null  object\n",
      "dtypes: int64(1), object(1)\n",
      "memory usage: 905.3+ KB\n"
     ]
    }
   ],
   "source": [
    "tweets_df.info()"
   ]
  },
  {
   "cell_type": "code",
   "execution_count": 5,
   "metadata": {
    "colab": {
     "base_uri": "https://localhost:8080/",
     "height": 284
    },
    "colab_type": "code",
    "id": "hMq3-KWOx0e1",
    "outputId": "d2e856cc-639b-4ff5-a939-dadbb237fdc1"
   },
   "outputs": [
    {
     "data": {
      "text/html": [
       "<div>\n",
       "<style scoped>\n",
       "    .dataframe tbody tr th:only-of-type {\n",
       "        vertical-align: middle;\n",
       "    }\n",
       "\n",
       "    .dataframe tbody tr th {\n",
       "        vertical-align: top;\n",
       "    }\n",
       "\n",
       "    .dataframe thead th {\n",
       "        text-align: right;\n",
       "    }\n",
       "</style>\n",
       "<table border=\"1\" class=\"dataframe\">\n",
       "  <thead>\n",
       "    <tr style=\"text-align: right;\">\n",
       "      <th></th>\n",
       "      <th>Sentiment</th>\n",
       "    </tr>\n",
       "  </thead>\n",
       "  <tbody>\n",
       "    <tr>\n",
       "      <th>count</th>\n",
       "      <td>57930.000000</td>\n",
       "    </tr>\n",
       "    <tr>\n",
       "      <th>mean</th>\n",
       "      <td>0.492197</td>\n",
       "    </tr>\n",
       "    <tr>\n",
       "      <th>std</th>\n",
       "      <td>0.499943</td>\n",
       "    </tr>\n",
       "    <tr>\n",
       "      <th>min</th>\n",
       "      <td>0.000000</td>\n",
       "    </tr>\n",
       "    <tr>\n",
       "      <th>25%</th>\n",
       "      <td>0.000000</td>\n",
       "    </tr>\n",
       "    <tr>\n",
       "      <th>50%</th>\n",
       "      <td>0.000000</td>\n",
       "    </tr>\n",
       "    <tr>\n",
       "      <th>75%</th>\n",
       "      <td>1.000000</td>\n",
       "    </tr>\n",
       "    <tr>\n",
       "      <th>max</th>\n",
       "      <td>1.000000</td>\n",
       "    </tr>\n",
       "  </tbody>\n",
       "</table>\n",
       "</div>"
      ],
      "text/plain": [
       "          Sentiment\n",
       "count  57930.000000\n",
       "mean       0.492197\n",
       "std        0.499943\n",
       "min        0.000000\n",
       "25%        0.000000\n",
       "50%        0.000000\n",
       "75%        1.000000\n",
       "max        1.000000"
      ]
     },
     "execution_count": 5,
     "metadata": {},
     "output_type": "execute_result"
    }
   ],
   "source": [
    "tweets_df.describe()"
   ]
  },
  {
   "cell_type": "code",
   "execution_count": 6,
   "metadata": {
    "colab": {
     "base_uri": "https://localhost:8080/",
     "height": 218
    },
    "colab_type": "code",
    "id": "0uwENWm__yoA",
    "outputId": "2e360117-80c3-4bce-e61a-1aa21ba804f4"
   },
   "outputs": [
    {
     "data": {
      "text/plain": [
       "0                    حتى الايتونز خربتوه مو صاحين انتو؟؟ 😭\n",
       "1        واحد تبع النظام السوري يقول أن المخابرات السور...\n",
       "2        الى متى التعامل السئ للخادمات وعدم احترامهم وك...\n",
       "3                        رايح جاي ي طحلبي 🐸 #الهلال_الاهلي\n",
       "4                                       تتمغط ومعها سداع 😫\n",
       "                               ...                        \n",
       "57925    السحب الليلة على الايفون .. رتويت للمرفقة وطبق...\n",
       "57926           😂 لابسة احمر ليه يا ست انتي ايه المناسبة 😂\n",
       "57927    كلاام جمييل تستاهل(من احبه الله جعل محبته ف قل...\n",
       "57928                     - ألطف صورة ممكن تعبر عن رمضان 💙\n",
       "57929    🌸 قال #الإمام_ابن_القيم -رحمه الله تعالى- : - ...\n",
       "Name: text, Length: 57930, dtype: object"
      ]
     },
     "execution_count": 6,
     "metadata": {},
     "output_type": "execute_result"
    }
   ],
   "source": [
    "tweets_df[\"text\"]"
   ]
  },
  {
   "cell_type": "markdown",
   "metadata": {
    "colab_type": "text",
    "id": "LlszUhNNyrl_"
   },
   "source": [
    "# TASK #3: EXPLORE DATASET"
   ]
  },
  {
   "cell_type": "code",
   "execution_count": 7,
   "metadata": {
    "colab": {
     "base_uri": "https://localhost:8080/",
     "height": 282
    },
    "colab_type": "code",
    "id": "504hnDW71Afb",
    "outputId": "d1672649-7f4b-4ea1-8854-20014a18b4d0"
   },
   "outputs": [
    {
     "data": {
      "text/plain": [
       "<matplotlib.axes._subplots.AxesSubplot at 0x1f827858448>"
      ]
     },
     "execution_count": 7,
     "metadata": {},
     "output_type": "execute_result"
    },
    {
     "data": {
      "image/png": "[encoded data removed]",
      "text/plain": [
       "<Figure size 432x288 with 1 Axes>"
      ]
     },
     "metadata": {
      "needs_background": "light"
     },
     "output_type": "display_data"
    }
   ],
   "source": [
    "sns.heatmap(tweets_df.isnull(), yticklabels = False, cbar = False, cmap=\"Blues\")"
   ]
  },
  {
   "cell_type": "code",
   "execution_count": 8,
   "metadata": {
    "colab": {
     "base_uri": "https://localhost:8080/",
     "height": 386
    },
    "colab_type": "code",
    "id": "zflUg_k50qPy",
    "outputId": "d072f994-da9c-4074-ec7e-631028203e7b"
   },
   "outputs": [
    {
     "data": {
      "text/plain": [
       "array([[<matplotlib.axes._subplots.AxesSubplot object at 0x000001F8295E0508>]],\n",
       "      dtype=object)"
      ]
     },
     "execution_count": 8,
     "metadata": {},
     "output_type": "execute_result"
    },
    {
     "data": {
      "image/png": "[encoded data removed]",
      "text/plain": [
       "<Figure size 936x360 with 1 Axes>"
      ]
     },
     "metadata": {
      "needs_background": "light"
     },
     "output_type": "display_data"
    }
   ],
   "source": [
    "tweets_df.hist(bins = 30, figsize = (13,5), color = 'r')"
   ]
  },
  {
   "cell_type": "markdown",
   "metadata": {},
   "source": [
    "MINI CHALLENGE #2: \n",
    "- Plot similar figure using seaborn countplot"
   ]
  },
  {
   "cell_type": "code",
   "execution_count": 9,
   "metadata": {},
   "outputs": [
    {
     "data": {
      "text/plain": [
       "<matplotlib.axes._subplots.AxesSubplot at 0x1f82a15a3c8>"
      ]
     },
     "execution_count": 9,
     "metadata": {},
     "output_type": "execute_result"
    },
    {
     "data": {
      "image/png": "[encoded data removed]",
      "text/plain": [
       "<Figure size 432x288 with 1 Axes>"
      ]
     },
     "metadata": {
      "needs_background": "light"
     },
     "output_type": "display_data"
    }
   ],
   "source": [
    "sns.countplot(tweets_df[\"Sentiment\"])"
   ]
  },
  {
   "cell_type": "code",
   "execution_count": 10,
   "metadata": {
    "colab": {
     "base_uri": "https://localhost:8080/",
     "height": 195
    },
    "colab_type": "code",
    "id": "ZiVkQqEPMDDD",
    "outputId": "e6c55d99-6ebd-4972-8cfe-0963147e7eb3"
   },
   "outputs": [],
   "source": [
    "# Let's get the length of the messages\n",
    "tweets_df[\"length\"] = tweets_df[\"text\"].apply(len)"
   ]
  },
  {
   "cell_type": "code",
   "execution_count": 11,
   "metadata": {},
   "outputs": [
    {
     "data": {
      "text/html": [
       "<div>\n",
       "<style scoped>\n",
       "    .dataframe tbody tr th:only-of-type {\n",
       "        vertical-align: middle;\n",
       "    }\n",
       "\n",
       "    .dataframe tbody tr th {\n",
       "        vertical-align: top;\n",
       "    }\n",
       "\n",
       "    .dataframe thead th {\n",
       "        text-align: right;\n",
       "    }\n",
       "</style>\n",
       "<table border=\"1\" class=\"dataframe\">\n",
       "  <thead>\n",
       "    <tr style=\"text-align: right;\">\n",
       "      <th></th>\n",
       "      <th>Sentiment</th>\n",
       "      <th>text</th>\n",
       "      <th>length</th>\n",
       "    </tr>\n",
       "  </thead>\n",
       "  <tbody>\n",
       "    <tr>\n",
       "      <th>0</th>\n",
       "      <td>0</td>\n",
       "      <td>حتى الايتونز خربتوه مو صاحين انتو؟؟ 😭</td>\n",
       "      <td>37</td>\n",
       "    </tr>\n",
       "    <tr>\n",
       "      <th>1</th>\n",
       "      <td>0</td>\n",
       "      <td>واحد تبع النظام السوري يقول أن المخابرات السور...</td>\n",
       "      <td>116</td>\n",
       "    </tr>\n",
       "    <tr>\n",
       "      <th>2</th>\n",
       "      <td>0</td>\n",
       "      <td>الى متى التعامل السئ للخادمات وعدم احترامهم وك...</td>\n",
       "      <td>115</td>\n",
       "    </tr>\n",
       "    <tr>\n",
       "      <th>3</th>\n",
       "      <td>0</td>\n",
       "      <td>رايح جاي ي طحلبي 🐸 #الهلال_الاهلي</td>\n",
       "      <td>33</td>\n",
       "    </tr>\n",
       "    <tr>\n",
       "      <th>4</th>\n",
       "      <td>0</td>\n",
       "      <td>تتمغط ومعها سداع 😫</td>\n",
       "      <td>18</td>\n",
       "    </tr>\n",
       "    <tr>\n",
       "      <th>...</th>\n",
       "      <td>...</td>\n",
       "      <td>...</td>\n",
       "      <td>...</td>\n",
       "    </tr>\n",
       "    <tr>\n",
       "      <th>57925</th>\n",
       "      <td>1</td>\n",
       "      <td>السحب الليلة على الايفون .. رتويت للمرفقة وطبق...</td>\n",
       "      <td>55</td>\n",
       "    </tr>\n",
       "    <tr>\n",
       "      <th>57926</th>\n",
       "      <td>1</td>\n",
       "      <td>😂 لابسة احمر ليه يا ست انتي ايه المناسبة 😂</td>\n",
       "      <td>42</td>\n",
       "    </tr>\n",
       "    <tr>\n",
       "      <th>57927</th>\n",
       "      <td>1</td>\n",
       "      <td>كلاام جمييل تستاهل(من احبه الله جعل محبته ف قل...</td>\n",
       "      <td>57</td>\n",
       "    </tr>\n",
       "    <tr>\n",
       "      <th>57928</th>\n",
       "      <td>1</td>\n",
       "      <td>- ألطف صورة ممكن تعبر عن رمضان 💙</td>\n",
       "      <td>32</td>\n",
       "    </tr>\n",
       "    <tr>\n",
       "      <th>57929</th>\n",
       "      <td>1</td>\n",
       "      <td>🌸 قال #الإمام_ابن_القيم -رحمه الله تعالى- : - ...</td>\n",
       "      <td>113</td>\n",
       "    </tr>\n",
       "  </tbody>\n",
       "</table>\n",
       "<p>57930 rows × 3 columns</p>\n",
       "</div>"
      ],
      "text/plain": [
       "       Sentiment                                               text  length\n",
       "0              0              حتى الايتونز خربتوه مو صاحين انتو؟؟ 😭      37\n",
       "1              0  واحد تبع النظام السوري يقول أن المخابرات السور...     116\n",
       "2              0  الى متى التعامل السئ للخادمات وعدم احترامهم وك...     115\n",
       "3              0                  رايح جاي ي طحلبي 🐸 #الهلال_الاهلي      33\n",
       "4              0                                 تتمغط ومعها سداع 😫      18\n",
       "...          ...                                                ...     ...\n",
       "57925          1  السحب الليلة على الايفون .. رتويت للمرفقة وطبق...      55\n",
       "57926          1         😂 لابسة احمر ليه يا ست انتي ايه المناسبة 😂      42\n",
       "57927          1  كلاام جمييل تستاهل(من احبه الله جعل محبته ف قل...      57\n",
       "57928          1                   - ألطف صورة ممكن تعبر عن رمضان 💙      32\n",
       "57929          1  🌸 قال #الإمام_ابن_القيم -رحمه الله تعالى- : - ...     113\n",
       "\n",
       "[57930 rows x 3 columns]"
      ]
     },
     "execution_count": 11,
     "metadata": {},
     "output_type": "execute_result"
    }
   ],
   "source": [
    "tweets_df"
   ]
  },
  {
   "cell_type": "code",
   "execution_count": 12,
   "metadata": {
    "colab": {
     "base_uri": "https://localhost:8080/",
     "height": 285
    },
    "colab_type": "code",
    "id": "RYLqq7WetK79",
    "outputId": "b7064682-90d8-47d4-ace2-86a81ac9bfe5"
   },
   "outputs": [
    {
     "data": {
      "text/plain": [
       "<matplotlib.axes._subplots.AxesSubplot at 0x1f82aa86848>"
      ]
     },
     "execution_count": 12,
     "metadata": {},
     "output_type": "execute_result"
    },
    {
     "data": {
      "image/png": "[encoded data removed]",
      "text/plain": [
       "<Figure size 432x288 with 1 Axes>"
      ]
     },
     "metadata": {
      "needs_background": "light"
     },
     "output_type": "display_data"
    }
   ],
   "source": [
    "tweets_df['length'].plot(bins=100, kind='hist') "
   ]
  },
  {
   "cell_type": "code",
   "execution_count": 13,
   "metadata": {
    "colab": {
     "base_uri": "https://localhost:8080/",
     "height": 168
    },
    "colab_type": "code",
    "id": "bf22hdT0KFVs",
    "outputId": "932c9425-fbda-4c1b-9c52-0d4c53648733"
   },
   "outputs": [
    {
     "data": {
      "text/html": [
       "<div>\n",
       "<style scoped>\n",
       "    .dataframe tbody tr th:only-of-type {\n",
       "        vertical-align: middle;\n",
       "    }\n",
       "\n",
       "    .dataframe tbody tr th {\n",
       "        vertical-align: top;\n",
       "    }\n",
       "\n",
       "    .dataframe thead th {\n",
       "        text-align: right;\n",
       "    }\n",
       "</style>\n",
       "<table border=\"1\" class=\"dataframe\">\n",
       "  <thead>\n",
       "    <tr style=\"text-align: right;\">\n",
       "      <th></th>\n",
       "      <th>Sentiment</th>\n",
       "      <th>length</th>\n",
       "    </tr>\n",
       "  </thead>\n",
       "  <tbody>\n",
       "    <tr>\n",
       "      <th>count</th>\n",
       "      <td>57930.000000</td>\n",
       "      <td>57930.000000</td>\n",
       "    </tr>\n",
       "    <tr>\n",
       "      <th>mean</th>\n",
       "      <td>0.492197</td>\n",
       "      <td>66.724685</td>\n",
       "    </tr>\n",
       "    <tr>\n",
       "      <th>std</th>\n",
       "      <td>0.499943</td>\n",
       "      <td>98.224010</td>\n",
       "    </tr>\n",
       "    <tr>\n",
       "      <th>min</th>\n",
       "      <td>0.000000</td>\n",
       "      <td>5.000000</td>\n",
       "    </tr>\n",
       "    <tr>\n",
       "      <th>25%</th>\n",
       "      <td>0.000000</td>\n",
       "      <td>31.000000</td>\n",
       "    </tr>\n",
       "    <tr>\n",
       "      <th>50%</th>\n",
       "      <td>0.000000</td>\n",
       "      <td>61.000000</td>\n",
       "    </tr>\n",
       "    <tr>\n",
       "      <th>75%</th>\n",
       "      <td>1.000000</td>\n",
       "      <td>101.000000</td>\n",
       "    </tr>\n",
       "    <tr>\n",
       "      <th>max</th>\n",
       "      <td>1.000000</td>\n",
       "      <td>7901.000000</td>\n",
       "    </tr>\n",
       "  </tbody>\n",
       "</table>\n",
       "</div>"
      ],
      "text/plain": [
       "          Sentiment        length\n",
       "count  57930.000000  57930.000000\n",
       "mean       0.492197     66.724685\n",
       "std        0.499943     98.224010\n",
       "min        0.000000      5.000000\n",
       "25%        0.000000     31.000000\n",
       "50%        0.000000     61.000000\n",
       "75%        1.000000    101.000000\n",
       "max        1.000000   7901.000000"
      ]
     },
     "execution_count": 13,
     "metadata": {},
     "output_type": "execute_result"
    }
   ],
   "source": [
    "tweets_df.describe()"
   ]
  },
  {
   "cell_type": "code",
   "execution_count": null,
   "metadata": {
    "colab": {
     "base_uri": "https://localhost:8080/",
     "height": 34
    },
    "colab_type": "code",
    "id": "NECH94w1KSpS",
    "outputId": "cbe89a9e-f2ee-4ef2-9e4a-00382e00aa76"
   },
   "outputs": [],
   "source": []
  },
  {
   "cell_type": "code",
   "execution_count": null,
   "metadata": {
    "colab": {
     "base_uri": "https://localhost:8080/",
     "height": 34
    },
    "colab_type": "code",
    "id": "V9cjJVlzKWBZ",
    "outputId": "526cbf7c-e607-46cf-fbaf-dffac96e8f3e"
   },
   "outputs": [],
   "source": []
  },
  {
   "cell_type": "code",
   "execution_count": 14,
   "metadata": {
    "colab": {},
    "colab_type": "code",
    "id": "5d38HsgdA3LA"
   },
   "outputs": [],
   "source": [
    "positive = tweets_df[tweets_df['Sentiment']==1]"
   ]
  },
  {
   "cell_type": "code",
   "execution_count": 15,
   "metadata": {
    "colab": {
     "base_uri": "https://localhost:8080/",
     "height": 402
    },
    "colab_type": "code",
    "id": "wufaGhOxuzpP",
    "outputId": "53f6c925-3a86-4608-b933-940bf72d9f4e"
   },
   "outputs": [
    {
     "data": {
      "text/html": [
       "<div>\n",
       "<style scoped>\n",
       "    .dataframe tbody tr th:only-of-type {\n",
       "        vertical-align: middle;\n",
       "    }\n",
       "\n",
       "    .dataframe tbody tr th {\n",
       "        vertical-align: top;\n",
       "    }\n",
       "\n",
       "    .dataframe thead th {\n",
       "        text-align: right;\n",
       "    }\n",
       "</style>\n",
       "<table border=\"1\" class=\"dataframe\">\n",
       "  <thead>\n",
       "    <tr style=\"text-align: right;\">\n",
       "      <th></th>\n",
       "      <th>Sentiment</th>\n",
       "      <th>text</th>\n",
       "      <th>length</th>\n",
       "    </tr>\n",
       "  </thead>\n",
       "  <tbody>\n",
       "    <tr>\n",
       "      <th>5883</th>\n",
       "      <td>1</td>\n",
       "      <td>#الهلال_الاهلي فوز هلالي مهم الحمد لله 💙 زوران...</td>\n",
       "      <td>113</td>\n",
       "    </tr>\n",
       "    <tr>\n",
       "      <th>5884</th>\n",
       "      <td>1</td>\n",
       "      <td>صباحك خيرات ومسرات 🌸</td>\n",
       "      <td>20</td>\n",
       "    </tr>\n",
       "    <tr>\n",
       "      <th>5885</th>\n",
       "      <td>1</td>\n",
       "      <td>#تأمل قال الله ﷻ :- _*​﴿بواد غير ذي زرع ﴾*_ 💫💫...</td>\n",
       "      <td>107</td>\n",
       "    </tr>\n",
       "    <tr>\n",
       "      <th>5886</th>\n",
       "      <td>1</td>\n",
       "      <td>😂😂 يا جدعان الرجاله اللي فوق ال دول خطر ع تويت...</td>\n",
       "      <td>113</td>\n",
       "    </tr>\n",
       "    <tr>\n",
       "      <th>5887</th>\n",
       "      <td>1</td>\n",
       "      <td>رساله صباحيه : 💛 اللهم اسألك التوفيق في جميع ا...</td>\n",
       "      <td>126</td>\n",
       "    </tr>\n",
       "    <tr>\n",
       "      <th>...</th>\n",
       "      <td>...</td>\n",
       "      <td>...</td>\n",
       "      <td>...</td>\n",
       "    </tr>\n",
       "    <tr>\n",
       "      <th>57925</th>\n",
       "      <td>1</td>\n",
       "      <td>السحب الليلة على الايفون .. رتويت للمرفقة وطبق...</td>\n",
       "      <td>55</td>\n",
       "    </tr>\n",
       "    <tr>\n",
       "      <th>57926</th>\n",
       "      <td>1</td>\n",
       "      <td>😂 لابسة احمر ليه يا ست انتي ايه المناسبة 😂</td>\n",
       "      <td>42</td>\n",
       "    </tr>\n",
       "    <tr>\n",
       "      <th>57927</th>\n",
       "      <td>1</td>\n",
       "      <td>كلاام جمييل تستاهل(من احبه الله جعل محبته ف قل...</td>\n",
       "      <td>57</td>\n",
       "    </tr>\n",
       "    <tr>\n",
       "      <th>57928</th>\n",
       "      <td>1</td>\n",
       "      <td>- ألطف صورة ممكن تعبر عن رمضان 💙</td>\n",
       "      <td>32</td>\n",
       "    </tr>\n",
       "    <tr>\n",
       "      <th>57929</th>\n",
       "      <td>1</td>\n",
       "      <td>🌸 قال #الإمام_ابن_القيم -رحمه الله تعالى- : - ...</td>\n",
       "      <td>113</td>\n",
       "    </tr>\n",
       "  </tbody>\n",
       "</table>\n",
       "<p>28513 rows × 3 columns</p>\n",
       "</div>"
      ],
      "text/plain": [
       "       Sentiment                                               text  length\n",
       "5883           1  #الهلال_الاهلي فوز هلالي مهم الحمد لله 💙 زوران...     113\n",
       "5884           1                               صباحك خيرات ومسرات 🌸      20\n",
       "5885           1  #تأمل قال الله ﷻ :- _*​﴿بواد غير ذي زرع ﴾*_ 💫💫...     107\n",
       "5886           1  😂😂 يا جدعان الرجاله اللي فوق ال دول خطر ع تويت...     113\n",
       "5887           1  رساله صباحيه : 💛 اللهم اسألك التوفيق في جميع ا...     126\n",
       "...          ...                                                ...     ...\n",
       "57925          1  السحب الليلة على الايفون .. رتويت للمرفقة وطبق...      55\n",
       "57926          1         😂 لابسة احمر ليه يا ست انتي ايه المناسبة 😂      42\n",
       "57927          1  كلاام جمييل تستاهل(من احبه الله جعل محبته ف قل...      57\n",
       "57928          1                   - ألطف صورة ممكن تعبر عن رمضان 💙      32\n",
       "57929          1  🌸 قال #الإمام_ابن_القيم -رحمه الله تعالى- : - ...     113\n",
       "\n",
       "[28513 rows x 3 columns]"
      ]
     },
     "execution_count": 15,
     "metadata": {},
     "output_type": "execute_result"
    }
   ],
   "source": [
    "positive"
   ]
  },
  {
   "cell_type": "code",
   "execution_count": 16,
   "metadata": {
    "colab": {},
    "colab_type": "code",
    "id": "cv3wJuaEBNaX"
   },
   "outputs": [],
   "source": [
    "negative = tweets_df[tweets_df['Sentiment']==0]"
   ]
  },
  {
   "cell_type": "code",
   "execution_count": 17,
   "metadata": {
    "colab": {
     "base_uri": "https://localhost:8080/",
     "height": 402
    },
    "colab_type": "code",
    "id": "tQVHiaOUBSZB",
    "outputId": "2aed3344-4bd7-4f45-c7e8-57a7ba9a141c"
   },
   "outputs": [
    {
     "data": {
      "text/html": [
       "<div>\n",
       "<style scoped>\n",
       "    .dataframe tbody tr th:only-of-type {\n",
       "        vertical-align: middle;\n",
       "    }\n",
       "\n",
       "    .dataframe tbody tr th {\n",
       "        vertical-align: top;\n",
       "    }\n",
       "\n",
       "    .dataframe thead th {\n",
       "        text-align: right;\n",
       "    }\n",
       "</style>\n",
       "<table border=\"1\" class=\"dataframe\">\n",
       "  <thead>\n",
       "    <tr style=\"text-align: right;\">\n",
       "      <th></th>\n",
       "      <th>Sentiment</th>\n",
       "      <th>text</th>\n",
       "      <th>length</th>\n",
       "    </tr>\n",
       "  </thead>\n",
       "  <tbody>\n",
       "    <tr>\n",
       "      <th>0</th>\n",
       "      <td>0</td>\n",
       "      <td>حتى الايتونز خربتوه مو صاحين انتو؟؟ 😭</td>\n",
       "      <td>37</td>\n",
       "    </tr>\n",
       "    <tr>\n",
       "      <th>1</th>\n",
       "      <td>0</td>\n",
       "      <td>واحد تبع النظام السوري يقول أن المخابرات السور...</td>\n",
       "      <td>116</td>\n",
       "    </tr>\n",
       "    <tr>\n",
       "      <th>2</th>\n",
       "      <td>0</td>\n",
       "      <td>الى متى التعامل السئ للخادمات وعدم احترامهم وك...</td>\n",
       "      <td>115</td>\n",
       "    </tr>\n",
       "    <tr>\n",
       "      <th>3</th>\n",
       "      <td>0</td>\n",
       "      <td>رايح جاي ي طحلبي 🐸 #الهلال_الاهلي</td>\n",
       "      <td>33</td>\n",
       "    </tr>\n",
       "    <tr>\n",
       "      <th>4</th>\n",
       "      <td>0</td>\n",
       "      <td>تتمغط ومعها سداع 😫</td>\n",
       "      <td>18</td>\n",
       "    </tr>\n",
       "    <tr>\n",
       "      <th>...</th>\n",
       "      <td>...</td>\n",
       "      <td>...</td>\n",
       "      <td>...</td>\n",
       "    </tr>\n",
       "    <tr>\n",
       "      <th>57681</th>\n",
       "      <td>0</td>\n",
       "      <td>حتى الايتونز خربتوه مو صاحين انتو؟؟ 😭</td>\n",
       "      <td>37</td>\n",
       "    </tr>\n",
       "    <tr>\n",
       "      <th>57732</th>\n",
       "      <td>0</td>\n",
       "      <td>حتى الايتونز خربتوه مو صاحين انتو؟؟ 😭</td>\n",
       "      <td>37</td>\n",
       "    </tr>\n",
       "    <tr>\n",
       "      <th>57783</th>\n",
       "      <td>0</td>\n",
       "      <td>حتى الايتونز خربتوه مو صاحين انتو؟؟ 😭</td>\n",
       "      <td>37</td>\n",
       "    </tr>\n",
       "    <tr>\n",
       "      <th>57834</th>\n",
       "      <td>0</td>\n",
       "      <td>حتى الايتونز خربتوه مو صاحين انتو؟؟ 😭</td>\n",
       "      <td>37</td>\n",
       "    </tr>\n",
       "    <tr>\n",
       "      <th>57885</th>\n",
       "      <td>0</td>\n",
       "      <td>حتى الايتونز خربتوه مو صاحين انتو؟؟ 😭</td>\n",
       "      <td>37</td>\n",
       "    </tr>\n",
       "  </tbody>\n",
       "</table>\n",
       "<p>29417 rows × 3 columns</p>\n",
       "</div>"
      ],
      "text/plain": [
       "       Sentiment                                               text  length\n",
       "0              0              حتى الايتونز خربتوه مو صاحين انتو؟؟ 😭      37\n",
       "1              0  واحد تبع النظام السوري يقول أن المخابرات السور...     116\n",
       "2              0  الى متى التعامل السئ للخادمات وعدم احترامهم وك...     115\n",
       "3              0                  رايح جاي ي طحلبي 🐸 #الهلال_الاهلي      33\n",
       "4              0                                 تتمغط ومعها سداع 😫      18\n",
       "...          ...                                                ...     ...\n",
       "57681          0              حتى الايتونز خربتوه مو صاحين انتو؟؟ 😭      37\n",
       "57732          0              حتى الايتونز خربتوه مو صاحين انتو؟؟ 😭      37\n",
       "57783          0              حتى الايتونز خربتوه مو صاحين انتو؟؟ 😭      37\n",
       "57834          0              حتى الايتونز خربتوه مو صاحين انتو؟؟ 😭      37\n",
       "57885          0              حتى الايتونز خربتوه مو صاحين انتو؟؟ 😭      37\n",
       "\n",
       "[29417 rows x 3 columns]"
      ]
     },
     "execution_count": 17,
     "metadata": {},
     "output_type": "execute_result"
    }
   ],
   "source": [
    "negative"
   ]
  },
  {
   "cell_type": "markdown",
   "metadata": {},
   "source": [
    "# TASK #4: PLOT THE WORDCLOUD"
   ]
  },
  {
   "cell_type": "code",
   "execution_count": 18,
   "metadata": {
    "colab": {
     "base_uri": "https://localhost:8080/",
     "height": 34
    },
    "colab_type": "code",
    "id": "gPBOCIbxCCKE",
    "outputId": "866eeb10-a6e9-4573-a813-55e3b0beae40"
   },
   "outputs": [],
   "source": [
    "sentences = tweets_df[\"text\"].tolist()"
   ]
  },
  {
   "cell_type": "code",
   "execution_count": 19,
   "metadata": {
    "colab": {},
    "colab_type": "code",
    "id": "4V3vfaX9Cbgr"
   },
   "outputs": [
    {
     "data": {
      "text/plain": [
       "['حتى الايتونز خربتوه مو صاحين انتو؟؟ 😭',\n",
       " 'واحد تبع النظام السوري يقول أن المخابرات السورية وراء تحطم مركبة إسرائيلية على سطح القمر 😳 أول مرة أعرف أن القمر أق…',\n",
       " 'الى متى التعامل السئ للخادمات وعدم احترامهم وكأنهم حشرات والله هالمواقف تصير بيننا ونشوفها المربية جات من بيتها مع…',\n",
       " 'رايح جاي ي طحلبي 🐸 #الهلال_الاهلي',\n",
       " 'تتمغط ومعها سداع 😫',\n",
       " 'اذا ما كان ألطف كوبل مر عليكم 😭😭💛💛 حظ جانيت بسماء لايح 😔 وحظ آثي لايح واقوى من جانيت',\n",
       " 'اترك لكم التعليق 💔',\n",
       " 'والله ي عم جعان نوم 😴 😂 بس مش عارف وربناا 😂 😂',\n",
       " '#ايش_علمتك_الايام لأنك لم تتخابث يوما لم تنجح علاقاتك كثيرا ولأنك أنقى مما ينبغي تقتل في أضعف ركن بقلبك ولأنك ت…',\n",
       " 'تفائلو!! يبنات مضحكين شكلهم كانو عايشين بهم و حزن و غم دولا جد عبيد انجازات و الموضوع وصل للمرض 😭',\n",
       " 'هيك كتير يا عالم شوي شوي علي طيب ، استنوني طيب 💔',\n",
       " '#اخدود_الفيض٢ 😨⚠️ الفيض2 ! نحن خلصنا من الفيض واحد والهزايم ولا ويش اسمه .. 😨 كلمه صراحه اتمنى تقبلوها شوي بسع…',\n",
       " 'اقسم بالله غالبني اكتب و المغصة كاتلاني عديل كدا 😪',\n",
       " 'ياالله ياالله ياالله ، الفيديو هذا كفيل يخلي كل رئيس ظلم شعبه ويتمسك باالسلطة وباأطماعه ويضحى باأبناء شعبه ويبكي شي…',\n",
       " 'ويت ا منت.. كل شي كان حقيقي وأنا ع بالي شاشة خضراء؟ المكان كان حقيقي 😰 وهم يتنقلون؟ ءء بتس😭💕',\n",
       " 'صوت هيوك فلاغنيه ستينسنينمس 😭',\n",
       " 'عند محامي 🙈',\n",
       " 'ما احب المطر حقيقة وهذا انا محبوسة في البيت 😭',\n",
       " 'گم #ﻫﻲ ﺻﻌبة لحظﺎﺕ #ﺍﻹﺷتيﺎﻕ ﻟﻤﻦ😔 ﻻ ﻳﻤگن ﺭوﻳﺘﻬﻢ #ﺃﻭ ﺣﺘﻰ #ﻣﺤﺎﺩثﺘﻬﻢ 💔',\n",
       " 'يمه كيوت تعال بالاحضان دلوعتي 🙈',\n",
       " 'تأكد غياب اللاعب منصور الحربي عن لقاء النصر بسبب الاصابة 💔',\n",
       " 'والعبادات ليست ثقيلة، ولكن القلوب حين خربتها الذنوب .. أثقلتها 💔 فاستغفروا ..❤️',\n",
       " 'مينفعش يقدموا ماتش الاهلى كام ساعه ويخلوه دلوقتي ؟ الواحد قرفان من اول إمبارح ومش لاقى حاجه يضحك عليها 😢',\n",
       " 'فلس طيني قذر ليس شئ جديد ولاقديم قذرين و تبقون قذرين إلا من رحم ربي لولا الله ثم #الدعم_السعودي لقضيتكم لأكلتكم إس…',\n",
       " '🔸 الآن بث #مباشر شرح #الفقه_المالكي 📚 المستوى الثالث : متن ابن عاشر 📌 كتاب #الزكاة - الدرس ⓵ ✍ د.أحمد بن قذلان ال…',\n",
       " 'مو مشكلة انا باجي وباخدو بس كتير 😳',\n",
       " 'ارجووكم اتوجهو للقياده في تمثيليه بتاعت ضرب رصاص في الهوا وبيقولو ديل قناصين عشان الناس تخاف وبيشيلو في المتاريس ح…',\n",
       " 'الحمد لله الناس بدت تفهم و توعى بسرعة 😔 و الله يستر على هالديرة من غدر الخوانين 🙌🏻',\n",
       " 'حفتر ياأسير تشاد نموتوا ولاتحكم البلاد ياالله ياالله دمر حفتر واللي معاه 👐 مالكية مالكية شدي فروخك ياسعودي…',\n",
       " 'هالحركات الوسخه صارت تكثر 😒 لعنه كله من لاعب النصراوي الوسخ ويالله خذلك…',\n",
       " 'وينك يا جابر عثرات الهلال .. فاقدينك 💔',\n",
       " '#حسين_عبدالغني يقولك ⤵️🔥💪🏻 انا لو اني بلتفت التفت ليه 🤔 الرمح غالي والفريسه ذبابه !! ..👌🏻🤣🤣',\n",
       " 'أنا من ساعة ما دخلت الكلية وأنا عندي امتحان بكره 💔',\n",
       " 'يا اخوانا و الله لسة مطالبنا ما أتحقق منها غير مطلب واحد .. عليكم الله الناس ما تتخاذل 💔',\n",
       " 'قد طال صبري في النوى إذ تركتني كئيبا ؛ غريبا باكيا متوجعا 😔 ف يامهجتي ياروح قلبي ياراحتي آغثني ف قلبي كاد أن…',\n",
       " 'مالك حق تمدح قاعهم وديرتنا فيها مطر 😬',\n",
       " 'ي زقتين وزود على ذا كله اسمي العنود كتلة عناد تتمشى 💔',\n",
       " 'مع غيري كتيير 😱',\n",
       " 'أهلا بكم في عاصمة التوائم في العالم لافتة ترحب بزوار ولاية أويو بنيجيريا حيث يعتقد السكان أن حساء أوراق البامية…',\n",
       " 'والله هذا اسمه مو زوران هذا يصلح ثوران 😂 خلوني اكمل هدايا بس 💔',\n",
       " '#وش_يقول_الليل يقول ارقدوا وخلوا الناس بحالها ترى لكم عيوب وللناس السن برجع ارقد اشوفكم على خير صوت المطر، عود ابذكراك 💔',\n",
       " 'من قاعد فالمستشفى ناو وبيطعم وخايف 😭',\n",
       " 'الي جو ديم يتاكدو من صوتي تقيمكم 🙈',\n",
       " 'احلى خلفي سعودي شكله ماخذها من الجامعة: سحاقيات اثاره جنس مكوة اغتصاب 😬 إبريل :27:08 مساء',\n",
       " 'الجداده الليله محتاره😎 الجداده الليله منهاره😉 يشتمو ف المهنين يكشوهم 😭 يبكوو ف البشير يردمووهم😂😂❌☑',\n",
       " 'أحب صوتك وأحب رموش عينك السود وأحب الصباح فيك :(',\n",
       " '#أمي فقيدتي وأن مرت الأيام.. وبدأ الجميع بنسيانك لاتقلقي ف ربي وهبك روحا تحيا ملامحها على ذكراك أللهم أرحم فقيدة قل…',\n",
       " 'المكبره تخوفني جانت بلنهار � ببهه قله اعزاز واكثرهم غرب � هسه اطبهه بليل بيهه افرش وانام� بيهه. امي اهناك ما خاف م…',\n",
       " '#ايش_علمتك_الايام لأنك لم تتخابث يوما لم تنجح علاقاتك كثيرا ولأنك أنقى مما ينبغي تقتل في أضعف ركن بقلبك ولأنك ت…',\n",
       " 'مايحتاج ساعة دكتورة بمجرد أن المريض ما اقتنع من أول مرة يوقع خروج ضد النصيحة الطبية وياخذ الحل ا…',\n",
       " 'هه لالا نحن حنطلع دينو ده شنو كلام الجداد ده شايفو انتشر بين الناس زاتو 💔',\n",
       " 'حتى الايتونز خربتوه مو صاحين انتو؟؟ 😭',\n",
       " 'كيف قبلي يا الكلب 💔',\n",
       " 'ان غيبك الموت لن تغيب اعمالك الفنية ستظل شاهدة على تاريخك الكبير وخالدة في ذاكرتنا وداعا\" #محمود_الجندي 😔 إنا…',\n",
       " 'ليت العجايز ماعطني دواهن ✋',\n",
       " 'والله زيك سرت اشربها و انعس بعد ساعة بالكتير 💔',\n",
       " 'شفتي الزفات الأحمر 😞',\n",
       " 'عودة الى البراءة مواقف تجعلك منك لا اراديا 🌸 الميل الى تلك الشفافيه والحب والتعامل بروحك النقيه الحقيقيه 💔 وتنزع من…',\n",
       " 'هتعزمي ؟ 🤔',\n",
       " 'عندي امتحان بكره وكنت سهران امبارح علشان مخنوق والنهار طلع عليا وانا لسه منمتش وحتي مليش نفس انام ولا اذاكر وحاسس اني هنام في الامتحان 😒',\n",
       " 'ناس طيبين اوي اوي .. ليه فضحوني بس 🙈',\n",
       " 'قال لها : أنتي جميلة كجمال يوسف 🙈 فقالت له : وأنت كاذب كأخوته ✌😌',\n",
       " 'عجيب أمر الاهلاويين كلمة ( عيب ) يكثرون منها هذه الأيام ..في كل شاردة وواردة 😳 العيب أنه سمح لناديكم بتجاوز النظا…',\n",
       " 'ناس تكبر بتعقل و احنا هنا بنخيب 😔',\n",
       " 'قصدي الأغنية ماشية مع صوتها ياريتها غنت مقاطع أكثر :(',\n",
       " 'يااعساني مافقدها :(',\n",
       " 'لعب فينا البعوض 😤',\n",
       " 'ناس طيبين اوي اوي .. ليه فضحوني بس 🙈',\n",
       " 'والله هذا اسمه مو زوران هذا يصلح ثوران 😂 خلوني اكمل هدايا بس 💔',\n",
       " 'ღ♬ . . أسلى مع طيفك الين إنتعشتك عشان مااحس بغيابك على طول ياجعلها في ذمتك ماوحشتك 💔 #تصميمي…',\n",
       " 'بموت نوم 💔',\n",
       " '#حسين_عبدالغني يقولك ⤵️🔥💪🏻 انا لو اني بلتفت التفت ليه 🤔 الرمح غالي والفريسه ذبابه !! ..👌🏻🤣🤣',\n",
       " 'قبضوا امنجي في في نقطة تفتيش معاه مسدس و قيل مسدسين مافي اي هجوم حصل حركة بتاعت جري بدون سبب و خوف المهم الدوشكا ضر…',\n",
       " 'الرساله لا تكفي لبوح كل مافي القلب 💔',\n",
       " 'ليله ستكتب عنها كل الأقلام ليله ستحصد في التاريخ قاتلوا من أجلنا .. قاتلوا من أجل الكيان .. قاتلوا من أجل م…',\n",
       " 'بتاع الجزائر شبه عدلى منصور بتاع السودان اسمه عبد الفتاح دا سوء حظ وللا غباء من الآخرين؟ 🤔',\n",
       " 'احيانا نبقى معهم فقط لكي لا نعترف بأننا أسئنا الاختيار 🤔',\n",
       " 'انا مروقه بس احتاج ترويقه اقوى 😥',\n",
       " 'اوك نتفق مع بعض انه استفزاز 😆 بس ماعرفنا لك 🙄 انت مع ايقاف اللاعب 🤔 والا على حسب النادي 😉 ووش الوضع اليوم ؟…',\n",
       " 'طبعا لو حصل للبنات يبقى اللوم عليهم زي العيال دي عشان المفروض يقلعوا اللي في رجليهم وينسلوه عراس…',\n",
       " 'وش وضعكم 🐸 ابو دوري صار يتكلم',\n",
       " 'حركاتك تزعلني وجدا 😔 — اوه اسف لاتزعلي',\n",
       " 'ٲليس من العيب ان تحفظ كل الأغاني .. وتكرر نفس السورة في كل صلاة .. 💔',\n",
       " 'غثتنا بصوتها وربي ما اشوف تعبان تشوفونه تعبان؟؟',\n",
       " 'لا تزيدنا خلينا ساكتين 😷',\n",
       " '🚫 اخبار سيئة لهذا المشجع ، قام جماهير بوكاجونيورز بالابلاغ عن مقطع الفيديو ليقوم اليوتيوب بحذف المقطع بسبب الحقوق…',\n",
       " 'THANK YOU ☺️ من أول مقتنعة كذا بس البنات مايبطلون حركاتهم ويخوفوني 🌚',\n",
       " '❁⸀ ↓ دائما نصل متأخرين .. لنكون لمن ينتظرنا ..وليس لمن نهواه متعبين نجلس في ذاك المكان الخالي .. وليس المكان…',\n",
       " '#ااخ_قلبي 😔 الله ما اقسى القلوب #وطني يأن من الحروب ماذا جنينا يا اخي؟ ماذا ارتكبنا من ذنوب فجميعنا ابناء وطن والح…',\n",
       " 'اسم الفريق أول عبدالفتاح جميل جدا يرفع ضغط دول 😏',\n",
       " 'فعلا ظلمت ابو عمرر 😎',\n",
       " 'لطافه العالم هنا :(',\n",
       " 'والله الثلاثة اتفه من بعض العروس كريهة شو يعني لو الام ركبت و العريس دراما حبتين طلقها عشي تافه و الام نشبة و لزقة…',\n",
       " 'للاسف هاذا هو الواقع انخدعنا 😔',\n",
       " 'تركييز ووقت كثيير 💔',\n",
       " 'ليش نخلي عندك امل 😡 أمل وش تبي فيها ممكن تجاوبني ياعلي',\n",
       " 'احترم الناس الي تقدرر ❤️ كل الحب ❤️ مو يجي احد بلا مايعرف شي يحاسب 😑',\n",
       " 'الناس تتحرك على القيادة.. الاعتصام في خطر ❗ ❗ #اعتصام_القياده_العامه_مستمر',\n",
       " 'من ال٧ الصبح وأنا كل شوي بصحى على المنبه وبقرر أنام دقايق زيادة لأني انسان نعسان.. اكتشفت اني لو أنام ساعة ما…',\n",
       " 'جادلوني بك •• أقسمت لهم أنك مختلف •• فخذلتني 💔',\n",
       " 'ليش يمنعني ويسمح لنفسه؟! 😠',\n",
       " 'لا تكفى الا انت لاتتوقع 💔',\n",
       " 'حتى الايتونز خربتوه مو صاحين انتو؟؟ 😭',\n",
       " 'مافي شي يوجع كثر مقاومة الدموع وتبينين أنك بخير 💔محتاجتك يمه 😰',\n",
       " '#مسلسل_ودك_يتكرر_برمضان مااتابع مسلسلات في رمضان احس الوقت مايسمح 🤔',\n",
       " 'طال انتظاري والمهلوك انا 💔',\n",
       " 'مين حكى 🤔',\n",
       " 'اللهم من أراد بنا خيرا فأجر الخير علي يديه ومن أراد بنا شرا فاجعل الدائرة عليه 👐',\n",
       " 'ماذبحنا الا القريب اللي يعرف اقصانا ايتفنن بالطعون وعارف مضراابه 💔',\n",
       " 'لم يعد هناك شي مبهر.. لقد بهتت جميع الاشياء 💔',\n",
       " 'من كثر ال خهوهخو اللي انا فيها راسي صدعت 💔',\n",
       " '#مسلسل_ودك_يتكرر_برمضان برمضان محد بيعزز لكم الذنب اكثر شيء يخوفك ان نفسك الاماره بالسوء هي تجرك لتهلكه اما ابليس…',\n",
       " 'ي رب يلغوهم ي رب👐 .. بس بما إنو مفيش نفس للدراسة اكيد في امتحان بكرة 😂💔',\n",
       " 'جين ألحق لاتخطفه هالزي 😭',\n",
       " 'فكرة رائعة وجميلة ..بحيث يقدر الشخص يلجأ للشخص الاخر، بتقديم العون والمساعدة له فهذا من خلق المسلم فه…',\n",
       " 'مليسا لازقه فيه تلقنه اللي يقوله ولا خايفه لايقط كلمه بالغلط 😒',\n",
       " 'شفيه كذا ذا 😭',\n",
       " 'المزاج لكم عليه اليوم 😑',\n",
       " '#المشاعر_هالليله_تقول لي اصحاب المشاعر عن اي الم تتحدثون 💔',\n",
       " 'تشوفي تغريدات اللي تتابعيهم و اللي ما تتابعيهم 💔',\n",
       " 'الطبيب النفسي يقول:👨🏼\\u200d🔬 عندما يحين موعد النوم ضع جميع المشاكل خارج المنزل ونام بهدوء 🙇🏻\\u200d♂ 😞 رد عليه : بس يا دكتو…',\n",
       " 'حنحنه وشوية تدخيل 🙈 ء. 😋 ء. /) ء. \\\\\\\\ شقلتء ؟! #مبادل_الرياض #موجب_الرياض #سالب_الرياض',\n",
       " 'اذا رچعت بچن وإذا تركتك بشقي لا قدرانة فل ولا قدرانة ابقي 💔',\n",
       " 'كل ما سمعت قصة عن .. “النبي محمد صلى الله عليه و سلم” تمنيت لو أنه عايش بيننا 💔',\n",
       " 'اذا شخص😢 ما ابتعد عن حياتك 💔 دعهم يبتعدون 👋لا يجب عليك ان تقنع اي شخص لا يحبك😔 اذا كانوا يستطيعون الابتعاد 🌿دعهم يذ…',\n",
       " 'ربي وانت رربي من ورنا ياياسرر 🌚',\n",
       " 'آمين آمين آمين 🥀',\n",
       " 'صباح الخير هل انتم على قيد الحياه 🌚',\n",
       " 'كل ما اشوف ابوتريكة افتكر الاغنية دى ي بلد وسخة 😢',\n",
       " 'وعلشان ملهاش مفرد وزعوها على الدول العربيه كلها 😏',\n",
       " '#وش_تعلمت_من_الدنياء ان صاحب الهاشتاق بليد في الإملاء !! 🙈',\n",
       " 'شنو هل جذب 🤔',\n",
       " 'يمكن وليه لا بعدين ليش سوتلك حظر الا انها تعرفك ولا ليش عرفت انها سوتلك حظر يا اذكا الاذكياء 🤔 علينا هالتحليل 😉😠',\n",
       " 'انا من المنظمين للورشة 😰',\n",
       " 'لا تنسوا #الوتر وناموا وانسو تفاصيل الحنين اللي مشى الله معه واللي بقى ذخر و يمين 😴',\n",
       " '📌 فيفا تركت الاتحادات والبطولات القارية وتركت القضايا الدولية وتركت مشكلة تنظيم كأس العالم وتنظيم كأس العالم للأندي…',\n",
       " 'ابحث عنك بين المطر،، صبآحي كئيب 💔',\n",
       " 'ياحظ منطقه العاشره الحين يجمعون الصلاه علشان المطر وحنا بالجهراء ماجانه شي 😓',\n",
       " 'شيل الصورة لاتزعلون العميد 💔',\n",
       " 'ينفذ الإرشاد الأكاديمي بثانوية الخوارزمي بالجرين مبادرة بعنوان ( كيف تختار تخصصك الجامعي ) بحضور عم…',\n",
       " 'لا والله يججععنن ، حبي له غريب احس لازم كل فترة ارجع اشوفه 😩',\n",
       " 'ليه اللي جايلك أجنبي عارفة عليه تطبطبي ✋ وتركبي الوش الخشب وعلى اللي منك تقلبي 😥💔',\n",
       " 'أصعب شي لما تكون 💔 محتار بين الغيره القاتله 😢 وبين الرحيل عن من أحببت 💔',\n",
       " '💚🍃🌷📿 🥀 🥀 من السهل أن تضع يدك على فمك كي لآ. تتكلم ولكن من آلصعب أن تضع يدك على قلبك ك…',\n",
       " 'انا كنت بهزر يا رمضان🙈 هو لسه الحوار دا؟! 😯',\n",
       " 'الله يرحمج 🌚',\n",
       " 'الى متى التعامل السئ للخادمات وعدم احترامهم وكأنهم حشرات والله هالمواقف تصير بيننا ونشوفها المربية جات من بيتها مع…',\n",
       " 'ماعلي من جور الايام افهموني انا حاديني من الأشواق حادي 💔',\n",
       " 'حفتر ياأسير تشاد نموتوا ولاتحكم البلاد ياالله ياالله دمر حفتر واللي معاه 👐 مالكية مالكية شدي فروخك ياسعودي…',\n",
       " '#BoyWithLuv70M ترا ذا اللي جبناه في ساعه ابن امك احذف 😒',\n",
       " 'تمام يا غدارة 😢',\n",
       " '#الاهلي_الهلال -تحت هذي التغريده تحدي روقان واسرع اذا فاز الهلال ان شاء الله ، اسرع راح يوزع قيمة ايفون X …',\n",
       " 'زعلان جدا ومخنوق اني محضرتش اليوم اللي بستناه بقالي سنة دا 💔 يوم اليتيم وواحد يرن عليا دلوقتي يقولي رحمة بتسأل عل…',\n",
       " 'حتى الايتونز خربتوه مو صاحين انتو؟؟ 😭',\n",
       " 'مهما بلغت من قوة سيهزمك الحنين أحيانا .. يهزمنا الحنين رغما عنا 💔',\n",
       " 'رحم الله أمي \" أم سامي \" كان لجا المطر سبحت وهللت وكانت تحب شيلة الوسمي 💔',\n",
       " 'انا كلهم كلهم 😥 احييه 😭😭',\n",
       " 'لعب فينا البعوض 😤',\n",
       " 'يارب أنا عندي طموح بس ماعندي ضمير وفقني يارب 💔',\n",
       " 'في عندي مشكلة مع تويتر كل ما نزل صورة بتنزل مرات 🤔',\n",
       " 'اي فكرة لفرض رسوم على التجار مرفووضة بعذر انهم ما يريدوا ينفروا المستثمرين ويشردوهم 🤔 وأي فكرة لفرض او رفع رسوم ع…',\n",
       " 'ايوه استغربت حتى هنا تيزرها حلو 😭',\n",
       " 'يوم المباراة | #MatchDay 🆚 وست هام يونايتد 🏆 البريميرليغ | الجولة (33) 🏟️ ملعب أولد ترافورد 🕢 :30م بتوقيت مكة 📺 b…',\n",
       " 'على الله بس 😕',\n",
       " 'انتي اقوى 💪مما تدعين ، أكثر صلابة مما تظهرين .. فبرغم نعومتك و رقتك و سهولة خدشك الأ انك فتاة شامخة .. قوية .. ذا…',\n",
       " 'فى ناس بتوهمنا بحبها وبنصدقها وعشانهم بنخسر ناس كانت بتحبنا وبنبيع اللي كانوا بيخافوا علينا ولما بنفوق بنندم على خسارتهم بعد فوات الاوان 💔',\n",
       " 'متى بسس؟؟ 💔 نفسي بنتي تعيش زي الأوادم عندي',\n",
       " 'مو هذا اللي مقعدني للحين و الحمد لله على كل حال لا زوجة و لا عيال ف نادر نلقى السنع مال حريم أول 😔…',\n",
       " 'افا ليش 💔',\n",
       " 'اهداء 🎶 من جماهير الهلال ✋ هاتو اللي عليكم يا #الفيفا_يرد_احتجاج_الهلال_صحيح',\n",
       " 'أحتفلوا بصمت ف هناك قلوب تتألم 💔',\n",
       " 'والاخير الشخص ما بيستاهل مرات :(',\n",
       " '#وش_تعلمت_من_الدنياء ان كلمة الدنيا ماتنتهي بهمزة 🌚',\n",
       " '⛔ مافي فض اعتصام قبل توجيه تجمع المهنيين يا سودان ⛔ مافي فض اعتصام قبل توجيه تجمع المهنيين يا سودان ⛔ مافي فض اعتصا…',\n",
       " 'انهض يانمر 😑 ماباقي وقت كثر ماراح 😳 يجب انت تقاتل وتتخطى الصعاب امامك مرحلة صعبه وانت قدها🤞🏻 #الاتحاد_النصر',\n",
       " 'ماذا سرقت منك الحياة 💔 اختصرها ب كلمة واحدة ..؟ #وش_يقول_الليل #وحيد',\n",
       " 'سأكون صادقا معكم أنني ولأول مرة أخشى #الاتحاد يجب على لاعبي #النصر عدم التهاون ونسيان مركز الاتحاد #النصر_الاتحاد 😰',\n",
       " 'كلش الجو مو جو دوام والله 💔',\n",
       " 'مجرد تركتها أم انك لم تكن أهلا للنضال من أجلها . 💔',\n",
       " 'ليتني م نشيت 💔 .\"',\n",
       " 'مساكين المغتربين والله فاتهم سقوطين يعني مافي حاجة ممكن توصف شعورهم تخيل تكون مغبون مرة وتنغبن تاني 😔',\n",
       " 'تايملاين كله خطوبات 🤦\\u200d♂️ مستعجلين على ايه ولاد 💔',\n",
       " 'وصوتك كوكبي الوهاج وحسك فييه :( 💛💆🏻\\u200d♀️',\n",
       " 'نابليون بونابرت 🌚',\n",
       " 'هذه هي الحياة مواقف تصدمگ مواقف تبكيگ 😢 مواقف بحاجة لتجاهلها وتبقى هناگ .. مواقف لا تنسى..',\n",
       " '📌 اضمنوا لي مثل هالجمهور واضمن لكم النقاط.. بحول الله #زلزل_الملعب_نصرنا_بيلعب',\n",
       " 'لو مكنش همي عليها هيبقي ع مين بس :(',\n",
       " 'كيف تخسر زوجتك ( تقوم قبل الفجر وأنا نايم .. تعجن وتخبز 💔) طريقة جداتنا ما تنفع لهذا الزمن حتى جدتي ماصلح…',\n",
       " 'نمت الساعة و فاتتني الامطار القويه 💔',\n",
       " 'المرة الجايي خلص 😩',\n",
       " 'رجعنا للمربع الاول 😭',\n",
       " 'حكاالهاآ تتزوجيني !🙈😍🙈 -أغمى عليها من الفرحة 😨😱 صحيت حكالها ولك بمزح معك 😕 -مااتت😂😂💃💃',\n",
       " 'طلع كاريلو 😣',\n",
       " 'صباح العجاج 😷',\n",
       " 'بخيل تزوج اول يوم أكل زوجته خبز و بصل ثاني يوم خبز و بصل ثالث يوم نفس الشي والرابع كمان.. خامس يوم جاب معه خبز…',\n",
       " 'مقدر افرح عندي ماده بنفس اليوم مو محدد ولا شي 💔',\n",
       " 'اللهم ارحم امي برحمتك الواسعه يارب العالمين 💔',\n",
       " 'كنت اعرف 💀',\n",
       " 'العولمه 💔 #مسلسل_ودك_يتكرر_برمضان',\n",
       " 'سلاماات 😳😳 عشان كذا ؟؟ دام أمه تركب السيارة حتى أمي تركب رجلها على رجل أمه ولا محد يركب شكرا 😂😂💔',\n",
       " 'اليوم تخرجي قولو مبروك 😡',\n",
       " 'ايشش وربي قبل مايقول الحكم تسلل وانا خلف الشاشه قمت العن واسب في الحكم انه تسلل واضح 😨',\n",
       " 'ان غيبك الموت لن تغيب اعمالك الفنية ستظل شاهدة على تاريخك الكبير وخالدة في ذاكرتنا وداعا\" #محمود_الجندي 😔 إنا…',\n",
       " 'أنا طلعت عايشة في عالم تاني، الناس كلها بتقول يا ناس الأمن الطلابي حافظنكم وعارفنكم وصراحة يعني I feel so left out. طيب عرفوني معاكم 😭',\n",
       " 'حتى الايتونز خربتوه مو صاحين انتو؟؟ 😭',\n",
       " 'لعب فينا البعوض 😤',\n",
       " 'السبت : النصر × الإتحاد الأحد : ليفربول × تشيلسي الأثنين : الاهلي × الهلال الثلاثاء : برشلونة × اليونايتد + اليوفي…',\n",
       " 'انا كده استفدت ايه 💔',\n",
       " '#يوم_الجمعه ” صلوا على رجلا بعثه الله إلينا رسولا وشفيعا في يوم لاينفع فيه مالا ولابنون “. . . . . . #خرووج 😴',\n",
       " 'صار لي أشهر وأنا ألمح لمجهولي، شكله متوفي مسكين 💔',\n",
       " 'بنشكر الله انو القلب عضلة مو عظم .. بضل التعضيل ارحم من الكسر 😔',\n",
       " 'من أولوياتنا قي السودان الجديد عودة الجيش السوداني من اليمن وانسحابهم من هذه الحروب العبثية بالوكالة ✋ حرب اليمن ل…',\n",
       " 'السفير الامريكي كشف المستخبي 😑',\n",
       " 'ربي يجيب الخير 😪',\n",
       " 'والله السوني يابعد حيي ماتشتغل عدسته ولا عاد العب كثير حالتي حاله 😢',\n",
       " 'فقط أرغب بالعزلة كأن ألف حديث يدار في عقلي أتأرجح بين الوجود والعدم والصمت والكثير من الكلام بين الشعور واللا شعو…',\n",
       " \"اسمع كلامك اصدقك اشوف افعالك استغرب ' الم تنعتوهم بالمجوس وحاصرتم قطر بسبب إيران وتحاربون #إيران في اليمن 🤔 يا قو…\",\n",
       " 'في مثل هذا اليوم قبل خمس سنوات ااه والله اني حززين 😞 ..',\n",
       " 'اشياء كثيير بيننا مشتركه وتشجعين نفس النادي الي اشجعه تكفين وش ذا 😞',\n",
       " 'راحت ايامك يا اسطورة مويرا، كنتي الافضل 😔',\n",
       " '📌 من يخاف فليس منا.. تصبحون على خير #النصر_الاتحاد',\n",
       " 'الى متى التعامل السئ للخادمات وعدم احترامهم وكأنهم حشرات والله هالمواقف تصير بيننا ونشوفها المربية جات من بيتها مع…',\n",
       " 'اللهم و إني مسني الشوق ل أبي ف أنت أرحم الراحمين ب قلبي ، اللهم أغفر ل فقيدي اللهم أرحم من لم تشبع عيني م…',\n",
       " '⛔ مافي فض اعتصام قبل توجيه تجمع المهنيين يا سودان ⛔ مافي فض اعتصام قبل توجيه تجمع المهنيين يا سودان ⛔ مافي فض اعتصا…',\n",
       " 'الله يرحمه ويغفر له ويسكنه فسيح جناته 💔',\n",
       " 'اللهم اذا كان هذا سحر فأبطله 😐',\n",
       " '🕊قفلت قلبي عدل وضيعت مفتاحه يوم انه الحب قالولي يبي | خبره كذا اعيش العمر والنفس مرتاحه لا حب لا فراق لا خاطر ولا عبره 💔',\n",
       " 'سادسا : نرفع يدينا كلنا و ندعي لي شهداء مجازر دارفور و جبال النوبة و جنوب السودان و مجزرة عطا المنان و مجزرة القضا…',\n",
       " 'ياسمين مش هتلعب كوميدي كدة 🤔',\n",
       " 'فلوق الكشته مع حمودي 😱',\n",
       " '#صباح_الخير صباح الخير ي سناقل 🌚',\n",
       " 'إياك أن تظن يوما بأنك تعرف شخصا ما تمام المعرفة، وتتوهم بأنك ملم بجوانب شخصيته، ودوافعه، وأفكاره، فتفسر أفع…\\r\\n0\\t. . طيبتي دمرتني .. 💔 القلوب الطيبة مظلومة دائما لإنها أسرع من تفتح الأبواب وأول من تتلقى الضربات .. ..\\r\\n0\\tواللي مثلك حتى لو تكرر الاخطاء عشر مرات تستاهل مسامحه 😴\\r\\n0\\tان غيبك الموت لن تغيب اعمالك الفنية ستظل شاهدة على تاريخك الكبير وخالدة في ذاكرتنا وداعا #محمود_الجندي 😔 إنا…',\n",
       " '#سايتوتيك الأصلية #سايتوتك مع دكتورة رندة 🙎 التسليم فوري باليد /24 بكافة مناطق السعودية 🇸🇦 الكويت 🇰🇼 الأمارات 🇦🇪 ق…',\n",
       " 'تبي ؟ 😔',\n",
       " '#يوم_الجمعه إن الصلاة على النبي الحبيب لنعمة فيها من الأجر الكثير فأكثروا منها **اللهم صل وسلم وبارك على نبينا…',\n",
       " 'لمن يرغب ان يعيش صادق ..عليه ان ينظر لنفسه في المرآه 😐',\n",
       " 'لن يهبط الاتحاد حتى لو خسر اليوم ، وأنا متاكد مليون بالمية لو الاتحاد المركز الأخير لن يهبط (راح يزيدون…',\n",
       " 'انشهد الحزن من اول الليل 😭',\n",
       " 'قسم ان كانه معتزل امس سرعه الدنيا تخوف 💔',\n",
       " 'ودي شعري يرجع هاللون 💔',\n",
       " 'قد طال صبري في النوى إذ تركتني كئيبا ؛ غريبا باكيا متوجعا 😔 ف يامهجتي ياروح قلبي ياراحتي آغثني ف قلبي كاد أن…',\n",
       " 'أصبحت سلوكيات من ضيع ثقافته ليحاول ان يكون ندا لثقافتنا عن طريق الترويج لثقافات اخرى معروفه ومعلومة للكل ، استوقفت…',\n",
       " '#TELLONYM شلون يعني 🤔',\n",
       " 'هه تعبتيني معك 😭',\n",
       " 'تلاتين سنة بترقص .. الليلة رقصتنا أنا ببكي 😭 دي حلاوة شديدة باخ',\n",
       " 'دام ماوصلت منك #صباح_الخير لسا ماني بخير 😔',\n",
       " '✋ #صباح_ال خير يامدلل ماودك بهالمطر نتبلل ونعيد زمان الطيش نتراقص ونتعلل مع بعضنا نتجمل بدون عيب وليش ..!! ❤!!…',\n",
       " 'سبحانه محمود في كل احواله وعطاياه وحتى على منعه احيانا لحمة له الحمدوالمنة',\n",
       " 'للبعيدة جدا.. للتي لن تصلها كلماتي ولا صوت بكائي للتي غادرتني دون ترتيب ودون موعد مسبق.. لأمي الحبيبة 💔 اللهم…',\n",
       " 'بوجودك طبعا🖤 :(',\n",
       " 'لو أنهم نظروا إلى أعيننا قبل رحيلهم لعرفوا أنهم سرقوا كل أحلامنا 💔 ال عطيه ..',\n",
       " 'ربنا يشفيه يارب 💔',\n",
       " 'اعرف الاحساس لما تكون الامور ماهي بيدك 💔 كان الله في عونك',\n",
       " '#الاتحاد_النصر اي هلالي فاضي يجي يكوي لي الشماغ عندي دوام بعد شوي 😒',\n",
       " 'بالضبط جم اكاونت حق \"اخبار المشاهير\" اكو؟ عيزت و انا اسوي بلوك و لا راضين يختفون! 😩',\n",
       " 'حتى الايتونز خربتوه مو صاحين انتو؟؟ 😭',\n",
       " 'الهلال يتجاوز الاهلي في جدة في مباراة صعبه ويبدا ضغط كبير على النصر في أسوا أحواله الهلال قوي نذكركم بعد ساعة ق…',\n",
       " 'اذا اكتشفت أنه حبيبتك بتدخن تسيبها أو تكمل معاها 🙈 ؟!؟!',\n",
       " 'والي تقول مو شغلي شغل العامله 😞',\n",
       " 'ام بلوزه حمره هذا انا 😐',\n",
       " 'اسير شديم :(',\n",
       " 'هذي #دير_ياسين هذي ارواحهم هؤلاء ابناء الوطن هكذا قتلوا وغدر بهم !؟ فكيف نساوم قاوم يد الاجرام ولا تنسى فدير ي…',\n",
       " 'الله أكبر ياحبيبي ياالله مااعظمك وماأعظم شأنك سبحانك ربي سبحانك 😖',\n",
       " 'لغز ما يحله إلا الذكي شديد الذكاء 🤔 نشط عقلك وفكر جيدا~~ ناتج هذه المعادلة كم يطلع ؟ اذا عجزت عن الحل ○ ○ الح…',\n",
       " '🤔 حتى انتى كمان هتطلعى بتختارى الفلوس 😂',\n",
       " '📸 حسين عبدالغني يحاول استفزاز الاسد قوميز 🤔 #الهلال_الاهلي',\n",
       " 'إلى الأغبياء المضافين عندي !! مع إحترامي الشديد للبقية !! 😒 اللي يجي يقول لي انا اعلق على منشوراتش ليش ماتعلقي على…',\n",
       " '_⛔ #مناحل_ابو_سلطان . . 🍯 اقسم بالله انه عسل 🍯 . . . ⛔ سدر طبيعي ♨️ . . ⚠️ مضمون…',\n",
       " 'ستايل جونهي اللحجي وشعره الاسود 🤐',\n",
       " 'بعشق النوم 😭',\n",
       " 'عودو إلى وطنكم يرحمكم آلله ✋',\n",
       " 'في غزة: إما أن تموت مغتربا،أو تعيش محاصرا، أو تشتري صبرا ✋ . #ثائرون_فلسطينيون',\n",
       " 'نص مشاكلي بسبب نبرة صوتي انا اناقش 😂 وهم يحسبوني اعلن الحرب ، مين مثلي 💔',\n",
       " 'و كان ما التجمع كنتو لسه قاعدين و منتظرين عمر البشير يموت براهو و يمس…',\n",
       " 'جلد 👿 #ببجي',\n",
       " 'فيه نوع من الإبتسامات معناها سالفتك زي وجهك 😭',\n",
       " 'ذآت يوم قبلت رأس أبي و هو في كفنه وودعته للمدى البعيد ، وبعد وفاة أبي فقدت شيئا بداخلي لا أستطيع إستعادته ، و لآ أ…',\n",
       " 'عز الله راح فيها العرين 😭',\n",
       " 'بكل سهوله يقول تضحكين !! 😭',\n",
       " 'ربناا يرحمك ي استاذ محمود الجندى 💔',\n",
       " 'تلاتين سنة بترقص .. الليلة رقصتنا أنا ببكي 😭 دي حلاوة شديدة باخ',\n",
       " 'ان شاءلله راح يفوز ويفيدنا ، لكن لتذكرت ان مدربنا زوران جاني احباط :(',\n",
       " 'صباحك طحلبي 🐸',\n",
       " 'تلاتين سنة بترقص .. الليلة رقصتنا أنا ببكي 😭 دي حلاوة شديدة باخ',\n",
       " 'تكتب اريد الاختفاء عن العالم 😳 وهي لو تقفل عليها باب الحمام جلست تبكي 🌚😂🥊🤣',\n",
       " 'بس يا غبى عايز غريمنا يتضافله بطولة مهو هيتنططو علينا بيهم انت بتفكر ازاى 😞',\n",
       " 'إلهي بفاطمة و ابيها و بعلها و بنيها والسر المستودع لقد ضاقت الصدور بما رحبت 💔 اللهم انتقم من الظالمين',\n",
       " 'معجزه يارب 💔 #قدها__يا__اهلي',\n",
       " 'تلاتين سنة بترقص .. الليلة رقصتنا أنا ببكي 😭 دي حلاوة شديدة باخ',\n",
       " 'إذا صعد الأهلى اليوم سوف اشترى قميص الاهلى واقدمة هدية لصديق عمرى،، بالمناسبة هو سبق وقدم لى قميص الزمالك عندما توج الزمالك بالسوبر ✋',\n",
       " 'تلاتين سنة بترقص .. الليلة رقصتنا أنا ببكي 😭 دي حلاوة شديدة باخ',\n",
       " 'واحد بعتلي ع dm و قالي إنت من الجنوب.. ؟ 😍 قلتلو إيه .. قالي يعني من انت من جماعة يقبرني قلبك .. 😉 قلتلو لاا…',\n",
       " 'حسب العدد كامل و سحب على الكسور طيب فيه كفه ترجح واحد من الفائزين بسبب الكسور المشكله نواف العابد قبل سنه فايز بس…',\n",
       " 'ممتاز طيب اذا هي أخطأت وهو بيطلقها كيف يرجع لها ثمن تسليمها لجسدها؟ و المهر اللي دفعته للتزين له؟ 🤔',\n",
       " 'تويتري قاعد يحذف حسابات بروحه مع علامة تعجب وويه 😱',\n",
       " 'انت تدور مشاكل 😒 دايم نمشن بعض بس انت نساي مو عداي 🤣🏃🏻\\u200d♀️🏃🏻\\u200d♀️',\n",
       " 'أصبحت الھواتف لا تفارق الأيادي .. لأنھا تعطينا شعور ب أن كل من نحبھم في قبضة يدينا ! هنا. بدأت .حكايات . وا…',\n",
       " 'احس بتصير من الوجبات المفضله تخيلت الطعم احسه حلو 🌚',\n",
       " 'تجمع المهنيني دا فهمو شنو 😐',\n",
       " 'استاهل حد يخطفني ع هالجوو 😶',\n",
       " 'يومي كله 🌚',\n",
       " 'اخواتي واخواني اللي بيتخانقوا لايف وبينشروا الشتائم المتبادلة والله أحترمكم أنتم الاتنين وأنتم من احسن الناس علي تو…',\n",
       " '+ من فوريفر الأمريكيةالعالمية 💥 مالتي ماكا +فيتولايز 💥 + للرجال والنساء + يعالج البرود الجنسي + ويزي…',\n",
       " '#الاتحاد_النصر اتوقع المباراةة تعادل 😶',\n",
       " 'بعد عام عاشها الأسير كامل الخطيب خلف قضبان الاحتلال .. خرج لإحتضان والدته داخل المشفى لتراه تفارق الحياة لحظتها…',\n",
       " 'وفي كل مرة قررت بها أن اكرهك 💔 شعرت😔 بأني أحبك أكثر💜',\n",
       " 'حتى الايتونز خربتوه مو صاحين انتو؟؟ 😭',\n",
       " 'انتظرك ولازلت متمسك فيك وغيري للأسف فيك يقهرني 💔',\n",
       " 'يعلم الله الدمعه في عيوني حسيبكم الله 💔',\n",
       " 'مدري اقابل زكامي ولا ادرس 💔',\n",
       " 'تدري ان ملعقة زيت واحدة (مهما كأم النوع)تحتوي على حول١٢٠سعرة حرارية😰 (تحتاج تمشي اكثر من٢٠دقيقة لحرقها) تخيل تاكل م…',\n",
       " 'خابرك تحب المطر جعل المطر لقبرك وصل 💔 - اللهم اغفر لعبدك الملك عبدالله بن عبدالعزيز .. واسكنه فسيح جنا…',\n",
       " 'يا اخوانا و الله لسة مطالبنا ما أتحقق منها غير مطلب واحد .. عليكم الله الناس ما تتخاذل 💔',\n",
       " 'دكتور شيل القلب ماعاد مطلوب 💔 خلني اعيش الوقت كله بلا قلب 💔 ان شفت فيني عوق لا توصف حبوب 💔 خلنى اموت وقول ماينفع الطب 💔✍️',\n",
       " 'الوضع م مطمن 😪',\n",
       " '- ال6جزم اللي فوق يعني كل واحده فيهم ب - الجزمتين اللي تحت ب + والدين كل واحد فيهم يبقا كلهم ع بعض …',\n",
       " '[ بر ب ب 😒 ]',\n",
       " 'يوم من اوله 😔',\n",
       " 'سؤالي غبي 😟 من اليوم اقرا السؤال واضحك 😭😭😂😂',\n",
       " 'اذا على كذا انا اعاني من التحرش 😬',\n",
       " 'يا رب الفوز. والدوري والكأس أنا مو طماعة 😔',\n",
       " 'لا بس انا فعلا الشيخه الأميرات بنات ال سعود بس 🤔',\n",
       " '⛔ مافي فض اعتصام قبل توجيه تجمع المهنيين يا سودان ⛔ مافي فض اعتصام قبل توجيه تجمع المهنيين يا سودان ⛔ مافي فض اعتصا…',\n",
       " 'جلست اضحك انا الاتحادي غاسل يدي للأسف وهما عندهم امل 😅 لكن نقول ان شاءالله نفوز محتاجين الفوز وضعنا صعب 💔',\n",
       " 'صباح الخير ✋',\n",
       " 'الناس المعطلة والجو جميل والحياة حلوة .. بتروحو ع دكتور الاسنان يوم سبت ليش? 😭',\n",
       " 'اذكر الله 💔',\n",
       " 'وتقول وزارة التعليم تريد تخريج أجيال تنافس الدول المتقدمة في مخرجاتها وأبحاثها العلمية ويواكبون تطلعات رؤية وهم…',\n",
       " 'اشوى انه كبر 💀',\n",
       " 'بعد دا الناس تتذكر كانت بتقرا شنو وبتقرا في ياتو جامعه عشان مانسقط احنا زاتنا 💔 #تسقط_تاني #اعتصام_القياد_العامه',\n",
       " 'الاغنيه ذي اخ بس 💔',\n",
       " 'الى متى التعامل السئ للخادمات وعدم احترامهم وكأنهم حشرات والله هالمواقف تصير بيننا ونشوفها المربية جات من بيتها مع…',\n",
       " 'ياخي تحتاجون حظ قووي 😱',\n",
       " 'أبي هو الغائب الذي لا يحضر 💔 وانا المشتاق الذي لا ينسي 💔💔 رحمك الله يا أبي بقدر اشتياقي اليك 🙏🙏',\n",
       " 'تتبروز التويته دي ✋',\n",
       " 'الحظ بخرب السالفة بعد ويه 😒',\n",
       " 'ما احب العلاقات الرسميه لأني صراحة ما أعرف أرسم 💔',\n",
       " 'طب جيبيلها 😏',\n",
       " 'وتقول وزارة التعليم تريد تخريج أجيال تنافس الدول المتقدمة في مخرجاتها وأبحاثها العلمية ويواكبون تطلعات رؤية وهم…',\n",
       " 'انتظرك ولازلت متمسك فيك وغيري للأسف فيك يقهرني 💔',\n",
       " 'الشئ الوحيد الذي ينمو مه مرور الايام هو يأسك من البشر ❗',\n",
       " 'تشكيلة ميلان المتوقعة أمام لاتسيو .. جاتوزو مع بوريني مرة ثانية .. بوريني الشي الجيد فيه انه يدافع ويهاجم يعطيك ضما…',\n",
       " 'انا 🐍 المعفنه 🦎بعد التكميم 🐊قبل التكميم 😷🤣',\n",
       " '⛔ مافي فض اعتصام قبل توجيه تجمع المهنيين يا سودان ⛔ مافي فض اعتصام قبل توجيه تجمع المهنيين يا سودان ⛔ مافي فض اعتصا…',\n",
       " 'أحبك بكل ما أوتيت من مرض 💔 #صوت_الحق_للدعم #كروب_الزهور_للدعم #النرجس_للدعم #اميره_الموسم #عراق_الخير',\n",
       " 'شيطان رحيم 🤔',\n",
       " 'واحد بعتلي ع dm و قالي إنت من الجنوب.. ؟ 😍 قلتلو إيه .. قالي يعني من انت من جماعة يقبرني قلبك .. 😉 قلتلو لاا…',\n",
       " '- يا ربي رحمتك شي فظيع 😖',\n",
       " 'اجل بوتيا برازيلي 😏',\n",
       " 'اسواء مسافه بين شخصين .. هي سوء الفهم 💔',\n",
       " '📌 فيفا تركت الاتحادات والبطولات القارية وتركت القضايا الدولية وتركت مشكلة تنظيم كأس العالم وتنظيم كأس العالم للأندي…',\n",
       " 'زينب عم تتفاعل كتير مع غروب العيلة 😐',\n",
       " 'متابعيني الاعزاء الوالدة توفاها الله ادعو لها بالرحمة جزاكم الله خير 😢',\n",
       " 'الى متى التعامل السئ للخادمات وعدم احترامهم وكأنهم حشرات والله هالمواقف تصير بيننا ونشوفها المربية جات من بيتها مع…',\n",
       " 'واني الترند م يطلع عندي من البارحه 😭',\n",
       " '🍃🍃 ┊⇣✧ ┊⇣✦ ⇣✧ ⚡️⚡️ ليس كل شي يستحق الكتابة 😴 ━━❖❁♻️❁❖━━ ┊⇣ ┊⇣ ┊⇣ ┊⇣ ┊⇣ ┊⇣ #ملامح',\n",
       " 'دليل على التحرش 😡',\n",
       " 'حتى الايتونز خربتوه مو صاحين انتو؟؟ 😭',\n",
       " 'ღ♬ . . أسلى مع طيفك الين إنتعشتك عشان مااحس بغيابك على طول ياجعلها في ذمتك ماوحشتك 💔 #تصميمي…',\n",
       " 'ما انسسى هالسسااييككوو نييغان 😭 والله لو انه مع شلة الطيبين ان يكون هو ماي فيفوريت كاركتر😭😭',\n",
       " 'حنا نبيك إنتي في الأول😂😂قلبي ما يطاوعني 😏',\n",
       " 'كن لطيفا بحديثك .. فالبعض يعاني من وجع الحياة وانت لا تعلم .\" #مساء__الخير 🥀',\n",
       " 'والله الثلاثة اتفه من بعض العروس كريهة شو يعني لو الام ركبت و العريس دراما حبتين طلقها عشي تافه و الام نشبة و لزقة…',\n",
       " 'عند انتهاء علاقة حب ! يخسر بائع الورد ،، ويكسب بائع السجائر ! 💔',\n",
       " 'اذا الفيفا عارف هالشي غلط مش المفروض يتصرف ويتخذ اجراءه ولا الاتحاد السعودي اقوى منه ولا هاي الشوشرا…',\n",
       " '#الهلال_الاهلي #حسين_عبدالغني سبق وان تكررت له لحالات مماثلة من داخل المستطيل الاخضر واليوم كاد ان يتسبب في اصابه…',\n",
       " '📌 زوران يؤكد أن القملة مقلب ويحطه على دكة الاحتياط #الاهلي_الهلال',\n",
       " 'لااعلم من اين ابدأ لكم يازعماء لكن مااقول الا الله يصبركم على تخبطات زوران ( الله يستر من اللي جاي ) 🤔',\n",
       " 'بالله كيف طمنيني عندميندسويتيها وكم اخذتي وقت انا رحت اخذت تحويل ورحت لهم قالوا يومين ونرسل لك او…',\n",
       " 'مقطع ألمني جدا جدا حسبي الله ونعم الوكيل 💔',\n",
       " 'اعتقد اه معروفة دى 🤔',\n",
       " 'اللهم أروي قبور موتانا من هذا المطر و بلل عطش أرواحهم من انهار جنتك و اجعل لهم في كل قطرة مطر راحه ورحمة و مغفرة يا…',\n",
       " 'آخر موظف وظيفته يجرب اللعبة 🧸وشكله طفشاان 😒 🧐وش رايك بوظيفة مثلها ؟',\n",
       " 'اذكر نفسي واياكم اننا على الحلوة والمرة معاه ✋ وعلى العموم عندنا اماكن فى العناية لو حد بيفكر يغير جو عندنا فى الميري بعد الماتش',\n",
       " 'شيء لا دخل لكم به 🌚',\n",
       " 'والله #عيب أن تلعب أيادي الوافد في ديرتنا وتقر قرارات لكويتنا دكتور عبدالكريم قبل لاتشلع #عابدين اش…',\n",
       " 'ليه من الاول عشمتيني ! 💔',\n",
       " 'يمه قلبي يعورني امس فاصولياء يقولي حزين وفجاءة هي تحذف حسابها وش السالفه 💔',\n",
       " 'يا اخوانا و الله لسة مطالبنا ما أتحقق منها غير مطلب واحد .. عليكم الله الناس ما تتخاذل 💔',\n",
       " 'التصويت وصل الف والنتيجه تعادل 😥 بينتهي الصباح اللي حاب يصوت لي الخيار الثاني شكرا لكم مقدما',\n",
       " 'يا #يبه_وينك ؟ ترى جانا مطر وانا خابرك تحب #المطر ، عساه ل قبرك وصل ؟ المطر يا #يبه هل واسقى #ثراك رفعت إيدي أد…',\n",
       " 'يا اخوانا و الله لسة مطالبنا ما أتحقق منها غير مطلب واحد .. عليكم الله الناس ما تتخاذل 💔',\n",
       " '💔 إيه والله إبكي ليتي ما فقدتك وإيه والله انه ماجبر خاطري شي كل ما سجدت لوجه ربي ذكرتك يالميت اللي بداخلي حي..…',\n",
       " 'لفتة انسانية حلوة جدا مع ان مستحيل حد يحل محل شخص كنت بتحبه وفقدته لمجرد انه شبه؟ 💔',\n",
       " 'حاجات يحييها العتب 🌚',\n",
       " 'المكبره تخوفني جانت بلنهار � ببهه قله اعزاز واكثرهم غرب � هسه اطبهه بليل بيهه افرش وانام� بيهه. امي اهناك ما خاف م…',\n",
       " 'افطر وعين خير وفطرهم معك 😬',\n",
       " 'طب والثوبيا اخبارها اي 😯',\n",
       " 'مع صن داونز الجنوب افريقي وكانوا بفضل الله مشيلنا / هناك 😭',\n",
       " 'ابي من اصداف الايام \"معروف\".. بس اجمعينا صدفه وفرقينا .. ابيه يشوف الشوق بعيوني ويشوف ان المفارق شي ماهو بيدينا 💔 ✍️',\n",
       " '⛔ مافي فض اعتصام قبل توجيه تجمع المهنيين يا سودان ⛔ مافي فض اعتصام قبل توجيه تجمع المهنيين يا سودان ⛔ مافي فض اعتصا…',\n",
       " 'اخواتي واخواني اللي بيتخانقوا لايف وبينشروا الشتائم المتبادلة والله أحترمكم أنتم الاتنين وأنتم من احسن الناس علي تو…',\n",
       " 'وصلنا مرحلة أن اللي ما عرفوا يلعبوا ببجي، أو الناس اللي ما تحب ألعاب الڤيديو صاروا يستشرفوا علينا.. 😒',\n",
       " 'هيه والله 😭',\n",
       " 'بسم الله عليك انشاء الله عمرك طويل 😢',\n",
       " 'ي جونول الزق 😩',\n",
       " 'ليتك تفرحنا وتحكيلنا قصة ليمان وكيف كان يأمر الأتراك بأن يضعوا أهلك على الخوازيق وكان الترك ينفذون أوامره وليتك تحك…',\n",
       " 'الحمدلله بخير انت شخبارك 🌚',\n",
       " 'مايحتاج كلمه ما شآءالله الخط روعه 😴',\n",
       " 'ازا بجيب بدي اصلي ركعتين شكر 😭😭',\n",
       " 'بوسيتيڤ اينيرجي باليز؟ 🌚',\n",
       " '#مسلسل_ودك_يتكرر_برمضان رمضان صلاة وعباده 🌚',\n",
       " 'ي لبيه ي المنظر 😭',\n",
       " 'يمعود لو هذا.. المهم نفوز 😩',\n",
       " '--{.. 💌 وكلما انتظرت منك كلمة أتتني الخيبات من حيث لا تنتظر وأصبحت بخيلا ح…',\n",
       " 'كذا قاعد تهينني لا مو فاشله 😡',\n",
       " '#تعديل فعالية فيها حظ شوي 😬 صاحب الرتويت رقم على هالتغريدة له ريال 💰 ! صاحب الرتويت رقم على هالتغري…',\n",
       " 'و كاس حليب 🌚',\n",
       " 'حتى الايتونز خربتوه مو صاحين انتو؟؟ 😭',\n",
       " 'قلت ليكم نسقطها سريع، الشغلانية جايبة ليها صقور 💀 #اعتصام_القيادة_العامة',\n",
       " 'اصحابي الخذلوني الموني لكن ما اهلكوني ✋',\n",
       " 'حين يقول القدر كلمته الاخيره ✋ تصبح الآمال مجرد جمهور 👫👬👭',\n",
       " 'ترى بعض الرجال لو على كيفهم يبونك تقومين الصبح تسجدين له سجدتين وتقومينه وانت تبوسين رجلينه واذا راح شغله تقرين كت…',\n",
       " 'اخوي الكبير يلعب + اختبارات ياعاطل 💔',\n",
       " '#حسبنا_الله_ونعم_الوكيل 😔😔 #لا_تعليق 😔 لك الله #يايمن',\n",
       " 'مالكو ع حرف الصاد يخوان',\n",
       " '. وما زلنا نتعلم كل يوم من الحياه درسا جديدا رغم أن ثمن بعض الدروس مؤلم جدا. 💔 . .',\n",
       " '💔 اميين يارب',\n",
       " '#الهلال_الاهلي ابد حسين لم يخطي ولم يسيء لاحد بهذه اللقطه👇🏻 حسين يشرح لقوميز تاريخ الاهلي 🐸',\n",
       " 'الشاي يعنبر من المنبهات العقلية 🌚 افضل العصير بو اعصره بروحي او ينعصر لي 😂😂',\n",
       " 'اعتقد ان اى ريمونتادا حصلت فى التاريخ مكنتش مستحيله يعنى والاهلى يقدر والله بالجماهير',\n",
       " 'حسبي الله عليكم 😔',\n",
       " 'ابي موجب اربعيني كاش من القصيم 🙈',\n",
       " '📌 فيفا تركت الاتحادات والبطولات القارية وتركت القضايا الدولية وتركت مشكلة تنظيم كأس العالم وتنظيم كأس العالم للأندي…',\n",
       " '- أمطري ياسماء و إسقي قلوب الحاقدين 🥀',\n",
       " 'بالله الناس كلها تخت لي ارقامها تحت التويتة دي عشان تاني لما اطلع مظاهرات او القيادة اقدر اضرب ليكم واثبت ليكم ياخ…',\n",
       " 'بقى نص ساعة 😭',\n",
       " 'طب نطلع ايطاليا بقى 😭',\n",
       " 'أمشي تلعب كرة انت و طارق ذياب تاعك الجزائر عادت للواجهة…',\n",
       " 'جزاك الله الجنة و والديك 💔',\n",
       " 'ايه خافي مني 🌚',\n",
       " 'أصبحت سلوكيات من ضيع ثقافته ليحاول ان يكون ندا لثقافتنا عن طريق الترويج لثقافات اخرى معروفه ومعلومة للكل ، استوقفت…',\n",
       " '#مسلسل_ودك_يتكرر_برمضان رمضان شهو عبادة مب شهر مسلسلات 😒',\n",
       " 'ٲليس من العيب ان تحفظ كل الأغاني .. وتكرر نفس السورة في كل صلاة .. 💔',\n",
       " '⠀ ⠀⠀ ⠀⠀ ⠀⠀ ⠀ ⠀ ⠀ ⠀ حزين ي قلب تحتم ضياعہ تبي ﺎلبكا لكن بلاك البكا عيب 💔 ⠀ ⠀ ⠀ ⠀ ⠀ ⠀⠀ .. ⠀ ⠀⠀ ⠀',\n",
       " 'صداع قاتل 💔',\n",
       " 'ابي اللحيين 😭',\n",
       " 'تلاتين سنة بترقص .. الليلة رقصتنا أنا ببكي 😭 دي حلاوة شديدة باخ',\n",
       " 'تحلف تقول اني غيرك ما احب 😏',\n",
       " '..🌸🌸.. مانسيتك لو تمر اربع فصول كيف بنسى واحد في مستواك💔 ..🌸🌸.. 😢',\n",
       " '#الهلال_الاهلي #حسين_عبدالغني سبق وان تكررت له لحالات مماثلة من داخل المستطيل الاخضر واليوم كاد ان يتسبب في اصابه…',\n",
       " 'واضح كانوا يبونك بنيه بس صدمتهم 😭',\n",
       " 'كم لبثنا يا قوم 😬 افتكر بالأغنية دي هيفا قزاز😂💕وصفاء برناوي',\n",
       " 'نهائي كاس العرب الاتحاد ضد الرشيد العراقي م نهائي كاس اسيا ضد بوهانج',\n",
       " 'والرجاله لي ماتو اول وحدين',\n",
       " '#حسبنا_الله_ونعم_الوكيل 😔😔 #لا_تعليق 😔 لك الله #يايمن',\n",
       " 'عزيزتي ٱلفتاة : لا تصدقيه إذا قال لك أتحدث مع صديقي نحن الرجال لا نتحدث مع بعض في من…',\n",
       " 'اروح لغرفه بوحدي الى ان اهدأ 😐',\n",
       " 'الهدوء ثم الهدوء و التركيز ، يالله ليلة اتحاديه بإذن الله😭 يالله فرح قلوبنا 😭 منصورين و فالنا الفوز يارب 🙇🏻\\u200d♀💛🖤 #الاتحاد_النصر',\n",
       " 'الأب رجل مختلف في حياة كل فتاه ولو سألت كل فتاه ماذا .تتمنى لقالت رجلا\" كأبي 💔',\n",
       " 'إحساسنا ،، ما له علاقه .. ب الأخلاق الآدمي ،، مخلوق .. يذكر و ينسى ! مرات من زود الغلا أحن و أشتاق و مرات من كثر الخطا لازم أقسى !! 💔',\n",
       " 'اللهم احفظنا واحسن لنا الخواتيم 😔',\n",
       " 'ترا سكن لاء 💔',\n",
       " 'اللهم ارحم من حنت عيني ل رؤية مبسمه #ابوي 💔',\n",
       " '🤔 بيراجع البلدية عساه يلقى موقف 😂😂',\n",
       " 'فتحي حسابك 😏',\n",
       " 'وخر عن جيسو 😠',\n",
       " 'اللهم برد تربة قبر كل عزيز رحل عنا ، اللهم نور مرقدهم وعطر مشهدهم وطيب مضجعهم وآنس وحشتهم ، وارحم…',\n",
       " '⛾ العرب بشكل عام يتصرفون حسب عواطفهم .و ليس حسب عقولهم ؟؟! صح أو 😔 غلط ؟؟!..',\n",
       " 'حتى الايتونز خربتوه مو صاحين انتو؟؟ 😭',\n",
       " 'گله حااجه قضااء وقدر وربناا مش ليه سبب او حگمه واحده بس ليه اگتر م سبب وحگمه گفايه اقسم بالله اني اتعرفت ع نااس ز…',\n",
       " '#الهلال_الاهلي #حسين_عبدالغني سبق وان تكررت له لحالات مماثلة من داخل المستطيل الاخضر واليوم كاد ان يتسبب في اصابه…',\n",
       " 'حمدلله وصلت 😭',\n",
       " 'ياربي غلطتج ليش كاتبه اسمي فضحتينا 😠',\n",
       " 'استني استني خديني جمبك هنا ✋',\n",
       " 'مجرد التفكير فيك اعيش بسعاده 🙈',\n",
       " 'ان شاء الله الاتحاد يفوز 😶',\n",
       " 'وحده تقول: اختي الصغيرة معصبة وتاكل باليسار .. قلتلها كلي باليمين الشيطان كذا يأكل معاك 😟 . قالت: خليه انا عزمته😒…',\n",
       " 'ترى حظي نفس بوكريشه اللي بغى يصور سيلفي معاها وإهي مشت ما ضبطت معاه 💔',\n",
       " 'تلاتين سنة بترقص .. الليلة رقصتنا أنا ببكي 😭 دي حلاوة شديدة باخ',\n",
       " 'خليجية تنتاج من الكس: سالب كبلز زغب مربربه خنيث 😐 إبريل :52:54 مساء',\n",
       " 'الكل هنا عاشق ويحب ونحن من نعلم الاخرين العشق ماذا يحصل لو وضعت البنت صورتها الحقيقه ؟ تبخر الغرام 🤔',\n",
       " 'دا بيتكلم بجد 🌚',\n",
       " 'انا مظلوم 😔😔 حتى الفديو الاخير محد صدقني مع انه صدق فيه بنت شعرها بنفسجي ينسمسمسمسمظممظ',\n",
       " '#وش_تعلمت_من_الدنياء ان صاحب الهاشتاق بليد في الإملاء !! 🙈',\n",
       " 'زمان يا فن بس كان طعمو يجنن 😔',\n",
       " 'امور في رأيك قادرة انها ترجح كفة اليونايتد في الاياب ؟ . _ لأني للامانة اشوف غياب لوك شاو مقلل كثير من حظوظنا 💔',\n",
       " '_ ♨️ اقسم بالله 🍯 👍 🚫 عسل سدر جبلي طبيعي 🚫 💯 💯 💯 💯 😊 من منحلي ال…',\n",
       " '#الهلال_الاهلي والله فاتني كنت طالعه 😭 بس الحمدلله انهم فرحونا الليله و الف مليون مبروك للزعيم وجمهوره 💙💙',\n",
       " 'إن جيت للحق .. أنا عايش زق والقلب أنشق واللون بهتان إن جيت للحق! والله تعبان 😔',\n",
       " '#LoveTwitter صنعانيه Follows you \\u200c\\u200c( حب اليمن فينا طغى اليمن ثم اليمن ثم انتهى ) نشط🔥🔥 ممنوع…',\n",
       " 'تكفون اشتقت لها عالستيج بموت اخيرا اتذكرت انها مغنيه 😭😭',\n",
       " 'گم #ﻫﻲ ﺻﻌبة لحظﺎﺕ #ﺍﻹﺷتيﺎﻕ ﻟﻤﻦ😔 ﻻ ﻳﻤگن ﺭوﻳﺘﻬﻢ #ﺃﻭ ﺣﺘﻰ #ﻣﺤﺎﺩثﺘﻬﻢ 💔',\n",
       " 'مساكم انا عشان يخرب الويكند من بدايته 🌚',\n",
       " '📬#رسالة :لكل مريض ، مهموم ، حزين، فقير ،يتيم، و.. #وقفة #تدبر قل يا عباد الذين آمنوا اتقوا ربك…',\n",
       " 'ميزانيتي عادي مش اكتر بس بخصوص التلفونات يلي حكيت عنهم هدول سامسونج ومشكله سامسونج انو بصير يخرب بعد سنه يعني ح…',\n",
       " 'هل تعلم : واحد سطايفي بالضبط من \" عين ولمان \" حكمو عندو قناطر بصلة ضربوه ب مليون بروسي والشاحنة سيزي .. وال…',\n",
       " 'دول علي قفا مين يشيل 😏',\n",
       " 'اللهم انت المعطي لمن دعاك يا من ترانا ولا نراك وتعطينا ولا نبلغ ثناك ارحم ضعفنا واجمع شملنا واجبر كسرنا ويسر امر…',\n",
       " '#ومافي_حياتك_سر.. أكلك شربك.. صحوك نومك.. لبسك هندامك.. بيتك مالك مركبك.. ولدك أهلك.. دقائق حياتك كلها كشف…',\n",
       " 'نسافر بكل مكان 🌚',\n",
       " 'يارب عافية وقوة وصبرر 🥀',\n",
       " 'لتفتحون جنطتي بيها شغلات مهمة 😒',\n",
       " '#StandWithIlhan طلعوا #اليهود فيهم نخوة أكثر من ناس نشترك معاهم باالدين والعقيدة 💔',\n",
       " '😳الفا يعني ايه 🤔',\n",
       " 'ينفع اضربك انا 😠 حرام عليك مافي شي اسمه ترفع ضغط في انك مو عارفه تتعاملي معاها .. انتبهي تضربيها علشان مذ…',\n",
       " 'هو حضرتك عاطل مع مرتبة الشرف ولا ايه 🤔',\n",
       " 'تاريخنا اهمل ملوكنا وامرائنا تبيهم يتذكرون الباقين 💔 هم فالحين بس بتلميع العثمانين 🙂',\n",
       " 'تتذكرون لما ايدول وصلت مليون ثلاث مرات 😭',\n",
       " 'الوحدة قاتلة بالفعل 💔 بس لاشئ .. اختنق فقط!',\n",
       " 'سيلينا و بلاك بينك واو',\n",
       " 'واضح أن الجو حر و واضح انى لسه تعبانة مش قادرة اتحرك و يوم أخر فى السرير هيبقي 😭',\n",
       " 'في اقاليم البنغال الزوجه التي لا تسمع كلام زوجها يقومون بحلاقة شعرها وتبقى في بيت اهلها حتئ يظهر شعرها وبعد ثلا…',\n",
       " 'لماذا العنصرية لم تلغى عند البشر؟! و في هذا الزمن؟! هناك بلهاء لازالوا يفرقون بلون 😔 #amnawords',\n",
       " 'متفاعله اكثر من شهرين وتنقطع الشبكه كذا يوم وارجع اتفاعل ولكن لاسف لحين مافزت يارب المرات الجايات افوز 💔',\n",
       " '#للاسف_جعلنا_من_الحمقي_مشاهير اسئل الله لكل من ساعدني برتويت ان الله يفرجها عليه فرج يتعجب منه ،يشهد الله اني اعول…',\n",
       " 'لغز ما يحله إلا الذكي الفطن 🤔 ناتج هذه المعادلة كم يطلع ؟ ملاحظة: الحل الصحيح في أول ردد￼👇 #الاتحاد_النصر',\n",
       " 'شكلي وانا اشوف الامطار بكل المدينه الا جده 💔',\n",
       " 'الى متى التعامل السئ للخادمات وعدم احترامهم وكأنهم حشرات والله هالمواقف تصير بيننا ونشوفها المربية جات من بيتها مع…',\n",
       " 'احس وش تبين بذا العشب 😭',\n",
       " 'حتى الايتونز خربتوه مو صاحين انتو؟؟ 😭',\n",
       " 'اغنيه مكملناش #تامر_عاشور 💔 #بصوتي 🎶',\n",
       " 'يوعانه يوع كافر 😩',\n",
       " 'تصدق عندك حق 😂',\n",
       " 'معلييه دعابهه على الصبح م يضر😂',\n",
       " 'طبعا الامڤي بوي وذ لوف احلى.. تعرفي للحين ماسامعه النسخه الثانيه وباقي الالبوم سمعته مره وحده 🌚',\n",
       " 'رزقك سيتخطى الخلق كلهم ويصل إليك.. بل قد يصل إليك على يد من منعك .. فلا تقلق .. ❗',\n",
       " 'التعديل الجديد المقترح على مادة مدد الرئاسه(تعديل على التعديل) يقتصر التعديل على مد الفترة الرئاسية ل٦سنوات بدلا…',\n",
       " 'هذا المشهد ما يمثل الأهلأويه وأعتقد هاؤلاء غير أهلاويين 👎 🌹💚',\n",
       " 'رسايل مهمله .. حساب يتحدث عن كل ما بداخلك 💔 يستحق المتابعة :',\n",
       " 'يارب اختار لي ولا تخيرني 😢',\n",
       " 'محد يقدر يلومه 😭',\n",
       " 'اي اي 😪',\n",
       " 'نونو صايرة قاسية علي 😔',\n",
       " 'رئيسين في يومين قالو الربيع العربي 😒 نحنا الكتاحه الأفريقية',\n",
       " 'غريب الوضع كل اسبوع نفس الإعداد ونفس الجنسيات الخلل وين 🤔',\n",
       " '_⛔ #مناحل_ابو_سلطان . . 🍯 اقسم بالله انه عسل 🍯 . . . ⛔ سدر طبيعي ♨️ . . ⚠️ مضمون…',\n",
       " 'من متى صار هذا التعاون أنا وين كنت red velvet × هذي تعجبني أغانيها وصوتهاellie goulding☻☹ بالصدفه وانا ادور عنه…',\n",
       " 'لا يوجد رجل يهدي السعادي سواي انا وابوكم 🌚',\n",
       " 'طيحت الأكل من الصحن😂 نزلت ملف فايروس في الجهاز 😂 ماصحيت بدري الصباح 😂 بتساءل اذا فعلا دي تحسب أخطاء…',\n",
       " 'من الحين مضيق خلقي الدوام برمضان 😵 ياليت لو يخلون الدوام الساعه',\n",
       " 'تمام جدا ✋ يعني المرجع هو الدين بس معظم الناس دلوقتي إلا من رحم ربي رايحين ف داهية و مفيش اي التزا…',\n",
       " 'مآ عۧاد لي خاطر اعاٱتب أي ٳاحد ، كلن ع راحتهہ وحي الله من : سأل. . 💔',\n",
       " 'عندما كان الهاتف ☎️ مربوطا بسلك . . كان البشر أكثر حرية 😔 #سہااڕۿ',\n",
       " 'ظروف الوقت 💔',\n",
       " '- تغافلنا كثيرا ، و ظنوا أننا مغفلين.. ✋',\n",
       " 'والله يابوضاري امس اخوك حاله عدوك 😢😢يوم شفت المنظر 🙏🙏🌷',\n",
       " 'رجعولي 💔 ايام ثالث ثانوي 😱',\n",
       " 'الاعجاز العلمي لتشييد طنطا ياجماعة 💔 **م هندسة ع اللي عايز يدخلها',\n",
       " 'هي وصلت لدرجادي 😯 لا الموضوع كدا محتاج وقفه 💔😂😂',\n",
       " 'صباح الصداع 😒',\n",
       " 'كفايه عظمه يا عم الناس بقا 💔',\n",
       " 'هه لا اجري على خفيف 🙈',\n",
       " '#المال_او_الحب صباح الخير 💎☀️🌿❤️ البحر 😴',\n",
       " '، ياخي ليش اللي يفز لهہ القلب .. ثقيل 😴',\n",
       " 'يسعد صباحك ابو تالا ومبروك فوز الزعيم ياخي اشوف العين هذي 👁️ بكثير من تغريداتك ترى مالمقصود؟ 🤔 يمكن جماعة 👌؟',\n",
       " 'ياليت نوهت من قبل 😖',\n",
       " 'الله يرزقنا بواحد مثل عبداللطيف الخلف 💔',\n",
       " '#غيابك_خطف_ابتسامتي وذنبي يا امي ان قلبي يشعر بالجميع ولا احد يشعر بقلبي 💔 #عطور_الاقلام #العراق_للدعم…',\n",
       " '🔴 انتصاب اقوى . ⚪ تحسن القدرة الجنسية. ⚫ تؤخر القذف لفترات مطولة 🔵 تعزز القدرة الجنسية 🚫 تزيد كمية…',\n",
       " 'اووه غيرك كثير 😭',\n",
       " 'أنت في عافية ما سلم لك دينك! معادلة نحتاجها بشدة في زمن الفتن! وصية للأمة في زمن الفتن 💔',\n",
       " 'كل شويه أدخل على بروفيلها وأشوف صورها مع جوزها وأندم 😔',\n",
       " 'تصوير المعجبين لحظه تحقيق حلمي 😔 اول مره القى سلاح البكج',\n",
       " 'انا بعرف ازي اتقل ع حد بحبه لحد مايضيع مني 😒',\n",
       " 'هيا تعال يا نصر 😏',\n",
       " 'مانبش نكسر بخاطركن ، بس سامو واجد للاسف في الدنيا ، فإذا حبيتن نجمع بيكن انتن الاثنين…',\n",
       " '⭕ هذا الخائن لوطنه و عائلته .. هذا الحثالة قام اليوم بسرقة هاتف نقال لامرأة من وسط المظاهرات و زيد جبد عليها الكي…',\n",
       " 'انا اكتشفت ان والله الامتحانات هى ال بتربنى وتخلينى اذاكر..لكن اذاكر م نفسى كده تبقى مهذله 😬',\n",
       " 'و يصييرر اققسسى 😩',\n",
       " 'الفعالية لمتابعيني بس ☹',\n",
       " 'حتى الايتونز خربتوه مو صاحين انتو؟؟ 😭',\n",
       " 'أصلا هذي كلمتى واقولها حق نفسى 😒',\n",
       " 'توني ادري ان شرب العصير برا البيت شي كبير وعظيم 😔',\n",
       " 'رئيسين في يومين قالو الربيع العربي 😒 نحنا الكتاحه الأفريقية',\n",
       " 'لا ابشرك القلق هوا الا معيشنا 😩',\n",
       " '#مسلسل_ودك_يتكرر_برمضان طاش ماطاش 💔',\n",
       " 'كلاكيت تالت مرة اعيط 😭',\n",
       " 'مافي اجازه للموظفين 😑',\n",
       " 'يمهه مم شاءالله العظيمم لاححسدكم على ججوكمم 💔',\n",
       " 'يا آلهي هي البنت اللي قالوا عنها محبوسه بغرفه واختفت 😐 !',\n",
       " 'احد يفهمني شصاير هنا 😭',\n",
       " 'ارموا علي وطني القميص كي يرد له البصر 💔',\n",
       " 'قلتلكم الجمال عنواني محديش صدقني تبا لتواضعي. 🙈',\n",
       " 'إلى متى و المطر يدش لداخل البيت 😢💔 الناس تستانس في المطر إلا احنا نضايق لان يعفس البيت 💔 #المطر #البحرين',\n",
       " 'سؤال برئ لولبي: هو البرلمان -لامؤاخذة- اليمني أو مجلس \" النواب \".. مافيهوش \"نائبات\" ؟!! 🤔 لو الإجابة نعم فالسؤال :…',\n",
       " 'بعد عبدالفتاح في السودان 😒',\n",
       " 'الأسماك بتخاف من المنظر 😔',\n",
       " 'وليه التعب طيب 😐',\n",
       " 'إنه الضجر يا سادة 😐',\n",
       " 'نفسي (أشمط )كل حد لاغي متابعتي بلوك بنص خلقتو 😒 لا والأدهى والأمر إنه يلغي ويتابع ويرجع يلغي ويتابع وهكذا !!🤔 بس…',\n",
       " 'الناس الطبيعية بصداقتهم تقول : احنا مقربين من بعض احنا مثل الإخوان الخ 🔥 باستثناء طبعا سوبر جونيور 🌚 :',\n",
       " 'التيزرات خيخيخيخخي 🙈',\n",
       " '💫 تقدر تحفر بير .. وتسعد ناس كثير!! ✅ بحمد الله وتوفيقه أنجزنا حفر أكثر من بئر لعام 💰 ابتداء من ريال…',\n",
       " 'والله الثلاثة اتفه من بعض العروس كريهة شو يعني لو الام ركبت و العريس دراما حبتين طلقها عشي تافه و الام نشبة و لزقة…',\n",
       " 'صدق اخيرا وصلنا البيت 😭',\n",
       " 'اي الغدر داا 😢',\n",
       " 'لاتقوليها وانا معك ممكن 😢',\n",
       " 'شوفيه وانتي مخروسة 🐸',\n",
       " '#الاتحاد_النصر بإذن واحد احد بنفوز عليكم بالاربعه -4 💛🖤💛🔥 والدوري هلالي💙💙 وبنطلعك من الكأس وتصير نفس خويك بموسم ص…',\n",
       " 'ما هو بردو مكنش ينفع أخلص غيابي ف أول الموديول 😭',\n",
       " 'بإذن الله فائزين مع أنها مباراه بتكون قويه وفوزنا بشق الأنفس الله يستر بس 😟',\n",
       " 'مباريات #الهلال القادمة ⚽ الأهلي × الهلال 🏆 كأس زايد 🗓 الإثنين أبريل 📌 ملعب الجوهرة ⚽ الهلال × التعاون 🏆 الد…',\n",
       " '⛔ مافي فض اعتصام قبل توجيه تجمع المهنيين يا سودان ⛔ مافي فض اعتصام قبل توجيه تجمع المهنيين يا سودان ⛔ مافي فض اعتصا…',\n",
       " 'أنا حتى المويه و هو سر الحياة أنسى أشربه 😐&gt; و تجي انت و تقول لي : ليش ما تسأل عني 😕 !!',\n",
       " 'ذي سوسن دموي ويشبه نبته الزنجبيل 🤔',\n",
       " 'يمكن يعطوهم اجازة يوم الاحد 💔',\n",
       " 'صباح الخير هل انتم على قيد الحياه 🌚',\n",
       " 'معقولة الكلام الكبير هذا يطلع من ناصر القصبي 😳 إللي مايعرف يجمع كلمتين على بعض في أي مقابلة تلفزيونية وتخلص المقابل…',\n",
       " 'وصلت لمرحلة لا تطاق من الجمود في التعامل مع الناس و اللامبالاة بمن حولي 😳',\n",
       " 'صغاري لقد نجوتم من الحرب لكن الموت يرفض ان يترككم ارقدو بسلام .. 😢 #عطوره💕 #شوشو💕',\n",
       " '📌 بسبب الأحوال الجوية تقرر تأخير امتحان المنتصف لمقرر: الثقافة الإسلامية ليكون: الفترة الأولى: من إلى . ال…',\n",
       " 'شونو هوينق 😭',\n",
       " 'للأسف البشر وايد والكلاب شويه 💔',\n",
       " 'اند ديسلايك بموت ضحكك',\n",
       " 'أسوء لحظة ممكن تمر عليك لمن تخلص الدلة 💔 #حزن',\n",
       " 'واعلم أن امك تحبك كثيرا ❤️',\n",
       " '#النصر_الاتحاد توقع نتيجة مباراه #النصر_الاتحاد الجائزه ريال 💵 لصاحب التوقع الصحيح 🔴 شروط المسابقه ✅ متابعه ا…',\n",
       " 'لما كنتوا تشتروا كل وحدة بكيتين شيبس إنت وبراءه وأنا وإيمان نتطلع ونتحسر 😂 ونترجاكم تعطونا منهم 💔',\n",
       " 'ابد سلامتك بس البارحه كنت في محايل ولاحظت كانها طائرتين بدون طيار بالسماء 😶',\n",
       " 'تكفون افعلوها 😭',\n",
       " 'و نحن ليش منهم ولا لا؟! 😥 ليش بعد ما يعطونا إجازه ترا بعد ارواحنا غاليه😭💔',\n",
       " 'حتى الايتونز خربتوه مو صاحين انتو؟؟ 😭',\n",
       " 'لا تخافي على نفسك من رجل يعشق أمه ✋ فمن يقدر إمرأه خلق في أحشائها ، لا يؤذي إمرأه يحبها ❤️',\n",
       " 'أحس فيسه تعبان 💔',\n",
       " 'يكفيني انك من هنا مريت وخطواتي مرت فوق خطواتك سلمت لو ان انت مارديت روحك معي لو مامعي ذاتك 💔',\n",
       " 'بفكر اشتغل معيده بعد الضهر 🤔',\n",
       " 'ربي يحميكم 😔',\n",
       " 'رغم أن أغاني رابح ماتعجبني بس هالأغنية غير❤️',\n",
       " 'بالعكس والله دانتي ارحم من ذا الزق ، بس مشن عالق فيه اذا عندك اي نصيحه في ذا المشن عطنا 😞',\n",
       " 'قنعتني عنجد 😐',\n",
       " 'وحده تقول أول ما تزوجت كنت أستحي ألبس شورت قدام زوجي وتقول جتني فكرة ألبس تحته شرابات طويلة إلى الركبة عشان أرتاح ش…',\n",
       " 'خلاص نسحبها 😖',\n",
       " 'يمدي اخذلي غطه للعصر 🤔',\n",
       " 'إذا أردتي هجراني فاهجريني في أي شئ إلا رسائلك 💔💔 كانت لي الملاذ كانت لي الخلاص والبعد عنها عذااب حتى لو لم تعودي ت…',\n",
       " '⛔ مافي فض اعتصام قبل توجيه تجمع المهنيين يا سودان ⛔ مافي فض اعتصام قبل توجيه تجمع المهنيين يا سودان ⛔ مافي فض اعتصا…',\n",
       " 'رئيسين في يومين قالو الربيع العربي 😒 نحنا الكتاحه الأفريقية',\n",
       " 'وات ذا f .. اش الي صاير في اخر صفحه 😱 بس صراحة حبيت القتال ..…',\n",
       " 'يااخ الحمد لله الفف 😭',\n",
       " 'المفروض اصحابنا قبل ماينامون يسألونا اذا قادرين نواجه الليل وحدنا أو يسهرون معانا :(',\n",
       " 'فيه شخص لما يغيب عنك تحس نفسك فاقد وطن أكثر من كونك فاقد شخص، تحس إنك غريب بدون وطن ..! 💔',\n",
       " 'فتمنى هو المطر 😴',\n",
       " 'تلاتين سنة بترقص .. الليلة رقصتنا أنا ببكي 😭 دي حلاوة شديدة باخ',\n",
       " '⛔ مافي فض اعتصام قبل توجيه تجمع المهنيين يا سودان ⛔ مافي فض اعتصام قبل توجيه تجمع المهنيين يا سودان ⛔ مافي فض اعتصا…',\n",
       " 'تحذير للبنات 🚫 ✋ تيريزا لينش تبلغ من العمر سنة، أصيبت بالعمى بسبب إستخدام ماسكارا لأكثر من سنة و كانت تنسى بع…',\n",
       " '#محمد_عبده_جلسه_الرياض هل أنت ب حاجه إلى رتويت حقيقي ✴️ وبشكل يومي لتغريداتك؟! 🔃 📍 أكثر من رتويت للتغريده ا…',\n",
       " 'قلبي يتعب ترا تاتا 😔',\n",
       " 'كون مرره حبييب 😭😭',\n",
       " 'وضعي بس قرأت المنشن الاصلي! حقها ما تفهم شي 😂',\n",
       " 'هه نتشرف بس ليش 🤔',\n",
       " 'هه حسبي الله فال الله والا فالك 💔',\n",
       " 'الحمدالله على نعمة المنامة والبديع 😫',\n",
       " 'عظم الله اجرش خيه .. آخر الأحزان ان شاء الله 💔 ربي يرحمها برحمته الواسعة .. ويجعلها مع زمرة محمد وآل محمد',\n",
       " 'تكفى والله همين هم الفاينال وهم الاتحاد 😞',\n",
       " 'طب ونا 💔',\n",
       " '#يوم_الجمعه إن الصلاة على النبي الحبيب لنعمة فيها من الأجر الكثير فأكثروا منها **اللهم صل وسلم وبارك على نبينا…',\n",
       " 'الدنيا بالعكس والله ماادري ليش 🤔',\n",
       " 'شعور أنك وحيد وأنت عايش بين أهلك شعور متعب جدا 💔',\n",
       " '#ناديتك بصوتي وصوتي #مايجيب #الصوت هو اللي #خذلني #وخذلك . #مساءالورد . 😴 #ᏠᎯᏰᎨᖇ_ᎯᏝᏲᎯᖇᏰᎨ',\n",
       " 'تلاتين سنة بترقص .. الليلة رقصتنا أنا ببكي 😭 دي حلاوة شديدة باخ',\n",
       " 'نفس مرضي 😢',\n",
       " 'ضحكت ومتت قهر بنفس الوقت لأن تخيلت نفسي بداله 💔 والذيول الإمعات يركضون يتلوكون الى ايران ويجمعون تبرعات وبودولهم وه…',\n",
       " '😒 تخلي الزوجج حلها..انبلغتت هي و نيتها الخايسه',\n",
       " 'لا تعليق 😢',\n",
       " 'ودي اجربه :(',\n",
       " 'العشق جميل لكن الاشتياق صعب 💔',\n",
       " 'واحد نايم في محاضره في اكتوبر 😪',\n",
       " 'هم وانزاح 😓',\n",
       " 'عندما كان الهاتف ☎️ مربوطا بسلك . . كان البشر أكثر حرية 😔 #سہااڕۿ',\n",
       " '😬 هذي مراحل نموك',\n",
       " '..🌸🌸.. مانسيتك لو تمر اربع فصول كيف بنسى واحد في مستواك💔 ..🌸🌸.. 😢',\n",
       " 'جدا بس للاسف كنت اذاكر شوي 💔',\n",
       " ': قبل رمضاان ..2019/1440 أنا اسف .. إذا زعلتك أنا اسف .. إذا جرحتك أنا اسف .. إذا ضايقتك أنا اسف .. إذا ظ…',\n",
       " 'حتى الايتونز خربتوه مو صاحين انتو؟؟ 😭',\n",
       " 'ولا درهم ينصرف عليهم منكم بعييدين عن الفوضى عشان جي كل سنه يكونون ابطال ✋',\n",
       " 'ما نقبل بسكوت بس نقاط 🌚',\n",
       " 'كأنه يدرون نقطه ضعفي 😱',\n",
       " 'للاسف النصيب 💔',\n",
       " 'لعب فينا البعوض 😤',\n",
       " '#وش_يقول_الليل يقول مسكين اللي مو ضايفني 😭',\n",
       " '#يقول أن كل #الفتيات ثمنهن #رخيص .. #فسألتة عن ثمن #أخته ف/ تعصب #الشريف .🙊~! من أقوال جارتي العجوزة 😴',\n",
       " '#المال_او_الحب هل أنت ب حاجه إلى رتويت حقيقي ✴️ وبشكل يومي لتغريداتك؟! 🔃 📍 أكثر من رتويت للتغريده الواحدة…',\n",
       " 'يوصي عليها يوم صارت نصيب الغير حدته الظروف العوج عنها وخلاها 💔 بنت الرجال',\n",
       " 'بكفي الناس الي عرفتهم وأصلا معرفه الناس هالأيام خخرا 🌚',\n",
       " 'كلمات مترجمة 🌎 - - - - Confident 😟 وتعني = واثق وتنطق = كونفيدنت - - - - Confused 😕 وتعني = مرتبك وتنطق = كونفيو…',\n",
       " '🔴 شاهد | الشاب #إسلام_عطية يبكي 😢 خوفا على مستقبل الشعب و #الجزائر. #حراك_12_افريل #يتنحاو_ڨاع',\n",
       " 'في عهد MBS البذائه = الشرف. 🤔',\n",
       " 'ليتك جايه والله كان المباراة ما تهمني 😭',\n",
       " 'ترى بعض الرجال لو على كيفهم يبونك تقومين الصبح تسجدين له سجدتين وتقومينه وانت تبوسين رجلينه واذا راح شغله تقرين كت…',\n",
       " '🕊🕊 💥 \" لو كنت أضن إن كل الطيور تهاجر إليك💥 🕊🕊 لكنت كتبت على كل ريشة أشتقت إليك. 💥🕊💥 \"',\n",
       " 'هذا المطيويع وهذي تغريداته تعصب وكراهية .. ياصبر الدنيا عليك 😤',\n",
       " 'الموسم السابع للاسف دمروا شخصية تيريون حتى الحوارات بهذا الموسم اختفت مو مثل المواسم السابقة 😭',\n",
       " 'نحن شو وضعنا دوام ولا اجازه 😔',\n",
       " '📍 - #تذكير_اليوم - 📍 يوم الجمعه اجازه وراحه من.. الرتويت الاجباري.. ٰ والتبادل ودي بين الاعضاء.. من الساعه :0…',\n",
       " 'كلنا محتاجين كل فترة نتأسف لنفسنا بجد عن سوء إختياراتنا وعن العشم الى مكنش فى محله, وعن نظرتنا فى قرايب صحاب حبايب…',\n",
       " 'صراخ حرمه مو ولد 😭',\n",
       " '💚🍃🌷📿 🥀 🥀 من السهل أن تضع يدك على فمك كي لآ. تتكلم ولكن من آلصعب أن تضع يدك على قلبك ك…',\n",
       " 'جد بالله فكرته سعودي 😐',\n",
       " 'يا #هديل_الهشلمون ارعبتي بنقابك من رصاص بن صهيون الخوف ما انتابك يا حرة لا ما يهون دمك ع حجابك💔 منا العهد ما نخو…',\n",
       " 'هجوم 🆚 دفاع Ⓒ 📍 #RMCity',\n",
       " 'حلمت ان النصر والاتحاد متعادلين 😕 #النصر_الاتحاد',\n",
       " 'انت همجي وبتنتمي لتحاد كورة حرامي و لو احنا في دولة محترمة هيكون مكانك انت وامثالك السجون يا فاسد…',\n",
       " 'بنشكر الله انو القلب عضلة مو عظم .. بضل التعضيل ارحم من الكسر 😔',\n",
       " 'أنا اطالب تجمع المهنين بي انو يضيفو ناس الكهربا للسته البل و يتحاسبو زي ناس بشه واحد 😒 ديل تحسهم بهتفو لينا :سقطت…',\n",
       " '~ أما تدعى ربك بحاجة كتيير وبعد فترة من الوقت تحس أن خلااص اقترب الوصال..اقترب الحلم 😍 لكن فجأة…',\n",
       " 'توي ادري المبتدا والخبر ثنينهم اسماء 😐',\n",
       " 'وفجأه كذا وبدون انذار جالسه ابكي :(',\n",
       " 'قضتا 😴 نوم 😴 وكب سم 🐍 عالناس الشغالة وصلت للامتحان وها هي تهان فاشلة',\n",
       " 'ام بلوزه حمره هذا انا 😐',\n",
       " 'أصبحت والشوق يحدوني إليك، ودمعي شاهد، وفؤادي فيك مشتغل يا \"طيبة\" الحب ضميني إليك؛ عس…',\n",
       " 'ع عمر البشير ع عوض ابن عوف ع عبد الفتاح برهان ما ملاحظين؟ 🌚',\n",
       " '#طرف_علم لجنة المنشطات قد تصدر بيانا رسميا بخصوص عينه إيجابيه لأحد اللاعبين في دوري المحترفين (!!) .. والله أعلم ✋',\n",
       " 'حدثوني عن الاشتياق أحدثكم عن روح دفنت تحت التراب ولم تفارق روحي أبدا اللهم ارحم كل عزيز وغالى فقدناه 💔',\n",
       " 'هو اسمو عبد الفتاح و كمان عسكري 🤔 والله الوضع ما مطن ، للضمان كده اسقطوهو و شوفو البعدو',\n",
       " 'فرحتي قربك ولو حولي كثير 🥀',\n",
       " 'بنشكر الله انو القلب عضلة مو عظم .. بضل التعضيل ارحم من الكسر 😔',\n",
       " 'انتي نايمه ب الميكب 🤔',\n",
       " 'والله أغنية رائعة وجريئة وفعلا موجودة بمجتمعنا العربي وبشكرك كتيير لأنك فتحتي هذا الموضو…',\n",
       " 'نامجون هنا يجنن وربي احلى لقطة بالامفي هي حقته 😭',\n",
       " 'وي عندك حق بصح موش بيدي 😑',\n",
       " 'حنا وش بلانا غير يومك تطوعت 💔',\n",
       " ' تربعوا على صدارة الدوري  #مؤلمه 💔',\n",
       " '#تجمع_المهنين_السودانين_يمثلني ويمثلكم كلكم 😠',\n",
       " 'الحين تأكدت ان كل بلد وله ثقافته وتأثيره عالشخصيات عشان كذا كل من يروح لأمريكا يصير مره فله حبتين 😩',\n",
       " 'حتى الايتونز خربتوه مو صاحين انتو؟؟ 😭',\n",
       " 'ورد عايزه تنام 😴',\n",
       " 'ممكن صورة الأم 😕',\n",
       " 'نرشد ألتأئهين ولأ نعرف کيف نغأدر ألمتأهه ✋',\n",
       " 'استماعات بوي وذ لوف الف 😭',\n",
       " 'كسرة القلب 💔مفهاش أسف ولا معلش ،، مفيش حاجه بتتكسر بترجع تتصلح ،، عمرك شوفت ميت رجع بيضحك من الموت 💔',\n",
       " 'ارى سحابة فتنة اتية فى الافق.. 🤔',\n",
       " 'عام ماما: كيف تعرفتي على بابا..!! 😬 يي يقبر قلبي كنا عم نلعب PUBG😁👌💔 وكان معي بالفريق وصار في إشتباكات 🔫🌚 وا…',\n",
       " 'جتها الولادة وراحت الحمام تحسبه منحشرة وأثر الولادة مقربة وطاح في الفرنجي!! 😱😲😱😲😱😲😱😲😱 😲',\n",
       " '💚🍃🌷📿 🥀 🥀 من السهل أن تضع يدك على فمك كي لآ. تتكلم ولكن من آلصعب أن تضع يدك على قلبك ك…',\n",
       " 'هالمسلسل حطم كل الارقام القياسية للمتابعة مسلسل رائع بس كل سبت ليحطوا حلقة جديدة 😤',\n",
       " 'هادي انا 😔',\n",
       " 'يعع يالريحه اصص 😷',\n",
       " '😞😞بيقولك خبر #عاجل تحطم أول سفينة فضاء إسرائيلية خلال محاولة هبوطها على سطح القمر 🌚 حتى القمر رافضكم يا مغتصبي الأو…',\n",
       " 'بعد مامر نصف العمر كنه ضجيج أطفال بقى نصفه اللي دلته مابعد فاحت على راسي اللي رغم ميل الدهر مامال سحابة حزن تمطر من العام ما_أنزاحت 💔',\n",
       " 'الرجولة ليس لها شأن بالقسوة ع أنثى..بكسر قلبها. الرجوله لطف ولين وتقدير وحكمة 💔',\n",
       " 'مسساء الخير 🥀',\n",
       " '- لتذكير 🛑 اليوم اخر يوم ل إستقبال مشاركاتكم و السحب غدا بأذن الله في انستقرام #فايز_آل_عمر 📌 #همثون78 |…',\n",
       " '⛔ مافي فض اعتصام قبل توجيه تجمع المهنيين يا سودان ⛔ مافي فض اعتصام قبل توجيه تجمع المهنيين يا سودان ⛔ مافي فض اعتصا…',\n",
       " 'وضع الهلال يستدعي انك تفرح اليوم وتدعس اي طحلب قدامك لانك ماتدري وش بيصير بكرا 🐸',\n",
       " 'طراقق !! 😒 حركتي هذيي',\n",
       " '#السودان مطبوخة من يد طباخ ماهر 😒',\n",
       " 'گله حااجه قضااء وقدر وربناا مش ليه سبب او حگمه واحده بس ليه اگتر م سبب وحگمه گفايه اقسم بالله اني اتعرفت ع نااس ز…',\n",
       " 'اخخ يا حالي الحزين ! 😔',\n",
       " 'فلس طيني قذر ليس شئ جديد ولاقديم قذرين و تبقون قذرين إلا من رحم ربي لولا الله ثم #الدعم_السعودي لقضيتكم لأكلتكم إس…',\n",
       " 'سؤال محيرني 😵 نهر دجلة والفرات منوو الحفرهن ؟؟😁',\n",
       " '😐 يعني ما ننزلها',\n",
       " 'يا اخوانا و الله لسة مطالبنا ما أتحقق منها غير مطلب واحد .. عليكم الله الناس ما تتخاذل 💔',\n",
       " '🤾🏻\\u200d♂ نتائج | #الدوري_الممتاز_لكرة_اليد ⚪ الدور النهائي - الجولة 📌 مجموعة تحديد المراكز من إلى 🏁 نهاية الم…',\n",
       " 'قاعدة اقرأ كتاب ممل و سخيف بس مضطره أكمله لأني ما أحب اخلي الكتاب بدون تكمله 😕',\n",
       " 'صدقة جارية لوالدي الله يرحمه ويغفر له ويسكنه فسيح جناته 💔',\n",
       " 'بعيد عن حلاوتها 😭 ليهه مافلت شعرها كنت متأمله اشوف شعرها مفلول 😭😭 جايني شعور زق يقول شكله حتى بالعوده الجايه…',\n",
       " 'اكره شعور لما اجلس اقنع نفسي ان الشي عادي ومايزعل وهو جالس يوجع قلبي 😔',\n",
       " 'لا ترضى بالنصف وأنتي تستحقي التمام ، و لا تقبلي بأن تكوني الاختيار وقت الفراغ ، كوني المحور أو كوني العدم ✋…',\n",
       " 'انا لم أرحل .. ولكن انتي من أطفأ النور بداخلي فتلاشيت 💔',\n",
       " 'ٲليس من العيب ان تحفظ كل الأغاني .. وتكرر نفس السورة في كل صلاة .. 💔',\n",
       " '🥴 وش فيك تراه نوع الخط خلاه كذا ،، لا يفتر رأسك 😒',\n",
       " 'واحنا الشوارع عندنا تبكي من الجفاف 😔',\n",
       " 'جدتي .. لازلت أراك في وجوه المسنين .. لازلت أبحث عنك بين تلك التجاعيد .. لازلت أشتاقك كثيرا 💔',\n",
       " 'باجر عندي ميدتيرم وماني يم الدرس 😫 بنجن ابي انجز بالماده مو قادرة',\n",
       " 'أنا والله مش كارهك ومش ناوي أكرهك أبدا عقابي مش ف إني أكره / عقابي ف إني ماكرهكيش أشوفك زي كل الناس 💔\\r\\n0\\tالفار 🐀 في عهد خليل جلال 😲\\r\\n0\\tاجل قاتل الطعم 💔\\r\\n0\\tقبضوا امنجي في في نقطة تفتيش معاه مسدس و قيل مسدسين مافي اي هجوم حصل حركة بتاعت جري بدون سبب و خوف المهم الدوشكا ضر…\\r\\n0\\tمن #حقك ان تغيب 😔 ولكن ليس حقك أن #تعلقني بك ثم تتركني #وترحل\\r\\n0\\tبدلة تشانغمين تشبه بدلة يونهو الي لبسها بحدث نيسان الفرق بس القميص 🤔\\r\\n0\\t💔 إكليل الغياب💔 قد يطول ليل الألم ولكننا على ثقة أن ظلام الليل يعقبه صباح تشرق له الدنيا ويغشى الارواح من ف…\\r\\n0\\tيا اخوانا و الله لسة مطالبنا ما أتحقق منها غير مطلب واحد .. عليكم الله الناس ما تتخاذل 💔\\r\\n0\\tأستاذ محمد ، ماشاء الله ليت في منك اثنين واحنا بخير .. شكرا لك فرحت قلبي :( ♥️\\r\\n0\\tياربي مالي نفس اذاكر 💔\\r\\n0\\tشاهدوا الفيديو لنهايته لتعرفوا ما هو القاسم المشترك بين الفنان أياد راضي\" بأحد ادواره والسيد #صالح_المطلك عندما قا…',\n",
       " 'تحتاج خويي ؟! بفزع معك ونضبط مستقبلنا مع بعض 💔',\n",
       " 'واقع مر❤️ حطيت لك حد لا انتي ولا قبيلتج تقدرين عليه 😏',\n",
       " 'تخيل حفلة بمنطقة مكة المكرمة استلمت #MariahCarey 🕋🇸🇦 #ماريا_كاري مليون دولار مقابل غناء ورقص لمدة ساعتين.. علش…',\n",
       " 'بصحتك شي يضرب السفنج وشي باقي بلا فطور 😭',\n",
       " 'وبحب الناس الرايقه 😂😂 اللى بتضحك على طول 🤗 اما العالم المضيقه 😟 فنا لاء لاء لاء لاء 🕺🏻🕺🏻',\n",
       " 'ذاكرري يابزره 😡',\n",
       " 'والعبادات ليست ثقيلة، ولكن القلوب حين خربتها الذنوب .. أثقلتها 💔 فاستغفروا ..❤️',\n",
       " 'تدرين وشي المتعه حبيبتي؟نمسك اقرب زاويه وادخل من من تحت العبايه وانزل سروالك بشويش وادخل وجهي بين فخوذك واتنفس دبد…',\n",
       " 'من يقوله ؟ 😓',\n",
       " 'بسم الله 😭',\n",
       " 'حتى الايتونز خربتوه مو صاحين انتو؟؟ 😭',\n",
       " '#اخدود_الفيض٢ #منخفض_الفيض ليش تعليق دراسه اتى قبل نزول الامطار !؟ ع الاقل شوفو الوضع لحد الليل 😐',\n",
       " 'ٲليس من العيب ان تحفظ كل الأغاني .. وتكرر نفس السورة في كل صلاة .. 💔',\n",
       " '_⛔ #مناحل_ابو_سلطان . . 🍯 اقسم بالله انه عسل 🍯 . . . ⛔ سدر طبيعي ♨️ . . ⚠️ مضمون…',\n",
       " 'والله ودي بس راح أكون في المطار 😢',\n",
       " 'قبل موت الإنسان ب يوم ينام كثيرا ، ينسى كثيرا ، يسرح كثيرا ، ويشتاق 💔 للماضي انتم بماذا تشعرون..؟! #زعيم_تويتر_فولورز_الجمعه',\n",
       " 'والله زعلانه زعل يااخ كان مقفل معاي 💔',\n",
       " 'قبل ما انام 😴',\n",
       " 'محزن هالعمر الي ضااع 💔',\n",
       " 'أنت مدان كونك مسلما أي تهمة أشرف من ذلك ؟! حسبي الله ونعم الوكيل 😔 #حادث_نيوزيلندا_الارهابي',\n",
       " '#الهلال ب مدافع و محاور سوال ل الكوتش #زوران الفريق اللي ناقص لاعب مين ؟؟ 🤔 #الاهلي_الهلال',\n",
       " 'انقنا مرضني cns يا راجل 😐',\n",
       " 'الحياة مجرد صفحات نحن من نروي القصص فيها.. 🍁 #تايه 💔 #اجمل_احساس_للدعم',\n",
       " 'اضحك لان خطر علي الموقف 😭',\n",
       " 'فيديو مؤثر 💔 كي لاننسى ،، ولن ننسى ولن نغفر ،، نريد القصاص ، ماعايذين تخازل في اهم اللحظات الحاسمه ،، دمهم غالي ،…',\n",
       " 'ما جور والسلامه 😒 تهبا اذا انت يامي اليامي ما يغلط على الرجال ويتلفض عليهم عيب عليك',\n",
       " '💔 زلة غرام 💔 الله من قلب ن إنقسم نصفين 💔 نصف ينزف نصف ثاني أقسام💕 عزااة ياحال كله حزن وأنين💔 ويلااة ياعمرن…',\n",
       " 'ترى قاعدين نشوف مرسيديش وشوي رياض 🌚',\n",
       " '*هذا هو الهلال إذن بكل بساطة : إنتظار هدايا من الحكم أو من الحظ : طرد لاعب الأهلي والتغافل عم طرد البريك اللي يستاه…',\n",
       " 'قبضوا امنجي في في نقطة تفتيش معاه مسدس و قيل مسدسين مافي اي هجوم حصل حركة بتاعت جري بدون سبب و خوف المهم الدوشكا ضر…',\n",
       " 'الالبوم بينفجر سعادة مثلي تماما 💔 #BLACKPINKxCoachella_D1',\n",
       " 'ماعلى كتف الاياام راحه .. الراحه على كتفك انتي :(',\n",
       " 'لنا الله 💔',\n",
       " 'انا من الصعيد 😔',\n",
       " 'تركي ال شيخ معقولة عندا هيج مكانية ؟!! ويكتب اغاني 🤔',\n",
       " 'عامي سعيد بقربك والله :( 💓💓',\n",
       " 'اول مره انزله والله دانا هموت وانزله لحد من زمان 😪',\n",
       " 'واحد راح لعند رفيقو وقلوا قاصد الله وقاصدك$ قلوا : خير ؟؟ 🙄 قلوا : بدي ألف دولار 🙈 قلوا : كفي لعند الله 😂😂',\n",
       " \"اتمنى من الغريب العرفني على attar's music يكون بخير و سعيد .. بحاول اتذكر ال حقو لي سنتين 😔\",\n",
       " 'اذا نمت وقمت وتذكرت مباراة اليوم 💔 #الاتحاد_النصر',\n",
       " 'اذكري الله 😒',\n",
       " 'على فكرة 🤪 كل ما كبر الأمل 😏 بيكبر الخازوق معو 😂😂 #المتيم',\n",
       " 'يلي ماشافني وأنا معصبة 😒 فليسجد لربه 😉 شاكرآ .. حامدآ..شاكيآ..باكيآ.. تائبآ ..😂🙈😂🙈 #نجوم_العالم_للدعم',\n",
       " 'الشعب مربي و الدولة خاينة 💔 #حراك_12_افريل #يتنحاو_ڨاع',\n",
       " 'اذكري الله 😒',\n",
       " 'الأيام ثقيلة بما يكفي ، تفوه بكلمات لطيفة أو لا تقل شيئا 💔',\n",
       " 'للبعيدة جدا.. للتي لن تصلها كلماتي ولا صوت بكائي للتي غادرتني دون ترتيب ودون موعد مسبق.. لأمي الحبيبة 💔 اللهم…',\n",
       " 'للتوضيح بس ياجماعه ✋ أنا لست الشخص المناسب لأحد .. انا مناسبه للاكل فقط 😂😂',\n",
       " 'كسرنا رقم تشين 🤟🏻 بانقتان عندهم الف مستمع ب ساعه في ميلون فقط',\n",
       " 'بدء العد التدريجي للعزلهه 💔 .',\n",
       " 'الله لا يبلانا مابلاك 😷 حبيت اذكرك تراء ذاء مسلم يعني اخوك ومايجوز تدعي على اخيك المسلم 😡',\n",
       " '/4/12 - الاتحاد يتوج بطلا للدوري. /4/12 - الاتحاد مهدد بالهبوط. رأيت الدهر مختلفا يدور .. فلا حزنا يدو…',\n",
       " 'الأجواء الآن علينا في شمال الرياض🌧🌧 صوت الرعد مره 😢',\n",
       " 'الأسر العربية ترى ان البنت ملكية لهم و حياتها و قتلها قرار راجع لهم 💔',\n",
       " 'ان شاء الله تحسون عاد 😂:) 💔',\n",
       " 'أتمنى تكون بخير 😞',\n",
       " 'بس يلا بعدنا بيهاا هاي العشره خل ننهيها 😏',\n",
       " 'تعطيل الدوام يوم الأحد لجميع المدارس عدا ظفار والوسطى.. عقبال الوزارات.. 😶 #منخفض_الفيض',\n",
       " '🌷 صباح الخير .. ❗ 🔸الله أكبر 🌻 🔹الحمد لله 🌧 🔸سبحان الله ☔ 🔹لا اله الا الله 🍀 🔸لا حول ولا قوة الا بالله 🌽 🔹استغ…',\n",
       " 'ابي شوسي 😣',\n",
       " 'أصبحت سلوكيات من ضيع ثقافته ليحاول ان يكون ندا لثقافتنا عن طريق الترويج لثقافات اخرى معروفه ومعلومة للكل ، استوقفت…',\n",
       " 'حتى الايتونز خربتوه مو صاحين انتو؟؟ 😭',\n",
       " 'اخوه توفى بحادث و قعد يغني له هالبيتين كل شوي 💔 الله يرحمه ويغفر له',\n",
       " 'اسوء حالات التعب هو التعب من غير مرض! !! ممكن تتعب من مشاكل جواك محدش حاسس بيها أو كلام مش قادر تقوله او مينفعش تقوله 💔',\n",
       " 'إرحل من أول كذبه يكذبها الشخص عليك ، إرحل من أول غياب و لا تعود حتى و إن عاد ، إرحل من أول خيانه و لا تغفر ، لا تسب…',\n",
       " 'طالبة ثانوى بصدر رهيب ولا اروع: كبلز شفشفه ديوث متحرره عاهره 😡 إبريل :41:44 صباحا',\n",
       " 'شقرا عليها محنه: خلفي ديوث مكوة سحاق سالب 😫 إبريل :37:17 صباحا',\n",
       " 'ٲليس من العيب ان تحفظ كل الأغاني .. وتكرر نفس السورة في كل صلاة .. 💔',\n",
       " '#اشراقة_اليوم تغيب الشمس وتشرق شمس العالمي وتنور ليل عشاقه 💛💙 لبى النصر و لبى عشاقة 💛💙 💛💛💙💙 #الاتحاد_النصر…',\n",
       " 'لگ الحمد ربي حتى ترضى 💜😭 \\u2066🇾🇪\\u2069\\u2066🇾🇪\\u2069\\u2066🇾🇪\\u2069\\u2066🇾🇪\\u2069\\u2066🇾🇪\\u2069\\u2066🇾🇪\\u2069\\u2066🇾🇪\\u2069\\u2066🇾🇪\\u2069\\u2066🇾🇪\\u2069\\u2066🇾🇪\\u2069 وأشتقت لگ شوق الضميان للماء ونور الكون برجوعگ…',\n",
       " 'فعلا تشين يستحق انه يفوز 😭 #BeautifulGoodbye1stWin',\n",
       " 'مسلسل صدق الله العظيم والبخلاء 😩 #مسلسل_ودك_يتكرر_برمضان',\n",
       " 'كملت ساعه و انا مواصله 😢',\n",
       " 'سرقة غيمتنا الرياض 💔',\n",
       " 'ونهايه الترم تصيح عندنا 😔',\n",
       " 'خلاص لا تجادل 😤',\n",
       " 'كفايه إيميلات بقي والله حرام 😥',\n",
       " '-أفي ذي طوى،أنت أم برضوى..؟ 💔 #ندبه🍂',\n",
       " 'أصبحت سلوكيات من ضيع ثقافته ليحاول ان يكون ندا لثقافتنا عن طريق الترويج لثقافات اخرى معروفه ومعلومة للكل ، استوقفت…',\n",
       " 'معقول أهل الشمال بصدقو الحريري هالمرة 😏',\n",
       " 'يارب لم يبقى لدي القوه 😢 . فبعزتك وجلالك أوكلت أمري إليك 🙏',\n",
       " '#الهلال_الاهلي باولو دياز ! نوح الموسى ! عبدالله غريب ! والأهم ديجاجنيني !! كلهم دكه ؟ افا بس يا طحالب !! 🙈',\n",
       " '#رغم الصمت #الذي نمارسه 😷 #إلا أن في #قلوبنا كلمات 😞 #لها أصوات #عالية تزعجنا #نحن فقط 💔',\n",
       " 'شكله بيقزر اليوم كله بوبجي لين ادوخ وانام 🔪',\n",
       " 'الله يسامحك 😬',\n",
       " 'أستغفر الله وأتوب إليه',\n",
       " '#صوت_المطر ل بابا 💔 مانسيتك من دعائي والدنيا مطر دعيت لك بالمطر كثر ما فقدتك 😭 يارب…',\n",
       " 'اتمنى يطق مطر باجر الصبح عشان اداوم بمزاج حلو :(',\n",
       " 'هفضل لحد امتي بصحي الصبح في ايام الأجازة 😭',\n",
       " 'الحل سري للغايه 🔪',\n",
       " 'حسن 💔 اتمنى منك تتثقف وتفكر وتحلل وتنتقد',\n",
       " 'قآلو ليش أأنت #طيب مع گل هآلنآس ♔ قلت و أيش #عندي عشآن #آتكبر *❌✴ 🔱 ✔#گلنآ مخآليق ألله ورب',\n",
       " 'الشغل مش ف العدد ساعتين كفايه ✋',\n",
       " 'جاي تراضيني ولا جاي تبكيني ؟ :(',\n",
       " 'نضتي بدري😂 كنت بنرن عليك 🌚',\n",
       " 'حاجة تسد النفس 😒',\n",
       " 'وربي انا اموت اذا ماكتبت كلمة بموت بكل سالفه 😭',\n",
       " 'اقلك.. مشتهية الفرنش كوفي حقتهم و مستحية اقولهم 🙈',\n",
       " 'النت عندي خيخه ماشفت بث الصبحان 💔',\n",
       " '-اول اشي امه خرية لأنه ما كان فارق معها تنكد على ابنها بعرسه بس عشان تثبت انها لسا مسيطرة على الوضع -العروس خرية أي…',\n",
       " 'جميل لكن ما هو الاسروا 🤔 والعبارة في الأسفل أيضا غير واضحة',\n",
       " 'هو موقف واحد كفيل بأنه يخليك تحط نقطة نهاية لعلاقة لناس معينة 😑',\n",
       " 'حرام عليك هذه هابطه 😢',\n",
       " '👍🏼👍🏼👍🏼👍🏼👍🏼👍🏼👍🏼👍🏼👍🏼👍🏼👍🏼👍🏼👍🏼👍🏼👍🏼👍🏼👍🏼👍🏼👍🏼حقا حقا ما كتبت 💔',\n",
       " '_⛔ #مناحل_ابو_سلطان . . 🍯 اقسم بالله انه عسل 🍯 . . . ⛔ سدر طبيعي ♨️ . . ⚠️ مضمون…',\n",
       " 'انتظرك ولازلت متمسك فيك وغيري للأسف فيك يقهرني 💔',\n",
       " 'لااعلم من اين ابدأ لكم يازعماء لكن مااقول الا الله يصبركم على تخبطات زوران ( الله يستر من اللي جاي ) 🤔',\n",
       " 'المفكرالشيعي التافه #غالب_الشابندر يحذر من دخول #المملكة_العربية_السعودية لإعمارالعراق ⁉️ لكن ماهو سبب خوفه ❓ يخا…',\n",
       " 'شعور انك تكون ف اجازة ومن كثر الاشياء الي تبي تسويها و ما تسوي ولا شي منهم ف الاخير 😑',\n",
       " '#زلزل_الملعب_نصرنا_بيلعب #النصر_الاتحاد - عبدالرزاق حمد الله بعد مباراة الهلال قال كلمه للتاريخ : ( إذا ماتثق في…',\n",
       " '#الاتحاد_النصر اي هلالي فاضي يجي يكوي لي الشماغ عندي دوام بعد شوي 😒',\n",
       " 'موت ملك 💔',\n",
       " 'حتى الايتونز خربتوه مو صاحين انتو؟؟ 😭',\n",
       " 'بالنسبة لشرمين حقيقي حارقة دمي عايزاها تموت الكلبة مهمهاش حتي روح دفنة الصغيرة واتفقت مع بورا يخلص عليهم 🌚 درويش هي…',\n",
       " 'صباح النور ، اكيه 🤔 #Sarahah',\n",
       " 'انا مثلك ابشرك مسحوب علي دايما وماعرفت وش السر 😞',\n",
       " 'هل أنت ب حاجه إلى رتويت حقيقي ✴️ وبشكل يومي لتغريداتك؟! 🔃 📍 أكثر من رتويت للتغريده الواحدة ✴️ وخلال ساعه…',\n",
       " 'عموما خسر الاتحاد ولا تعادل ولا فاز .. احنا دائما معه ومانشجع غيره 💛 حتى لو ينزل درجه ثالثه 💔 احبك يااتي والله احبك 💛💛',\n",
       " 'وضعي مره يضحك قاعدة اسمع الكونسرت *بث* واتخيل انهم حقيقة و شوي واصيح 😭',\n",
       " 'رئيسين في يومين قالو الربيع العربي 😒 نحنا الكتاحه الأفريقية',\n",
       " 'صيدليات النهدي 🤔',\n",
       " '°♡♬ \"ودفنا الشوق في أعماقنا ومضينا في رضاء واحتساب\" 💔 ..)',\n",
       " 'مو أول مره سفاراتنا تطرد المواطنين وتتخلى عنهم',\n",
       " 'في العين دمع إذا أخفيه، يخنقني.. شوق لأرواح من واراهم البين 💔 حتىٰ إذا بحت شعرا في رثائهم.. بكي…',\n",
       " 'عبيد البصره هم الأكثر مظلوميه 💔',\n",
       " 'آلبقآء للهہ 😔 اتقدم بتعزيهہ وموآسآهہ للآخ آلغآلي #زيد بوفآهہ عمهہ عظم آللهہ آجرگ وآحس…',\n",
       " 'هدا كان لقت من يسالها ياخوفي نقعدو زي كوكب زمردة للبنات فقط 😦',\n",
       " 'في ناس مثل الرياضيات مسأله طويله وقيمتها صفر 😏',\n",
       " 'حلو لين جيت انا 😠',\n",
       " 'أي دول يلهوى 😱 😱 😱',\n",
       " 'وانا ماشفت ابتسامتي الى معك 💔',\n",
       " 'والله لو تسحبها بعدين راضيه بس حسسني بحظي حلو 😭',\n",
       " 'مدري ليش خنقتني العبره 💔',\n",
       " 'اول مره اضحك من قلب كذا الله يسعده هه',\n",
       " 'ايه كميه الاغاني دي متشكرين 😑',\n",
       " 'صباح الخير 😴',\n",
       " 'اللى انت مهتم برأيهم &gt; المهتمين برأيك 😔',\n",
       " 'حياتك البائسه بالنسبالهم غذا 💔',\n",
       " 'لما ابي يوم الاحد ، ليش يتاخر الويكند 💔',\n",
       " 'الله يرحم بابا يارب و الله اشتقت له 😔 #المقدم_عبدالرزاق_الملحم #مطر #ساعة_إجابة',\n",
       " '#الهلال_الاهلي #حسين_عبدالغني سبق وان تكررت له لحالات مماثلة من داخل المستطيل الاخضر واليوم كاد ان يتسبب في اصابه…',\n",
       " 'كه يفهيم لهوتي ايذن قسم بالله هر تعيرش اتهيرج 😶',\n",
       " 'صباح الخير 🙂 انا مرضت يا جماعة الخير ، المناعة زيروو 😭',\n",
       " 'اذا الفيفا عارف هالشي غلط مش المفروض يتصرف ويتخذ اجراءه ولا الاتحاد السعودي اقوى منه ولا هاي الشوشرا…',\n",
       " 'احس بصيح من الفرحه لانه فاز افف 😭 #BeautifulGoodbye1stWin',\n",
       " 'سعودية جسم ابيض وبزاز كبار روعة تنتاك من كسها: زغب شيميل شفشفه اغتصاب شراميط 😕 إبريل :17:57 م',\n",
       " '⛔ مافي فض اعتصام قبل توجيه تجمع المهنيين يا سودان ⛔ مافي فض اعتصام قبل توجيه تجمع المهنيين يا سودان ⛔ مافي فض اعتصا…',\n",
       " 'حررام اللي بيحصل في الزمالك 😱 الراجل اتجنن اتفرج للاخر 👍المؤامره الكونيه علي نادي الزمالك 🤔😂😂',\n",
       " 'الجزء الثانى 🙈',\n",
       " '#الاتحاد_النصر بإذن واحد احد بنفوز عليكم بالاربعه -4 💛🖤💛🔥 والدوري هلالي💙💙 وبنطلعك من الكأس وتصير نفس خويك بموسم ص…',\n",
       " 'عجزت اعبر 😭',\n",
       " 'ليش الواحد مايعترف ويقول والله فازوا علينا ويستاهلون ليش الاتهام وإلا عشان الهلال دق خشمك…',\n",
       " 'يعجبني اصرارك مع حظك 😁 انتي بس لو الله يفكك مني صار حظك يكسر الحصاء بس يالله نقول يارب 😩',\n",
       " 'اللهم رب الناس أذهب الباس وآشف أنت الشافي لا شفاء إلا شفاؤك .. شفاء لا يغادر سقما .. اللهم اشف #ولدي_ذياب اللهم…',\n",
       " 'الله يرحمك يا أبو فيصل 😔 تغمد روحك الجنة يارب',\n",
       " 'رأى نوح عليه السلام إمراة تبكي 😭 , فسألها لماذا تبكين؟ قالت : ياوليتي ابكي على وفاة إبني وهو صغير وفي عز شبابه 😔😔 س…',\n",
       " 'يا #يبه_وينك ؟ ترى جانا مطر وانا خابرك تحب #المطر ، عساه ل قبرك وصل ؟ المطر يا #يبه هل واسقى #ثراك رفعت إيدي أد…',\n",
       " 'كان من المفروض ان يكون للكرة الارضية !! \"مخرج للطوأرئ\" 😕 👌#أعجبتني',\n",
       " 'احسبه هو اللي تقطع 😂 بس الطيحه الييمه 💔',\n",
       " 'اللهم امين يارب ولجميع المسلمين والمسلمات 😔',\n",
       " '✋ • • رجوعنا إلى الكتاب والسنة بفهم السلف اللهم أرينا الحق حقا وارزقنا اتباعة ورأينا الباطل باطل وارزقنا اجتنابة',\n",
       " 'الوضع م مطمن 😪',\n",
       " 'جمهورنا : المتبعثر المكسور ! ياما : عطا .. ولا أخذ : حاجة ! \\' ياما : وفا .. ولا عليه \" قصور \" ياما انجرح .. ولا لق…',\n",
       " 'حتى الايتونز خربتوه مو صاحين انتو؟؟ 😭',\n",
       " 'هم مافي خرده وراسج 💔',\n",
       " 'الى متى التعامل السئ للخادمات وعدم احترامهم وكأنهم حشرات والله هالمواقف تصير بيننا ونشوفها المربية جات من بيتها مع…',\n",
       " 'يا اخوانا و الله لسة مطالبنا ما أتحقق منها غير مطلب واحد .. عليكم الله الناس ما تتخاذل 💔',\n",
       " '.. و قالت عيوني احبك 💔 .',\n",
       " '💚🍃🌷📿 🥀 🥀 من السهل أن تضع يدك على فمك كي لآ. تتكلم ولكن من آلصعب أن تضع يدك على قلبك ك…',\n",
       " 'السستم معلق أخوي .. راجعنا باجر😂 شي أظن شبرية وحدة 🤔',\n",
       " 'عن نفسي انا ما شفت تويتات تشكيك في تجمع المهنيين او تخوينهم شفت تويتات ناس بتتكلم بس عن الناس الخونو 😕',\n",
       " 'وطز ذات 😰',\n",
       " '، يايوسفي :: الى متى أبكيك شوقا متى تتحنن علي علمتني عشقك ولم تعلمني كيف أختصر الطريق كي أصل اليك فقد طال…',\n",
       " '/4/12 - الاتحاد يتوج بطلا للدوري. /4/12 - الاتحاد مهدد بالهبوط. رأيت الدهر مختلفا يدور .. فلا حزنا يدو…',\n",
       " 'كفوو والله وان شاء الله يارب من نصيبي يارب لأن جد خاطري فيه 😪',\n",
       " 'تلاتين سنة بترقص .. الليلة رقصتنا أنا ببكي 😭 دي حلاوة شديدة باخ',\n",
       " 'تحية لشعب السودان ✋',\n",
       " 'القانون لا يحمي المغفلين الطماعين الجشعين',\n",
       " 'بعض ما أقوم بكتابته يروق لي ولكنه لا يمثلني ✋',\n",
       " 'مذكرتي من ايام الثنوي 💔 ان شاءالله معد يفهم شي',\n",
       " 'والله الثلاثة اتفه من بعض العروس كريهة شو يعني لو الام ركبت و العريس دراما حبتين طلقها عشي تافه و الام نشبة و لزقة…',\n",
       " 'لو قمنا باستبدال مقولة \"للجدران آذان\" بمقولة \"للملائكة أقلام\" .. لخرجنا جيلا يشعر بمراقبة الله ولا ينشغل بمراقبة الناس. ✋',\n",
       " 'يالهوي ؟؟!! احنا تامن ميزرابل ف العالم 😱',\n",
       " 'الله أياام :( ♥️♥️♥️',\n",
       " 'ياصبر الارض على الناس الي بشخصية السديس من جهه ومن جهه ثانية تامر حسني #بدايہ …',\n",
       " 'هذا حليف العرب 🤐 هل هذا رئيس أقوى دولة في العالم؟',\n",
       " 'مجموعة كلين اخسر كيلو في يوم مع الاخصائيه سها السعدي 📒 دون تكميم او حرمان الب…',\n",
       " 'تعال وخلي أسولفلك على البيه ،، هنه اهواي بس راح احجي لشويه جنت الخاطرك اكسر خواطر ناس…',\n",
       " 'جنون هذا مو زواج',\n",
       " 'ابو صقر أنت شايف الوضع أنا إتحادي ويمكن نهبط ولم ننشغل أو نهتم مثل جماهير بعض الأندية 😳',\n",
       " 'سكان الذاكرة هم أنفسهم سكان القلوب ! أما عداهم ففي منازل العابرين وبس 🤐 #من_يسكن_في_قلوبكم',\n",
       " 'بمووت 😭 #SuperJuniorDnE #TheDnE_SeoulDay1',\n",
       " 'زامر يعني زمار صح ؟ انت لازم كل يوم تويتة صعبة 🙈',\n",
       " 'انتظرك ولازلت متمسك فيك وغيري للأسف فيك يقهرني 💔',\n",
       " 'جمهورنا : المتبعثر المكسور ! ياما : عطا .. ولا أخذ : حاجة ! \\' ياما : وفا .. ولا عليه \" قصور \" ياما انجرح .. ولا لق…',\n",
       " 'حقيقة أدركتها متأخرة 💔 .. الحياة مو جانب واحد أبدا وأغلب مشاكلها م تنحل بضغطت زر ! آسفة لكل شخص مارست معه هذا الن…',\n",
       " '#احد_الفيحاء مبروك للفيحاء الخروج من شبح الهبوط بشكل اكثر أمانا وأريحية ممكنة 😚 وهاردلك لنادي احد اللذي اجتهد وصا…',\n",
       " 'ث 7 :( ♥️♥️♥️♥️',\n",
       " 'ليتك تفرحنا وتحكيلنا قصة ليمان وكيف كان يأمر الأتراك بأن يضعوا أهلك على الخوازيق وكان الترك ينفذون أوامره وليتك تحك…',\n",
       " 'لا يستوي منكم من آمن بالثورة قبل أبريل ومن آمن بعده ✋ يوم اذاعة الاشاعات بتنحي الرئيس واعتقال ناس اللمبي ونافع لا…',\n",
       " 'بكرة ريوقي في المستشفى 💔',\n",
       " 'حسب ما اتذكر اول شخص قرع الجرس هي عايشة غول 🤔',\n",
       " '#تصميمي ربي 👐 دعوتگ كما امرتني فاستجب لي گما وعدتني …❤ #دلوعةة_الغيم',\n",
       " 'الله يعطيك العافيه وانا بعد مداوم مع الاسف 💔',\n",
       " 'هو ما فيش قانون يعاقب الناس دي 😒',\n",
       " 'افا هذي اخرتها نردد نشيد #الاتحاد ؟ طول عمرنا نهايط ونقول #الهلال مايهمه أحد وفوق الجميع والحين ندور الفزعة من فريق…',\n",
       " 'بنههار شهالنومه الخرا 😭',\n",
       " 'دي نخلة عجفاء شيطاني عاوزة الحرق..خلفتها بلحة واحدة..شر بلح المجرة 😒',\n",
       " 'اوعى تفكر تفتح صفحة جديدة مع ناس غاوية شخابيط ✋',\n",
       " 'مروة مدبولي .. سمية ناصف اما آن للقيد أن ينكسر 😢 كل تهمتهم انهم بيساعدوا الناس وبيقفوا جنبهم ويوصلوا صوتهم ، في دو…',\n",
       " 'مايكروويف !! مايكروسوم اني اسميهه 😭',\n",
       " 'القلي بالهواء الساخن VS القلي العادي مهم قبل #رمضان تاخذ فكرة عن الموضوع 🙃',\n",
       " 'الكل هنا عاشق ويحب ونحن من نعلم الاخرين العشق ماذا يحصل لو وضعت البنت صورتها الحقيقه ؟ تبخر الغرام 🤔',\n",
       " 'ااه ي بالة 💔 الدنيا كلها متألمة القسم كله يبكي 💔 رحمة الله عليك ي بالة رحمة الله علييك',\n",
       " 'حتى الايتونز خربتوه مو صاحين انتو؟؟ 😭',\n",
       " 'انتظر توقعاتك اليوم صلاح😍',\n",
       " 'وضع الهلال يستدعي انك تفرح اليوم وتدعس اي طحلب قدامك لانك ماتدري وش بيصير بكرا 🐸',\n",
       " 'فعلا هذا واقعنا 😞',\n",
       " '😴 ودي أشوفك .. اشتقت ل احساس العافيهہ🎻💗.',\n",
       " 'قصته كويسه لكن حسيتها سريعه و التحريك شوي مزعجني اتمنى يتحسن بالحلقات الجايه 😓',\n",
       " 'الفديو من جهازي 😳',\n",
       " \"اسمع كلامك اصدقك اشوف افعالك استغرب ' الم تنعتوهم بالمجوس وحاصرتم قطر بسبب إيران وتحاربون #إيران في اليمن 🤔 يا قو…\",\n",
       " 'الله يشفيك ويريحنا من امثالك',\n",
       " 'اترگ الحياة جانبا وتتفس بالقرآن.. 🥀',\n",
       " 'اه والله 💔',\n",
       " ' الفترة دي صعبه علي كل الناس بطريقة غريبه جدا  كلنا عندنا ابتلاءات بإختلاف التفاصيل..ربنا يهونها علينا جميعا 💔',\n",
       " 'الى متى التعامل السئ للخادمات وعدم احترامهم وكأنهم حشرات والله هالمواقف تصير بيننا ونشوفها المربية جات من بيتها مع…',\n",
       " 'احس خلاص مليت مره المضاد عيا يفيد وطفح كيلي ودي اخلع وهو يألم زقت معي تعبت 💔',\n",
       " 'مانسيتك بالدعاء والدنيا جفاف كيف أنساك والدنيا مطر 💔',\n",
       " 'اراجوز بضحك كل خلق الله ببكي بعيد عن عين صحابي عشان ملقاش ف عينهم شفقة ع حالي 💔 #أميرة_البيلى 💕',\n",
       " 'لعل الفرج قريب 💙 صباح الخير جدا والله😅💙',\n",
       " 'قال لها: تعالي نامي على السرير😇 قالت:ماني جايه😁 قالها:لو ماجيتي بشيلك واجيبج😬 قالت :ماتقدر 😒 قام شالها وحطها على ال…',\n",
       " 'يمه قلبي وش هالزين؟؟ 😭',\n",
       " 'للفخامة عنوان يا سادة 🙁 #وشكرا',\n",
       " 'ف احد يثقل عند نيني !! وع اساس انتي الثقيلة تراكي اخف مني لا تنكري 😠',\n",
       " '💫 تقدر تحفر بير .. وتسعد ناس كثير!! ✅ بحمد الله وتوفيقه أنجزنا حفر أكثر من بئر لعام 💰 ابتداء من ريال…',\n",
       " 'يقول الشيخ الشنقيطي : إذا هبط عندك اﻹيمان ، وتكاسلت عن العبادة ، فالزم هذا الدعاء : \" اللهم ﻻ تجعلني شقيا وﻻ محرو…',\n",
       " '#شاركنا_صورتك_وانت_صغير هناك من اهم وأحق ان أشارككم صورهم رجال الأبطال دائما جنودنا البواسل في كل حدث و…',\n",
       " '📌 عندما تتعري الاشجار تكون حطبا لنار الدنيا وعندما تتعري النساء تكون حطبا لنار الاخرة اللهم استرنا بسترك الجميل',\n",
       " 'أعتقد أنا الوحيدة الي بعمان مو فرحانة بالإجازة 😔',\n",
       " 'لي بيتيز* 😬',\n",
       " '#حسين_عبدالغني هذا انت ي طحلوب 🐸 ماينغزابك 😂✌️',\n",
       " 'تعبان الحلو 💔',\n",
       " 'تلاتين سنة بترقص .. الليلة رقصتنا أنا ببكي 😭 دي حلاوة شديدة باخ',\n",
       " 'لاي لاي لاي لااي لاا 💔',\n",
       " ...]"
      ]
     },
     "execution_count": 19,
     "metadata": {},
     "output_type": "execute_result"
    }
   ],
   "source": [
    "sentences"
   ]
  },
  {
   "cell_type": "code",
   "execution_count": 20,
   "metadata": {
    "colab": {
     "base_uri": "https://localhost:8080/",
     "height": 54
    },
    "colab_type": "code",
    "id": "YjHQTPniCdmO",
    "outputId": "8921b977-399c-4c60-cd10-3d2ed50c3167"
   },
   "outputs": [
    {
     "data": {
      "text/plain": [
       "57930"
      ]
     },
     "execution_count": 20,
     "metadata": {},
     "output_type": "execute_result"
    }
   ],
   "source": [
    "len(sentences)"
   ]
  },
  {
   "cell_type": "code",
   "execution_count": 21,
   "metadata": {},
   "outputs": [],
   "source": [
    "sentences_as_one_string = \" \".join(sentences)"
   ]
  },
  {
   "cell_type": "markdown",
   "metadata": {
    "colab_type": "text",
    "id": "Y0GmpAjG3GiH"
   },
   "source": [
    "# TASK #5: PERFORM DATA CLEANING - REMOVE PUNCTUATION FROM TEXT"
   ]
  },
  {
   "cell_type": "code",
   "execution_count": 22,
   "metadata": {
    "colab": {
     "base_uri": "https://localhost:8080/",
     "height": 34
    },
    "colab_type": "code",
    "id": "fMoyni7vLnBj",
    "outputId": "a53ff402-92e0-4909-afdd-f6fe7f96eec3"
   },
   "outputs": [
    {
     "data": {
      "text/plain": [
       "'!\"#$%&\\'()*+,-./:;<=>?@[\\\\]^_`{|}~'"
      ]
     },
     "execution_count": 22,
     "metadata": {},
     "output_type": "execute_result"
    }
   ],
   "source": [
    "import string\n",
    "string.punctuation"
   ]
  },
  {
   "cell_type": "code",
   "execution_count": 23,
   "metadata": {
    "colab": {},
    "colab_type": "code",
    "id": "6fXNKTwHPIBN"
   },
   "outputs": [],
   "source": [
    "Test = 'كل روساء الدول في كفه ومحمد بن سلمان وابوه في كفه 🇸🇦😍#غرد_بحبك_لمحمد_بن_سلمان'"
   ]
  },
  {
   "cell_type": "code",
   "execution_count": 24,
   "metadata": {
    "colab": {
     "base_uri": "https://localhost:8080/",
     "height": 874
    },
    "colab_type": "code",
    "id": "_2EewIUSPIHJ",
    "outputId": "676369fb-b40b-4137-8a15-d158d6bcb515"
   },
   "outputs": [
    {
     "data": {
      "text/plain": [
       "['ك',\n",
       " 'ل',\n",
       " ' ',\n",
       " 'ر',\n",
       " 'و',\n",
       " 'س',\n",
       " 'ا',\n",
       " 'ء',\n",
       " ' ',\n",
       " 'ا',\n",
       " 'ل',\n",
       " 'د',\n",
       " 'و',\n",
       " 'ل',\n",
       " ' ',\n",
       " 'ف',\n",
       " 'ي',\n",
       " ' ',\n",
       " 'ك',\n",
       " 'ف',\n",
       " 'ه',\n",
       " ' ',\n",
       " 'و',\n",
       " 'م',\n",
       " 'ح',\n",
       " 'م',\n",
       " 'د',\n",
       " ' ',\n",
       " 'ب',\n",
       " 'ن',\n",
       " ' ',\n",
       " 'س',\n",
       " 'ل',\n",
       " 'م',\n",
       " 'ا',\n",
       " 'ن',\n",
       " ' ',\n",
       " 'و',\n",
       " 'ا',\n",
       " 'ب',\n",
       " 'و',\n",
       " 'ه',\n",
       " ' ',\n",
       " 'ف',\n",
       " 'ي',\n",
       " ' ',\n",
       " 'ك',\n",
       " 'ف',\n",
       " 'ه',\n",
       " ' ',\n",
       " '🇸',\n",
       " '🇦',\n",
       " '😍',\n",
       " 'غ',\n",
       " 'ر',\n",
       " 'د',\n",
       " 'ب',\n",
       " 'ح',\n",
       " 'ب',\n",
       " 'ك',\n",
       " 'ل',\n",
       " 'م',\n",
       " 'ح',\n",
       " 'م',\n",
       " 'د',\n",
       " 'ب',\n",
       " 'ن',\n",
       " 'س',\n",
       " 'ل',\n",
       " 'م',\n",
       " 'ا',\n",
       " 'ن']"
      ]
     },
     "execution_count": 24,
     "metadata": {},
     "output_type": "execute_result"
    }
   ],
   "source": [
    "Test_punc_removed = []\n",
    "for char in Test:\n",
    "    if(char not in string.punctuation):\n",
    "        Test_punc_removed.append(char)\n",
    "Test_punc_removed        "
   ]
  },
  {
   "cell_type": "code",
   "execution_count": 25,
   "metadata": {
    "colab": {
     "base_uri": "https://localhost:8080/",
     "height": 34
    },
    "colab_type": "code",
    "id": "EMWeHpqNPIJ4",
    "outputId": "eba46aa3-a3b9-4a1e-b1b4-416204e45aba"
   },
   "outputs": [
    {
     "data": {
      "text/plain": [
       "'كل روساء الدول في كفه ومحمد بن سلمان وابوه في كفه 🇸🇦😍غردبحبكلمحمدبنسلمان'"
      ]
     },
     "execution_count": 25,
     "metadata": {},
     "output_type": "execute_result"
    }
   ],
   "source": [
    "# Join the characters again to form the string.\n",
    "Test_punc_removed_join = \"\".join(Test_punc_removed)\n",
    "Test_punc_removed_join"
   ]
  },
  {
   "cell_type": "markdown",
   "metadata": {
    "colab_type": "text",
    "id": "78wsji1HPWW3"
   },
   "source": [
    "# TASK 6: PERFORM DATA CLEANING - REMOVE STOPWORDS"
   ]
  },
  {
   "cell_type": "code",
   "execution_count": 26,
   "metadata": {
    "colab": {
     "base_uri": "https://localhost:8080/",
     "height": 67
    },
    "colab_type": "code",
    "id": "g-R51U7HQhJx",
    "outputId": "447538a3-1d15-48fb-c381-61a1a259a00a"
   },
   "outputs": [
    {
     "name": "stderr",
     "output_type": "stream",
     "text": [
      "[nltk_data] Downloading package stopwords to\n",
      "[nltk_data]     C:\\Users\\bsalo\\AppData\\Roaming\\nltk_data...\n",
      "[nltk_data]   Package stopwords is already up-to-date!\n"
     ]
    },
    {
     "data": {
      "text/plain": [
       "True"
      ]
     },
     "execution_count": 26,
     "metadata": {},
     "output_type": "execute_result"
    }
   ],
   "source": [
    "import nltk # Natural Language tool kit \n",
    "nltk.download('stopwords')"
   ]
  },
  {
   "cell_type": "code",
   "execution_count": 27,
   "metadata": {
    "colab": {
     "base_uri": "https://localhost:8080/",
     "height": 1000
    },
    "colab_type": "code",
    "id": "Afteb9uNPZht",
    "outputId": "63f54f75-af41-4d58-fd9d-6235f0d5d2b6"
   },
   "outputs": [
    {
     "data": {
      "text/plain": [
       "['إذ',\n",
       " 'إذا',\n",
       " 'إذما',\n",
       " 'إذن',\n",
       " 'أف',\n",
       " 'أقل',\n",
       " 'أكثر',\n",
       " 'ألا',\n",
       " 'إلا',\n",
       " 'التي',\n",
       " 'الذي',\n",
       " 'الذين',\n",
       " 'اللاتي',\n",
       " 'اللائي',\n",
       " 'اللتان',\n",
       " 'اللتيا',\n",
       " 'اللتين',\n",
       " 'اللذان',\n",
       " 'اللذين',\n",
       " 'اللواتي',\n",
       " 'إلى',\n",
       " 'إليك',\n",
       " 'إليكم',\n",
       " 'إليكما',\n",
       " 'إليكن',\n",
       " 'أم',\n",
       " 'أما',\n",
       " 'أما',\n",
       " 'إما',\n",
       " 'أن',\n",
       " 'إن',\n",
       " 'إنا',\n",
       " 'أنا',\n",
       " 'أنت',\n",
       " 'أنتم',\n",
       " 'أنتما',\n",
       " 'أنتن',\n",
       " 'إنما',\n",
       " 'إنه',\n",
       " 'أنى',\n",
       " 'أنى',\n",
       " 'آه',\n",
       " 'آها',\n",
       " 'أو',\n",
       " 'أولاء',\n",
       " 'أولئك',\n",
       " 'أوه',\n",
       " 'آي',\n",
       " 'أي',\n",
       " 'أيها',\n",
       " 'إي',\n",
       " 'أين',\n",
       " 'أين',\n",
       " 'أينما',\n",
       " 'إيه',\n",
       " 'بخ',\n",
       " 'بس',\n",
       " 'بعد',\n",
       " 'بعض',\n",
       " 'بك',\n",
       " 'بكم',\n",
       " 'بكم',\n",
       " 'بكما',\n",
       " 'بكن',\n",
       " 'بل',\n",
       " 'بلى',\n",
       " 'بما',\n",
       " 'بماذا',\n",
       " 'بمن',\n",
       " 'بنا',\n",
       " 'به',\n",
       " 'بها',\n",
       " 'بهم',\n",
       " 'بهما',\n",
       " 'بهن',\n",
       " 'بي',\n",
       " 'بين',\n",
       " 'بيد',\n",
       " 'تلك',\n",
       " 'تلكم',\n",
       " 'تلكما',\n",
       " 'ته',\n",
       " 'تي',\n",
       " 'تين',\n",
       " 'تينك',\n",
       " 'ثم',\n",
       " 'ثمة',\n",
       " 'حاشا',\n",
       " 'حبذا',\n",
       " 'حتى',\n",
       " 'حيث',\n",
       " 'حيثما',\n",
       " 'حين',\n",
       " 'خلا',\n",
       " 'دون',\n",
       " 'ذا',\n",
       " 'ذات',\n",
       " 'ذاك',\n",
       " 'ذان',\n",
       " 'ذانك',\n",
       " 'ذلك',\n",
       " 'ذلكم',\n",
       " 'ذلكما',\n",
       " 'ذلكن',\n",
       " 'ذه',\n",
       " 'ذو',\n",
       " 'ذوا',\n",
       " 'ذواتا',\n",
       " 'ذواتي',\n",
       " 'ذي',\n",
       " 'ذين',\n",
       " 'ذينك',\n",
       " 'ريث',\n",
       " 'سوف',\n",
       " 'سوى',\n",
       " 'شتان',\n",
       " 'عدا',\n",
       " 'عسى',\n",
       " 'عل',\n",
       " 'على',\n",
       " 'عليك',\n",
       " 'عليه',\n",
       " 'عما',\n",
       " 'عن',\n",
       " 'عند',\n",
       " 'غير',\n",
       " 'فإذا',\n",
       " 'فإن',\n",
       " 'فلا',\n",
       " 'فمن',\n",
       " 'في',\n",
       " 'فيم',\n",
       " 'فيما',\n",
       " 'فيه',\n",
       " 'فيها',\n",
       " 'قد',\n",
       " 'كأن',\n",
       " 'كأنما',\n",
       " 'كأي',\n",
       " 'كأين',\n",
       " 'كذا',\n",
       " 'كذلك',\n",
       " 'كل',\n",
       " 'كلا',\n",
       " 'كلاهما',\n",
       " 'كلتا',\n",
       " 'كلما',\n",
       " 'كليكما',\n",
       " 'كليهما',\n",
       " 'كم',\n",
       " 'كم',\n",
       " 'كما',\n",
       " 'كي',\n",
       " 'كيت',\n",
       " 'كيف',\n",
       " 'كيفما',\n",
       " 'لا',\n",
       " 'لاسيما',\n",
       " 'لدى',\n",
       " 'لست',\n",
       " 'لستم',\n",
       " 'لستما',\n",
       " 'لستن',\n",
       " 'لسن',\n",
       " 'لسنا',\n",
       " 'لعل',\n",
       " 'لك',\n",
       " 'لكم',\n",
       " 'لكما',\n",
       " 'لكن',\n",
       " 'لكنما',\n",
       " 'لكي',\n",
       " 'لكيلا',\n",
       " 'لم',\n",
       " 'لما',\n",
       " 'لن',\n",
       " 'لنا',\n",
       " 'له',\n",
       " 'لها',\n",
       " 'لهم',\n",
       " 'لهما',\n",
       " 'لهن',\n",
       " 'لو',\n",
       " 'لولا',\n",
       " 'لوما',\n",
       " 'لي',\n",
       " 'لئن',\n",
       " 'ليت',\n",
       " 'ليس',\n",
       " 'ليسا',\n",
       " 'ليست',\n",
       " 'ليستا',\n",
       " 'ليسوا',\n",
       " 'ما',\n",
       " 'ماذا',\n",
       " 'متى',\n",
       " 'مذ',\n",
       " 'مع',\n",
       " 'مما',\n",
       " 'ممن',\n",
       " 'من',\n",
       " 'منه',\n",
       " 'منها',\n",
       " 'منذ',\n",
       " 'مه',\n",
       " 'مهما',\n",
       " 'نحن',\n",
       " 'نحو',\n",
       " 'نعم',\n",
       " 'ها',\n",
       " 'هاتان',\n",
       " 'هاته',\n",
       " 'هاتي',\n",
       " 'هاتين',\n",
       " 'هاك',\n",
       " 'هاهنا',\n",
       " 'هذا',\n",
       " 'هذان',\n",
       " 'هذه',\n",
       " 'هذي',\n",
       " 'هذين',\n",
       " 'هكذا',\n",
       " 'هل',\n",
       " 'هلا',\n",
       " 'هم',\n",
       " 'هما',\n",
       " 'هن',\n",
       " 'هنا',\n",
       " 'هناك',\n",
       " 'هنالك',\n",
       " 'هو',\n",
       " 'هؤلاء',\n",
       " 'هي',\n",
       " 'هيا',\n",
       " 'هيت',\n",
       " 'هيهات',\n",
       " 'والذي',\n",
       " 'والذين',\n",
       " 'وإذ',\n",
       " 'وإذا',\n",
       " 'وإن',\n",
       " 'ولا',\n",
       " 'ولكن',\n",
       " 'ولو',\n",
       " 'وما',\n",
       " 'ومن',\n",
       " 'وهو',\n",
       " 'يا']"
      ]
     },
     "execution_count": 27,
     "metadata": {},
     "output_type": "execute_result"
    }
   ],
   "source": [
    "# You have to download stopwords Package to execute this command\n",
    "from nltk.corpus import stopwords\n",
    "stopwords.words('arabic')"
   ]
  },
  {
   "cell_type": "code",
   "execution_count": 28,
   "metadata": {
    "colab": {
     "base_uri": "https://localhost:8080/",
     "height": 34
    },
    "colab_type": "code",
    "id": "VIAdiVf_PZkE",
    "outputId": "1ca6e448-44ba-4b9b-c761-b6384918a495"
   },
   "outputs": [
    {
     "data": {
      "text/plain": [
       "['كل',\n",
       " 'روساء',\n",
       " 'الدول',\n",
       " 'في',\n",
       " 'كفه',\n",
       " 'ومحمد',\n",
       " 'بن',\n",
       " 'سلمان',\n",
       " 'وابوه',\n",
       " 'في',\n",
       " 'كفه',\n",
       " '🇸🇦😍غردبحبكلمحمدبنسلمان']"
      ]
     },
     "execution_count": 28,
     "metadata": {},
     "output_type": "execute_result"
    }
   ],
   "source": [
    "Test_punc_removed_join_clean = []\n",
    "for word in Test_punc_removed_join.split():\n",
    "    if(word.lower() not in stopwords.words('english')):\n",
    "        Test_punc_removed_join_clean.append(word)\n",
    "Test_punc_removed_join_clean        "
   ]
  },
  {
   "cell_type": "code",
   "execution_count": 29,
   "metadata": {
    "colab": {
     "base_uri": "https://localhost:8080/",
     "height": 34
    },
    "colab_type": "code",
    "id": "KPlPakMxPfQJ",
    "outputId": "0d12712b-5e4b-46fc-d8c7-4b7404261ef8"
   },
   "outputs": [
    {
     "data": {
      "text/plain": [
       "['كل',\n",
       " 'روساء',\n",
       " 'الدول',\n",
       " 'في',\n",
       " 'كفه',\n",
       " 'ومحمد',\n",
       " 'بن',\n",
       " 'سلمان',\n",
       " 'وابوه',\n",
       " 'في',\n",
       " 'كفه',\n",
       " '🇸🇦😍غردبحبكلمحمدبنسلمان']"
      ]
     },
     "execution_count": 29,
     "metadata": {},
     "output_type": "execute_result"
    }
   ],
   "source": [
    "Test_punc_removed_join_clean "
   ]
  },
  {
   "cell_type": "markdown",
   "metadata": {
    "colab_type": "text",
    "id": "7Kxb4M0pRBkU"
   },
   "source": [
    "# TASK 7: PERFORM COUNT VECTORIZATION (TOKENIZATION)"
   ]
  },
  {
   "attachments": {
    "image.png": {
     "image/png": "[encoded data removed]"
    }
   },
   "cell_type": "markdown",
   "metadata": {},
   "source": [
    "![image.png](attachment:image.png)"
   ]
  },
  {
   "cell_type": "code",
   "execution_count": 30,
   "metadata": {
    "colab": {},
    "colab_type": "code",
    "id": "bRstHzLkRMxA"
   },
   "outputs": [],
   "source": [
    "from sklearn.feature_extraction.text import CountVectorizer\n",
    "sample_data = ['كلنا هذا الرجل الطموح #غرد_بحبك_لمحمد_بن_سلمان','الكلام قليل بحقك ياسيدي... حفظك الله ورعااك #غرد_بحبك_لمحمد_بن_سلمان','تعجز الاحرف عن التعبير عن حبه ، لكن يشهد الله اني احبه❤️🇸🇦 #غرد_بحبك_لمحمد_بن_سلمان','تاج فوق رووؤس الملايين حفظه الله#غرد_بحبك_لمحمد_بن_سلمان']"
   ]
  },
  {
   "cell_type": "code",
   "execution_count": 31,
   "metadata": {
    "colab": {
     "base_uri": "https://localhost:8080/",
     "height": 34
    },
    "colab_type": "code",
    "id": "zFACTUGSRMz6",
    "outputId": "67c8cfb6-1268-4ba4-df97-6ff88a404b15"
   },
   "outputs": [],
   "source": [
    "vectorizer = CountVectorizer()"
   ]
  },
  {
   "cell_type": "code",
   "execution_count": 32,
   "metadata": {
    "colab": {
     "base_uri": "https://localhost:8080/",
     "height": 84
    },
    "colab_type": "code",
    "id": "i_2dw2lMRNCP",
    "outputId": "3d03bb26-0e59-4616-8f63-e4946d6d9e73"
   },
   "outputs": [],
   "source": [
    "X = vectorizer.fit_transform(sample_data)"
   ]
  },
  {
   "cell_type": "markdown",
   "metadata": {
    "colab_type": "text",
    "id": "2geMzGITbZPJ"
   },
   "source": [
    "# TASK #8: CREATE A PIPELINE TO REMOVE PUNCTUATIONS, STOPWORDS AND PERFORM COUNT VECTORIZATION"
   ]
  },
  {
   "cell_type": "code",
   "execution_count": 33,
   "metadata": {
    "colab": {},
    "colab_type": "code",
    "id": "WHJnbIDeSmlm"
   },
   "outputs": [],
   "source": [
    "# Let's define a pipeline to clean up all the messages \n",
    "# The pipeline performs the following: (1) remove punctuation, (2) remove stopwords\n",
    "\n",
    "def message_cleaning(message):\n",
    "    Test_punc_removed = [char for char in message if char not in string.punctuation]\n",
    "    Test_punc_removed_join = ''.join(Test_punc_removed)\n",
    "    Test_punc_removed_join_clean = [word for word in Test_punc_removed_join.split() if word.lower() not in stopwords.words('arabic')]\n",
    "    return Test_punc_removed_join_clean"
   ]
  },
  {
   "cell_type": "code",
   "execution_count": 34,
   "metadata": {
    "colab": {},
    "colab_type": "code",
    "id": "TxAYpIXXSmoZ"
   },
   "outputs": [],
   "source": [
    "# Let's test the newly added function\n",
    "#Test = 'كل روساء الدول في كفه ومحمد بن سلمان وابوه في كفه 🇸🇦😍#غرد_بحبك_لمحمد_بن_سلمان'\n",
    "#tweets = message_cleaning(Test)\n",
    "tweets_df_clean = tweets_df['text'].apply(message_cleaning)"
   ]
  },
  {
   "cell_type": "code",
   "execution_count": 35,
   "metadata": {
    "colab": {
     "base_uri": "https://localhost:8080/",
     "height": 34
    },
    "colab_type": "code",
    "id": "DXnYj4Q8SmrH",
    "outputId": "689c9dc9-4871-48d8-88df-40d02ff51e58"
   },
   "outputs": [
    {
     "name": "stdout",
     "output_type": "stream",
     "text": [
      "['الايتونز', 'خربتوه', 'مو', 'صاحين', 'انتو؟؟', '😭']\n"
     ]
    }
   ],
   "source": [
    "print(tweets_df_clean[0]) # show the cleaned up version"
   ]
  },
  {
   "cell_type": "code",
   "execution_count": 36,
   "metadata": {
    "colab": {
     "base_uri": "https://localhost:8080/",
     "height": 34
    },
    "colab_type": "code",
    "id": "ygy78EHZTGTD",
    "outputId": "c65088d4-80b3-49de-85f1-e16e28e51f3c"
   },
   "outputs": [
    {
     "name": "stdout",
     "output_type": "stream",
     "text": [
      "هيك كتير يا عالم شوي شوي علي طيب ، استنوني طيب 💔\n"
     ]
    }
   ],
   "source": [
    "print(tweets_df['text'][10]) # show the original version"
   ]
  },
  {
   "cell_type": "code",
   "execution_count": 37,
   "metadata": {
    "colab": {},
    "colab_type": "code",
    "id": "0oZBSWUVTGV9"
   },
   "outputs": [],
   "source": [
    "from sklearn.feature_extraction.text import CountVectorizer\n",
    "# Define the cleaning pipeline we defined earlier\n",
    "vectorizer = CountVectorizer(analyzer = message_cleaning)\n",
    "tweets_countvectorizer = vectorizer.fit_transform(tweets_df['text'])\n",
    "#tweets_countvectorizer = vectorizer.fit_transform(tweets)\n"
   ]
  },
  {
   "cell_type": "code",
   "execution_count": 38,
   "metadata": {},
   "outputs": [
    {
     "data": {
      "text/plain": [
       "<57930x89576 sparse matrix of type '<class 'numpy.int64'>'\n",
       "\twith 612135 stored elements in Compressed Sparse Row format>"
      ]
     },
     "execution_count": 38,
     "metadata": {},
     "output_type": "execute_result"
    }
   ],
   "source": [
    "tweets_countvectorizer"
   ]
  },
  {
   "cell_type": "code",
   "execution_count": 39,
   "metadata": {
    "colab": {},
    "colab_type": "code",
    "id": "Ajna6zStUH8j"
   },
   "outputs": [
    {
     "data": {
      "text/plain": [
       "(57930, 89576)"
      ]
     },
     "execution_count": 39,
     "metadata": {},
     "output_type": "execute_result"
    }
   ],
   "source": [
    "tweets_countvectorizer.shape"
   ]
  },
  {
   "cell_type": "code",
   "execution_count": 40,
   "metadata": {
    "colab": {},
    "colab_type": "code",
    "id": "HdsbGToxFCP9"
   },
   "outputs": [],
   "source": [
    "X = tweets_countvectorizer"
   ]
  },
  {
   "cell_type": "code",
   "execution_count": 41,
   "metadata": {
    "colab": {},
    "colab_type": "code",
    "id": "-Y5f8HWWFglY"
   },
   "outputs": [],
   "source": [
    "y = tweets_df[\"Sentiment\"]"
   ]
  },
  {
   "cell_type": "code",
   "execution_count": 42,
   "metadata": {
    "colab": {},
    "colab_type": "code",
    "id": "RgxKnJOcFids"
   },
   "outputs": [
    {
     "data": {
      "text/plain": [
       "<57930x89576 sparse matrix of type '<class 'numpy.int64'>'\n",
       "\twith 612135 stored elements in Compressed Sparse Row format>"
      ]
     },
     "execution_count": 42,
     "metadata": {},
     "output_type": "execute_result"
    }
   ],
   "source": [
    "X"
   ]
  },
  {
   "cell_type": "code",
   "execution_count": 43,
   "metadata": {
    "colab": {},
    "colab_type": "code",
    "id": "0TQZtuY5FnhP"
   },
   "outputs": [],
   "source": [
    "y = tweets_df['Sentiment']"
   ]
  },
  {
   "cell_type": "code",
   "execution_count": null,
   "metadata": {},
   "outputs": [],
   "source": []
  },
  {
   "cell_type": "markdown",
   "metadata": {
    "colab_type": "text",
    "id": "jIVxZdZ1USAz"
   },
   "source": [
    "# TASK #9: TRAIN A NAIVE BAYES CLASSIFIER MODEL"
   ]
  },
  {
   "cell_type": "code",
   "execution_count": 44,
   "metadata": {
    "colab": {},
    "colab_type": "code",
    "id": "uUclD-muUhvW"
   },
   "outputs": [
    {
     "data": {
      "text/plain": [
       "(57930, 89576)"
      ]
     },
     "execution_count": 44,
     "metadata": {},
     "output_type": "execute_result"
    }
   ],
   "source": [
    "X.shape"
   ]
  },
  {
   "cell_type": "code",
   "execution_count": 45,
   "metadata": {
    "colab": {},
    "colab_type": "code",
    "id": "XowpfEecUnJz"
   },
   "outputs": [
    {
     "data": {
      "text/plain": [
       "(57930,)"
      ]
     },
     "execution_count": 45,
     "metadata": {},
     "output_type": "execute_result"
    }
   ],
   "source": [
    "y.shape"
   ]
  },
  {
   "cell_type": "code",
   "execution_count": 46,
   "metadata": {
    "colab": {},
    "colab_type": "code",
    "id": "V7M9V4QAUnOM"
   },
   "outputs": [],
   "source": [
    "from sklearn.model_selection import train_test_split\n",
    "X_train, X_test, y_train, y_test = train_test_split(X, y, test_size=0.2)"
   ]
  },
  {
   "cell_type": "code",
   "execution_count": 47,
   "metadata": {},
   "outputs": [
    {
     "data": {
      "text/plain": [
       "<46344x89576 sparse matrix of type '<class 'numpy.int64'>'\n",
       "\twith 488555 stored elements in Compressed Sparse Row format>"
      ]
     },
     "execution_count": 47,
     "metadata": {},
     "output_type": "execute_result"
    }
   ],
   "source": [
    "X_train"
   ]
  },
  {
   "cell_type": "code",
   "execution_count": 48,
   "metadata": {
    "colab": {},
    "colab_type": "code",
    "id": "sdiBOX1xUnMo"
   },
   "outputs": [],
   "source": [
    "from sklearn.naive_bayes import MultinomialNB\n",
    "\n",
    "NB_classifier = MultinomialNB()\n",
    "model=NB_classifier.fit(X_train, y_train)\n"
   ]
  },
  {
   "cell_type": "code",
   "execution_count": 49,
   "metadata": {},
   "outputs": [
    {
     "data": {
      "text/plain": [
       "array([0, 0, 0, ..., 1, 1, 1], dtype=int64)"
      ]
     },
     "execution_count": 49,
     "metadata": {},
     "output_type": "execute_result"
    }
   ],
   "source": [
    "\n"
   ]
  },
  {
   "cell_type": "code",
   "execution_count": 50,
   "metadata": {},
   "outputs": [
    {
     "ename": "NameError",
     "evalue": "name 'yyy' is not defined",
     "output_type": "error",
     "traceback": [
      "\u001b[1;31m---------------------------------------------------------------------------\u001b[0m",
      "\u001b[1;31mNameError\u001b[0m                                 Traceback (most recent call last)",
      "\u001b[1;32m<ipython-input-50-3b12eea5c1c2>\u001b[0m in \u001b[0;36m<module>\u001b[1;34m\u001b[0m\n\u001b[0;32m      1\u001b[0m \u001b[1;32mfrom\u001b[0m \u001b[0msklearn\u001b[0m\u001b[1;33m.\u001b[0m\u001b[0mmetrics\u001b[0m \u001b[1;32mimport\u001b[0m \u001b[0maccuracy_score\u001b[0m\u001b[1;33m\u001b[0m\u001b[1;33m\u001b[0m\u001b[0m\n\u001b[0;32m      2\u001b[0m \u001b[1;33m\u001b[0m\u001b[0m\n\u001b[1;32m----> 3\u001b[1;33m \u001b[0maccuracy_score\u001b[0m\u001b[1;33m(\u001b[0m\u001b[0mX_test\u001b[0m\u001b[1;33m,\u001b[0m \u001b[0myyy\u001b[0m\u001b[1;33m)\u001b[0m\u001b[1;33m\u001b[0m\u001b[1;33m\u001b[0m\u001b[0m\n\u001b[0m",
      "\u001b[1;31mNameError\u001b[0m: name 'yyy' is not defined"
     ]
    }
   ],
   "source": [
    "from sklearn.metrics import accuracy_score\n",
    "\n",
    "accuracy_score(X_test, yyy) "
   ]
  },
  {
   "cell_type": "markdown",
   "metadata": {
    "colab_type": "text",
    "id": "uO-AtlgRVoVX"
   },
   "source": [
    "# TASK #10: ASSESS TRAINED MODEL PERFORMANCE  "
   ]
  },
  {
   "cell_type": "code",
   "execution_count": 51,
   "metadata": {
    "colab": {},
    "colab_type": "code",
    "id": "8CSu7xXdVyGI"
   },
   "outputs": [],
   "source": [
    "from sklearn.metrics import classification_report, confusion_matrix"
   ]
  },
  {
   "cell_type": "code",
   "execution_count": 52,
   "metadata": {
    "colab": {},
    "colab_type": "code",
    "id": "4gSgbN3JVymd",
    "scrolled": true
   },
   "outputs": [
    {
     "data": {
      "text/plain": [
       "<matplotlib.axes._subplots.AxesSubplot at 0x1f8325373c8>"
      ]
     },
     "execution_count": 52,
     "metadata": {},
     "output_type": "execute_result"
    },
    {
     "data": {
      "image/png": "[encoded data removed]",
      "text/plain": [
       "<Figure size 432x288 with 2 Axes>"
      ]
     },
     "metadata": {
      "needs_background": "light"
     },
     "output_type": "display_data"
    }
   ],
   "source": [
    "# Predicting the Test set results\n",
    "y_predict_test = NB_classifier.predict(X_test)\n",
    "cm = confusion_matrix(y_test, y_predict_test)\n",
    "sns.heatmap(cm, annot=True)"
   ]
  },
  {
   "cell_type": "code",
   "execution_count": 53,
   "metadata": {
    "colab": {},
    "colab_type": "code",
    "id": "l2sReJpmV8CK"
   },
   "outputs": [
    {
     "name": "stdout",
     "output_type": "stream",
     "text": [
      "              precision    recall  f1-score   support\n",
      "\n",
      "           0       0.89      0.94      0.92      5867\n",
      "           1       0.94      0.88      0.91      5719\n",
      "\n",
      "    accuracy                           0.91     11586\n",
      "   macro avg       0.91      0.91      0.91     11586\n",
      "weighted avg       0.91      0.91      0.91     11586\n",
      "\n"
     ]
    }
   ],
   "source": [
    "print(classification_report(y_test, y_predict_test))"
   ]
  },
  {
   "cell_type": "code",
   "execution_count": null,
   "metadata": {},
   "outputs": [],
   "source": [
    "#print(X_test[20])"
   ]
  },
  {
   "cell_type": "code",
   "execution_count": null,
   "metadata": {},
   "outputs": [],
   "source": [
    "# Load the model from the file \n",
    "#knn_from_joblib = joblib.load('filename.model')  \n"
   ]
  },
  {
   "cell_type": "code",
   "execution_count": null,
   "metadata": {},
   "outputs": [],
   "source": [
    "# Use the loaded model to make predictions \n",
    "#n_predict_test=knn_from_joblib.predict(X_test)"
   ]
  },
  {
   "cell_type": "code",
   "execution_count": null,
   "metadata": {},
   "outputs": [],
   "source": [
    "#X_test[0]"
   ]
  },
  {
   "cell_type": "code",
   "execution_count": null,
   "metadata": {},
   "outputs": [],
   "source": [
    "#result = knn_from_joblib.score(X_test, y_test)\n",
    "#print(result)\n"
   ]
  },
  {
   "cell_type": "code",
   "execution_count": 55,
   "metadata": {},
   "outputs": [],
   "source": [
    "Test = ['كل روساء الدول في كفه ومحمد بن سلمان وابوه في كفه 🇸🇦😍#غرد_بحبك_لمحمد_بن_سلمان']\n",
    "tweets = message_cleaning(Test)\n",
    "from sklearn.feature_extraction.text import CountVectorizer\n",
    " #Define the cleaning pipeline we defined earlier\n",
    "vectorizer = CountVectorizer(analyzer = message_cleaning)\n",
    "tweets_countvectorizer = vectorizer.fit_transform(tweets)\n",
    "X = tweets_countvectorizer\n"
   ]
  },
  {
   "cell_type": "code",
   "execution_count": 65,
   "metadata": {},
   "outputs": [],
   "source": [
    "test_vector = tweets_countvectorizer.toarray()\n"
   ]
  },
  {
   "cell_type": "code",
   "execution_count": 74,
   "metadata": {},
   "outputs": [
    {
     "ename": "ValueError",
     "evalue": "matmul: Input operand 1 has a mismatch in its core dimension 0, with gufunc signature (n?,k),(k,m?)->(n?,m?) (size 89576 is different from 8)",
     "output_type": "error",
     "traceback": [
      "\u001b[1;31m---------------------------------------------------------------------------\u001b[0m",
      "\u001b[1;31mValueError\u001b[0m                                Traceback (most recent call last)",
      "\u001b[1;32m<ipython-input-74-79bf4ef1c023>\u001b[0m in \u001b[0;36m<module>\u001b[1;34m\u001b[0m\n\u001b[0;32m      1\u001b[0m \u001b[1;31m## encodeing predict class\u001b[0m\u001b[1;33m\u001b[0m\u001b[1;33m\u001b[0m\u001b[1;33m\u001b[0m\u001b[0m\n\u001b[1;32m----> 2\u001b[1;33m \u001b[0mtext_predict_class\u001b[0m \u001b[1;33m=\u001b[0m \u001b[0mmodel\u001b[0m\u001b[1;33m.\u001b[0m\u001b[0mpredict\u001b[0m\u001b[1;33m(\u001b[0m\u001b[0mtest_vector\u001b[0m\u001b[1;33m)\u001b[0m\u001b[1;33m\u001b[0m\u001b[1;33m\u001b[0m\u001b[0m\n\u001b[0m",
      "\u001b[1;32m~\\anaconda3\\lib\\site-packages\\sklearn\\naive_bayes.py\u001b[0m in \u001b[0;36mpredict\u001b[1;34m(self, X)\u001b[0m\n\u001b[0;32m     75\u001b[0m         \u001b[0mcheck_is_fitted\u001b[0m\u001b[1;33m(\u001b[0m\u001b[0mself\u001b[0m\u001b[1;33m)\u001b[0m\u001b[1;33m\u001b[0m\u001b[1;33m\u001b[0m\u001b[0m\n\u001b[0;32m     76\u001b[0m         \u001b[0mX\u001b[0m \u001b[1;33m=\u001b[0m \u001b[0mself\u001b[0m\u001b[1;33m.\u001b[0m\u001b[0m_check_X\u001b[0m\u001b[1;33m(\u001b[0m\u001b[0mX\u001b[0m\u001b[1;33m)\u001b[0m\u001b[1;33m\u001b[0m\u001b[1;33m\u001b[0m\u001b[0m\n\u001b[1;32m---> 77\u001b[1;33m         \u001b[0mjll\u001b[0m \u001b[1;33m=\u001b[0m \u001b[0mself\u001b[0m\u001b[1;33m.\u001b[0m\u001b[0m_joint_log_likelihood\u001b[0m\u001b[1;33m(\u001b[0m\u001b[0mX\u001b[0m\u001b[1;33m)\u001b[0m\u001b[1;33m\u001b[0m\u001b[1;33m\u001b[0m\u001b[0m\n\u001b[0m\u001b[0;32m     78\u001b[0m         \u001b[1;32mreturn\u001b[0m \u001b[0mself\u001b[0m\u001b[1;33m.\u001b[0m\u001b[0mclasses_\u001b[0m\u001b[1;33m[\u001b[0m\u001b[0mnp\u001b[0m\u001b[1;33m.\u001b[0m\u001b[0margmax\u001b[0m\u001b[1;33m(\u001b[0m\u001b[0mjll\u001b[0m\u001b[1;33m,\u001b[0m \u001b[0maxis\u001b[0m\u001b[1;33m=\u001b[0m\u001b[1;36m1\u001b[0m\u001b[1;33m)\u001b[0m\u001b[1;33m]\u001b[0m\u001b[1;33m\u001b[0m\u001b[1;33m\u001b[0m\u001b[0m\n\u001b[0;32m     79\u001b[0m \u001b[1;33m\u001b[0m\u001b[0m\n",
      "\u001b[1;32m~\\anaconda3\\lib\\site-packages\\sklearn\\naive_bayes.py\u001b[0m in \u001b[0;36m_joint_log_likelihood\u001b[1;34m(self, X)\u001b[0m\n\u001b[0;32m    768\u001b[0m     \u001b[1;32mdef\u001b[0m \u001b[0m_joint_log_likelihood\u001b[0m\u001b[1;33m(\u001b[0m\u001b[0mself\u001b[0m\u001b[1;33m,\u001b[0m \u001b[0mX\u001b[0m\u001b[1;33m)\u001b[0m\u001b[1;33m:\u001b[0m\u001b[1;33m\u001b[0m\u001b[1;33m\u001b[0m\u001b[0m\n\u001b[0;32m    769\u001b[0m         \u001b[1;34m\"\"\"Calculate the posterior log probability of the samples X\"\"\"\u001b[0m\u001b[1;33m\u001b[0m\u001b[1;33m\u001b[0m\u001b[0m\n\u001b[1;32m--> 770\u001b[1;33m         return (safe_sparse_dot(X, self.feature_log_prob_.T) +\n\u001b[0m\u001b[0;32m    771\u001b[0m                 self.class_log_prior_)\n\u001b[0;32m    772\u001b[0m \u001b[1;33m\u001b[0m\u001b[0m\n",
      "\u001b[1;32m~\\anaconda3\\lib\\site-packages\\sklearn\\utils\\extmath.py\u001b[0m in \u001b[0;36msafe_sparse_dot\u001b[1;34m(a, b, dense_output)\u001b[0m\n\u001b[0;32m    149\u001b[0m             \u001b[0mret\u001b[0m \u001b[1;33m=\u001b[0m \u001b[0mnp\u001b[0m\u001b[1;33m.\u001b[0m\u001b[0mdot\u001b[0m\u001b[1;33m(\u001b[0m\u001b[0ma\u001b[0m\u001b[1;33m,\u001b[0m \u001b[0mb\u001b[0m\u001b[1;33m)\u001b[0m\u001b[1;33m\u001b[0m\u001b[1;33m\u001b[0m\u001b[0m\n\u001b[0;32m    150\u001b[0m     \u001b[1;32melse\u001b[0m\u001b[1;33m:\u001b[0m\u001b[1;33m\u001b[0m\u001b[1;33m\u001b[0m\u001b[0m\n\u001b[1;32m--> 151\u001b[1;33m         \u001b[0mret\u001b[0m \u001b[1;33m=\u001b[0m \u001b[0ma\u001b[0m \u001b[1;33m@\u001b[0m \u001b[0mb\u001b[0m\u001b[1;33m\u001b[0m\u001b[1;33m\u001b[0m\u001b[0m\n\u001b[0m\u001b[0;32m    152\u001b[0m \u001b[1;33m\u001b[0m\u001b[0m\n\u001b[0;32m    153\u001b[0m     if (sparse.issparse(a) and sparse.issparse(b)\n",
      "\u001b[1;31mValueError\u001b[0m: matmul: Input operand 1 has a mismatch in its core dimension 0, with gufunc signature (n?,k),(k,m?)->(n?,m?) (size 89576 is different from 8)"
     ]
    }
   ],
   "source": [
    "## encodeing predict class\n",
    "text_predict_class = model.predict(test_vector)\n"
   ]
  },
  {
   "cell_type": "code",
   "execution_count": 75,
   "metadata": {},
   "outputs": [
    {
     "data": {
      "text/plain": [
       "<9x8 sparse matrix of type '<class 'numpy.int64'>'\n",
       "\twith 9 stored elements in Compressed Sparse Row format>"
      ]
     },
     "execution_count": 75,
     "metadata": {},
     "output_type": "execute_result"
    }
   ],
   "source": [
    "tweets_countvectorizer"
   ]
  },
  {
   "cell_type": "code",
   "execution_count": 58,
   "metadata": {},
   "outputs": [
    {
     "data": {
      "text/plain": [
       "<9x8 sparse matrix of type '<class 'numpy.int64'>'\n",
       "\twith 9 stored elements in Compressed Sparse Row format>"
      ]
     },
     "execution_count": 58,
     "metadata": {},
     "output_type": "execute_result"
    }
   ],
   "source": [
    "X"
   ]
  },
  {
   "cell_type": "code",
   "execution_count": 61,
   "metadata": {},
   "outputs": [],
   "source": [
    "Y=['']"
   ]
  },
  {
   "cell_type": "code",
   "execution_count": 62,
   "metadata": {},
   "outputs": [
    {
     "ename": "ValueError",
     "evalue": "dimension mismatch",
     "output_type": "error",
     "traceback": [
      "\u001b[1;31m---------------------------------------------------------------------------\u001b[0m",
      "\u001b[1;31mValueError\u001b[0m                                Traceback (most recent call last)",
      "\u001b[1;32m<ipython-input-62-43a58eb494e8>\u001b[0m in \u001b[0;36m<module>\u001b[1;34m\u001b[0m\n\u001b[1;32m----> 1\u001b[1;33m \u001b[0mmodel\u001b[0m\u001b[1;33m.\u001b[0m\u001b[0mpredict\u001b[0m\u001b[1;33m(\u001b[0m\u001b[0mX\u001b[0m\u001b[1;33m)\u001b[0m\u001b[1;33m\u001b[0m\u001b[1;33m\u001b[0m\u001b[0m\n\u001b[0m",
      "\u001b[1;32m~\\anaconda3\\lib\\site-packages\\sklearn\\naive_bayes.py\u001b[0m in \u001b[0;36mpredict\u001b[1;34m(self, X)\u001b[0m\n\u001b[0;32m     75\u001b[0m         \u001b[0mcheck_is_fitted\u001b[0m\u001b[1;33m(\u001b[0m\u001b[0mself\u001b[0m\u001b[1;33m)\u001b[0m\u001b[1;33m\u001b[0m\u001b[1;33m\u001b[0m\u001b[0m\n\u001b[0;32m     76\u001b[0m         \u001b[0mX\u001b[0m \u001b[1;33m=\u001b[0m \u001b[0mself\u001b[0m\u001b[1;33m.\u001b[0m\u001b[0m_check_X\u001b[0m\u001b[1;33m(\u001b[0m\u001b[0mX\u001b[0m\u001b[1;33m)\u001b[0m\u001b[1;33m\u001b[0m\u001b[1;33m\u001b[0m\u001b[0m\n\u001b[1;32m---> 77\u001b[1;33m         \u001b[0mjll\u001b[0m \u001b[1;33m=\u001b[0m \u001b[0mself\u001b[0m\u001b[1;33m.\u001b[0m\u001b[0m_joint_log_likelihood\u001b[0m\u001b[1;33m(\u001b[0m\u001b[0mX\u001b[0m\u001b[1;33m)\u001b[0m\u001b[1;33m\u001b[0m\u001b[1;33m\u001b[0m\u001b[0m\n\u001b[0m\u001b[0;32m     78\u001b[0m         \u001b[1;32mreturn\u001b[0m \u001b[0mself\u001b[0m\u001b[1;33m.\u001b[0m\u001b[0mclasses_\u001b[0m\u001b[1;33m[\u001b[0m\u001b[0mnp\u001b[0m\u001b[1;33m.\u001b[0m\u001b[0margmax\u001b[0m\u001b[1;33m(\u001b[0m\u001b[0mjll\u001b[0m\u001b[1;33m,\u001b[0m \u001b[0maxis\u001b[0m\u001b[1;33m=\u001b[0m\u001b[1;36m1\u001b[0m\u001b[1;33m)\u001b[0m\u001b[1;33m]\u001b[0m\u001b[1;33m\u001b[0m\u001b[1;33m\u001b[0m\u001b[0m\n\u001b[0;32m     79\u001b[0m \u001b[1;33m\u001b[0m\u001b[0m\n",
      "\u001b[1;32m~\\anaconda3\\lib\\site-packages\\sklearn\\naive_bayes.py\u001b[0m in \u001b[0;36m_joint_log_likelihood\u001b[1;34m(self, X)\u001b[0m\n\u001b[0;32m    768\u001b[0m     \u001b[1;32mdef\u001b[0m \u001b[0m_joint_log_likelihood\u001b[0m\u001b[1;33m(\u001b[0m\u001b[0mself\u001b[0m\u001b[1;33m,\u001b[0m \u001b[0mX\u001b[0m\u001b[1;33m)\u001b[0m\u001b[1;33m:\u001b[0m\u001b[1;33m\u001b[0m\u001b[1;33m\u001b[0m\u001b[0m\n\u001b[0;32m    769\u001b[0m         \u001b[1;34m\"\"\"Calculate the posterior log probability of the samples X\"\"\"\u001b[0m\u001b[1;33m\u001b[0m\u001b[1;33m\u001b[0m\u001b[0m\n\u001b[1;32m--> 770\u001b[1;33m         return (safe_sparse_dot(X, self.feature_log_prob_.T) +\n\u001b[0m\u001b[0;32m    771\u001b[0m                 self.class_log_prior_)\n\u001b[0;32m    772\u001b[0m \u001b[1;33m\u001b[0m\u001b[0m\n",
      "\u001b[1;32m~\\anaconda3\\lib\\site-packages\\sklearn\\utils\\extmath.py\u001b[0m in \u001b[0;36msafe_sparse_dot\u001b[1;34m(a, b, dense_output)\u001b[0m\n\u001b[0;32m    149\u001b[0m             \u001b[0mret\u001b[0m \u001b[1;33m=\u001b[0m \u001b[0mnp\u001b[0m\u001b[1;33m.\u001b[0m\u001b[0mdot\u001b[0m\u001b[1;33m(\u001b[0m\u001b[0ma\u001b[0m\u001b[1;33m,\u001b[0m \u001b[0mb\u001b[0m\u001b[1;33m)\u001b[0m\u001b[1;33m\u001b[0m\u001b[1;33m\u001b[0m\u001b[0m\n\u001b[0;32m    150\u001b[0m     \u001b[1;32melse\u001b[0m\u001b[1;33m:\u001b[0m\u001b[1;33m\u001b[0m\u001b[1;33m\u001b[0m\u001b[0m\n\u001b[1;32m--> 151\u001b[1;33m         \u001b[0mret\u001b[0m \u001b[1;33m=\u001b[0m \u001b[0ma\u001b[0m \u001b[1;33m@\u001b[0m \u001b[0mb\u001b[0m\u001b[1;33m\u001b[0m\u001b[1;33m\u001b[0m\u001b[0m\n\u001b[0m\u001b[0;32m    152\u001b[0m \u001b[1;33m\u001b[0m\u001b[0m\n\u001b[0;32m    153\u001b[0m     if (sparse.issparse(a) and sparse.issparse(b)\n",
      "\u001b[1;32m~\\anaconda3\\lib\\site-packages\\scipy\\sparse\\base.py\u001b[0m in \u001b[0;36m__matmul__\u001b[1;34m(self, other)\u001b[0m\n\u001b[0;32m    562\u001b[0m             raise ValueError(\"Scalar operands are not allowed, \"\n\u001b[0;32m    563\u001b[0m                              \"use '*' instead\")\n\u001b[1;32m--> 564\u001b[1;33m         \u001b[1;32mreturn\u001b[0m \u001b[0mself\u001b[0m\u001b[1;33m.\u001b[0m\u001b[0m__mul__\u001b[0m\u001b[1;33m(\u001b[0m\u001b[0mother\u001b[0m\u001b[1;33m)\u001b[0m\u001b[1;33m\u001b[0m\u001b[1;33m\u001b[0m\u001b[0m\n\u001b[0m\u001b[0;32m    565\u001b[0m \u001b[1;33m\u001b[0m\u001b[0m\n\u001b[0;32m    566\u001b[0m     \u001b[1;32mdef\u001b[0m \u001b[0m__rmatmul__\u001b[0m\u001b[1;33m(\u001b[0m\u001b[0mself\u001b[0m\u001b[1;33m,\u001b[0m \u001b[0mother\u001b[0m\u001b[1;33m)\u001b[0m\u001b[1;33m:\u001b[0m\u001b[1;33m\u001b[0m\u001b[1;33m\u001b[0m\u001b[0m\n",
      "\u001b[1;32m~\\anaconda3\\lib\\site-packages\\scipy\\sparse\\base.py\u001b[0m in \u001b[0;36m__mul__\u001b[1;34m(self, other)\u001b[0m\n\u001b[0;32m    518\u001b[0m \u001b[1;33m\u001b[0m\u001b[0m\n\u001b[0;32m    519\u001b[0m             \u001b[1;32mif\u001b[0m \u001b[0mother\u001b[0m\u001b[1;33m.\u001b[0m\u001b[0mshape\u001b[0m\u001b[1;33m[\u001b[0m\u001b[1;36m0\u001b[0m\u001b[1;33m]\u001b[0m \u001b[1;33m!=\u001b[0m \u001b[0mself\u001b[0m\u001b[1;33m.\u001b[0m\u001b[0mshape\u001b[0m\u001b[1;33m[\u001b[0m\u001b[1;36m1\u001b[0m\u001b[1;33m]\u001b[0m\u001b[1;33m:\u001b[0m\u001b[1;33m\u001b[0m\u001b[1;33m\u001b[0m\u001b[0m\n\u001b[1;32m--> 520\u001b[1;33m                 \u001b[1;32mraise\u001b[0m \u001b[0mValueError\u001b[0m\u001b[1;33m(\u001b[0m\u001b[1;34m'dimension mismatch'\u001b[0m\u001b[1;33m)\u001b[0m\u001b[1;33m\u001b[0m\u001b[1;33m\u001b[0m\u001b[0m\n\u001b[0m\u001b[0;32m    521\u001b[0m \u001b[1;33m\u001b[0m\u001b[0m\n\u001b[0;32m    522\u001b[0m             \u001b[0mresult\u001b[0m \u001b[1;33m=\u001b[0m \u001b[0mself\u001b[0m\u001b[1;33m.\u001b[0m\u001b[0m_mul_multivector\u001b[0m\u001b[1;33m(\u001b[0m\u001b[0mnp\u001b[0m\u001b[1;33m.\u001b[0m\u001b[0masarray\u001b[0m\u001b[1;33m(\u001b[0m\u001b[0mother\u001b[0m\u001b[1;33m)\u001b[0m\u001b[1;33m)\u001b[0m\u001b[1;33m\u001b[0m\u001b[1;33m\u001b[0m\u001b[0m\n",
      "\u001b[1;31mValueError\u001b[0m: dimension mismatch"
     ]
    }
   ],
   "source": [
    "model.predict(X)"
   ]
  },
  {
   "cell_type": "code",
   "execution_count": null,
   "metadata": {},
   "outputs": [],
   "source": []
  }
 ],
 "metadata": {
  "accelerator": "GPU",
  "colab": {
   "collapsed_sections": [],
   "name": "Twitter Sentiment Analysis.ipynb",
   "provenance": []
  },
  "kernelspec": {
   "display_name": "Python 3",
   "language": "python",
   "name": "python3"
  },
  "language_info": {
   "codemirror_mode": {
    "name": "ipython",
    "version": 3
   },
   "file_extension": ".py",
   "mimetype": "text/x-python",
   "name": "python",
   "nbconvert_exporter": "python",
   "pygments_lexer": "ipython3",
   "version": "3.7.6"
  }
 },
 "nbformat": 4,
 "nbformat_minor": 4
}
