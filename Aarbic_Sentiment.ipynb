{
 "cells": [
  {
   "cell_type": "markdown",
   "metadata": {
    "colab_type": "text",
    "id": "uAE6Icc0uylP"
   },
   "source": [
    "# TASK #2: IMPORT LIBRARIES AND DATASETS"
   ]
  },
  {
   "cell_type": "markdown",
   "metadata": {
    "colab_type": "text",
    "id": "VbX0jYELZend"
   },
   "source": [
    "Data source: https://www.kaggle.com/arkhoshghalb/twitter-sentiment-analysis-hatred-speech"
   ]
  },
  {
   "cell_type": "code",
   "execution_count": 2,
   "metadata": {
    "colab": {
     "base_uri": "https://localhost:8080/",
     "height": 70
    },
    "colab_type": "code",
    "id": "YBp2qDPb8pDo",
    "outputId": "42021516-5452-4958-b8fb-71111552dbd3"
   },
   "outputs": [],
   "source": [
    "import pandas as pd\n",
    "import numpy as np\n",
    "import seaborn as sns\n",
    "import matplotlib.pyplot as plt "
   ]
  },
  {
   "cell_type": "code",
   "execution_count": 3,
   "metadata": {},
   "outputs": [],
   "source": [
    "# Load the data\n",
    "tweets_df = pd.read_csv(\"Arabic_Sentiment.csv\")"
   ]
  },
  {
   "cell_type": "code",
   "execution_count": 4,
   "metadata": {},
   "outputs": [
    {
     "data": {
      "text/html": [
       "<div>\n",
       "<style scoped>\n",
       "    .dataframe tbody tr th:only-of-type {\n",
       "        vertical-align: middle;\n",
       "    }\n",
       "\n",
       "    .dataframe tbody tr th {\n",
       "        vertical-align: top;\n",
       "    }\n",
       "\n",
       "    .dataframe thead th {\n",
       "        text-align: right;\n",
       "    }\n",
       "</style>\n",
       "<table border=\"1\" class=\"dataframe\">\n",
       "  <thead>\n",
       "    <tr style=\"text-align: right;\">\n",
       "      <th></th>\n",
       "      <th>text</th>\n",
       "      <th>Sentiment</th>\n",
       "    </tr>\n",
       "  </thead>\n",
       "  <tbody>\n",
       "    <tr>\n",
       "      <th>0</th>\n",
       "      <td>حقوق المرأة 💚💚💚 https://t.co/Mzf90Ta5g1</td>\n",
       "      <td>1</td>\n",
       "    </tr>\n",
       "    <tr>\n",
       "      <th>1</th>\n",
       "      <td>RT @___IHAVENOIDEA: حقوق المرأة في الإسلام. ht...</td>\n",
       "      <td>1</td>\n",
       "    </tr>\n",
       "    <tr>\n",
       "      <th>2</th>\n",
       "      <td>RT @saud_talep: Retweeted لجنة التنمية بشبرا (...</td>\n",
       "      <td>1</td>\n",
       "    </tr>\n",
       "    <tr>\n",
       "      <th>3</th>\n",
       "      <td>RT @MojKsa: حقوق المرأة التي تضمنها لها وزارة ...</td>\n",
       "      <td>1</td>\n",
       "    </tr>\n",
       "    <tr>\n",
       "      <th>4</th>\n",
       "      <td>RT @abm112211: ولي امر الزوجة او ولي الزوجة او...</td>\n",
       "      <td>1</td>\n",
       "    </tr>\n",
       "    <tr>\n",
       "      <th>...</th>\n",
       "      <td>...</td>\n",
       "      <td>...</td>\n",
       "    </tr>\n",
       "    <tr>\n",
       "      <th>4247</th>\n",
       "      <td>#غرد_بحبك_لمحمد_بن_سلمان ❤️</td>\n",
       "      <td>1</td>\n",
       "    </tr>\n",
       "    <tr>\n",
       "      <th>4248</th>\n",
       "      <td>#غرد_بحبك_لمحمد_بن_سلمان \\n محمدبن سلمان احبه ...</td>\n",
       "      <td>1</td>\n",
       "    </tr>\n",
       "    <tr>\n",
       "      <th>4249</th>\n",
       "      <td>#غرد_بحبك_لمحمد_بن_سلمان \\n الله يحفظك يا ذخر ...</td>\n",
       "      <td>1</td>\n",
       "    </tr>\n",
       "    <tr>\n",
       "      <th>4250</th>\n",
       "      <td>#غرد_بحبك_لمحمد_بن_سلمان \\n \\n الله يحفظه ويحم...</td>\n",
       "      <td>1</td>\n",
       "    </tr>\n",
       "    <tr>\n",
       "      <th>4251</th>\n",
       "      <td>#غرد_بحبك_لمحمد_بن_سلمان \\n \\n احبه احبه ياخي ...</td>\n",
       "      <td>1</td>\n",
       "    </tr>\n",
       "  </tbody>\n",
       "</table>\n",
       "<p>4252 rows × 2 columns</p>\n",
       "</div>"
      ],
      "text/plain": [
       "                                                   text  Sentiment\n",
       "0               حقوق المرأة 💚💚💚 https://t.co/Mzf90Ta5g1          1\n",
       "1     RT @___IHAVENOIDEA: حقوق المرأة في الإسلام. ht...          1\n",
       "2     RT @saud_talep: Retweeted لجنة التنمية بشبرا (...          1\n",
       "3     RT @MojKsa: حقوق المرأة التي تضمنها لها وزارة ...          1\n",
       "4     RT @abm112211: ولي امر الزوجة او ولي الزوجة او...          1\n",
       "...                                                 ...        ...\n",
       "4247                        #غرد_بحبك_لمحمد_بن_سلمان ❤️          1\n",
       "4248  #غرد_بحبك_لمحمد_بن_سلمان \\n محمدبن سلمان احبه ...          1\n",
       "4249  #غرد_بحبك_لمحمد_بن_سلمان \\n الله يحفظك يا ذخر ...          1\n",
       "4250  #غرد_بحبك_لمحمد_بن_سلمان \\n \\n الله يحفظه ويحم...          1\n",
       "4251  #غرد_بحبك_لمحمد_بن_سلمان \\n \\n احبه احبه ياخي ...          1\n",
       "\n",
       "[4252 rows x 2 columns]"
      ]
     },
     "execution_count": 4,
     "metadata": {},
     "output_type": "execute_result"
    }
   ],
   "source": [
    "tweets_df"
   ]
  },
  {
   "cell_type": "code",
   "execution_count": null,
   "metadata": {},
   "outputs": [],
   "source": []
  },
  {
   "cell_type": "code",
   "execution_count": null,
   "metadata": {},
   "outputs": [],
   "source": []
  },
  {
   "cell_type": "code",
   "execution_count": 5,
   "metadata": {
    "colab": {
     "base_uri": "https://localhost:8080/",
     "height": 185
    },
    "colab_type": "code",
    "id": "RUt2ON_UxyYk",
    "outputId": "4948f7ca-ec1b-4561-97bb-8d3ce688e623"
   },
   "outputs": [
    {
     "name": "stdout",
     "output_type": "stream",
     "text": [
      "<class 'pandas.core.frame.DataFrame'>\n",
      "RangeIndex: 4252 entries, 0 to 4251\n",
      "Data columns (total 2 columns):\n",
      " #   Column     Non-Null Count  Dtype \n",
      "---  ------     --------------  ----- \n",
      " 0   text       4252 non-null   object\n",
      " 1   Sentiment  4252 non-null   int64 \n",
      "dtypes: int64(1), object(1)\n",
      "memory usage: 66.6+ KB\n"
     ]
    }
   ],
   "source": [
    "tweets_df.info()"
   ]
  },
  {
   "cell_type": "code",
   "execution_count": 6,
   "metadata": {
    "colab": {
     "base_uri": "https://localhost:8080/",
     "height": 284
    },
    "colab_type": "code",
    "id": "hMq3-KWOx0e1",
    "outputId": "d2e856cc-639b-4ff5-a939-dadbb237fdc1"
   },
   "outputs": [
    {
     "data": {
      "text/html": [
       "<div>\n",
       "<style scoped>\n",
       "    .dataframe tbody tr th:only-of-type {\n",
       "        vertical-align: middle;\n",
       "    }\n",
       "\n",
       "    .dataframe tbody tr th {\n",
       "        vertical-align: top;\n",
       "    }\n",
       "\n",
       "    .dataframe thead th {\n",
       "        text-align: right;\n",
       "    }\n",
       "</style>\n",
       "<table border=\"1\" class=\"dataframe\">\n",
       "  <thead>\n",
       "    <tr style=\"text-align: right;\">\n",
       "      <th></th>\n",
       "      <th>Sentiment</th>\n",
       "    </tr>\n",
       "  </thead>\n",
       "  <tbody>\n",
       "    <tr>\n",
       "      <th>count</th>\n",
       "      <td>4252.000000</td>\n",
       "    </tr>\n",
       "    <tr>\n",
       "      <th>mean</th>\n",
       "      <td>0.572907</td>\n",
       "    </tr>\n",
       "    <tr>\n",
       "      <th>std</th>\n",
       "      <td>0.494714</td>\n",
       "    </tr>\n",
       "    <tr>\n",
       "      <th>min</th>\n",
       "      <td>0.000000</td>\n",
       "    </tr>\n",
       "    <tr>\n",
       "      <th>25%</th>\n",
       "      <td>0.000000</td>\n",
       "    </tr>\n",
       "    <tr>\n",
       "      <th>50%</th>\n",
       "      <td>1.000000</td>\n",
       "    </tr>\n",
       "    <tr>\n",
       "      <th>75%</th>\n",
       "      <td>1.000000</td>\n",
       "    </tr>\n",
       "    <tr>\n",
       "      <th>max</th>\n",
       "      <td>1.000000</td>\n",
       "    </tr>\n",
       "  </tbody>\n",
       "</table>\n",
       "</div>"
      ],
      "text/plain": [
       "         Sentiment\n",
       "count  4252.000000\n",
       "mean      0.572907\n",
       "std       0.494714\n",
       "min       0.000000\n",
       "25%       0.000000\n",
       "50%       1.000000\n",
       "75%       1.000000\n",
       "max       1.000000"
      ]
     },
     "execution_count": 6,
     "metadata": {},
     "output_type": "execute_result"
    }
   ],
   "source": [
    "tweets_df.describe()"
   ]
  },
  {
   "cell_type": "code",
   "execution_count": 9,
   "metadata": {
    "colab": {
     "base_uri": "https://localhost:8080/",
     "height": 218
    },
    "colab_type": "code",
    "id": "0uwENWm__yoA",
    "outputId": "2e360117-80c3-4bce-e61a-1aa21ba804f4"
   },
   "outputs": [
    {
     "data": {
      "text/plain": [
       "0                 حقوق المرأة 💚💚💚 https://t.co/Mzf90Ta5g1\n",
       "1       RT @___IHAVENOIDEA: حقوق المرأة في الإسلام. ht...\n",
       "2       RT @saud_talep: Retweeted لجنة التنمية بشبرا (...\n",
       "3       RT @MojKsa: حقوق المرأة التي تضمنها لها وزارة ...\n",
       "4       RT @abm112211: ولي امر الزوجة او ولي الزوجة او...\n",
       "                              ...                        \n",
       "4247                          #غرد_بحبك_لمحمد_بن_سلمان ❤️\n",
       "4248    #غرد_بحبك_لمحمد_بن_سلمان \\n محمدبن سلمان احبه ...\n",
       "4249    #غرد_بحبك_لمحمد_بن_سلمان \\n الله يحفظك يا ذخر ...\n",
       "4250    #غرد_بحبك_لمحمد_بن_سلمان \\n \\n الله يحفظه ويحم...\n",
       "4251    #غرد_بحبك_لمحمد_بن_سلمان \\n \\n احبه احبه ياخي ...\n",
       "Name: text, Length: 4252, dtype: object"
      ]
     },
     "execution_count": 9,
     "metadata": {},
     "output_type": "execute_result"
    }
   ],
   "source": [
    "tweets_df[\"text\"]"
   ]
  },
  {
   "cell_type": "markdown",
   "metadata": {
    "colab_type": "text",
    "id": "LlszUhNNyrl_"
   },
   "source": [
    "# TASK #3: EXPLORE DATASET"
   ]
  },
  {
   "cell_type": "code",
   "execution_count": 10,
   "metadata": {
    "colab": {
     "base_uri": "https://localhost:8080/",
     "height": 282
    },
    "colab_type": "code",
    "id": "504hnDW71Afb",
    "outputId": "d1672649-7f4b-4ea1-8854-20014a18b4d0"
   },
   "outputs": [
    {
     "data": {
      "text/plain": [
       "<matplotlib.axes._subplots.AxesSubplot at 0x2fafbd2cf88>"
      ]
     },
     "execution_count": 10,
     "metadata": {},
     "output_type": "execute_result"
    },
    {
     "data": {
      "image/png": "[encoded data removed]",
      "text/plain": [
       "<Figure size 432x288 with 1 Axes>"
      ]
     },
     "metadata": {
      "needs_background": "light"
     },
     "output_type": "display_data"
    }
   ],
   "source": [
    "sns.heatmap(tweets_df.isnull(), yticklabels = False, cbar = False, cmap=\"Blues\")"
   ]
  },
  {
   "cell_type": "code",
   "execution_count": 11,
   "metadata": {
    "colab": {
     "base_uri": "https://localhost:8080/",
     "height": 386
    },
    "colab_type": "code",
    "id": "zflUg_k50qPy",
    "outputId": "d072f994-da9c-4074-ec7e-631028203e7b"
   },
   "outputs": [
    {
     "data": {
      "text/plain": [
       "array([[<matplotlib.axes._subplots.AxesSubplot object at 0x000002FAFBCEB908>]],\n",
       "      dtype=object)"
      ]
     },
     "execution_count": 11,
     "metadata": {},
     "output_type": "execute_result"
    },
    {
     "data": {
      "image/png": "[encoded data removed]",
      "text/plain": [
       "<Figure size 936x360 with 1 Axes>"
      ]
     },
     "metadata": {
      "needs_background": "light"
     },
     "output_type": "display_data"
    }
   ],
   "source": [
    "tweets_df.hist(bins = 30, figsize = (13,5), color = 'r')"
   ]
  },
  {
   "cell_type": "markdown",
   "metadata": {},
   "source": [
    "MINI CHALLENGE #2: \n",
    "- Plot similar figure using seaborn countplot"
   ]
  },
  {
   "cell_type": "code",
   "execution_count": 13,
   "metadata": {},
   "outputs": [
    {
     "data": {
      "text/plain": [
       "<matplotlib.axes._subplots.AxesSubplot at 0x2fafc708f48>"
      ]
     },
     "execution_count": 13,
     "metadata": {},
     "output_type": "execute_result"
    },
    {
     "data": {
      "image/png": "[encoded data removed]",
      "text/plain": [
       "<Figure size 432x288 with 1 Axes>"
      ]
     },
     "metadata": {
      "needs_background": "light"
     },
     "output_type": "display_data"
    }
   ],
   "source": [
    "sns.countplot(tweets_df[\"Sentiment\"])"
   ]
  },
  {
   "cell_type": "code",
   "execution_count": 14,
   "metadata": {
    "colab": {
     "base_uri": "https://localhost:8080/",
     "height": 195
    },
    "colab_type": "code",
    "id": "ZiVkQqEPMDDD",
    "outputId": "e6c55d99-6ebd-4972-8cfe-0963147e7eb3"
   },
   "outputs": [],
   "source": [
    "# Let's get the length of the messages\n",
    "tweets_df[\"length\"] = tweets_df[\"text\"].apply(len)"
   ]
  },
  {
   "cell_type": "code",
   "execution_count": 15,
   "metadata": {},
   "outputs": [
    {
     "data": {
      "text/html": [
       "<div>\n",
       "<style scoped>\n",
       "    .dataframe tbody tr th:only-of-type {\n",
       "        vertical-align: middle;\n",
       "    }\n",
       "\n",
       "    .dataframe tbody tr th {\n",
       "        vertical-align: top;\n",
       "    }\n",
       "\n",
       "    .dataframe thead th {\n",
       "        text-align: right;\n",
       "    }\n",
       "</style>\n",
       "<table border=\"1\" class=\"dataframe\">\n",
       "  <thead>\n",
       "    <tr style=\"text-align: right;\">\n",
       "      <th></th>\n",
       "      <th>text</th>\n",
       "      <th>Sentiment</th>\n",
       "      <th>length</th>\n",
       "    </tr>\n",
       "  </thead>\n",
       "  <tbody>\n",
       "    <tr>\n",
       "      <th>0</th>\n",
       "      <td>حقوق المرأة 💚💚💚 https://t.co/Mzf90Ta5g1</td>\n",
       "      <td>1</td>\n",
       "      <td>39</td>\n",
       "    </tr>\n",
       "    <tr>\n",
       "      <th>1</th>\n",
       "      <td>RT @___IHAVENOIDEA: حقوق المرأة في الإسلام. ht...</td>\n",
       "      <td>1</td>\n",
       "      <td>67</td>\n",
       "    </tr>\n",
       "    <tr>\n",
       "      <th>2</th>\n",
       "      <td>RT @saud_talep: Retweeted لجنة التنمية بشبرا (...</td>\n",
       "      <td>1</td>\n",
       "      <td>158</td>\n",
       "    </tr>\n",
       "    <tr>\n",
       "      <th>3</th>\n",
       "      <td>RT @MojKsa: حقوق المرأة التي تضمنها لها وزارة ...</td>\n",
       "      <td>1</td>\n",
       "      <td>75</td>\n",
       "    </tr>\n",
       "    <tr>\n",
       "      <th>4</th>\n",
       "      <td>RT @abm112211: ولي امر الزوجة او ولي الزوجة او...</td>\n",
       "      <td>1</td>\n",
       "      <td>299</td>\n",
       "    </tr>\n",
       "    <tr>\n",
       "      <th>...</th>\n",
       "      <td>...</td>\n",
       "      <td>...</td>\n",
       "      <td>...</td>\n",
       "    </tr>\n",
       "    <tr>\n",
       "      <th>4247</th>\n",
       "      <td>#غرد_بحبك_لمحمد_بن_سلمان ❤️</td>\n",
       "      <td>1</td>\n",
       "      <td>27</td>\n",
       "    </tr>\n",
       "    <tr>\n",
       "      <th>4248</th>\n",
       "      <td>#غرد_بحبك_لمحمد_بن_سلمان \\n محمدبن سلمان احبه ...</td>\n",
       "      <td>1</td>\n",
       "      <td>250</td>\n",
       "    </tr>\n",
       "    <tr>\n",
       "      <th>4249</th>\n",
       "      <td>#غرد_بحبك_لمحمد_بن_سلمان \\n الله يحفظك يا ذخر ...</td>\n",
       "      <td>1</td>\n",
       "      <td>59</td>\n",
       "    </tr>\n",
       "    <tr>\n",
       "      <th>4250</th>\n",
       "      <td>#غرد_بحبك_لمحمد_بن_سلمان \\n \\n الله يحفظه ويحم...</td>\n",
       "      <td>1</td>\n",
       "      <td>65</td>\n",
       "    </tr>\n",
       "    <tr>\n",
       "      <th>4251</th>\n",
       "      <td>#غرد_بحبك_لمحمد_بن_سلمان \\n \\n احبه احبه ياخي ...</td>\n",
       "      <td>1</td>\n",
       "      <td>51</td>\n",
       "    </tr>\n",
       "  </tbody>\n",
       "</table>\n",
       "<p>4252 rows × 3 columns</p>\n",
       "</div>"
      ],
      "text/plain": [
       "                                                   text  Sentiment  length\n",
       "0               حقوق المرأة 💚💚💚 https://t.co/Mzf90Ta5g1          1      39\n",
       "1     RT @___IHAVENOIDEA: حقوق المرأة في الإسلام. ht...          1      67\n",
       "2     RT @saud_talep: Retweeted لجنة التنمية بشبرا (...          1     158\n",
       "3     RT @MojKsa: حقوق المرأة التي تضمنها لها وزارة ...          1      75\n",
       "4     RT @abm112211: ولي امر الزوجة او ولي الزوجة او...          1     299\n",
       "...                                                 ...        ...     ...\n",
       "4247                        #غرد_بحبك_لمحمد_بن_سلمان ❤️          1      27\n",
       "4248  #غرد_بحبك_لمحمد_بن_سلمان \\n محمدبن سلمان احبه ...          1     250\n",
       "4249  #غرد_بحبك_لمحمد_بن_سلمان \\n الله يحفظك يا ذخر ...          1      59\n",
       "4250  #غرد_بحبك_لمحمد_بن_سلمان \\n \\n الله يحفظه ويحم...          1      65\n",
       "4251  #غرد_بحبك_لمحمد_بن_سلمان \\n \\n احبه احبه ياخي ...          1      51\n",
       "\n",
       "[4252 rows x 3 columns]"
      ]
     },
     "execution_count": 15,
     "metadata": {},
     "output_type": "execute_result"
    }
   ],
   "source": [
    "tweets_df"
   ]
  },
  {
   "cell_type": "code",
   "execution_count": 16,
   "metadata": {
    "colab": {
     "base_uri": "https://localhost:8080/",
     "height": 285
    },
    "colab_type": "code",
    "id": "RYLqq7WetK79",
    "outputId": "b7064682-90d8-47d4-ace2-86a81ac9bfe5"
   },
   "outputs": [
    {
     "data": {
      "text/plain": [
       "<matplotlib.axes._subplots.AxesSubplot at 0x2fafc708848>"
      ]
     },
     "execution_count": 16,
     "metadata": {},
     "output_type": "execute_result"
    },
    {
     "data": {
      "image/png": "[encoded data removed]",
      "text/plain": [
       "<Figure size 432x288 with 1 Axes>"
      ]
     },
     "metadata": {
      "needs_background": "light"
     },
     "output_type": "display_data"
    }
   ],
   "source": [
    "tweets_df['length'].plot(bins=100, kind='hist') "
   ]
  },
  {
   "cell_type": "code",
   "execution_count": 17,
   "metadata": {
    "colab": {
     "base_uri": "https://localhost:8080/",
     "height": 168
    },
    "colab_type": "code",
    "id": "bf22hdT0KFVs",
    "outputId": "932c9425-fbda-4c1b-9c52-0d4c53648733"
   },
   "outputs": [
    {
     "data": {
      "text/html": [
       "<div>\n",
       "<style scoped>\n",
       "    .dataframe tbody tr th:only-of-type {\n",
       "        vertical-align: middle;\n",
       "    }\n",
       "\n",
       "    .dataframe tbody tr th {\n",
       "        vertical-align: top;\n",
       "    }\n",
       "\n",
       "    .dataframe thead th {\n",
       "        text-align: right;\n",
       "    }\n",
       "</style>\n",
       "<table border=\"1\" class=\"dataframe\">\n",
       "  <thead>\n",
       "    <tr style=\"text-align: right;\">\n",
       "      <th></th>\n",
       "      <th>Sentiment</th>\n",
       "      <th>length</th>\n",
       "    </tr>\n",
       "  </thead>\n",
       "  <tbody>\n",
       "    <tr>\n",
       "      <th>count</th>\n",
       "      <td>4252.000000</td>\n",
       "      <td>4252.000000</td>\n",
       "    </tr>\n",
       "    <tr>\n",
       "      <th>mean</th>\n",
       "      <td>0.572907</td>\n",
       "      <td>152.789040</td>\n",
       "    </tr>\n",
       "    <tr>\n",
       "      <th>std</th>\n",
       "      <td>0.494714</td>\n",
       "      <td>83.242103</td>\n",
       "    </tr>\n",
       "    <tr>\n",
       "      <th>min</th>\n",
       "      <td>0.000000</td>\n",
       "      <td>6.000000</td>\n",
       "    </tr>\n",
       "    <tr>\n",
       "      <th>25%</th>\n",
       "      <td>0.000000</td>\n",
       "      <td>81.000000</td>\n",
       "    </tr>\n",
       "    <tr>\n",
       "      <th>50%</th>\n",
       "      <td>1.000000</td>\n",
       "      <td>137.000000</td>\n",
       "    </tr>\n",
       "    <tr>\n",
       "      <th>75%</th>\n",
       "      <td>1.000000</td>\n",
       "      <td>226.000000</td>\n",
       "    </tr>\n",
       "    <tr>\n",
       "      <th>max</th>\n",
       "      <td>1.000000</td>\n",
       "      <td>355.000000</td>\n",
       "    </tr>\n",
       "  </tbody>\n",
       "</table>\n",
       "</div>"
      ],
      "text/plain": [
       "         Sentiment       length\n",
       "count  4252.000000  4252.000000\n",
       "mean      0.572907   152.789040\n",
       "std       0.494714    83.242103\n",
       "min       0.000000     6.000000\n",
       "25%       0.000000    81.000000\n",
       "50%       1.000000   137.000000\n",
       "75%       1.000000   226.000000\n",
       "max       1.000000   355.000000"
      ]
     },
     "execution_count": 17,
     "metadata": {},
     "output_type": "execute_result"
    }
   ],
   "source": [
    "tweets_df.describe()"
   ]
  },
  {
   "cell_type": "code",
   "execution_count": null,
   "metadata": {
    "colab": {
     "base_uri": "https://localhost:8080/",
     "height": 34
    },
    "colab_type": "code",
    "id": "NECH94w1KSpS",
    "outputId": "cbe89a9e-f2ee-4ef2-9e4a-00382e00aa76"
   },
   "outputs": [],
   "source": []
  },
  {
   "cell_type": "code",
   "execution_count": null,
   "metadata": {
    "colab": {
     "base_uri": "https://localhost:8080/",
     "height": 34
    },
    "colab_type": "code",
    "id": "V9cjJVlzKWBZ",
    "outputId": "526cbf7c-e607-46cf-fbaf-dffac96e8f3e"
   },
   "outputs": [],
   "source": []
  },
  {
   "cell_type": "code",
   "execution_count": 27,
   "metadata": {
    "colab": {},
    "colab_type": "code",
    "id": "5d38HsgdA3LA"
   },
   "outputs": [],
   "source": [
    "positive = tweets_df[tweets_df['Sentiment']==0]"
   ]
  },
  {
   "cell_type": "code",
   "execution_count": 28,
   "metadata": {
    "colab": {
     "base_uri": "https://localhost:8080/",
     "height": 402
    },
    "colab_type": "code",
    "id": "wufaGhOxuzpP",
    "outputId": "53f6c925-3a86-4608-b933-940bf72d9f4e"
   },
   "outputs": [
    {
     "data": {
      "text/html": [
       "<div>\n",
       "<style scoped>\n",
       "    .dataframe tbody tr th:only-of-type {\n",
       "        vertical-align: middle;\n",
       "    }\n",
       "\n",
       "    .dataframe tbody tr th {\n",
       "        vertical-align: top;\n",
       "    }\n",
       "\n",
       "    .dataframe thead th {\n",
       "        text-align: right;\n",
       "    }\n",
       "</style>\n",
       "<table border=\"1\" class=\"dataframe\">\n",
       "  <thead>\n",
       "    <tr style=\"text-align: right;\">\n",
       "      <th></th>\n",
       "      <th>text</th>\n",
       "      <th>Sentiment</th>\n",
       "      <th>length</th>\n",
       "    </tr>\n",
       "  </thead>\n",
       "  <tbody>\n",
       "    <tr>\n",
       "      <th>75</th>\n",
       "      <td>RT @Alyahyamo7ammad: #تضامن_مع_ترف_العسيري\\n أ...</td>\n",
       "      <td>0</td>\n",
       "      <td>301</td>\n",
       "    </tr>\n",
       "    <tr>\n",
       "      <th>76</th>\n",
       "      <td>@Ania27El نحن في زمن كثر فيه دعاة الحرية وحقوق...</td>\n",
       "      <td>0</td>\n",
       "      <td>251</td>\n",
       "    </tr>\n",
       "    <tr>\n",
       "      <th>77</th>\n",
       "      <td>حقوق المرأة افكار وهميه</td>\n",
       "      <td>0</td>\n",
       "      <td>23</td>\n",
       "    </tr>\n",
       "    <tr>\n",
       "      <th>78</th>\n",
       "      <td>RT @semo55771076: @___IHAVENOIDEA لا تقول حقوق...</td>\n",
       "      <td>0</td>\n",
       "      <td>262</td>\n",
       "    </tr>\n",
       "    <tr>\n",
       "      <th>79</th>\n",
       "      <td>@Badro_0 مشكلتنا في من يعتقد ان مخالفت التعالي...</td>\n",
       "      <td>0</td>\n",
       "      <td>255</td>\n",
       "    </tr>\n",
       "    <tr>\n",
       "      <th>...</th>\n",
       "      <td>...</td>\n",
       "      <td>...</td>\n",
       "      <td>...</td>\n",
       "    </tr>\n",
       "    <tr>\n",
       "      <th>3996</th>\n",
       "      <td>#مهندسون_معطلون_في_ياهلا بلد المشاريع بلد الخي...</td>\n",
       "      <td>0</td>\n",
       "      <td>140</td>\n",
       "    </tr>\n",
       "    <tr>\n",
       "      <th>3997</th>\n",
       "      <td>#مهندسون_معطلون_في_ياهلا المشكله الرئيسية مو ف...</td>\n",
       "      <td>0</td>\n",
       "      <td>177</td>\n",
       "    </tr>\n",
       "    <tr>\n",
       "      <th>3998</th>\n",
       "      <td>#مهندسون_معطلون_في_ياهلا الحلول الموقته للوضاي...</td>\n",
       "      <td>0</td>\n",
       "      <td>163</td>\n",
       "    </tr>\n",
       "    <tr>\n",
       "      <th>3999</th>\n",
       "      <td>#مهندسون_معطلون_في_ياهلا \\n اويلي هالعمر راح 💔</td>\n",
       "      <td>0</td>\n",
       "      <td>45</td>\n",
       "    </tr>\n",
       "    <tr>\n",
       "      <th>4000</th>\n",
       "      <td>#تمهير طالبين مهندس مدني بدون خبرة ويرفضوني عش...</td>\n",
       "      <td>0</td>\n",
       "      <td>132</td>\n",
       "    </tr>\n",
       "  </tbody>\n",
       "</table>\n",
       "<p>1816 rows × 3 columns</p>\n",
       "</div>"
      ],
      "text/plain": [
       "                                                   text  Sentiment  length\n",
       "75    RT @Alyahyamo7ammad: #تضامن_مع_ترف_العسيري\\n أ...          0     301\n",
       "76    @Ania27El نحن في زمن كثر فيه دعاة الحرية وحقوق...          0     251\n",
       "77                              حقوق المرأة افكار وهميه          0      23\n",
       "78    RT @semo55771076: @___IHAVENOIDEA لا تقول حقوق...          0     262\n",
       "79    @Badro_0 مشكلتنا في من يعتقد ان مخالفت التعالي...          0     255\n",
       "...                                                 ...        ...     ...\n",
       "3996  #مهندسون_معطلون_في_ياهلا بلد المشاريع بلد الخي...          0     140\n",
       "3997  #مهندسون_معطلون_في_ياهلا المشكله الرئيسية مو ف...          0     177\n",
       "3998  #مهندسون_معطلون_في_ياهلا الحلول الموقته للوضاي...          0     163\n",
       "3999     #مهندسون_معطلون_في_ياهلا \\n اويلي هالعمر راح 💔          0      45\n",
       "4000  #تمهير طالبين مهندس مدني بدون خبرة ويرفضوني عش...          0     132\n",
       "\n",
       "[1816 rows x 3 columns]"
      ]
     },
     "execution_count": 28,
     "metadata": {},
     "output_type": "execute_result"
    }
   ],
   "source": [
    "positive"
   ]
  },
  {
   "cell_type": "code",
   "execution_count": 30,
   "metadata": {
    "colab": {},
    "colab_type": "code",
    "id": "cv3wJuaEBNaX"
   },
   "outputs": [],
   "source": [
    "negative = tweets_df[tweets_df['Sentiment']==1]"
   ]
  },
  {
   "cell_type": "code",
   "execution_count": 31,
   "metadata": {
    "colab": {
     "base_uri": "https://localhost:8080/",
     "height": 402
    },
    "colab_type": "code",
    "id": "tQVHiaOUBSZB",
    "outputId": "2aed3344-4bd7-4f45-c7e8-57a7ba9a141c"
   },
   "outputs": [
    {
     "data": {
      "text/html": [
       "<div>\n",
       "<style scoped>\n",
       "    .dataframe tbody tr th:only-of-type {\n",
       "        vertical-align: middle;\n",
       "    }\n",
       "\n",
       "    .dataframe tbody tr th {\n",
       "        vertical-align: top;\n",
       "    }\n",
       "\n",
       "    .dataframe thead th {\n",
       "        text-align: right;\n",
       "    }\n",
       "</style>\n",
       "<table border=\"1\" class=\"dataframe\">\n",
       "  <thead>\n",
       "    <tr style=\"text-align: right;\">\n",
       "      <th></th>\n",
       "      <th>text</th>\n",
       "      <th>Sentiment</th>\n",
       "      <th>length</th>\n",
       "    </tr>\n",
       "  </thead>\n",
       "  <tbody>\n",
       "    <tr>\n",
       "      <th>0</th>\n",
       "      <td>حقوق المرأة 💚💚💚 https://t.co/Mzf90Ta5g1</td>\n",
       "      <td>1</td>\n",
       "      <td>39</td>\n",
       "    </tr>\n",
       "    <tr>\n",
       "      <th>1</th>\n",
       "      <td>RT @___IHAVENOIDEA: حقوق المرأة في الإسلام. ht...</td>\n",
       "      <td>1</td>\n",
       "      <td>67</td>\n",
       "    </tr>\n",
       "    <tr>\n",
       "      <th>2</th>\n",
       "      <td>RT @saud_talep: Retweeted لجنة التنمية بشبرا (...</td>\n",
       "      <td>1</td>\n",
       "      <td>158</td>\n",
       "    </tr>\n",
       "    <tr>\n",
       "      <th>3</th>\n",
       "      <td>RT @MojKsa: حقوق المرأة التي تضمنها لها وزارة ...</td>\n",
       "      <td>1</td>\n",
       "      <td>75</td>\n",
       "    </tr>\n",
       "    <tr>\n",
       "      <th>4</th>\n",
       "      <td>RT @abm112211: ولي امر الزوجة او ولي الزوجة او...</td>\n",
       "      <td>1</td>\n",
       "      <td>299</td>\n",
       "    </tr>\n",
       "    <tr>\n",
       "      <th>...</th>\n",
       "      <td>...</td>\n",
       "      <td>...</td>\n",
       "      <td>...</td>\n",
       "    </tr>\n",
       "    <tr>\n",
       "      <th>4247</th>\n",
       "      <td>#غرد_بحبك_لمحمد_بن_سلمان ❤️</td>\n",
       "      <td>1</td>\n",
       "      <td>27</td>\n",
       "    </tr>\n",
       "    <tr>\n",
       "      <th>4248</th>\n",
       "      <td>#غرد_بحبك_لمحمد_بن_سلمان \\n محمدبن سلمان احبه ...</td>\n",
       "      <td>1</td>\n",
       "      <td>250</td>\n",
       "    </tr>\n",
       "    <tr>\n",
       "      <th>4249</th>\n",
       "      <td>#غرد_بحبك_لمحمد_بن_سلمان \\n الله يحفظك يا ذخر ...</td>\n",
       "      <td>1</td>\n",
       "      <td>59</td>\n",
       "    </tr>\n",
       "    <tr>\n",
       "      <th>4250</th>\n",
       "      <td>#غرد_بحبك_لمحمد_بن_سلمان \\n \\n الله يحفظه ويحم...</td>\n",
       "      <td>1</td>\n",
       "      <td>65</td>\n",
       "    </tr>\n",
       "    <tr>\n",
       "      <th>4251</th>\n",
       "      <td>#غرد_بحبك_لمحمد_بن_سلمان \\n \\n احبه احبه ياخي ...</td>\n",
       "      <td>1</td>\n",
       "      <td>51</td>\n",
       "    </tr>\n",
       "  </tbody>\n",
       "</table>\n",
       "<p>2436 rows × 3 columns</p>\n",
       "</div>"
      ],
      "text/plain": [
       "                                                   text  Sentiment  length\n",
       "0               حقوق المرأة 💚💚💚 https://t.co/Mzf90Ta5g1          1      39\n",
       "1     RT @___IHAVENOIDEA: حقوق المرأة في الإسلام. ht...          1      67\n",
       "2     RT @saud_talep: Retweeted لجنة التنمية بشبرا (...          1     158\n",
       "3     RT @MojKsa: حقوق المرأة التي تضمنها لها وزارة ...          1      75\n",
       "4     RT @abm112211: ولي امر الزوجة او ولي الزوجة او...          1     299\n",
       "...                                                 ...        ...     ...\n",
       "4247                        #غرد_بحبك_لمحمد_بن_سلمان ❤️          1      27\n",
       "4248  #غرد_بحبك_لمحمد_بن_سلمان \\n محمدبن سلمان احبه ...          1     250\n",
       "4249  #غرد_بحبك_لمحمد_بن_سلمان \\n الله يحفظك يا ذخر ...          1      59\n",
       "4250  #غرد_بحبك_لمحمد_بن_سلمان \\n \\n الله يحفظه ويحم...          1      65\n",
       "4251  #غرد_بحبك_لمحمد_بن_سلمان \\n \\n احبه احبه ياخي ...          1      51\n",
       "\n",
       "[2436 rows x 3 columns]"
      ]
     },
     "execution_count": 31,
     "metadata": {},
     "output_type": "execute_result"
    }
   ],
   "source": [
    "negative"
   ]
  },
  {
   "cell_type": "markdown",
   "metadata": {},
   "source": [
    "# TASK #4: PLOT THE WORDCLOUD"
   ]
  },
  {
   "cell_type": "code",
   "execution_count": 32,
   "metadata": {
    "colab": {
     "base_uri": "https://localhost:8080/",
     "height": 34
    },
    "colab_type": "code",
    "id": "gPBOCIbxCCKE",
    "outputId": "866eeb10-a6e9-4573-a813-55e3b0beae40"
   },
   "outputs": [],
   "source": [
    "sentences = tweets_df[\"text\"].tolist()"
   ]
  },
  {
   "cell_type": "code",
   "execution_count": 33,
   "metadata": {
    "colab": {},
    "colab_type": "code",
    "id": "4V3vfaX9Cbgr"
   },
   "outputs": [
    {
     "data": {
      "text/plain": [
       "['حقوق المرأة 💚💚💚 https://t.co/Mzf90Ta5g1',\n",
       " 'RT @___IHAVENOIDEA: حقوق المرأة في الإسلام. https://t.co/ps3qNw1CbB',\n",
       " 'RT @saud_talep: Retweeted لجنة التنمية بشبرا (@Shubratanmyeh):\\n \\n ما زال التسجيل مستمر في دورة حقوق المرأة بعد الطلاق ✨ #وعيك_يحميك... https://t.co/c2NXzNCdLU',\n",
       " 'RT @MojKsa: حقوق المرأة التي تضمنها لها وزارة العدل https://t.co/QUGzWwubFk',\n",
       " 'RT @abm112211: ولي امر الزوجة او ولي الزوجة او ولي المراة من الاخطاء الشائعة \\n \\n  هذا الكلام غلط في الشريعة والقانون\\n فلا يوجد ولي للزوجة او المراة الا اذا كانت قاصرا ويكون الولي ابوها ...الخ وليس الزوج منهم\\n نعم له حقوق عليها لكنها ليست ولاية\\n الولاية مصطلح فقهي قانوني محدد https://t.co/rkqxvm5qY7',\n",
       " 'RT @fatemaar7: انا كامرأة يوجعني كل حزن نساء العالم، سواء تعنفت، ضُربت، قُتلت في جريمة شرف، اغتُصِبت، حرِمت من دراسة أو عمل أو جبرت على زواج او حياة لم تخترتها. \\n \\n الدفاع عن حقوق المرأة الي تُعتبر في أغلب دول العالم مواطن بالدرجة الثانية، مو ترند.. لكنه إنسانية. \\n \\n والساكت عن الحق شيطان أخرس. https://t.co/c494qBVPx4',\n",
       " '@Samar_K_ 😂😂😂😂😂\\n اومن حقوق المرأة \\n أنك تفتحلها الباب!!',\n",
       " '@AliFCD @ShamsanM @AlyemenNor @space_dist @m2rwa1 @UNESCOarabic @DRC_dk غسق و سبيس و حلوة الحلوات هم اشخاص لهم هويتهم و كيانهم المتفرد ، و كونك لا تعرف هذه الهوية فهذا لا يعطيك لا انت و لاغيرك الحق بأن تهدم فكرة كبيرة كفكرة حقوق المرأة و تنكر وجودها و اثا',\n",
       " 'مبدائيا انا مع حقوق المرأة وضد حقوق الرجل 😁',\n",
       " 'RT @Dresraamohammed: السؤال بقى للناس الي شغاله في #حقوق_الانسان #حقوق_المرأة \\n يا ترى في قانون او عقوبه على الزوج الي بيمارس العنف ضد زوجته في الشارع ؟؟؟ 🤦🏻\\u200d♀️👩🏻\\u200d💼',\n",
       " 'نعم المرأة في الإسلام منتقصة الحقوق\\n والوااااااجبات\\n وهذا منطقي وطبيعي\\n لذلك أسوأ سيناريو هو الزواج من مسلمة في بلد أوروبي....لها حقوق المواطنات دون واجباتهن.',\n",
       " 'RT @h747531: محاولات بائسه لاقصاء دور الام السعودية ودورها في التربية وغرس الانتماء بفلذات اكبادها لذالك كل شي حق للذكور فقط ... رؤية 2030 ستنصف الام السعودية وستدمر الافكار الذكورية الجاهلية ... تجنيس ابناء السعوديات من اولويات حقوق المراة السعودية https://t.co/Cxx8oGXPD1',\n",
       " 'إذا كانت مسألة حقوق المرأة أمرا سخيفاً جداً ، فاللوم يقع على غطرسة الرجال التي جعلت منها موضوعًا يُناقش ..',\n",
       " '@naifco كل هذه الحقوق او المزعوم انها حقوق عبارة عن صفر مكعب مالم تسقط الولاية عن المرأة .',\n",
       " 'متى تعرف ان المرأة ما عندها حقوق؟\\n يوم يطبعون لها ورقة مثل هذي 👇🏼👇🏼👇🏼 https://t.co/7a9H0KQTqH',\n",
       " '@EslamNagyy ناصر حقوق المرأة',\n",
       " 'RT @miss_wahaj: @RmNxb المسيار زي زواج المتعه عند الشيعه نعايب عليهم وابتلينا ....المسيار يهضم حقوق المرأه',\n",
       " 'RT @SerajAlghamdi: ارتبطت حقوق المرأه دائماً في أذهانهم برغبتها في ممارسة الرذيلة\\n لأنهم لم ينظروا إليها يوماً كإنسان\\n لها كيان\\n لها حياة..\\n  #مغرد_يقذف_السعوديات https://t.co/V7V15yDIp1',\n",
       " 'RT @Gh08944301: @Eqbal_Darandari لمتى واحنا بلا حقوق لانقدر نجدد جوازات سفرنا ولا نقدر نسافر الا بتصريح ، وفوق هذا كله حاطين على ظهر المرأة التغيب الكيدي والعقوق ، وطبعا كل الي ذكرته لا يطبق على الرجل ، اكثر من هالتميز العنصري ماشفت مأدري كيف أخذنا كرسي في لجنة حقوق الانسان ومساواة بين الجنسين لانكذب على بعض',\n",
       " 'RT @Stranger23_: @Oh__28 @LifeRights19 عشان كذا أنا عندي تحفظ للي يشوف الغاء الولاية عندنا هو الحل النهائي! نعم حو حق من حقوق المرأة وبيحل جزء من المشكلة، لكن حتى لو الغيت الولاية سطوة المجتمع والعائلة ستظل موجودة بل حتى جرائم الشرف منتشرة في دول ماعندها ولاية اكثر بكثير من اللي عندنا! (نظرة تشاؤمية 😓)',\n",
       " 'الحرية للأكاديمي #مساعد_بن_حمد_الكثيري الذي كان أحد المدافعين عن الحقوق والحريات في المجتمع السعودي، وخاصة حقوق المرأة .. وكان ذلك سبباً في كتم صوته بالاعتقال التعسفي ! https://t.co/UmFCLBISs6',\n",
       " '@Almajlliss اتوقع الي حاط الاستفتاء وده يخنق المرأه ويسجنها 😹😹 الحمدالله ديرتنا ديره حقوق للمرأه 🙏😋',\n",
       " 'غبية ما أتحمل ناس جهلا ماتقرا عن الاسلام واجب تتفلسف عشان كذا دايما اقول * انا مع حقوق المرأة دايما لكن مستحيل أقول عن نفسي نسوية لان النسويات شوهوا هالاسم بأفكارهم *',\n",
       " 'RT @arabwomanmag: كلّ رجل يرفع شعار الحرّيّة عليه أنْ يدعوَ لرفع الظلم عن المرأة أوّلًا والعمل معها، وعلى كلّ امرأة أنْ تدرك بأنّ حقوقها جزءٌ لا يتجزّأ مِن حقوق المجتمع الذي يجب أنْ تُدافع عن كلّ مظلوم فيه بغضّ النظر عن جنسه، هكذا تُبنى المجتمعات الحرّة لا بالعداء أو الرغبة بالانتقام.',\n",
       " 'RT @DrTalebJawad: وقفوا ضد: القهوة، الكرسي، الملعقة، الشوكة، الميكروفون، اللاسلكي، الراديو، السيكل، السيارة، التلفزيون، شوارع الإسفلت، الدش، الإنترنت، السينما، قيادة المرأة.\\n \\n و يقولون: لم نقف ضد أي شيء من ذلك.\\n \\n لكنهم ما زالوا يقفون ضد: المساواة بين الرجل و المرأة. نظرية التطور. حقوق المثليين.',\n",
       " 'انا كامرأة يوجعني كل حزن نساء العالم، سواء تعنفت، ضُربت، قُتلت في جريمة شرف، اغتُصِبت، حرِمت من دراسة أو عمل أو جبرت على زواج او حياة لم تخترتها. \\n \\n الدفاع عن حقوق المرأة الي تُعتبر في أغلب دول العالم مواطن بالدرجة الثانية، مو ترند.. لكنه إنسانية. \\n \\n والساكت عن الحق شيطان أخرس.',\n",
       " 'RT @ali_adubisi: حول إضطهاد المرأة في #السعودية تقام اليوم س ١٥بتوقيت مكة ندوة في مجلس حقوق الإنسان بجنيف (التحديات القائمة على التمييز الجندري)\\n من تنظيم @GulfCentre4HR\\n تتحدث فيها\\n هالة @Hala_Aldosari\\n هناء @hanaalkhamri \\n سونيا تانكك @SoniaTancic\\n ريناتا بلويم @bloem_renate\\n وتديرها وئام يوسف @wiaamj https://t.co/FhIEB10D9z',\n",
       " 'RT @GlobalAwards900: #صفاء_الهاشم 🇰🇼\\n \\n سيدة كويتية وهي المرأة الوحيدة حالياً في مجلس الأمة الكويتي، مدافعة شرسة عن حقوق المرأة، وحق المواطن الكويتي وتمتلك عقلية اقتصادية مميزة. \\n \\n أختيرت من ضمن ٥٠ سيدة عربية مؤثرة في مجتمعها 🏅 https://t.co/Wz6lJlIw7S',\n",
       " '@binsaud999 @abusulayman يعنني So Cute ومع حقوق المرأة https://t.co/tvexWGtyW9',\n",
       " '@Tassneem_Shams لأ ما كدا الفكرة اننا في بلد مابتحترم حقوق الانسان اساساً حتحترم حقوق المرأة كيف ؟! نحن في السودان ياجماعة ماتنسو',\n",
       " 'RT @MominounWB: \"يبقى النهوض بـ #حقوق_المرأة، ونشر ثقافة وقيم #المساواة و #الإنصاف، خيار وضرورة تتحملها كل مكونات #المجتمع_المغربي، سواء تعلق الأمر بـ #السلطات_العمومية والحكومة، أو المنظمات غير الحكومية و كل قوى #المجتمع_المدني.\"\\n المرأة في المغرب\\n إكرام عدناني \\n @MominounWB',\n",
       " 'بتعاون مع الصندوق الاردني الهاشمي / مركز الديسه تم استضافه المحاميه علا ابوهليل في محطه معرفه الديسه لتحدث عن حقوق المراه في الزواج',\n",
       " 'RT @TurkeyCelebs: الممثلة #berraktuzunatac :\\n لم أتزوج لأن الزواج ليس منطقياً ، اذا نظرنا بالمنطق فإن الزواج لا يحمي حقوق المرأة. لمَ عساي ان أمضي على توقيع لا يحميني؟ https://t.co/AZJD4py0UN',\n",
       " '@zZ_2044 @Mageedology و لم تصدّقي !\\n نحن ندعم حقوق المرأة\\n توقعي استدعائك فجأة',\n",
       " 'RT @manat9_: بندخل 2019 وأنتم للحين عايشين بالقرون الوسطى تطاردون ورا المرتدين وداعسين على كل حقوق المرأة وبعدين يعني معكم؟ متى ناوين تصيرون أوادم؟ وش نسوي عشان نفهمكم اننا ماكلين زق ونبي نعيش مثل غيرنا؟',\n",
       " '@Eqbal_Darandari @g11_we المفروض تتم الموافقة وبلاجماع مافي ابداا توافق بين الرؤية والعبودية كيف تتحقق الرؤية ووضع المرأة كما هو لاززم التغيير يشمل كل شي واولها حقوق المرأة.',\n",
       " 'RT @dream7021: امس بالنشاط سووا محاضره عن حقوق المراه وقالوا المراه مو نصف الحياه بل كلها وكلام مدح وجلد في الذكور ومدح كبير للبنات وحسيت اه ارتحت من زمان كنت ابي احد يتكلم عند مجموعه كبيره من الناس عن حقوق المرأه ومره وناسه مفاصل يديني تقريبًا انفصلت عن بعض من قوّ التصفيق اول مره اصفق https://t.co/FB4dGEOiAj',\n",
       " 'بندخل 2019 وأنتم للحين عايشين بالقرون الوسطى تطاردون ورا المرتدين وداعسين على كل حقوق المرأة وبعدين يعني معكم؟ متى ناوين تصيرون أوادم؟ وش نسوي عشان نفهمكم اننا ماكلين زق ونبي نعيش مثل غيرنا؟',\n",
       " '@mosam20_mo طبعا حقوق المرأة المتنازل عنها \\n النفقةو السكن و المبيت والأولاد \\n والحياة الزوجيه والاستقرار الأسري.... الخ \\n الشرط الوحيد اللي ما تنزلت عنه هو الجنس !!',\n",
       " 'المرأة عموما وبالأخص في السودان عندهم حقوق ضايعة ومشاكل لكن السودان المشاكل فيو اكبر من كدا من إقتصاد وأمن وتعليم والأهم من كدا (مجتمع)',\n",
       " '@HamedAljabri911 @farhan_assaf @wt_1222 @AjelNews24 معليك منها ياحامد في بعض العينات في السعودية يعتبرون ان المرأة مالها حقوق، وإن دافعت عن حقها او طالبت به فهي غير شريفة، والمشكلة انهم مايتقبلوا اي سبب منطقي او عقلاني هم كذا نفس قوم قريش زمان يتبعون شي و',\n",
       " 'RT @fatenh_alhelan: @bosaleh__1 @12123abosaleh @dr_naseer @468940c7f85a434 حقوق المرأه في عينك انت مو دكتور انت واحدحثاله بلدنا بلد الخيرات والعلوم والرقي ياجاهل علمك مانفعك ولا ارتقى فيك بلدنا كل يوم والثاني بقيادة ملك العروبه وولي عهده الطموح من افضل الى افضل قدسمعت بحياتك مدينة الخيال نيوم ياحسووود قد سمعت بحياتك عن آبار نفط كالبحار ومناجم ذهب وخيرات',\n",
       " 'RT @IAmStrieno: أنا مع حقوق المرأة ومع النسوية (حتى لو كان فيها تطرف) وضد الذكورية (حتى لو كان فيها اعتدال).',\n",
       " '@dr_naseer ممكن تقولي يادكتور ، انت ومنهم على شاكلتك ، ماذا فعلتم لاوطانكم ؟ ولَك ياملعون شو اخترعت ؟ شو طورت؟ وين فكرك؟ وين علمك؟ وين حرية التعبير؟ وين تداول السلطة؟ وين حقوق المرأة؟ .',\n",
       " 'RT @the0truth: ستظل مسألة حقوق المرأة مسألة شائكة خاصة بدول الشرق اوسطية التي اغلبها لم تنفك من التصاقها بزمن العبيد والجواري.\\n من حق المرأة ان تساهم وتشارك في بناء مجتمعها .',\n",
       " '@Badria_AlShihi ومن قال ان الانوثة تنزع من المرأة حين تطالب بحقوقها الطبيعية التي سلبت منها ومفروض كونك انسانة لها قيمة فلمجتمع تدعم وتنشر وعي حقوق المرأة مو بكلام رخيص تحبط نساء يريدون مطالبهم او ممكن نقول ان اليوم كان صعب عليك واردتي تعزيز ذكوري',\n",
       " 'RT @whg_2: #تطبيق_مسياركم_يحدث_ضجه\\n \\n مع ان زواج المسيار حلال ومشروع لكنني ضده وارفضه لأن من حقوق الزوجه على زوجها السكن والنفقه وفي هذا الزواج تتنازل المرأه عن حقوقها ..\\n .',\n",
       " '@BadriyaRM @___IHAVENOIDEA المرأه بالاسلام تلعن اذا رفضت زوجها بالفراش واذا تعطرت تعتبر زانيه والرجل لا\\n ورثت الرجل غير عنها ولااسباب جدا تافه\\n العصمه بيده ويقدر يتزوج عليك\\n انك ناقصه عقل بسبب ان عندك نسيان والرجل لا\\n عنده حوريه وانت والنساء حطب النار\\n تبغي اع',\n",
       " 'شخصياً أنا مع حقوق المرأة لأنو بالجد الدستور السوداني همّش المرأة السودانية بصورة واضحة ومستفزة في كافة التشريعات، عشان كدة شايف إنو لازم يتشرع قانون واضح وشفّاف يحمي المرأة، مثلاً يتشرع قانون بإسم \"المرأة مكانها المطبخ\" عشان يحسم الجدل دا بسرعه لانو ليفربول لاعب بعد يومين',\n",
       " '@jWYVXK0PCumva4b @Just_94376 @umdorah4 هذا حق من حقوق المرأة\\n مثل ما الرجل يريد وحده زينه واخلاق ومتوظفه او لا .. ويتشرط هي بعد.. الحياة الزوجية ليست للرجل فقط انما للاثنيين ولازم تكون مقتنعه فيه ☺\\n \\n تقبلوا احترامي 🌹',\n",
       " 'RT @Bander_Alobaid: قرارات عدلية هامة عززت حقوق المرأة. https://t.co/83GWttDIUN',\n",
       " '@arabwomanmag عندما يحترم الرجل المرأة كإنسان له حقوق وعليه واجبات وأنه شريك لتحقيق حالة التوازن في التسير والاعتراف بمقاربة النوع كفكر واستراتيجية لها حظها في ابداء الرأي وحقها في الاختلاف أيضا سنخطو خطوة للاتجاه الصحيح \\n  موضوع مهم جداااا ويبقى الوعي هو',\n",
       " 'خيركم خيركم لأهله .. ولا تكثر مخاطبة الرجال في حقوق المرأة إلا عملاً بوصيته صلى الله عليه وسلم .. استوصوا بالنساء خيرًا .. والله يحب المحسنين .. وليس الإحسان أن تكف الأذى عنها .. لكن أن تتحمل أذاها أيضًا .. ما جاء... https://t.co/ivvMGDgXlz',\n",
       " '@rehamdd_x حسبي الله بس لهلدرجه حقوق المرأه معدومه \\n ويقولولك وينهم الي يعانون وكذابات شيء يحز بلخاطر اعرف ناس سوو كذا ومادري كيف قلبهم طاوعهم والله لو مكانها ثاني يوم بلمحكمه واطردهم كلهم واخللعه وجع حسبي الله شين وقوه عين ماكأنها بنتها وجابتها للحياه',\n",
       " 'اليوم دخلت في نقاش حلو عن حقوق المرأة وانا و دكتور مطوع ضد واحد متخلف وصراحه اول مره اقابل مطوع فيمينيست عموما ما يحتاج اقولكم من الفايز 😌',\n",
       " '@RanaAldaknan الحقيقه من تجربة ما يحدث بالجلسة لا يوثق بالمحضر بل يكتب مايريدونه ان يكتب وللامانه اتمنى ان توضع كاميرات بالجلسة لحفظ حقوق المرأة التي تهضم وحقوق الجميع',\n",
       " 'جمعيات حقوق المرآه والمنظمات والمؤسسات و(strong women)كل دا مالوش اى لازمه بالنسبه لنا,احنا بس بنفكركم بقيمتنا الاانتوا نسيتوها .علشان فى الاول والاخر البنت هتبقا محتاجه ابوها يحميها مش موجود يبقا اخوها مش موجود يبقا جوزها مش موجود يبقا ابنها ومستحيل هتعيش لوحدها .❤#اسآل_جوليان',\n",
       " 'يجب تسجيل النقاب كشكل من اشكال انتهاك حقوق الإنسان و العنصرية ضد المرأة و تغريم كل من يؤيده او يرتديه او يحرض على ارتدائه',\n",
       " 'RT @omar__02: النسوية هي حركة إجتماعية عادلة تطلب بحقوق المرأة و مهتمة في قضايا المرأة \\n النسوي او الفيمنست منطقياً لازم يكون انسان عادل و منطقي لانه يدافع عن حقوق عادلة',\n",
       " 'وربي قرف تفكيرهم خرا ودايم يبون المرأة تكون ضعيفه وبدون حقوق واي وحده تطالب بحقوقها ذي داشره وعاهره مع ان ما العاهر الا هم وتفكيرهم، ماعندي نيه اطلاقاً اتزوج بسبب ذا الموضوع مابي اتزوج شخص يشوفني خدامه له او شخص ضعيف ويحرمني من حقوقي ابداً مابي.',\n",
       " 'السؤال بقى للناس الي شغاله في #حقوق_الانسان #حقوق_المرأة \\n يا ترى في قانون او عقوبه على الزوج الي بيمارس العنف ضد زوجته في الشارع ؟؟؟ 🤦🏻\\u200d♀️👩🏻\\u200d💼',\n",
       " '@i3bodM هذا سجن مو خوف..\\n حق من حقوق المرإه الدراسه والشغل ..\\n الشريعه الاسلاميه ماحرمت المرإه من حقوقها ..\\n ولا من حق الاهل ولا الزوج يمنعها حق من حقوقها .\\n بس وين الي يفهمون ...\\n الله يخفف عنك ويحقق مرادك .',\n",
       " 'RT @ghazl28: مطالب المراه السعوديه مطالب حقوق نحن مواطنات عاقلات راشدات \\n *نطالب عدم التمييز بين الجنسين والمساواه بينهم \\n *ورفع دعاوي التغيب والعقوق والهروب #سعوديات_نطلب_اسقاط_الولايه802',\n",
       " '2. امثلة على حقوق المرأة المسلوبة في وطني العزيز:\\n \\n حديك ابسط مثال ممكن افكر فيهو حاليا، وبعرف بنات حصل ليهم كدا، ودا غير الاتذكر في الفيديو: اللبس',\n",
       " 'RT @Emaany3: المرأة التي تقف ضد حقوق المرأة هي امرأة ذات وعي زائف أو معكوس . \\n #حقوق_المرأة_القطرية',\n",
       " 'كفى عدوانا على حقوق المرأة وتعنيفا للسيدات في لبنان https://t.co/Y8QEylGOY6',\n",
       " 'RT @samatt10933: صباح الأمنيات المأمول انعاشها وتحقيقها على يدي سمو سيدي ولي العهد محمد بن سلمان،ابناء السعوديات جزء من السعوديات بالتالي تفعيل نظام #تجنيس_أبناء_السعوديات امل وطموح كل ام سعودية ترغب في استقرار اسرتها الصغيرة، ناهينا عن انها قفزة واضحة في عالم حقوق المرأة.\\n \\n @Badermasaker',\n",
       " 'RT @NORA100011: الولايه سقف يستظل بظله المتحرش والمغتصب والمبتز\\n واستُنزفت اموال وجهد وسعادة المرأه السعوديه\\n دمرت الاحلام واستبدلت السعاده بالاحزان,وأن اوان سقوط هذا السقف على رؤوس المستظلين تحته #سعوديات_نطلب_اسقاط_الولايه802\\n حجر اساس حقوق الانسان العيش بكرامه\\n ولا كرامه مع الاستعباد بأسم الولايه',\n",
       " '@Ignooikawa و هل عندك شك أنّ المرأة عندنا محرومة من حقوق كثير و أبسط الأمور و الممارسات الطبيعية في الحياة صعبة عليها و حتى البعض محرومات منها؟',\n",
       " 'RT @WDFeminist: @ghasaqu كلمة (حقوق المرأة) يسمعها الذكر الشرقي دعاره \\n #نسويات_يمنيات',\n",
       " 'RT @ghasaqu: @WDFeminist للاسف معضمهم ينظرون لكلمة ( حقوق) و ( حرية ) نظرة سيئة ، و كأن المرأة تبحث عن حقوقها لكي تتعرى و تمارس الدعارة 🤢 اعطاءها حقوقها يعني منحها الفرص لتكون انسانة افضل تعتمد على نفسها دون ان تحتاج لاحد .',\n",
       " 'كذابين المرأة بالسعودية مالها حقوق للأسف \\n يكفي ان اغلب القضاءة ضدها يادولة ذكوريّة \\n \\n حقوق المرأة إنكم تسقطون ألولاية وتطلعون سجينات دار الرعاية تلغون تهم التغيب والعقوق وتجعلون النساء أحراراً \\n #سعوديات_نطلب_اسقاط_الولايه802 https://t.co/pc5QCfSAaC',\n",
       " 'اخ بس لو احنا فبلاد محترمة وبتحترم حقوق المرأة وحياة الله لكان الدكتور بيبلغ الشرطة بس لو لمسها لمس و بيشحطوه من بيته هالكديشة وينزت فالسجن سنين عشان يعرف ان الله حق\\n وبتقولوا ليش احنا بندافع هالقد عن الست وفيمينست و بنحكي انو في ذكور مليانة فالوطن العربي بدها حرق ودعس ما بتصدقوا https://t.co/dGLxTcwI8G',\n",
       " 'RT @SaraMezhandle: تطور كبير عم حسه في شأن حقوق وواجبات المرأة الإماراتية .. وكمانا صاروا عنصر فعال وناجح\\n \\n شي يدعو للفخر \\n \\n #UAE #UN',\n",
       " 'RT @abulmozn: أنواع من الارهاب الفكري\\n - العنصرية : كاعتبار بعض المواطنين من الدرجة الثانية\\n - التكفير: الاعتقاد بأن الآخر لا يستحق رضا الله وأنه آثم\\n - الطائفية : التعصب لطائفة أو مذهب على حساب مذاهب\\n - انتهاك حقوق الانسان\\n - انتهاك حقوق المرأة\\n - الحكم الاستبدادي',\n",
       " 'RT @Alyahyamo7ammad: #تضامن_مع_ترف_العسيري\\n أختي المسلمة :\\n حجابك، حشمتك، حيائك هي هويتك الحقيقية التي كرمك بها دينك العظيم، حافظي عليها فهي من تمنحك الكرامة والحرية الحقيقية.\\n \\n لاتستمعي لمن يحاول طمس هويتك الإسلامية تحت دعاوي مزيفة مثل \"حقوق المرأة\" وبكائيات من تسمين أنفسهن بـ \"الناشطات والحقوقيات\"',\n",
       " '@Ania27El نحن في زمن كثر فيه دعاة الحرية وحقوقها المرأة الهدف من ذالك نزع حجابها وعفتها يريدون منها ان تمشي في الطرقات وهي شبه عارية بدعوة الحرية أين حقوق المرأة في سوريا وهي تقتل اين حق المرأة في العيش وهي تذبح في بورما اين حق المرأة في حياه كريمه وه',\n",
       " 'حقوق المرأة افكار وهميه',\n",
       " 'RT @semo55771076: @___IHAVENOIDEA لا تقول حقوق المراه باالاسلام !!قولي ذي عادات اهلك انو ما يعطونك الحريه ،لاكن الاسلام دين يسر وليسى عسر،هناك امراة من امريكا تمتدح حياك المراه عندنا تقول انو هناك ما فيه حق للمراه وانو حقها ضايع عندهم،فاحمدي ربك على نعمة الاسلام',\n",
       " '@Badro_0 مشكلتنا في من يعتقد ان مخالفت التعاليم الأسلامية ولأختلاط هو بحد عينه التطور والعدالة ولايعلم انه في ذالك الرائ والمطالبة فيه ينقص من حقوق المرأة والحشمة لها اما انت ي محمد فل تنشر لنا صورة لك في اي احتفال وبجانبك أخواتك أو نساء كي ترينا عدالتك ف',\n",
       " 'RT @MFahadAF: @SummerMohd @jaafarAbdulKari حقوقها في السفور واظهار زينتها لغير محرمها او بالاصح زوجها؟ هل مخالفة امر الله حق من حقوق المرأه؟\\n ثانياً اسلوبها باين فيه العداوه للدين وأهل الدين ولا فيه اي ذرة احترام لشيخ كبير مثل والدها تقاطعه وتخطيه وتفرض رائيها المخالف لامر الله',\n",
       " 'RT @ranamohamedx: الاسلام كله احترام للمرأة و دين يتكلم عن حقوق واهمية المرأة و كيف كانت تساعد و تساهم في الحروب و الله أكرم المرأة في سوره في القرآن الكريم، ف قبل لا تتكلمي لوسمحتي اقرأي و عرفي الاسلام زين اول https://t.co/oBpBlldYSM',\n",
       " 'RT @Abo__Saood1: @spagov كذبتم لم نشاهد حقوق المرأه من سكن ووظيفه ورفع شأنها من الفقر لم نشاهد سواء رضوخكم للغرب وتفعيل خطتهم المستدامه 2030 من\\n \\n قيادتها للسياره علشان إرضاء ترامب\\n زجها في الملاعب مع الرجال\\n مشاهده العراه من المصارعين بجدة\\n رقصها في حفلات الترفيه\\n دعم تبرجها وسفورها\\n بالضبط انتم تفعلونها 👇💚 https://t.co/KnvyfjDjM8',\n",
       " '@___IHAVENOIDEA عفواً مين ندبك تقيمي حقوق المرأة؟ ومين المسلمة يلي شكتلك من ظلم الإسلام وإجحافه ؟ كإنه لازم ترجعي تقرأي بالتاريخ شوي وتتأكدي المرأة وين وصلت بعد الإسلام \\n هاد التعليق دليل على التخلف و قلة الثقافة وقلة الدين برضه ! إذا كان مجتمعك ما بيعطيكي',\n",
       " 'RT @AlkaabiWa: لاتوجد معاناه بس سوالف ودراما قدر الله وحصل الطلاق ماهي اخر الدنيا اولا بيت اهلها موجود ولا بهم عاجزين عن بنتهم وحقوقها تأخذها بالقانون!طالعين اننا بموال حقوق المرأة وتبغي تتطلق وتأخذ بيت https://t.co/T959wZVeWL',\n",
       " 'والحيوان عنده حقوق باوربا اكثر من الانسان ، اقل شي ان اذا شافو جلب ولا قطوه بالشارع ودووه ملجأ ف بليز بنات فتحو عقولكم واحمدو ريكم على نعمة الستر ونعمة الاسلام وترا باقي الديانات يستحقرون المرأه ف الي تتذمر على انه مالها حقوق ختروح تقرا يمكن تستوعب انها بنعمه',\n",
       " '@dr_naseer أنا والله ما أدري انت من أي زبالة عربية لكن لو مشينا بمنطقك فياملعون انت شو اخترعت وشو طورت؟ وين فكرك ووين علمك؟ ماسمعنا من قبل عن اختراع سوري أو لبناني أو أردني مثلاً..\\n أما حقوق المرأة فهي مصانة وتعيش كملكة.. المرأة عندنا ماتشتغل بالدعارة بعكس',\n",
       " 'دوري الابطال اهم من حقوق المراة',\n",
       " '@miss_liiin @sudaniHalayeb المشكلة دايما بتاعين حقوق المراة بايرات ويشبهن 👇شكلهن مافي حد اتحرش بيهم عشان كدي زعلانات ويدعون لسفور المراه https://t.co/seYqk0EpIu',\n",
       " 'اتذكر واحد زميل متدين واصلاحي من النوع الكيوت والشبابي كنا دائما نتناقش عن العلمانية والنسوية وقوانين حقوق المرأة وكان يعترض بشدة ويقول انها افكار صهيونية وتخريبية للاسلام والمسلمات لدرجة انه كفرني مرات كثيرة وكان يتوعد بقيام دولة شريعة اسلامية عاجلا غير آجل',\n",
       " 'يازقة حقوقك فالسعودية مالها دخل في الاسلام الاسلام مو السعودية حتى لو منهجنا شرع الله بس ترا فيه تعصبات غلط واشياء منسية وانا دارية انكم تدرون عن هالشي فااي زق يبي يدعم حقوق المراة بكيفكم وبيسب في سياسة السعودية فالمراة كيفكم بس \" الاسلام ارفع من اي شي لا دول تمثله ولا اشخاص \"',\n",
       " '@___IHAVENOIDEA وعلى فكرة احنا نمشي على السنة و نمشي على الي مذكور بالقران و القران معطيكم كامل حقوقكم مو مشكلة الاسلام اذا دولتج حارمتج من حقوقج و أوروبا مرت اكثر من قرون و اهما سالبين حقوق المراة مااشوف ولا وحده تنطنزت على ديانتها ولعلمج لحد اليوم الحال',\n",
       " '@zienabhassan @maha_moh47 مافي حقوق مرأة أكتر مما أعطاها الإسلام \\n \\n كل من ينادي بحقوق المرأة عايز يستغل المرأة ويغرر بيها عشان حاجات تانية كتيرة لا مجال لذكرها',\n",
       " 'يااخ حشيتوناا حقوق المرأة وغض البصر',\n",
       " '@CareemUber حقوق المراه حقوق المراه ولا تقدر تشيل شنطتها وبالسوق شايله كل السوق ي عمي اكثر من مره تصير معى تبي تحطها بنفسها والا اللغي واسحب عليها سوا شنطه والا اغراض',\n",
       " '@Free88_ حقوق المرأة أنها تكون مع رجل اخر ؟🙃🤢',\n",
       " '@m7bd50651 لأن تبني حقوق المرأة من وجهة نظر علمانية وتحررية يضر بمجتمعي ويضر بالنساء والرجال على حد سواء :) بس هم ليش مهتمين وحاشرين خشومهم',\n",
       " '#التعدد_مطلبنا \\n \\n أنا اشوف أن تعدد الزوجات يتسبب في سعادة الرجل المهنيه والصحيه طبعاً اذا وجد العدل بين الزوجات وانا انصح الجميع بالتعدد ...\\n توكلو على الله ولا تنسونا من دعواتكم',\n",
       " '#التعدد_مطلبنا ماهي مشكله انك تعدد الزوجات لكن انك تفضل هاذي على هاذي هنا السبب الي يخليك ترتكبه بأنك تفضل شي عن شي',\n",
       " '#التعدد_مطلبنا\\n \\n الحكمة من إباحة التعدد :\\n \\n 1- التعدد سبب لتكثير الأمة ، ومعلوم أنه لا تحصل الكثرة إلا بالزواج . وما يحصل من كثرة النسل من جراء تعدد الزوجات أكثر مما يحصل بزوجة واحدة .',\n",
       " '#التعدد_مطلبنا\\n \\n ماحد ماسك.. الرِجال أفعال تبي تعدد وقادر من جميع النواحي وبتعدل بين الزوجات والأولاد أفعلها وتوكل على الله شئ من أبسط حقوقك مايحتاج تستجديه من أحد',\n",
       " '#التعدد_مطلبنا\\n \\n معك المقدرة المالية\\n وعندك المقدرة بالاعتدال بين الزوجات\\n وعندك القدرة لخوض تجربة التربية\\n \\n بذالك عدد وإلا فلا تعدد وتخرب البيوت',\n",
       " '#التعدد_مطلبنا\\n التعدد للرجل القوي القادر المقتدر على العدل بين الزوجات \\n لابأس به \\n ولكن انا ارى ان فيه ناس تعدد لهداف اخرى منها طمع ومنها مفاخره ومباهات مثل اللي يتطاولون بالبنيان والفشخره بركوب سيارات فارهه وهذا امر سلبي ويعود لضعف عقلية الشخص',\n",
       " '#التعدد_مطلبنا\\n الذي عندة القدرة الماديه والجسديه على تعدد الزوجات \\n فهذة شرع الله \\n فليس هناك مجال للنقاش في هذا \\n اهم شيء رضى الله ورسوله صلى الله عليه وسلم \\n والحرص على العدل بين الزوجات',\n",
       " '#التعدد_مطلبنا\\n إن تعدد الزوجات ضرورة اجتماعية ، ورحمة بالمرأة ورعاية لها و عفّة للطرفين\\n  قبل أن يكون مغنماً للرجل ..\\n  شريطة أنْ يكون قادراً على #العدل بينهنّ\\n  في كل شيء\"🗯',\n",
       " '#التعدد_مطلبنا\\n تعدد الزوجات \\n حق مشروع من حقوق الزوج، ضمن شروط شرعية معينة، ومن هذه الشروط العدل إذا توفرت فيك توكل على الله ولاتشاور الحياة تعيشها مره وحده..',\n",
       " '#التعدد_مطلبنا\\n تعدد الزوجات هي حكمه من رب العالمين \\n لكثره النساء بنسبه تقريباً 70 بالمئه من الارض \\n ولكثره موت الرجال \\n من الحوادث والحروب وغيرها\\n ومنعت التعدد للنساء لضعف شخصيتها وقوه عاطفيتها مما يجعلها قد تميل الى الاخر وكذالك حتى يعرف الابن من هو والده',\n",
       " '#تزوج_الثانيه_ومهرك_علينا ياجماعه ترا تعدد الزوجات سنه ليه الحريم ناسين الموضوع هذه والا تقلدون الغرب🙄',\n",
       " '#تزوج_الثانيه_ومهرك_علينا\\n \\n كثرن البنات وكثرة العنوسه والله .....\\n \\n والحل : في تطبيق سنة النبي صل الله عليه وسلم ومنها :\\n \\n من أتاكم من ارض ن دينه وأمانته فزوجوه ./أيا كان\\n ( لاتقولي أجنبي ويبي يأخذ حلالنا ...لغة الجاهلين )\\n \\n ومنها : تعدد الزوجات ..وان تعدل بينهن',\n",
       " '#تزوج_الثانيه_ومهرك_علينا\\n الله سبحانه وتعالى حلل تعدد الزوجات لاسباب كثيرة مو على المزاج اي وقت مليت من الاولى باخذ الثانية المراة ليست سلعة لغرض شهواني فقط لازم مراعات مشاعر الزوجة الاولى مثل ما لك حق عليها ليها حق عليك وعلى اولادك تربيهم وماف احلى من انك تعيش مع زوجاتك بلعدل..',\n",
       " '#تعدد_الزوجات الموضوع مابده خلاف بس يلا منتسلا :)\\n الشرع مشرع 4 لاسباب منعرفها او مامنعرفها\\n في نساء تحمد ربها علي انو تشرع التعدد\\n في بنات تذم بالتعدد وضلت ببيت اهلها معنده\\n الحالات العامة والي ماعندي نسب بس نسبة عااالية جدا رجل وزوجة فقط يعني نقاشنا علي النسب الصغيرة',\n",
       " '#تعدد_الزوجات_نعمة_مغبون_فيها_كثير_من_الناس\\n #عددوا_واعدلوا_تسعدوا\\n #نعم_للتعدد_لا_للتردد',\n",
       " '#ﺣﻤﻠﻪ_ﺭﺍﺟﻠﻚ_ﺭﺍﺟﻠﻲ \\n الشرع حلل 4 وانا مع تعدد الزوجات وتحياتي لكن زوجه مقتنعه وعارفه ان هذا شرع الله',\n",
       " '#دراسات_علمية\\n اوضحت دراسات علمية بأن تعدد الزوجات لرجل تعود بفوائد لاتحصى اولها انه كلما تزوج بمرأة سوف يزداد الحنين والشوق لدية للأولى بطبيعة الحل الثانيه للأولى والثالثة للأولى والثانية والرابعة لثلاثة جميعن والعلاقة السرية تعود بالمردود الجيد للأربعة جميعن ودمتم بسعادة https://t.co/sLyK2e9hDl',\n",
       " '#رايكم_في_تعدد_الزوجات انا شايف انه موضوع جميل',\n",
       " '#رايكم_في_تعدد_الزوجات والله شي حلو كل يوم تذوق شي غير 😍😘',\n",
       " '#رايكم_في_تعدد_الزوجات\\n \\n لايؤخذ راي في شرع الله ابد\\n \\n ولكن بعدما ضعف الرجال لهيمنه النساء اصبح الزواج مدار نقاش\\n \\n اقول تزوجوا مثنى وثلاث ورباع وانفقوا واعدلوا ولا تستهتروا بالنساء اعطوهم مافرض الله لهن\\n \\n فالاولى لن تصبح عرض والاخرى ليست بشبح والتعدد واحه حلوه\\n \\n وفقكم الله\\n \\n #سعيد_ع https://t.co/iGr29OQ63s',\n",
       " '#مرات_تكون_السعاده حاصلة بس ودك ترفع مستواها من خلال #تعدد_الزوجات\\n \\n هذه هي فلسفة التعدد باختصار..',\n",
       " '#من_اجمل_سعوديه_ولامغربيه\\n \\n لا السعودية ولا المغربية تكفي لوحدها..\\n \\n لا تزال الحاجة إلى #تعدد_الزوجات قائمة..\\n \\n طبعا الأولوية لبنات البلد..',\n",
       " '#يوم_الجمعة\\n \\n طار العصر وأن أقنع الوالدة أن #تعدد_الزوجات أمر إيجابي وليس ظلم للمرأة 😂\\n \\n #ساعة_الاستجابة لا تحرموني فيها دعوتكم بالزوجة الصالحة 🥰',\n",
       " '@almwatinnews الحل الوحيد هو تعدد الزوجات \\n والحياة مرة واحد فكر اخي الرجل',\n",
       " '@amalblahadoud1 الرسول صلى الله عليه وسلم :\\n أوصى بالنساء خيرا .\\n \\n من ناحية تعدد الزوجات :\\n فـ الشرع أجاز التعدد والنبي تعدد والصحابه كذلك .',\n",
       " '@Awateff70 تعدد الزوجات هو الحل',\n",
       " '@bnwth7jazyh احنا يا الله يا الله نتحمل لسانها ومهام الشغل ونشتري أغراض البيت والأطفال\\n لما يكون فيه تعدد الخير يزيد بقدرة قادر ويكون فيه تعاون بين الزوجات في البيت وحده تمسك يوم مطبخ ووحده تمسك تنظيف البيت ووحده عليها الاولاد ما اجملهم وهم متعاونات',\n",
       " '@deryamuae تعدد الزوجات شرعه الله تعالى ياثور',\n",
       " '@Dolphinlola0 طيب عم نقول تعدد الزوجات بيحل الموضوع \\n بس انتو رافضين الفكرة 😂😂😂😂',\n",
       " '@emawxwx25841 @HinddBenn @BahaaTaher2 @imedmagroune2 @hmd_hma_ لله الحكمة البالغة،فلم يكن تعدد الزوجات خاصابنبينامحمد صلى الله عليه وسلم،فقد كان ليعقوب عليه السلام زوجتان، وجمع سليمان بن داود عليه الصلاة والسلام بين مائةامرأة وطاف عليهن في ليلة واحدة؛ رجا',\n",
       " '@f9511sa @Awter9 لا ياسيدي حال اليوم افضل ولولا تعدد الزوجات من بلاد شام وشمال افريقيا وبعض الاوربيات لمى تحسن نسلهم',\n",
       " '@fajralams اذا كان تعدد الزوجات مرض يارب تصيبي فيه واخذ الثالثه😎',\n",
       " '@fajralams تعدد الزوجات علاج لكثير من امراض النساء',\n",
       " '@fajralams كذاب. من قال كذا.\\n بل. تعدد الزوجات نعمة',\n",
       " '@G7veWVbPZhXQG9e @monnaiia صار تعدد الزوجات في وقتنا هاذا بحكم النادر والنادر لاحكم لة بس حين التزمو بواحده زادت نسبة العوانس المطلقات الارامل . فنسبة النساء اكثر مت الرجال والتعدد يتيح لكل النساء الزواج',\n",
       " '@ha8e8 تعدد الزوجات حق شرعي مع تحقق الظروف وحل لكثير من المشاكل والبقاء على الزوجه وحفظ العائله',\n",
       " '@hadeelalamri1 \"تعدد الزوجات أمر فطري\" 🤮🤮',\n",
       " '@HamadiElbarasii انا مع تعدد الزوجات😌',\n",
       " '@honidamomtaz حملة لتشجيع تعدد الزوجات ومكافحة العنوسة 2×1 😂',\n",
       " '@id2424icloudco1 حملات بترد الروح تعدد الزوجات افضل من تعدد العلاقات 😂😂',\n",
       " '@jo_8_ry فوائد تعدد الزوجات ذكر الشيخ ابن عثيمين عدة فوائد للتعدد: من المُمكن أنْ تَمرض الزّوجة مرضاً لا شفاء منه ولها أولادٌ فالأسرة بحاجةٍ إلى امرأةٍ تخدمها، والتعدّد وَضَع حلاً يحول دون طلاق الزّوجة وبقائها على ذمةِ زوجها والعيش في بيتها مع أولادها، وت',\n",
       " '@ksa2022_ أنا مع تعدد الزوجات.\\n \\n لكن لن أتزوج ثانية الا إذا كنت محتاج للزواج لة.',\n",
       " '@maksimsitniko19 @wajd1e مع تعدد الزوجات لنقلل العنوسه',\n",
       " '@manarita96 ههه اني من مؤيدي تعدد الزوجات اولا في العراق نسبه النساء 55% لذلك حتى تكون عدهم فرص الزواج فلا بد من تعدد الزوجات ولكن مع ضمان حقوقهم وتشريع قانون خاص بذلك شرعا يوجد نص قرئاني بتعددهم',\n",
       " '@MisIpad @rilax6060 دراسات بريطانيه تؤكد : دراسات بريطانيه تؤكد : تعدد الزوجات يجلب الرزق ويطيل عمر الرجل 12 %\\n عددو يامعشر الرجال',\n",
       " '@NaguibSawiris تعدد الزوجات مصرح بيه فى دين الاسلام والرسول عليه افضل الصلاه والسلام اتجوز اكتر من مره فمينفعش دا يكون غباء وع العموم انا بحبك وبحب روحك الجميله',\n",
       " '@NaguibSawiris هو استقرار وعفة وستر لامرأة لن تجد من يتزوجها ان لم يشرع تعدد الزوجات .. هذا هو المغزى وهذه حكمة الرحمن التي لن تقبلوها ولن ترضو بها',\n",
       " '@NajranToday 2- إذا فعل الزوج آمراً مباحاً ، كأن يتزوج الرجل بزوجة أخرى غير زوجته ، فقد أباحت الشريعة الإسلامية تعدد الزوجات وجعلته مشروعاً ، ولكن المطلوب في هذه الحالة من الزوج أن يعدل بين زوجاته ، وأن يؤدي حقوقهما وأن يكون بينهما عادلاً حكيماً .',\n",
       " '@nHL2pUIjwLCnskb @r5JHOW4EmhzEDs1 @2CppBYSQoOmqjji ﻻ بقي انا اختلف مع حضرتك نسبة اﻻناث اكثر من الرجال علشان كدة عايزين تعدد الزوجات حتي يكثر التناسل والرسول علية الصﻻة والسﻻم يتباهي بنا يوم القيامة https://t.co/lrFZMR8AtO',\n",
       " 'RT @aberiiiiir: الزواج بأكثر من زوجة واحدة أمر مطلوب بشرط أن يكون الإنسان عنده قدرة مالية وقدرة بدنية وقدرة على العدل بين الزواجات فإنَّ تعدُّد الزوجات يحصل به من الخير تحصين فروج وتوسيع اتصال الناس بعضهم ببعض وكثرة الأولاد التي أشار النبي ص( تزوجوا الودود الولود ) وغير ذلك من المصالح الكثيرة',\n",
       " 'RT @al33al33al33: #تزوج_الثانيه_ومهرك_علينا\\n #رايكم_في_تعدد_الزوجات\\n يكن حسب الاستطاعة. \\n \\n والأهم\\n \\n إلى كل #معدد\\n \\n \"إذا ألتقيت بمن يسعدك اليوم\\n فلا تجرح من أهتم بك بالأمس❗️\"\\n \\n وكن نموذجاً مشرقاً\\n ✍️مما راقي لي',\n",
       " 'RT @B3RLIN_: ي جماعة تعدد الزوجات حلال ومستحب شرعاً، يعني ما ممكن بسبب الأنانية وعدم الإنسانية تحرموو حاجة حللها الله، والله حرام 💔\\n #حمله_راجلك_راجلي \\n #حملة_تعدد_الزوجات https://t.co/QNnH3ErmnE',\n",
       " 'RT @bbahth2: #تعدد_الزوجات سبب لنشر العفاف وإعطاء فرصة للنساء المطلقات والبنات اللاتي لم يتزوجن ومنفعة للرجال والنساء. https://t.co/JZ592S811u',\n",
       " 'RT @HqHani: #رايكم_في_تعدد_الزوجات\\n \\n لا رأي ولا نقاش فيما احله الشرع ..\\n (لانه واضح بين)\\n \\n فمن استطاع العدل بينهن عدد\\n في كل شي ( ماليا ومعنويا واجتماعيا )\\n \\n فإذا لم تستطع (ولن تستطيع) ..\\n فاكتفي بواحده .. ولا تظلمهن وتظلم نفسك https://t.co/yLavHTbwfB',\n",
       " 'RT @J56872245: #تعدد_الزوجات عددو وأعدلو لأن الفتيات كثيرة والرجال قليلة فلا بد من التعدد ربي يبارك فيكم ويسعدكم',\n",
       " 'RT @k3bo0ola_2: بالبركه عليكم الاربع وانتن يا الحريم وسعن صدوركن يوم الدور عندكن ولما يروح اهتمن وبكذا الامور طيبه بالتوفيق 😍🤣 #تعدد_الزوجات',\n",
       " 'RT @kasber998: #تعدد_الزوجات\\n \\n التعدد جميل جداً ولكن يحتاج إلى 👈\\n \\n كثييييييييييير من المال 🙂',\n",
       " 'RT @lll87: #تعدد_الزوجات\\n \\n اتعدد حلو ويكثر اتناسل وتقل العنوسه🤫',\n",
       " 'RT @m3_alt3add: #تعدد_الزوجات\\n ليتها بكيفي والله كان زوّجت الشباب ثنتين وثلاث وأربع.كلن على حسب رغبته وقدرته.\\n البنات كثرن بالبيوت لا زوج ولا ولد.\\n \\n لا أشوف ولا وحدة تعارض.\\n \\n واذا عذركن الغيرة ترا فاهمات الغيرة غلط.\\n بس اتركن عنكن الأنانية وحب الذات والخوف من كلام الناس.وحبن لغيركن ما تحبن لنفسكن.',\n",
       " 'RT @marriage__life: أخي الزوج الحاني الوقود :\\n لاتتعب أعصابها كل دقيقة بالحديث عن الزوجة الثانية وعن التعدد\\n ونصيحة مني تريد الزواج بثانية تزوج\\n لكن كن رحيما بها، شفوقا عليها حنونا لها\\n لاتقتلها بسكين بارد مئة مرة\\n تزوج الله يسهل لك أمورك ويعينك بدلا من هذه الحياة القاتلة المقيتة العكرة !\\n \\n #تعدد_الزوجات',\n",
       " 'RT @MashariJ: #رايكم_في_تعدد_الزوجات\\n \\n بحكمة وقدرة وعدل وانصاف واحتياج فعلي لمن اراد من الطرفين .',\n",
       " 'RT @may_Alnazy: #تعدد_الزوجات\\n \\n عادي ابوي الله يرحمه لو ماعدد وتزوج امي الله يرحمها ما كان جيت على الدنيا و التعدد لا هو عيب ولا حرام انا لو متزوجة و زوجي بيعدد ما قلت له لا هذا شرع الله اذا عدد ولا معدد هو حر بنفسه صح اني بزعل شوي بس بالاخير اذا احبه برضا واسامحه وافرح له واعتبر زوجته اختي💗😊🤚',\n",
       " 'RT @mazen_jama: #رايكم_في_تعدد_الزوجات\\n التعدد ف مصلحة الست قبل الراجل ، كفاية ان هيبقي عندك تلت تيام تنامي وتصحي براحتك ، تاكلي براحتك ، محدش هيقولك اعمليلي وسويلي ،، وكفاية انك هتنامي ع السرير لواحدك محدش يضايقك 😉',\n",
       " 'RT @mmtt99m1: #تعدد_الزوجات\\n احسه واجب وطني وانساني يقضي على العنوسه',\n",
       " 'RT @mo3adid: تعدد الزوجات ، باب عظيم من أبواب السعادة والخير والبركات لمن احتاج إليه، والتزم فيه بالعدل.\\n #التعدد انشراح\\n \\n  #ماذا_تقول_لمن_يعشق_بتويتر',\n",
       " 'RT @ngat60: #تعدد_الزوجات\\n مِن أهداف التعدد :\\n &gt; إحياء هذه السُنَّة .\\n &gt; تكثير عدد أمة محمد ﷺ .\\n &gt; إعفاف النفس وتحصينها .\\n &gt; تقليل العنوسة في المجتمع .\\n &gt; إعفاف النساء المطلقات والأرامل .\\n  #افضل_صور_عندك',\n",
       " 'RT @Noor70060945: #تعدد_الزوجات\\n \"ذكر التعدد شرعاً ....\\n \\n  إعفافاً للزوج وإعفافاً لهن ايضاً \\n فلا ينبغي للمرأة العاقلة ان تأبى ولا أن تكره ذلك\\n \\n إذا عدل فيها وأدى الواجب فالحمد لله، أما إذا جار وظلم لها الحق أن تأبى وأن تطلب العدل . ✋',\n",
       " 'RT @rahaf_66655: #رايكم_في_تعدد_الزوجات\\n مما لاشك فيه ان التعدد متعه من متع الدنيا والاخرةوكان جزاء المتقين في الجنه الحور العين فلم يذكر في الجنه حوريه واحده فقط لان من كمال المتعه التعدد وليس الافراد.قال تعالي (وزوجناهم بحور عين)ومن يحرم نفسه من التعدد في الدنيا حرم نفسه من متع ونعيم الدنيا 💔',\n",
       " 'RT @RghadXi: #تعدد_الزوجات \\n \\n شرعه الله لحكمه لو نظرنا نظرة شمولية وبعيدة عن الجهل وبعيدة عن الإنانيه\\n ونظرنا الى موضوع تعدد الزوجات بنظرة ايجابية لوجدنا ان هذا التعدد هو في مصلحة\\n الرجل ومصلحة المراة',\n",
       " 'RT @Salha_14001: #رايكم_في_تعدد_الزوجات\\n حق من حقوق الزوج لن بعض الحريم.ماتقدر \\n الحياه الزوجيه ..او رجل مايقدر يصبر وهذي فطره فيه لزم يتزوج',\n",
       " 'الداعون لـ #تعدد_الزوجات يسعون لعفاف بناتكم وانتم تكيلون لهم الشتائم بدل الدعاء لهم ولانفسكم ولبناتكم بالتوفيق .. ليس المشكله من أمراة ترفض التعدد ولكن المشكله من اشباه الرجال الي يتميلحون واذا طلقت بنته والا أخته ذهب يبحث لها عن معدد .. الحماقه قاتلها الله\\n #التعدد_مطلبنا',\n",
       " 'الزواج بأكثر من زوجة واحدة أمر مطلوب بشرط أن يكون الإنسان عنده قدرة مالية وقدرة بدنية وقدرة على العدل بين الزواجات فإنَّ تعدُّد الزوجات يحصل به من الخير تحصين فروج وتوسيع اتصال الناس بعضهم ببعض وكثرة الأولاد التي أشار النبي ص( تزوجوا الودود الولود ) وغير ذلك من المصالح الكثيرة',\n",
       " 'اليوم بأذن الله بتكلم بلخطبه عن منافع تعدد الزوجات واثاره ع المجتمع . #يوم_الجمعه',\n",
       " 'إن كان في تعدد الزوجات ضرر ، فإن فيه أكثر من عشر فوائد تغطي على هذا الضرر #التعدد_مطلبنا',\n",
       " 'أردنيون يؤيدون تعدد الزوجات ردا على سؤال: لو زوجتك مش مقصرة معك ووضعك المادي مرتاح .. بتتزوج عليها؟ https://t.co/h5WkisrOnI',\n",
       " 'بسبب إرتفاع مستوى العنوسة في بعض دول الخليج أصبح تعدد الزوجات مطلب للنساء والرجال #التعدد_مطلبنا',\n",
       " 'تعـــدد الزوجــات كــلـن يــرغبـــه\\n واللي يقول العكس نصاب وكذوب!!😂 #من_اجمل_سعوديه_ولامغربيه',\n",
       " 'تعدد الزوجات مش لتحويل الرجل مكينه مسعوره لجنس\\n التعدد لان ممكن الزوجه ضعيفه جنسيآ\\n ممكن من اجل ان تعول ايتام\\n تجوز من بنت كبر سنها\\n لزواج من مريضه لتعولها\\n او مطلقه لتعفها\\n وممكن راجل طفس حريم بيحب النسوان نسيبو يجوز وحده ويدور علي عاهرات الدوله\\n لأ يجوز وحده وتتنين ويعدل',\n",
       " 'تعدد الزوجات منه فوائد والمستفيد الاول زوجته الاول #التعدد_مطلبنا',\n",
       " 'تعدد الزوجات و كثرة الأولاد أرجو من الله أن يكونا سببين في زيادة الرزق #التعدد_مطلبنا',\n",
       " 'حبيت ابلغكم ان الموضوع المطروح بالدوانية اليوم هو تعدد الزوجات .. توني اكتشف ان الربع كلهم بياخذون الثانية بس موعارفين شلون 🤦🏽\\u200d♂️😂',\n",
       " 'رسالتي لكل الرجال الراغبين بالزواج الشرعي او الزواج المسيار \\n \\n لا ينسيك المرأه الا أمرأه اخرى ....فلا ترجي او تنتظر من لا تراك شيء.......البحر كبير والاسماك كثيرة ... فقط لا تتعجل واحسن الاختيار كي لا تندم ... تعدد الزوجات مطلب شرعي ووطني وقومي لابد من التعدد',\n",
       " 'رغَّب الإسلام كل رجل بالزواج بامرأة واحدة، وهذا هو الأصل، وهو الغالب، وهو الأفضل لمن خاف عدم العدل \\n  #التعدد_مطلبنا\\n لماذا شرع الاسلام التعدد \\n https://t.co/LsbyWo5hOV',\n",
       " 'فالله جل وعلا شرع لعباده تعدد الزوجات؛ لمصالح كثيرة، منها ما في ذلك من عفة الرجل، وعفة النساء، فإن الزواج من أسباب العفة للرجل عما حرم الله، ومن أسباب عفة النساء عما حرم الله، #التعدد_مطلبنا',\n",
       " 'كثرن البنات وكثرة العنوسه والله .....\\n \\n والحل : في تطبيق سنة النبي صل الله عليه وسلم ومنها :\\n \\n من أتاكم من ارض ن دينه وأمانته فزوجوه ./أيا كان\\n ( لاتقولي أجنبي ويبي يأخذ حلالنا ...لغة الجاهلين )\\n \\n ومنها : تعدد الزوجات ..وان تعدل بينهن',\n",
       " 'ما احله الله الا لحكمه و الله اعلم بخلقه \\n ومتطلباتهم \\n و الرسول و الصحابه عددوا وحياتهم ماشيه \\n مع زوجاتهم\\n الحين تجي وحده تقول هذا الرسول و اصحابه \\n وانتي يام ألسان طويل ما انت مثل الصحابيات \\n وامهات المؤمنين ، اذا الله اكرمك بزوج احمديه\\n واذا ما تبين التعدد انثبري.\\n  #تعدد_الزوجات',\n",
       " 'مع تعدد الزوجات في حال ان هو مقتدر ان يعدل بينهن❤️❤️ https://t.co/uB4lNBuNFE',\n",
       " 'هي تقول الله سبحانه امر بالتعدد لعذر شرعي مثل مريضه او لا تستطيع ان تنجب\\n \\n عفوا عزيزتي الزوجه الاولى الانانيه من اين لك بهذا الدليل\\n \\n هذا من كتاب مسيلمة الكذاب المجلد الاول . باب اوهام وخرطي النساء في المجالس\\n \\n تعدد الزوجات مطلب ديني ووطني وقومي',\n",
       " 'والله لقد مر بي كثير من المتزوجين\\n رافضو #تعدد_الزوجات\\n وهم غارقون في إستباحة محارم الله\\n مبررين فعلهم لانه الزوجه الاولى ترفض قبول زوجها للتعدد\\n \\n وحدث ولاحرج\\n عن سلوك كثير ممن عزف عن #الزواج\\n وكم هم منغمسون فيماحرم الله\\n تزوجو الثانيه بالحلال لو مسيار',\n",
       " 'ودنا لكن الاوضاع المادية شوي تعبانه 😣 #تعدد_الزوجات',\n",
       " 'ي جماعة تعدد الزوجات حلال ومستحب شرعاً، يعني ما ممكن بسبب الأنانية وعدم الإنسانية تحرموو حاجة حللها الله، والله حرام 💔\\n #حمله_راجلك_راجلي \\n #حملة_تعدد_الزوجات https://t.co/QNnH3ErmnE',\n",
       " 'يدل على كمال الرجولة، والاقتدار على تحمل المسؤولية..\\n #تعدد_الزوجات',\n",
       " '💓بلغوهم \\n إن تعدد الزوجات \\n في مصلحتهم 😅😉',\n",
       " '- مثل تعدد الزوجات وان شهادة المرأة نصف شهادة الرجل وان الله قد أمر الزوج بضرب زوجته في حال نشزت.\\n \\n - حتى لو عشت حياتي بدون أن يتزوج زوجي علي أو يضربني وبدون أن اضطر للذهاب إلى المحكمة حتى، ستبقى حقيقة أن خالقي الذي خلقني سمح لزوجي بضربي والزواج علي، ستبقى',\n",
       " '#التعدد_مطلبنا\\n المسلمين غير مهتمين بالصلوات الخمس في اليوم التي هي فرض عين بينما شغلهم الشاغل تعدد الزوجات الذي هو سنة وتارة يكون في حق البعض حرام',\n",
       " '#تزوج_الثانيه_ومهرك_علينا \\n \\n يلعن أم الرخص و \"الدعارة بإسم الزواج\" مو كذا الدين يا مسلمين تعدد الزوجات لضرورة قصوى ولازم تمر الفكرة \"بفلتر العدل\" اللي يستحيل أحد يطبقه .. ما تختشوا شويه!!',\n",
       " '#تزوج_الثانيه_ومهرك_علينا تعدد الزوجات امر ليس بالهين لان يستحال فيه العدل وبهذا يلغى جواز التعدد والله اعلم ..',\n",
       " '#تزوج_الثانيه_ومهرك_علينا ما تلاحظون سمجتوها؟ مغربيه ولا سعودية بنات السعودية احلى عيال السعودية احلى تعدد الزوجات تتزوج طبيبه خلاص يا مبزره',\n",
       " '#تزوج_الثانيه_ومهرك_علينا ماهي مشكلة تعدد الزوجات بس انت الحين عندك امكانيه انك تصرف عليهم عندك امكانية انك تعدل بينهن.. هنا السؤال!؟',\n",
       " '#تزوج_الثانيه_ومهرك_علينا\\n \\n #تزوج_الثانيه_ومهرك_علينا تعدد الزوجات نفس الدعاره لكن حسب الضوابط الشرعيه.',\n",
       " '#تزوج_الثانيه_ومهرك_علينا\\n \\n تعدد الزوجات نفس الدعاره لكن حسب الضوابط الشرعيه👌🏻👌🏻',\n",
       " '#تزوج_الثانيه_ومهرك_علينا\\n المسكين ما يدري أن الضغط و السكر و تدهور حالة الصحيه سببها تعدد الزوجات و الأهم من كذا الديون الي عليه',\n",
       " '#تزوج_الثانيه_ومهرك_علينا\\n تعدد الزوجات شرع الله وهو حل جذري للمشكلة التي يعاني منها اغلب شعوب العالم الغير مسلم.\\n ولكن التعدد ليس رفاهيه او وناسه هو مسئولية وامانه عظيمه.\\n بعض الرجال والنساء لديهم القدرة على انجاح التعدد وكثير منهم يسببون كارثه بالتعدد الغير عادل.\\n 🔴عدد ولكن بعدل🔴',\n",
       " '#تزوج_الثانيه_ومهرك_علينا(أناضد تعدد الزوجات ..لماذا تجرحون المرأة وتكسرون خاطرها ..مافيه هاشتاق الا ضد المرأه)',\n",
       " '#تعدد_الزوجات انه الرجل !! لو امتلك مدينة كاملة من النساء، لطمع بامرأه من المدينة المجاوره .',\n",
       " '#تعدد_الزوجات \\n \\n المعدد في وقتنا هذا لابد يكون مقتدر مالياً الوضع الأقتصادي مرهق لبيت واحد كيف بيتين فكر مره ومرتين!',\n",
       " '#خبرات_في_تعدد_الزوجات \\n الكثير من الرجال لا يقدّر وقع الصدمة التي تقع على زوجته الأولى حينما يخبرها بقراره بالزواج من أخرى!\\n فيخبرها كيفما اتفق !\\n بدون تخطيط \\n او تمهيد \\n فتقع المصيبة!\\n أحدهم أخبرها وهي عند باب مدرستها فانهارت وُنقلت للمستشفى!\\n والآخر أمام أطفالها!\\n أخي الزوج إنتبه 🔴 !',\n",
       " '#رايكم_في_تعدد_الزوجات\\n \\n عن نفسي تكفيني واحدة .\\n تجمع الحب والوفاء والتضحية والسكينة وكل شيء .\\n فأنا اُحب الإكتفاء والإدمان على الأشياء .\\n فمن لايجد الإكتفاء في امرأة واحدة لن يجده في ملايين النساء !',\n",
       " '#رايكم_في_تعدد_الزوجات\\n \\n وجهة نظر 😕☝🏻\\n \\n موكويس موكويس موكويس ✖️ok',\n",
       " '#رايكم_في_تعدد_الزوجات\\n من يريد الموت البطيئ\\n والضغط والسكر\\n ورأس فاضي من العقل\\n يدور التعدد😀',\n",
       " '@abdsd1433 انا اشوف ان تعدد الزوجات ماله داعي الا للظروره فقط',\n",
       " '@Ala90900 @OiwmuX6 ماشئ دوا اسمه زوجه ثانيه شئ مرض اسمه تعدد الزوجات',\n",
       " '@alnaj1408 اطالب الحكومة بمنع تعدد الزوجات منعا نهائيا\\n و الاكتفاء بزوجة واحدة فقططططططططط\\n و الاكتفاء بطفل واحد فقط بعد شهر عسل لمدة 5 سنوات\\n حيث يتم الانجاب بعد السنة الخامسة من الزواج',\n",
       " '@altbyty @Terwiny المشكلة ان الرجال تفكيرهم جنسي بحت لو يحصله تزوج عشر مو اربع. ومافكر بالعواقب هل يستطيع توفير اكثر من سكن مع تعدد الزوجات وكثرة الأطفال ومصاريف الحياة اتحدى ان كان يعرف اسماء عياله كلهم أو اَي مرحلة دراسية هم فيها. بربرة عالفاضي.',\n",
       " '@Amro_ib @sasha123d بغض النظر عن موضوع الخيانة - بدال مايعملو دورات توعويه !! بأن هناك 95% من حالات الاصابة بسرطان عنق الرحم ناتجه عن عدوى فايروس (الورم الحليمي) - هذي العدوى في الغالب سببها (تعدد الزوجات) 🤢',\n",
       " '@busfn ياخوي تعدد الزوجات يحتاج إلى عدل ، لاتقارن عدل النبي واصحابه في ازواجهم في هذا الجيل ، هذا الجيل مع نفسه مايعدل إلا من رحم ربي 🌹',\n",
       " '@Dosanela2 لا انا مش مأيد تعدد الزوجات يا حاجة ...\\n عايز واحدة بس يعني بالكتيييييير ٦٠ كيلو',\n",
       " '@faakwt @_rm8_ بصراحه رسمياً ارفض تعدد الزوجات راح يضرب مخي ولا كنت مأيد قبل',\n",
       " '@fkr7r28 تعدد الزوجات أصله حرام\\n والوحيد الذي أحل الله له تعدد الزوجات هو النبي \\n قال تعالى (يا أيها النبي إنا أحللنا لك أزواجك....)\\n فكل شيء في القرآن يحلله الله فإن الأصل فيه التحريم\\n أما بالنسبة لنا فإنه فقط ليس أمامنا إلا الارتباط بزوجة واحدة وإذا أردنا',\n",
       " '@fsood تعدد الزوجات ماهو دائما جائز .. الرجل اللي ماعنده لاقدره بدنيه ولا ماليه هذا مايجوز يتزوج اكثر من وحده',\n",
       " '@hassan0544517 @nnaa1212__12 اعكس الآيه ،انتم ماتفهموش من الدين الا تعدد الزوجات الباقي عليه السسلام✋🏻',\n",
       " '@ksa2022_ @SxgZztRjj يا جماعة البعض فاهم الدين خطأ بما فيهم المشايخ تعدد الزوجات هو مباح والاصل هو الزوجة الواحدة فالتعدد جاء للضرورة وان توافق الزوجة الاولى',\n",
       " '@ma_abo_gold @kokysharawi هو حرام تعدد الزوجات',\n",
       " '@Maai_ebrahim @Beautyrr10 هو تعدد الزوجات بي السهل كده داه امر عظيم \\n لازم يكون في عدل في كل شي حتي في الحب الموضوع اكبر من انك بتقول هتجوز تاني وثالث ورابع',\n",
       " '@MaGuindi الإعجاز الوحيد في تعدد الزوجات من وجهه نظري انها تقصر العمر',\n",
       " '@Maha_saoud21 اكرهه التاقات هالفتره تعدد الزوجات 🤦🏻\\u200d♂️',\n",
       " '@malookabdo تعدد الزوجات ليه أسباب وأحكام .. لكن الشعب السويسري المهم يتنقل من حضن لحضن 😂😂😂',\n",
       " '@mastor000 الصدق تعدد الزوجات يعتبر قتل لمشاعر الزوجة الاولى واهدار لانسانيتها. ( نعم هو مباح لكن لوجود مدعى لذلك ويشترط فيه رضى الزوجه الاولى شرعاً) فكما ان الاسلام أقر بالعبودية والرق فهو أقر بتعدد الزوجات مع ما فيهما من سلبيات',\n",
       " '@Na_iF_10 .\\n التعدد .. تعدد الزوجات هو في الأصل طبيعة حيوانية والحيوان فقط هو الذي يتخذ أكثر من زوجه .\\n والذكر المتعدد الزوجات على فراش واحد لا يختلف عن الثور المتعدد البقرات في مزرعة واحدة ولا يختلف عن الخاروف المتعدد النعاج .',\n",
       " '@noor_21234 @Mohammed_A49 - أكرر أنني ضد الاثنين، فكلاهما خيانة. لكن الدين العادل اما يلغي الاثنين أو يسمح بالاثنين، أن تلغي تعدد الأزواج وتسمح بتعدد الزوجات هو ظلم وجنسانية لا تصدر عن إله حكيم عادل.',\n",
       " '@noor_21234 @Mohammed_A49 - نعم وإهانة كبيرة أيضا، تعدد الزوجات مثل الخيانة هل ترضى انت أن تتزوج عليك زوجتك؟ بالطبع لا إذا لماذا تفترض أن المرأة تقبل بهذا؟\\n \\n - اذا تزوجت المرأة عشرة رجال تعاشر واحد منهم كل شهر ثم تغيير عند نزول الدورة سيكون من الممكن بكل س',\n",
       " '@torment777 @basamh1412 @D_bsharno @hhhhhh200000 @Tsaolaat معلوم أنّ الله لا يحبّ الظلم لأحد ، ومعلوم أيضاً أنّ المرأة الأولى لا ترضى أن يتزوّج عليها زوجها ثانية ، وتحسّ بالظلم بل هو الظلم بعينه ليس أصل تعدّد الزوجات معلّقاً على خوف عدم القسط في اليتامى ب',\n",
       " 'RT @BadarEhoop: #رايكم_في_تعدد_الزوجات\\n \\n ..\\n \\n الاكْتِفَااءُ [ بِشَخْص وِااحد] ؛ لَذّة .. !لَنْ يَفْهَمهَاا ، مَنْ لَدَيْهِم [ هَوَس التَّعَدُّد ] .. !! https://t.co/VdkDbSwub0',\n",
       " 'RT @C1loi: القلب لا يمكن ان يسكنه شخصين ! \\n \\n  #رايكم_في_تعدد_الزوجات',\n",
       " 'RT @gogoo19722: #تعدد_الزوجات \\n لا ضرر ولا ضرار \\n أمسك قردك لا يجيك اقرد منه 💔',\n",
       " 'RT @gogoo19722: #رايكم_في_تعدد_الزوجات \\n هدم للبيوت وتشريد للابناء 💔',\n",
       " 'RT @hnoo111354: الزوجه الواحده هي الافضل . والعدل لا يمكن تحقيقه بين الزوجات مهما كان الرجل مثالي\\n والتعدد ليس حل للعنوسه...!\\n \\n #رأيكم_في_تعدد_الزوجات',\n",
       " 'RT @hnoo111354: رفقِإً بِـ الإنثِى ..\\n فَـ انتّ لاتعِلم بمقدِإر تعبّها وعطإئِها ..!\\n \\n .. #تعدد_الزوجات',\n",
       " 'RT @hoor140579: كل شئ بحياتنا مقدر من الله تزوج زوجك اولا كله مكتوب ليه احصر حياتي برجل وأزعل اذا تزوج !! الموضوع مؤلم م نختلف لكن انا وين حبي لنفسي لابد اقدر نفسي وم اعذبها بألم عشان رجل ابداً مو استنقاص فيه ولا من قدره بالعكس الرجل النصف الاخر للحياة خلقنا مكملين لبعض #رايكم_في_تعدد_الزوجات',\n",
       " 'RT @LllllldrUsa2: #تعدد_الزوجات\\n \\n في بلد يكثر فيه الطلاق وتأن فيه النساء من كيد وظلم الرجال ،، لا ينصح المرأة بأن تكون زوجة لمعدد .',\n",
       " 'RT @my_daily_af: #تعدد_الزوجات\\n دعارة قانونية و عدوى امراض جنسية\\n والمرأة اللي توافق عليه قذرة قلبًا وقالبًا',\n",
       " 'RT @NfcMem: الله يجعل كل من يدور مره ثانيه بوحده مثل هذي 👌🏻\\n يانعنني ابغى اكمل الشرع واجيب الثانيه \\n جني شالك وهبدك يالبومه من زينك ليتك تهتم في شكلك 🤫\\n الكرش من جهه طافره مثل العجينه المخموره \\n والاسنان متشادقه تقول سنون سلعلعيه شمطاء 💀\\n خلوني ساكته احسن 🌚\\n ترفعون الظغط ☹️\\n  #تعدد_الزوجات https://t.co/bdfAHQ61dN',\n",
       " 'RT @Sd445_: من وجهة نظري التعدد خيانة زوجيه بحق زوجتك \\n واعتبره خذلان لأطفالك \\n بغض النظر انه مسموح شرعآ\\n \\n #تعدد_الزوجات',\n",
       " 'RT @sh_e2_: #تعدد_الزوجات\\n لو اني ولد حتا وحده مافكرت اتزوج مدري وين عقولهم الي يعددوا',\n",
       " 'RT @Ss__________N: #تعدد_الزوجات\\n #فقط_نصيحه_مني✋\\n خلك على مجنونتك لاتجيك اللي اجن منها \\n  ههههههههههههههههههههههههه😂😂',\n",
       " 'اللي ترضى ان زوجها يتزوج عليها يا اما إنسانة بليدة يا اما غير عاقلة، الباقي ضد تعدد الزوجات حتى لو كان حلال!',\n",
       " 'المحاضره عن تعدد الزوجات واحس بديت اعصبب وذي وهي تشرح تستخدم مصطلحات مستفزهه بزياده بقوم اطقها',\n",
       " 'الناس اللى بتكلم على تعدد الزوجات فى شباب مش عارف يتجوز واحدة مش اربعة',\n",
       " 'انا ضد التعدد لكن ممممممممممع حق الرجل بجعل له جواري ( خادمات يشتريهم ) #رايكم_في_تعدد_الزوجات',\n",
       " 'انا عن نفسي بصراحه وبكل امانه وشفافية ضد تعدد الزوجات مهما بلغ مع من المال بإمكاني اترفه ب المال بس تعدد الزوجات لا وهاذا إذا تزوجت أصلا',\n",
       " 'تعدد الزوجات ... ايييه لو يرجع الزمان كان بقيت عزوبي لحد الان و المثل الي كنا نضحك عليه طلع صحيح الله يأخذ الي تزوج ولا نصحني و الله يأخذ الي يبي يتزوج ولا يسئلني #التعدد_مطلبنا',\n",
       " 'تعدد بدون عدل بين الزوجات حيورطكم وحتندمو ي اغبياء #التعدد_مطلبنا',\n",
       " 'تعدد_الزوجات. عددو اعظامك علي طريق الليث في ليله ما فيها قمر',\n",
       " 'دراسة حديثة 🔴\\n \\n تعدد الزوجات خطر على قلب الرجل ، و يرفع معدلات الإصابة بأمراض القلب 🤔',\n",
       " 'سبحان الله، السعوديين مايعرفون ربهم الا في موضوع تعدد الزوجات ولا بعضهم مايعرفون القبله وينها معه ويفطر في رمضان واذا جاء عالتعدد قال الشرع حلل اربع انت بالأول اعطي ربك حقه ناس ماتخاف الله 👊🏼👊🏼 #التعدد_مطلبنا',\n",
       " 'في فئة من الناس بدون ذكر جنسيات ما عندهم سيرة الا تعدد الزوجات 😂\\n ولكم الله ياخدكم انتو و زوجاتكم',\n",
       " 'فيه رجال يصلح تعدد وفيه رجال لا اذا عددت تظلم واللي بيعدد منهم كم عمر المرة اكيد بيدور ام عشرن او حولها اما انه بيدور وحده كبيرة في الثلاثين او في الاربعين عشان يستر عليها او يتيمه يعوضها الفقد هذا نادر اللي يفكر بعقله #رايكم_في_تعدد_الزوجات',\n",
       " 'كل ما أدخل منشن وأحصل فيه جدال معتاد عن تعدد الزوجات وأشوف الرجل يقول الشرع حلل ...إلخ (وأنا بعدل) هني أحاول أمسك ضحكتي وأكمل حديثهم بجدية بس ما أقدر! تبارك الرحمن من إيمانك وطاعتك قادر ومتأكد أنك بتعدل هههه والخيبتين، عزيزي الرجل لا تتحمس وايد بموضوع (العدل) لأن الشي مب سهل.',\n",
       " 'محزن أننا في مجتمع ما زال يستخدم تعدد الزوجات كنكتة والمحزن أكثر تقبل النساء هذه النكت وحتى نشرها*',\n",
       " 'مفهوم تعدد الزوجات يقترب من الزنا في التطبيق العملي لانهم اعملوا حد الكم دون حد الكيف',\n",
       " 'ملاحظين ان الإسلام جنس ؟ تعدد زوجات ،جنس ضحايا حرب ، جنس قاصرات ، جنس اخت بعد موت احد الزوجات الاربع ، جنس بنت الزوجه ، جنس اليهوديات والنصارى، جنس تحرشي لأن المسلم *يزل* وتذكره اليانصيب 🤩هو الطلاق بإمكانك تتزوج المئات لكن رتبهم كل شهر اربع اربع.',\n",
       " 'هل تؤيد تعدد الزوجات — لا بس وش دخلني https://t.co/HI7hGSRnc6',\n",
       " 'هم خلهم اول يعطو الزوجه الاولى حقوقها عشان يتزوجو الثانيه ويعدلو😂😂 #رايكم_في_تعدد_الزوجات',\n",
       " 'ياربي موضوع تعدد الزوجات يستفزنييييي',\n",
       " 'يدّعون أنهم أنصار السنة عندما ينافحون عن ( تعدد الزوجات ) ونسوا أن من سنّ هذه السنة لم تكن دوافعه شهوانية وغرائزية بل كانت الدوافع نبيلة فيها من الشفقة والرعاية والسياسة والتعليم مايبدد كل من حصر التعدد في قضاء وطر وشهوة ...\\n \\n  #التعدد_مطلبنا',\n",
       " 'يصيحون يبون يتزوجون ويركضو الارض شرقها غربها عشان حد يوافق عليهم ومن يتمسكو جلسو يصيحو يبون الثانيه احمدو ربكم هي وافقت عليكم بالزور تبون بعد وحده ثانيه دورلك عاد على عورا #رايكم_في_تعدد_الزوجات',\n",
       " '\"الولاية\" هي اللي بتجبرها تطلب الاذن من اخوها الصغير لما تبي تسافر بعد ابوها💔 بالله هذا قانون يليق بنا؟ عشان كذا انا مع اسقاط الولايه لانها بدون شرع ولا لها اهميه غير انها تحكم حركاتنا💔 غير اننا نبقى خايفين هل وليي القادم بيحفظ حقوقي؟؟ #سعوديات_نطلب_اسقاط_الولايه805 https://t.co/nsAFUB0Kc6',\n",
       " '\"ضغطة زر في أبشر تنهي مستقبل المرأة \"\\n و الحل يكمن في سقوط الولاية عن المرأة بشكل كامل.\\n #سعوديات_نطلب_اسقاط_الولايه224\\n #سعوديات_نطلب_اسقاط_الولايه803 https://t.co/n45heKFgEK',\n",
       " '\"لا تنتظري من أحدٍ أن يعطيكِ القوّة، قاتِلي واحصلي عليها\" #نسوية #اسقاط_الولاية https://t.co/FOT4YrUjQe',\n",
       " '#اسقاط_الولاية \\n متى يجي ذا اليوم!!!!',\n",
       " '#اسقاط_الولاية نرجع لموضوعي الاساسي 🙂 اسقطو الولايه ابي اصير حره',\n",
       " '#اسقاط_الولاية_مطلبنا',\n",
       " '#اسقاط_الولايه بموت وانا انتظر',\n",
       " '#اسقاط_الولايه_قريبا نطالب باسقاط الولايه',\n",
       " '#اسقاط_الولايه_قريبا وصلوا صوتنا للعالم',\n",
       " '#امنياتكم_في_١٤٤٠\\n اتمنى ياااااارب ..\\n إسقاط الولاية 😍\\n 🤲',\n",
       " '#إسقاط_الولاية_التعسفية_فقط ...فعلا نريد الاسقاط في بعض الحالات التعسفية .. وعند عمر معين ..وعند تعليم الفتاة او العلاج',\n",
       " '#تضامن_مع_ترف_العسيري الي سعودية اصيله ترفض تكشف عن وجهها اولا للدين ثم للدنيا ، انا مع إسقاط الولاية لما فوق 40 سنه لانها في هذا السن لا تحتاج توجيه ....( وجهة نظر )',\n",
       " '#سعوديات_نطلب_اسقاط_الولايه794 اسقاط الولاية ليست بيد ولي الأمر وإنما بيدالحكومة تستطيع الحكومة اسقاطها كما سمحت بالقيادة ودخول الملاعب والحفلات الأمر ليس بمعجزة ولايستحق كل هذا الوقت من التفكير ،فإما أن تسقط الولاية او يُفتح لنا باب الهجرة',\n",
       " '#سعوديات_نطلب_اسقاط_الولايه800 \\n أللهم عجل بأسقاطها وحرر المظلومات \\n من تولاهن وسرق أعمارهن وأزهد أرواحهن\\n أللهم أرحم بناتنا وفرج عنهن كربتهن \\n يارحمن ، ياقادر يارؤوف ألطف بنا و نصرنا \\n بنصرتك ياجبار ياعظيم ياملك الملك\\n عجل بزوال الولاية وفرح قلوبنا \\n 💞💞💞💞💞💞 💞',\n",
       " '#سعوديات_نطلب_اسقاط_الولايه800 الفكرة المصورة في ذهون البعض بأن النساء بدون والي ستنحرف وتضيع وتروح في طريق الضلال بحد ذاتها مستفزة، انا كأنثى اخاف على نفسي واحترمها واقدرها بوالي او بدون.\\n اسقاط الولايه لن يحول بناتنا الى اللي في راصكم...',\n",
       " '#سعوديات_نطلب_اسقاط_الولايه800 ستستقط وستحرر المرأة من عبودية الولاية',\n",
       " '#سعوديات_نطلب_اسقاط_الولايه800 كل شي كنتوا تنابحون عليه ياذكور يامعفنين راح يجي مثله مثل غيره .. زي القياده بغيتوا تزقون على اساس لن تقودي وقدنا غصببنننن عن شواربك انت وياه .. كذلك الولايه راح تسقط وتسقط معها انت يازباله يالبسيت فريند يالبيبي',\n",
       " '#سعوديات_نطلب_اسقاط_الولايه801\\n أستعدوا لإسقاط الولاية 💙 https://t.co/7DHWMrPOge',\n",
       " '#سعوديات_نطلب_اسقاط_الولايه801\\n تسقط الولاية والظلم والاستعباد والقهر',\n",
       " '#سعوديات_نطلب_اسقاط_الولايه801\\n يوجد فرق بين القوانة و الولايه ، القوامة لمين ينفق سواء رجل او امرأة، اما الولاية لا تكون على المرأة البالغه الراشدة،الولاية على السفيه والمجنون و الاطفال،الا اذا انت تشوف نفسك تحتاج ولايه هذا شي ثاني،لكن احنا ما نحتاج ونرفض و الظلم و التعنيف 😤 https://t.co/Q93GKjyHhb',\n",
       " '#سعوديات_نطلب_اسقاط_الولايه802 اليوم الوطني هو يوم اسقاط الولاية عن النساء',\n",
       " '#سعوديات_نطلب_اسقاط_الولايه802 تسقط الولاية بـ\\n - سن رشد للمرأه\\n - الغاء بلاغ التغيب الكيدي \\n - الغاء دعوى تسليم امرأه الى محرم\\n - الغاء دعوى العقوق \\n - عدم مطالبة المرأه بموافقة ولي الامر لأي امر كان مثل السفر ...وإلى آخره\\n معاملتها كأنسان له حرية القراروالاختيار و التصرف في حياتها',\n",
       " '#سعوديات_نطلب_اسقاط_الولايه802 سقوط الولاية هو دعم لكل من تعاني من ظلم الولاية أو الولاية الشكلية. من يتوفر لها دعم حقيقي لن يتغير وضعها.',\n",
       " '#سعوديات_نطلب_اسقاط_الولايه802 صباح يستاهل تسقط فيه الولايه',\n",
       " '#سعوديات_نطلب_اسقاط_الولايه802 ليس من حق مجلس الشورى ان يناقش قرار إسقاط الولايه لان إسقاط الولايه حق بديهي وضروري لكي تعيش اَي مواطنه في أمن و كرامه بوطنها فهي حقوق مدنيه ضروريه و ليس من حق الدولة من الأساس ان تسلبها من مواطناتها لذا يجب اسقاطها بلا نقاش ولا شروط',\n",
       " '#سعوديات_نطلب_اسقاط_الولايه802\\n #سعوديات_نطلب_اسقاط_الولايه803 \\n  الولايه انتهاك لحق الانسان بالحياة',\n",
       " '#سعوديات_نطلب_اسقاط_الولايه802\\n الولايه ظلم .',\n",
       " '#سعوديات_نطلب_اسقاط_الولايه802\\n لا ولاية على بالغ سواء امرأة أو رجل شرعا وعرفا ومنطقا ..\\n الولاية وجدت شرعا على القاصر والصغير والمجنون والسفيه فقط ..',\n",
       " '#سعوديات_نطلب_اسقاط_الولايه803 من سن 18 سنه تسقط الولايه جزئياً\\n وعند السن 21 تصبح كاملة الأهليه فـ يلغى شرط تصريح السفر و يلغى كل الشروط المطلوب فيها موافقه ولي الامر \\n يجب معاملتنا كـ مواطنات من الدرجه الأولى..\\n  متفائله جدا و اشعر ان الحريه قريبه ❤️',\n",
       " '#سعوديات_نطلب_اسقاط_الولايه803 \\n #سعوديات_نطلب_اسقاط_الولايه803 \\n هل هذا تلميح ع سقوط ولاية الاستعباد عن المرأه ومعاملتها كمواطنة من الدرجة الاولى؟\\n لأنه اذا سقطت الولاية بحق انا أبصم ان بلدنا حتتطور بنهضة النساء... https://t.co/dtjpGXQKDg',\n",
       " '#سعوديات_نطلب_اسقاط_الولايه803 الفكرة من ان اللي تطالب بأسقاط الولايه بتضيع وبتسوي ومدري ايش وش هالهبال اذا انتم مو مربين بناتكم تأكدو انهم ضايعين من الحين مب منتظرين اسقاط ولاشي اذا ام مهجوره ومطلقه وزوجها ساحب ع عياله تبي تسفرهم تبي تعالجهم لازم كلشوي ترجع له تطلب تصريحه',\n",
       " '#سعوديات_نطلب_اسقاط_الولايه803 الولاية \" guardianship \" مصطلح دولي معترف به ومعروف يدور حول حماية ووصاية على الأطفال دون السن القانونية كونهم عهدة لدى والديهم . اذا تم تطبيق هذا المصطلح على الأشخاص البالغين فيسمى حسب ميثاق الأمم المتحدة عبودية \" slavery \"',\n",
       " '#سعوديات_نطلب_اسقاط_الولايه803 تسقط الولاية في السفر وفي الزواج وفي المعاملات \\n ونعامل مثل الذكور تماماً بدون ولاية علينا 😄',\n",
       " '#سعوديات_نطلب_اسقاط_الولايه803\\n  الولايه قمع للنساء \\n سجن للمواطنه وجعلها بلا قيمه',\n",
       " '#سعوديات_نطلب_اسقاط_الولايه803\\n انا ما يكفيني تسقط الولاية انا محتاجة تعويض او ينسجن ولي امري الين يموت',\n",
       " '#سعوديات_نطلب_اسقاط_الولايه804 ياررررب شغلي مع اسقاط الولايه ياررررب 😭💔 اي وقت الاسبوع الجاي',\n",
       " '#سعوديات_نطلب_اسقاط_الولايه804\\n #حملة_إلغاء_شرط_تصريح_سفر_المرأة_السعودية\\n الولاية لاتمنع المراة من الفساد\\n الولاية استعباد إنسان بالغ لآخر مثله او اقل منه بالعمر او الثقافه\\n والشرط ان يكون ذكر ليتولى مصيرك وقرارات حياتك نيابه عنك في أخذ حقوقك\\n ولا يعاقب بدلا عنك https://t.co/IK3qN9CaSb',\n",
       " '#سعوديات_نطلب_اسقاط_الولايه804\\n #حملة_إلغاء_شرط_تصريح_سفر_المرأة_السعودية\\n إستغلال الولاية على المرأة بابشع الطرق وابتزازها\\n يجعل الذكور ينابحون خوفاً من قطع رزقهم .\\n .\\n .\\n .\\n . https://t.co/qFshJ2oACR',\n",
       " '#سعوديات_نطلب_اسقاط_الولايه804\\n يقولو ان الولايه من خوفهم علينا ،،يعني احنا ما نخاف على انفسنا؟!!! اكيد ! ولكن احنا عندنا ثقه بالله بأنه معنا ويحمينا ..واذا كان في خطر راح ينبهنا... لكن المعارضين مايثقو في الله ولا في انفسهم ..متشائمين ولكن احنا متفائلين.',\n",
       " '#سعوديات_نطلب_اسقاط_الولايه804\\n 🌈\\n تسقط الولاية\\n 🌈\\n تسقط الولاية\\n 🌈\\n تسقط الولاية\\n 🌈\\n تسقط الولاية\\n 🌈\\n تسقط الولاية\\n 🌈\\n تسقط الولاية\\n 🌈\\n تسقط الولاية\\n 🌈\\n تسقط الولاية\\n 🌈\\n تسقط الولاية\\n 🌈\\n تسقط الولاية\\n 🌈\\n تسقط الولاية\\n 🌈\\n تسقط الولاية\\n 🌈\\n تسقط الولاية\\n 🌈\\n تسقط الولاية\\n 🌈\\n تسقط الولاية\\n 🌈',\n",
       " '#ماذا_نتعلم_من_هجره_النبي نتعلم انه ليس من حق الدولة ان تمنع نساؤها من الهجرة وعليها ان تفتح لنا باب الهجرة او تسقط الولايه و تعترف بحقوق النساء المدنيه و سن رشدهم بلا شروط و لا مبررات و ان تعوضهم عن الظلم الذي عانيناه طوال ٤٠ سنه مضت #سعوديات_نطلب_اسقاط_الولايه802',\n",
       " '@0_____93 انا مع اسقاط الولاية بس بعد صورتك هونت الحمدالله صديقاتي كلهن امريكيات شقر ولا يعرفون يتميلحون😫',\n",
       " '@4heend4444 اتفق معك بجماعة اسقاط الولاية 💗',\n",
       " '@5__IIM اسقاط الولاية والسفر من دون اذن',\n",
       " '@6ixty11 #اسقاط_الولاية #حريه',\n",
       " '@9fa836caa8bb4f6 آمين يارب وياك.. وشكرًا ع النصيحة، بس أتأكد مافي بنت تطالب بحقها إلا بعد ماحسّت بشعور العجز والقهر والتحكم في حياتها ومستقبلها بشكل لا يُطاق وأنا مو أول وحده قبلي والدتي والحمدلله انها معايا وداعمتني وتنتظر إسقاط الولايه عشان تسفرنا ندرس',\n",
       " '@A1bdn @SaudiNews50 والله محد درا عنك الله يعين بناتك يامتخلف ما ألوم النساء اذا طالبوا ب إسقاط الولاية لأن اللي مثل عقليتكك حرام يصير ولي',\n",
       " '@abboddei تراني مع اسقاط الولايه للعلم بس🙂',\n",
       " '@ahmad52502 مسكينننن مقهوررر قرارات التسويات تمشي وانت ي ذكوري ي زباله تاكل خرا سمحو ل للبنات الابتعاث والسفر وتصير محاميه وقاضيه وتدخل مجلس الشورى وتسوق وتدرس وباقي بس إسقاط الولايه وحريه اللبس 😘😘😘',\n",
       " '@AjelNews24 زين حبه حبه نتطور و عقبال اسقاط الولايه يارب',\n",
       " '@AjelNews24 عقبال اسقاط الولاية ❤️🕊',\n",
       " '@alexanderdoes اسقاط الولايه هي حق من حقوق الطبيعية',\n",
       " '@allahim امانتك وتكلم عن اسقاط الولاية بالسفر اذا تكرم لا تنسى معاناتنا وشكرا',\n",
       " '@almathami_aziz نبي اسقاط الولايه كاملة عن المراه العاقله الراشده',\n",
       " '@ARrashoudi هناك حالات يجب إسقاط الولاية .. من كان مدمن مخدرات وهناك حالات إجرامية فقدوا الآباء مشاعر الانسانية بالعضل والاستغلال وووو الخ هذه الحالات يجب اسقاط الولاية عنها بل يجب التعجيل بإجراءات قانونية ونظامية تحمي هذه الحالات .',\n",
       " '@b2ndr94 @AjelNews24 انا اطالب باسقاط الولاية وعندي افضل اب بالحياه \" وعائلتي اذا اسقطت عنهم الولاية ولا ماسقطت ماتفرق معاهم لان ابوي مو معيشهم بظلم ياسافل \" اطالب باسقاط الولاية لان فيه مضطهدات ومظلومات عند واحد عاها مثلك .. مايخاف من اسقاط الولايه غير',\n",
       " '@banofl12 طبعا تشوف هاذي الامور مياعة لانك تحتقر المرأه ومطالبتها بحقها، اسقاط الولاية مياعة؟ اجل ان تكون المرأة فرد ناضج عاقل له الحق بقراراتها وولايه نفسها مياعة؟ ان تكون المرأة ليست سلعه جسديه كما تمثل هنا محور اهتمام الشعب شرفها وتغطيتها وكانها جسد لي',\n",
       " '@bdooore_2000_ @bader_alhamid أوكي صح عليك بس ليش أروح ادافع عن حالات شاكه بمصداقيتها خلاص ادافع عن القضيه الأساسيه وبس ولو مافيه الا معنفه وحده فهي تستاهل الدفاع عنها ولو مافيه معنفات أبد فبرضوه اسقاط الولايه والاستقلال من حق المرأه',\n",
       " '@Dr_Angel__ ويقولون ليش تطالبون ب إسقاط الولاية ب الله هذا نظام ! هذا إستعباد ف القرن الواحد والعشرين 😢',\n",
       " '@EliaOlail @13_qk @OwS7E7Dju9AFOzj @AjelNews24 إلياس ، اولاً التقديم على الوظائف بالنت وبدون موافقه من ولي الامر تروح تقوله يبه قبلوني بالوظيفه الفلانيه والف مبروك لها اسقاط الولايه طبقه على نفسك مو لازم يكون على الكل',\n",
       " '@EliaOlail @AjelNews24 اتوقع كلامي واضح ، اقول حتى لو تم اسقاط الولايه مراح يتغير شي ، مرجعك الي ابوك او اخوك ك احترام وتقدير الا في حالات خاصه وهذي قليله',\n",
       " '@Eqbal_Darandari @Ahmed_jeedah @g11_we دكتورة تبغي أعطيك معلومة\\n \\n أنا عمري 30 وولي أمر نفسي\\n \\n والدي رفع علي (تغيب) وجاب راسي\\n \\n إسقاط الولاية بحد ذاته لا يغير شيء ولكنه فقط الخطوة الأولى والمشوار طويل',\n",
       " '@Eqbal_Darandari @g11_we الله يجزاكم خير\\n كف البنت بتسافر بدون إذن وليها\\n وهو متسلللللط\\n لازم الولاية كلها تسقط بالأول حتى نقدر نسافر وندرس ونتوظف\\n أما اذا الولاية موجودة بيمنعني من السفر مثل مامنعني من قيادة السيارة\\n #سعوديات_نطلب_اسقاط_الولايه803',\n",
       " '@Eqbal_Darandari @g11_we نبي الولاية تسقط\\n والله العظيم تعبنا\\n \\n #سعوديات_نطلب_اسقاط_الولايه803',\n",
       " '@Eqbal_Darandari اتمنى من الله سبحانه ثم منكم دكتوره اسقاط الولاية لان اكره كلمة ولي وانا بالغة حره مسلمه وليش العيب اذا سافرت لوحدي ب غرض تغيير الجو والترفيه ف غير مايغضب الله ف النهايه الانسان حر فيما يعمل ،،',\n",
       " '@Eqbal_Darandari المرأة السعودية مأجورة على أنواع المعاناة والظلم #اسقاط_الولاية',\n",
       " '@Eqbal_Darandari طبعا اسقاط البلاغات الكيدية هي اسقاط الولايه بس بلغة حلوه وخفيفة 😂 مبروك يا بنات اهم شي يكون عندكم دخل مادي محترم مب تهجين للشارع اربطوا الاحزمة',\n",
       " '@hf_slt @Gh_al96 @Nachanfarrate يا حظكم انا تعبت من كل اللي حواليني بنات العائله و صاحباتي ما يبون اسقاط الولايه يشوفونها فساد و يقدسون القبائل و العادات 🤦🏻\\u200d♀️💔',\n",
       " '@Hilalyian انا مسلمه واحب ربي ومافيه ارحم من الله علي لاكن اهلي متشددين وتعبت منهم ابي اعيش حريتي شايفيني جاهله يحطوم فوقي من يحكمني ويتسلط علي بمسمى الدين لاا ولا ارضاها انا عندي طموح واحلام واهداف بحياتي مابي احد يحرمني من شي وماله دخل الالحاد او لا دين',\n",
       " '@K27mxGH اذا بتسقط الولايه لابعد من اسقاط التخلف الذكوري في مجتمعنا واللي قاعد يشوه صورة الرجل العربي لكن البدايات مبشره بالخير وعن قريب بستقط بأذن الله',\n",
       " '@KHAalabbasi أخي الكريم وأنت جالس في مكتب بين الهواء البارد تحتسي فنجان القهوة وتكتب بكل برود ولا تدري معاناه المرأه السعودية وما تراه من ظلم وتعدي واستغلال وخاصه اذا كانت مرأه عامله بهدف ولي يدير أمورها الحياتيه وتنتهي بسرقتها \\n وبعد ذلك تكون ضد #اسقاط_ا',\n",
       " '@KHAalabbasi الكلام لن يفهمه الا من وقع عليه الظلم ( من ولييها ) وقد يكون ابنها وليس زوجها أو ابوها وكلاهما ظالمين فأين يذهب بها القضاء \\n لهذه الأسباب نطلب #اسقاط_الولاية \\n أرجو أن تكون رسالتي مفهومه',\n",
       " '@KHAalabbasi المسوؤلية هي تلبية لرغباتها والإحسان لها وشعورها بالآمان والاخلاص والصدق لها تكن في سبب سعاداتها \\n ولكن مجتمعنا وللأسف يفسر كلمة مسوؤلية بمنظور التحكم والسيطره في قرارتها واداره أعمالها . \\n #اسقاط_الولايه_قريبا #اسقاط_الولاية',\n",
       " '@KSA هرمناااا عقبال كل الجامعات لانه مو من العدل اني اخلص الساعه 10 و اجلس انتظر الى تفتح البوابات بعد الظهر او حتى يجي وليي يتكرم و ياخذني و الاهم من هذا كله #اسقاط_الولايه https://t.co/R6B5XVoSvI',\n",
       " '@loweyrm انا بنت الوطن واغرد واحتاج اسقاط الولايه وان شاء الله تسقط',\n",
       " '@luwrn @emptyidc فيه فرق بين وجهة النظر والحقيقه ، إسقاط الولايه شي \"مفروض\" مايختلف عليه اثنين يعني بالله قولي لي كيف بتسقط الولايه وفيه نساء أصلاً مو معترفين بحقوقهم ولا يبونها ههه! مره غريب و مثير للشفقه',\n",
       " '@MarquisAteyah اتفق...ولو تلاحظ كثير قرارات بالفتره الاخيره كلها من صالح المرأه..وكلها تصب في اسقاط الولايه',\n",
       " '@Memmh2_ 😂😂😂💔اسقاط الولايه حلوو',\n",
       " '@MlkFuck انشالله اسقاط الولايه بشرينا',\n",
       " '@MlkFuck عسى اسقاط الولايه يارب',\n",
       " '@MOHDj3030 @YKhoshaim انت مستوعب ان اعرف وحده عمرها فوق ال٦٠ ماعندها اولاد ومطلقه و اخوانها مشغولين تدور تصريح سفر و تصريحات غيرها ! ليش؟ عشان حضرتك تقول يشرفها ومن هذا الكلام الي مايودي ولا يجيب ! #اسقاط_الولايه_قريبا 👍🏼',\n",
       " '@nada9sa لذلك رأيي بمايخص الولايه او السلطه الذكوريه ليس الحل في اسقاطها\\n الموضوع موروثات اجتماعيه وثقافيه اكثر من انه نظام\\n يعني لوطلع بكره قرار اسقاط الولايه هل حتنحل المشكلة\\n برأيي لا\\n لابد يصاحبهاتجريم التعنيف و قانون لايقاف السلطة المجحفه وقانون مساعدات',\n",
       " '@NajitoG تعالوا شوفوا تحليلي : صعب على فئة كبيرة من الشعب تقبل اسقاط الولاية بحكم عصور الظلام الي عشنا فيها ف اعتقد شيئاً ف شيء يعني حبة حبة بتكون القوانين لصالحنا واخيراً رح تسقط بكل سلاسة.. يخففون على هالفئة صدمة اسقاط الولاية مو اكثر💜💜',\n",
       " '@Newss_24 اسقاط الولاية لا تعني تخلي البنت عن أبيها أو تخلي الاب عن ابنته، بل كل ما في الأمر أن تستطيع المرأة القيام بإجراءاتها الحكومية الاعتيادية جدا بدون موافقه مسبقه من طرف ثالث .',\n",
       " '@Niz_ar12 @Riburay بالعكس ، اغلب النساء اللي اهاليهم رافضين الوظائف المختلطة او انتقالهم للمدن الكبيرة بغرض التوظيف راح يلقوا فرص بعد إسقاط الولاية ، لانه قانونيا السلطة القسرية هذي راح تختفي .',\n",
       " '@non6_9 @hamdysoliman شوف انا نسوية و مع إسقاط الولاية بس ردودك تضحكك صراحه😹😹',\n",
       " '@r3dll موضوع إسقاط الولاية قادم لا محاله ،مثله مثل القيادة',\n",
       " '@rehaballl @Naser3k خلاص الحمداللله فرج الله لنا في عهد ملكنا سلمان وولي عهده.. تونا نشوف الحياة واكرمونا وقدرونا كنساء الله يحفظهم لنا والقادم اعظم بااذن الله #اسقاط_الولايه_قريبا',\n",
       " '@RmNxb يحزنوووون 😂، انا بس ابي اشوف ردة الفعل على اسقاط الولايه 😍 ، راح تكون لذذة لاتوصف',\n",
       " '@sager___s @Vanil1acake9 اسقاط الولايه قادم لامحاله \\n تجهزوا نفسياً للامر 👍🏼',\n",
       " '@sager___s انا مو مع اسقاط الولايه ابد واتمنى تبقى مثل ماهي لاكن كلامك مقزز ويجرح الذوق العام',\n",
       " '@SaudiNews50 @FreeKsaWomen بينجلطون الذكور هنا عقبال قرار اسقاط الولايه عشان الجلطه مره وحده 😂',\n",
       " '@SaudiNews50 @QassimUniv1 من بعد ما شفت ردود بعض الذكور هنا وتحجر عقولهم ونظرتهم للبنت في انها صايعه وضايعه وماتعرف لنفسها بمجرد فتح البوابات،اعلن نفسي انوه من هاليوم بوقف مع اسقاط الولايه تضامن مع اهاليهم الي الله بلاهم بالمرضى ذولي.',\n",
       " '@SaudiNews50 قربت اسقاط الولاية ❤️',\n",
       " '@snaa_ro @Eqbal_Darandari @g11_we خايفه لو صار السفر بدون إذن الولي\\n \\n الولي بيمنعني عنه مثل مامنعني من تعلم السياقة والسواقة \\n \\n يعني بيظل يحبسني لانه الولاية موجودة\\n بس لو اسقطت خلاص ماله حق\\n #سعوديات_نطلب_اسقاط_الولايه804',\n",
       " '@snaa_ro @Eqbal_Darandari @g11_we يعني الصراحة المفروض الولاية تسقط اختصار للوقت\\n ونتلاحق أعمارنا\\n \\n قهر العمر يروح ونحن جالسين ومستقبلنا موقف\\n والقهر الأكبر ان عندنا طموح وحابسينا أوليا أمورنا بالبيت\\n \\n #سعوديات_نطلب_اسقاط_الولايه804',\n",
       " '@Stranger23_ @Oh__28 @LifeRights19 القرار هذا بيغير تفكيرهم\\n المجتمع اي شيء قالته الدولة سمعًا وطاعة\\n اقلها يكون عندنا اجيال متفهمة وتتربى على ان المرأة انسان كامل الأهلية\\n اسقاط الولاية اول الحلول وافضلها',\n",
       " '@tiilv1 موالكل ياحلوتي فيه بنات محتاجات خلي البنات اللي يبون اسقاط الولايه عشان التفصخ تذكري البنات المعنفات اللي اهاليهم مو معطينهم قيمه اللي حالتهم حاله',\n",
       " '@vakh_1 الي يعارضون إسقاط الولايه من النساء ابي ادخل عقلهم واشوف شنو متكون منة ، يعني حسي شوي بنت وطنج تموت وانت تعارضين على شنو !!',\n",
       " '@YKhoshaim البنات والنساء يحسبن اسقاط الولاية شيء سهل . وانه يترتب على ان لايمنعها من السفر والخروج للسوق او لغيره.\\n ولكن اسقاط الولاية يشمل ان لاتطالبني بمصروف ولا بنفقة ولابكسوة ولا اعقد عليهاعندما يتقدم لها الزوج ولا ادافع عنها عندما تضطهد او تعنف من',\n",
       " '@YKhoshaim شفت موقف اوجعني ؛ امراه كبيره بالعمر طلبت تفتح حساب بالبنك قالوا نعتذر جيبي معرف رجل او طفل من اطفالك يعرف عنك \"عمره18\" ! باي حق الام تكون تحت رحمة طفلها عيييييب ، اسقاط الولايه ما يعني التمرد يعني التيسير في الامور فقط .',\n",
       " 'RT @__llq00: طفولتي،مراهقتي ومااعرف كم بيضيع من شبابي مابين بؤوس ونكد من اولياء يحسسونك انك بغابه والبقاء للأقوى كل السوء الي شفته انا وغيري من البنات محفور بذاكرتنا حفر ومستحيل ننسى ان حياتنا دائماً وللأبد بوجود قانون الولايه تعتبر اشبه بالوقوف على حافة الهاويه #سعوديات_نطلب_اسقاط_الولايه761',\n",
       " 'RT @__llq00: نظام الولايه اكثر نظام استبدادي استمر لسنين طويله ومازال مستمر المرأة هنا بسببه لا تعرف الاحلام ولا عمر الزهور \\n لا تعرف سوى الذكر اللعين الذي يفرض وصايته بأبسط امور حياتها لا تعرف سوى الخوف من الغد ومن غضب وليها!\\n #تجديد_سعوديات_نطلب_اسقاط_الولايه777\\n  https://t.co/p35fi7GDvj',\n",
       " 'RT @_Sam_mmm: #سعوديات_نطلب_اسقاط_الولايه802 اليوم الوطني هو يوم اسقاط الولاية عن النساء',\n",
       " 'RT @3aib07: #سعوديات_نطلب_اسقاط_الولايه801 بإسمي وبإسم جميع السعوديات اطالب باسقاط الولايه عن المرأه السعوديه وجعلها مواطن من الدرجه الاولى ومعاملتها كشخص كامل الاهليه واعطائها الحق الكامل بإتخاذ قراراتها دون اللجوء لرحمة ولي الامر https://t.co/yCz0mLiJVy',\n",
       " 'RT @4youandyou1: @HARB_SN #سعوديات_نطلب_اسقاط_الولايه800 \\n من قبل الهاشتاق بسنوات ومع بداية الهاشتاق وإلى هذه الساعة وكل ساعة، نجدد الدعم للمرأة العاقلة الراشدة في بلادنا بمطالبتها باسقاط الولاية القانونية عنها',\n",
       " 'RT @9vi_u: باقي بس اسقاط الولايه😭😭😭❤️ https://t.co/DySIsXGrXB',\n",
       " 'RT @A_2016_s: من زعم أن مطالب إسقاط الولاية معارضة للشريعة فقد كذب على ﷲ وشرعه، فما في الشريعة ولاية على البالغ العاقل الراشد إلا المرأة في النكاح. وفرق بين الولاية التي هي حق التصرف في النفس والمال والعقل، وبين القوامة التي هي واجب القيام بشؤون البيت والنفقة. #سعوديات_نطلب_اسقاط_الولايه734',\n",
       " 'RT @A_f_d_v: #سعوديات_نطلب_اسقاط_الولايه800\\n نحن نصف الشعب ، و بكل بيت ، وبكل مدينة ، و بكل شارع ، و بكل مكان عمل ، و لن نتوقف حتى تسقط الولاية كاملة وكل انواع الوصاية عن المرأة السعودية و نصبح مواطنات بالحقوق كلها و المميزات\\n تعرفو ليش؟\\n لان هذا حقنا بالولادة . مواطنة ، لا متهمة!',\n",
       " 'RT @A_f_d_v: كيف نحتفل النساء باليوم الوطني و وطني غير معترف بي؟ \\n اسقطو الولاية حتى نكون مواطنات كاملات الحقوق وليس التجني بالعقوبات\\n #سعوديات_نطلب_اسقاط_الولايه799\\n #سعوديات_نطلب_اسقاط_الولايه800\\n #سعوديات_نطلب_اسقاط_الولايه801',\n",
       " 'RT @A50079283A: #سعوديات_نطلب_اسقاط_الولايه803 من سن 18 سنه تسقط الولايه جزئياً\\n وعند السن 21 تصبح كاملة الأهليه فـ يلغى شرط تصريح السفر و يلغى كل الشروط المطلوب فيها موافقه ولي الامر \\n يجب معاملتنا كـ مواطنات من الدرجه الأولى..\\n  متفائله جدا و اشعر ان الحريه قريبه ❤️',\n",
       " 'RT @aae112: #سعوديات_نطلب_اسقاط_الولايه792\\n \\n تحديد سن رشد 18سنه\\n السفر مسموح فوق 21\\n تجريم التعنيف\\n الغاء تهم التغيب والعقوق الكيديه\\n اغلاق دور الرعايه\\n ومحاسبته كافه منسوبيها والتحقيق معهم\\n تجريم التمييز ضد المرأه بكافه اشكاله\\n قولا وفعلا\\n الافراج عن #سجينات_منسيات بدون ولي\\n اسقاط الولايه',\n",
       " 'RT @ab3dona: @Eqbal_Darandari صباح النور دكتوره🌸\\n أتمنى يكون خبر إسقاط الولايه قريبآ بأذن الله💜',\n",
       " 'RT @aboooooodddddi1: #سعوديات_نطلب_اسقاط_الولايه800\\n ٨٠٠ يوم من الإصرار والمطالبات بالتمكين بالحقوق والمساواة بالرجل \\n وخروج سجينات دور الرعاية\\n اصرار النساء وقوتهم يدل على ادراكهم للحقوق\\n وان اشباه الرجال الذين يعترضون اسقاط الولاية ليس الا خوفآ من ان يفقد صلاحية الامر والنهي وكأنها سلعة او قطعة مملوكة',\n",
       " 'RT @AlbandriKhaleed: نبي اسقاط الولايه وهم قاعدين يتنانتفون تيشرتات الوطن لابوكم لابو من جمعكم بنات جامعه',\n",
       " 'RT @Alwaileh1: #سعوديات_نطلب_اسقاط_الولايه800\\n إسقاط الولاية عن المواطنات الراشدات ضرورة ماسه جدا.. وليست رفاهية.',\n",
       " 'RT @Amoon06048599: @Eqbal_Darandari @g11_we الله يجزاكم خير\\n كف البنت بتسافر بدون إذن وليها\\n وهو متسلللللط\\n لازم الولاية كلها تسقط بالأول حتى نقدر نسافر وندرس ونتوظف\\n أما اذا الولاية موجودة بيمنعني من السفر مثل مامنعني من قيادة السيارة\\n #سعوديات_نطلب_اسقاط_الولايه803',\n",
       " 'RT @Amoon06048599: @Eqbal_Darandari @g11_we نبي الولاية تسقط\\n والله العظيم تعبنا\\n \\n #سعوديات_نطلب_اسقاط_الولايه803',\n",
       " 'RT @Annealshammari: +\\n مو ضروري نكون معنفات او مدللات عشان ننال حق من حقوقنا\\n و مو ضروري يكون عندنا اسباب مقنعه عشان يقتنعون باسقاطها\\n الولاية اهانة كبيرة بحق النساء الراشدات\\n إسقاطها حق طبيعي لكل امرأة\\n إسقاطها حق بديهي لكل امرأة\\n إسقاطها كلياً حق، والحقوق لا تقبل النقاش.\\n #سعوديات_نطلب_اسقاط_الولايه794 https://t.co/NCu0RWxRBa',\n",
       " 'RT @arooj_fa: #تجديد_سعوديات_نطلب_اسقاط_الولايه777 لا يعقل امرأة واعية يقيدها ذكر قد يكون مريض ومختل عقليا يحتاج من يعالجه يقيد حياة انسانه طبيعية تحت مسمى ( الولايه ) ويحرمها من ابسط حقوقها بالحياة .',\n",
       " 'RT @asuyle: المسؤل ولمعارض ان الولاية ماتسقط تعذبت الاف النساء بهاذا النظام الظالم الي يستنقص من المرأة ويجعلها انسانة بلا اي قيمة بلد العنة على النساء #سعوديات_نطلب_اسقاط_الولايه801',\n",
       " 'RT @B1984MH: #سعوديات_نطلب_اسقاط_الولايه801\\n نريد اسقاط الولايه نهائي ارفض بشده نزع الولايه من شخص وتنقل للشخص اخر',\n",
       " 'RT @bhralhodoa: @Noo__oora @Eqbal_Darandari اسقاط الولاية يا دكتوره مطلب نساء هذا الوطن ... اسقاطها من ولي الامر يجعلها غير مقيدة. مثل امهات كثير بعمر الخمسين والستين لا يسمح لهم السفر الاباذن ولدها ويمطلهاا ويااخد منهاا فلوس وبعدين يمنعها لانوا ولي امر فاشل مايعرف كيف حقوقة مع المراة وأمه او اخته يعاملونا كالعبيد',\n",
       " 'RT @EI40l: #سعوديات_نطلب_اسقاط_الولايه804\\n 🌈\\n تسقط الولاية\\n 🌈\\n تسقط الولاية\\n 🌈\\n تسقط الولاية\\n 🌈\\n تسقط الولاية\\n 🌈\\n تسقط الولاية\\n 🌈\\n تسقط الولاية\\n 🌈\\n تسقط الولاية\\n 🌈\\n تسقط الولاية\\n 🌈\\n تسقط الولاية\\n 🌈\\n تسقط الولاية\\n 🌈\\n تسقط الولاية\\n 🌈\\n تسقط الولاية\\n 🌈\\n تسقط الولاية\\n 🌈\\n تسقط الولاية\\n 🌈\\n تسقط الولاية\\n 🌈',\n",
       " 'RT @EliaOlail: @AjelNews24 عقبال اسقاط الولاية ❤️🕊',\n",
       " 'RT @EliaOlail: @SaudiNews50 قربت اسقاط الولاية ❤️',\n",
       " 'RT @Engakramsaleh1: #سعوديات_نطلب_اسقاط_الولايه800\\n ظروفك غير عن ظروف غيرك\\n ومن حسن إسلام المرء تركه مالا يعنيه\\n لاتدخل في نية احد وتتكلم بطريقة تفكيرك السيئة فكلا يرا الناس بعين طبعه\\n ولاتكون مثل الي يمشي ورا القطيع\\n \\n مثل ماكانت السواقه للمرأة محرمه في نظرك بسبب فتاوي كلها كذب وجهل مصير الولاية نفس الشي',\n",
       " 'RT @fahadalahmdi: أنا مع اسقاط الولاية عن الأنثى الراشدة وعن تجربة حقيقية تمر بها والدتي من ثلاث بنات يتيمات ربتهن منذ الصغر #اسقاط_الولاية https://t.co/fvhkBdHDZ8',\n",
       " 'RT @FawazAlharbii: من بطالبون بعودة #الهيئة او من يقفون ضد #اسقاط_الولاية هم من لا يستطيعون \"اقناع\" بناتهم او اخواتهم او زوجاتهم بالامتثال الى توجيهاتهم ويرغبون من #الحكومة اعطاءهم صلاحية التحكم بحياتهن ومعاملتهن كالرقيق.',\n",
       " 'RT @feminist2011: يازين التاق زيناه😍\\n احسن تاق حقوقي واتمنى دايم ف الترند لين مايتحقق ولاتتوقعوا أنه في أكثر الأيام ما يصير ترند يعني بنستسلم لن نستسلم ولن نكل أو نمل حتى تسقط الولايه عن المرأه الكامله الاتعلموا أن هناك أولياء ظلمه يستغلوا الولايه الظالمه ضد بناتهم ؟!#سعوديات_نطلب_اسقاط_الولايه800',\n",
       " 'RT @fgfgffdl: #سعوديات_نطلب_اسقاط_الولايه802\\n #سعوديات_نطلب_اسقاط_الولايه803 \\n  الولايه انتهاك لحق الانسان بالحياة',\n",
       " 'RT @fgfgffdl: #سعوديات_نطلب_اسقاط_الولايه803\\n  الولايه قمع للنساء \\n سجن للمواطنه وجعلها بلا قيمه',\n",
       " 'RT @fredom3333: الولاية سجن #سعوديات_نطلب_اسقاط_الولايه802',\n",
       " 'RT @freemeex1: #سعوديات_نطلب_اسقاط_الولايه803 الولاية \" guardianship \" مصطلح دولي معترف به ومعروف يدور حول حماية ووصاية على الأطفال دون السن القانونية كونهم عهدة لدى والديهم . اذا تم تطبيق هذا المصطلح على الأشخاص البالغين فيسمى حسب ميثاق الأمم المتحدة عبودية \" slavery \"',\n",
       " 'RT @Gh08944301: #سجينات_منسيات \\n هرم المشكله هيا الولاية فمجرد ألغائها \\n وأعطاء المرأة مواطنتها الكامله وألغاء التغيب الكيدي وتهمت العقوق لن تحتاج الفتيات لدخول هذا المكان الذي هوه اشبه بالجحيم \\n فلما الصمت عن أنتهاكات الحقوق \\n #سعوديات_نطلب_اسقاط_الولايه801',\n",
       " 'RT @ghadeer_talal2: #سعوديات_نطلب_اسقاط_الولايه800 ستستقط وستحرر المرأة من عبودية الولاية',\n",
       " 'RT @ghamdi995: @ajlnews تسلط ذكوري حيواني مسعور على المرأه باسم #الدين للاسف لذلك نقول \\n #اسقاط_الولاية امر هام ومفصلي 👍',\n",
       " 'RT @ghayd13: البنت السعوديه تبغى تسوق:\\n - يتحرشون فيها كلاب الشوارع\\n - يناظرونها الجيران وينغزونها بالكلام \\n - يوقفون ف وجهها اخوانها \\n وبكذا مااستفدنا من قرار القياده بدون اسقاط الولايه.\\n #سعوديات_نطلب_اسقاط_الولايه801',\n",
       " 'RT @gzalgzal280: @Eqbal_Darandari @_n25__ كنت يوماً ضد اسقاط الولايه وضد داعمي الحمله حتى توفي ابي ونزلقت رجلي في وحل الكفاله , اعتذر بصدق لكل هولاء وعترف كنت مغيبه ولأن صحصح الحق ✔️✋🏽',\n",
       " 'RT @hamssonosi: اخيرا مازلت انادي ب\\n ١/ #اسقاط_الولاية عن الراشدة العاقلة والغاء وجوب طلب اذن سفرها\\n ٢/تحديد سن رشد للمرأة\\n ٣/حل مشاكل التعنيف ضد المرأة بحيث يُضمن سلامتها دون تقييد لحريتها، ويُعاقَب المعتدي\\n ٤/الغاء بلاغات التغيب والعقوق \"الكيدية\"\\n ،\\n وأضيف\\n ٥/ايجاد حلول للهاربات المتخوفات من العودة\\n =',\n",
       " 'RT @HARB_SN: الله يشفي كل شخص يعتبر اسقاط الولاية القانونية عن المرأة العاقلة الراشدة ، هو انحلال للمجتمع!!\\n قولوا امين',\n",
       " 'RT @HARB_SN: اللي كانوا يعارضون قيادة المرأة والحين يعارضون اسقاط الولاية ، هم في الاصل ضد المرأة عموما وليسوا ضد القيادة او اسقاط الولاية فقط كما يزعمون !\\n حطينا هاشتاقات للارامل وما شفناهم وحطينا هاشتاقات للمطلقات وما شفناهم وحطينا هاشتاقات للمعنفات وهالمره شفناهم لكن ضد المعنفات !!\\n عنصرية',\n",
       " 'RT @hariri65: إسقاط الولاية لا يعني التنصل من البر بالأباء وإعلامهم بوقت دخولي وخروجي ولا إسقاط الإحترام للإخوة وحاجتي لوقوفهم معي ولا إسقاط القوامة لزوجي وإعلامه بكل شاردة و وارده في حياتي ولا إسقاط رضاي على أبنائي وحاجتي لوجودهم حولي ومعاونتي ...نحتاجكم عونا لا عبئا https://t.co/TLdUhtzeB3',\n",
       " 'RT @hessa16x: اسقاط الولاية جد احتاجها خلاص مصخت https://t.co/hKUrQLbM6Y',\n",
       " 'RT @hhalhussain: لتسقط فنحن عاقلات راشدات لا تنطبق علينا الولاية المطلقة #سعوديات_نطلب_اسقاط_الولايه803',\n",
       " 'RT @Huda8070Huda: الرحمة مطلوبة ولكن هل النساء لا تستحق الرحمة فقط الرجال \\n الكل يمدح ويفرح عند اطلاق سراح سجين الا نحن النساء لا يفرحون لاي شئ لنا\\n على العكس يفرحون بالظلم علينا ونادر اطلاق سراح السجينات هذا بجانب تنظيم الولاية المجحف\\n #سعوديات_نطلب_اسقاط_الولايه802 https://t.co/A45iwMViDf',\n",
       " 'RT @Huda8070Huda: كجعل الولاية ع المراة ولم يجئ بها الله فهي في حقيقة الامر عرج مخالف لامر الله\\n كاخذ التشريع من الاحاديث الضالة المضللة فالاحاديث مخالفة لاحكام القران وانتم قمة الغباء تشرعون الدين الاسلامي من اقوال بشر وترك اقوال الله في القران\\n #سعوديات_نطلب_اسقاط_الولايه802 https://t.co/hOy91MZ94s',\n",
       " 'RT @Huda8070Huda: كيف اكون ملكة و وطني باعني بصكوك الولاية جعلني اعاني لا ملكة بل جارية وعبدة يسرق مالي ولا احد يبالي اهتك اظلم فيزدون ظلم على دلم لحالي فقدوا العقل والتميز \\n #سعوديات_نطلب_اسقاط_الولايه802 https://t.co/XYNlCUq0C3',\n",
       " 'RT @ii5ld_55: #سعوديات_نطلب_اسقاط_الولايه803 الفكرة من ان اللي تطالب بأسقاط الولايه بتضيع وبتسوي ومدري ايش وش هالهبال اذا انتم مو مربين بناتكم تأكدو انهم ضايعين من الحين مب منتظرين اسقاط ولاشي اذا ام مهجوره ومطلقه وزوجها ساحب ع عياله تبي تسفرهم تبي تعالجهم لازم كلشوي ترجع له تطلب تصريحه',\n",
       " 'RT @ind0i: راح يجي يوم بعد اسقاط الولاية ونذكر انفسنا بفخر انّا كنّا من المحاربات لأجل حقوقهِّن وكرامتهّن ك نساء سعوديات مناضلات ❤️❤️❤️❤️ #سعوديات_نطلب_اسقاط_الولايه794',\n",
       " 'RT @ivxrc: @sager___s #سعوديات_نطلب_اسقاط_الولايه800\\n إسقاط الولاية ببساطة يتيح للمرأة :\\n ١- المسجونة تخرج من السجن بمجرد إنقضاء المدة بدون أن تنتظر إذن من وليها للخروج.\\n ٢- المعضولة تتزوج و المجبرة على الزواج لا تُجبر .\\n ٣- الممنوعة من التعليم تتعلم و لا تحرم من تكملة تعليمها بالبعثة.',\n",
       " 'RT @j0oo0le: #سعوديات_نطلب_اسقاط_الولايه801\\n قانون الولايه ظٌلم للمراة وأهانه وانتقاص من قدرها ويجب تحديد سن رشد للمراة .',\n",
       " 'RT @j0oo0le: #سعوديات_نطلب_اسقاط_الولايه802\\n لا ولاية على بالغ سواء امرأة أو رجل شرعا وعرفا ومنطقا ..\\n الولاية وجدت شرعا على القاصر والصغير والمجنون والسفيه فقط ..',\n",
       " 'RT @j0oo0le: #سعوديات_نطلب_اسقاط_الولايه804\\n #حملة_إلغاء_شرط_تصريح_سفر_المرأة_السعودية\\n إستغلال الولاية على المرأة بابشع الطرق وابتزازها\\n يجعل الذكور ينابحون خوفاً من قطع رزقهم .\\n .\\n .\\n .\\n . https://t.co/qFshJ2oACR',\n",
       " 'RT @j0oo0le: #سعوديات_نطلب_اسقاط_الولايه804\\n #حملة_إلغاء_شرط_تصريح_سفر_المرأة_السعودية\\n الولاية لاتمنع المراة من الفساد\\n الولاية استعباد إنسان بالغ لآخر مثله او اقل منه بالعمر او الثقافه\\n والشرط ان يكون ذكر ليتولى مصيرك وقرارات حياتك نيابه عنك في أخذ حقوقك\\n ولا يعاقب بدلا عنك https://t.co/IK3qN9CaSb',\n",
       " 'RT @kamahareb85: انك تسافري وقت ماتبي لان ولي امرك انسان طبيعي وتتزوجي اللي تبي لان ولي امرك انسان طبيعي فهذا مايعطيك الحق انك تقولي انك ضد اسقاط الولاية وانك معززه مكرمة وان كلامهم كذب - الحياة ليست انتي والمعاناة لايجب ان تزورك حتى تقتنعي بالواقع هناك شي اسمه حقوق والحقوق يجب ان تعطى على اي حال',\n",
       " 'RT @kh_xlt: @K27mxGH اذا بتسقط الولايه لابعد من اسقاط التخلف الذكوري في مجتمعنا واللي قاعد يشوه صورة الرجل العربي لكن البدايات مبشره بالخير وعن قريب بستقط بأذن الله',\n",
       " 'RT @ksmamkm: الى متى الذكور السعوديين بيعارضون إسقاط الولايه مع انها قضيه تخصنا ومالهم اي علاقه..خايفين من أيش؟',\n",
       " 'RT @lele_al7: #سعوديات_نطلب_اسقاط_الولايه804\\n يقولو ان الولايه من خوفهم علينا ،،يعني احنا ما نخاف على انفسنا؟!!! اكيد ! ولكن احنا عندنا ثقه بالله بأنه معنا ويحمينا ..واذا كان في خطر راح ينبهنا... لكن المعارضين مايثقو في الله ولا في انفسهم ..متشائمين ولكن احنا متفائلين.',\n",
       " 'RT @ll6ll0s: #سعوديات_نطلب_اسقاط_الولايه802 يومنا الوطني يوم اسقاط الولايه',\n",
       " 'RT @lshlshlsh12: #سعوديات_نطلب_اسقاط_الولايه800\\n الولايه تعامل النساء معاملة الورث كأنها احدى الممتلكات الي تنتقل بعد الوفاه هالشيء مهين لأبعد الحدود',\n",
       " 'RT @MaNaR___1994: نظام الولاية نظام ظالم و محد يرضى يتقبله الا الي يشوف نفسه إنسان ناقص غير عاقل و محتاج ولي، لان مو معقول حياتك توقف على ولي امرك اذا كان كويس بتكون حياتك تمام و ناجحة و اذا كان سيء بتكون حياتك متدمرة ! #سعوديات_نطلب_اسقاط_الولايه802 \\n #السعودية',\n",
       " 'RT @monei22i: #سعوديات_نطلب_اسقاط_الولايه800\\n اسقطوا الولاية عن النساء فهناك مرضى يستغلون ذلك \\n لا وجود للولاية في الدين \\n ويجب وضع قوانين لنيل المرأة حقها ومساواتها بالرجل \\n ورضع عقوبات صارمة على الجهات الحكومية التي تمارس العنصرية ضد المرأه',\n",
       " 'RT @Nikkaal: تسقط الولاية، تسقط الولاية، تسقط الولاية #سعوديات_نطلب_اسقاط_الولايه804',\n",
       " 'RT @nool1000: #سعوديات_نطلب_اسقاط_الولايه801\\n يوجد فرق بين القوانة و الولايه ، القوامة لمين ينفق سواء رجل او امرأة، اما الولاية لا تكون على المرأة البالغه الراشدة،الولاية على السفيه والمجنون و الاطفال،الا اذا انت تشوف نفسك تحتاج ولايه هذا شي ثاني،لكن احنا ما نحتاج ونرفض و الظلم و التعنيف 😤 https://t.co/Q93GKjyHhb',\n",
       " 'RT @NORA100011: الولايه سقف يستظل بظله المتحرش والمغتصب والمبتز\\n واستُنزفت اموال وجهد وسعادة المرأه السعوديه\\n دمرت الاحلام واستبدلت السعاده بالاحزان,وأن اوان سقوط هذا السقف على رؤوس المستظلين تحته #سعوديات_نطلب_اسقاط_الولايه802\\n حجر اساس حقوق الانسان العيش بكرامه\\n ولا كرامه مع الاستعباد بأسم الولايه',\n",
       " 'RT @nouf3209: @SaudiNews50 عقبال إسقاط الولايه والسفر من غير محرم🚶\\u200d♀️',\n",
       " 'RT @Oh__28: #سعوديات_نطلب_اسقاط_الولايه793\\n  #سعوديات_نطلب_اسقاط_الولايه794\\n أي حديث عن التقدم في السعودية هو مجرد هراء، لأننا مازلنا نقرأ مثل هذه الأخبار نساء بالغات راشدات لايستطعن اختيار طريقهن الخاص الا عن طريق المحاكم بسبب نظام الولاية. https://t.co/JWDXzVbnt7',\n",
       " 'RT @Oh__28: مدري ليش الرجال السعوديين خايفين من اسقاط الولاية ترى الموضوع بسيط ومايخوف حنا بس نبي نخلص أمورنا في الدوائر الحكومية ونسافر بدون تصريح وماعاد نرجع https://t.co/KMTLhJqAkY',\n",
       " 'RT @onothaxx: #امنياتكم_في_١٤٤٠\\n تسقط الولايه \\n حتى تكون المواطنه السعوديه على حدٍ سواء مع المواطن السعودي في شتى قطاعات الدوله \\n #سعوديات_نطلب_اسقاط_الولايه789 \\n #سعوديات_نطلب_اسقاط_الولايه790',\n",
       " 'RT @Queen_Mimaa: #سعوديات_نطلب_اسقاط_الولايه557\\n \\n نكتة الولاية على المرأة .. ضحكت العالم علينا كثير متى نرجع لصوابنا ؟!\\n بين دول العالم كله المرأة السعودية وحدها عاله تحتاج لذكر يقرر عنها !\\n \\n لا لصك الولاية .. لا لاستنقاص النساء باسم الدين\\n #على_حد_سواء',\n",
       " 'RT @rawansh8_: ستستقط وسمعوني صياحكم يادرر وياذكوور #سعوديات_نطلب_اسقاط_الولايه',\n",
       " 'RT @reema_1981: اي ذكر يرفض إسقاط الولاية هو ذكر يخاف من نساء بيته أن يتمردوا عليه بعد أن مارس عليهم قرونا من التسلط وسلب الإرادة الحرة وكما نصرنا من ملكنا وولي عهدنا سابقا سننصر في العاجل القريب #سعوديات_نطلب_اسقاط_الولايه800',\n",
       " 'RT @relightsme: احس خبر اسقاط الولايه مره قرب',\n",
       " 'RT @Rotana27318319: #سعوديات_نطلب_اسقاط_الولايه800 تسقط صكوك الولاية\\n تسقط بلاغات التغيب\\n تسقط بلاغات العقوق\\n تسقط تصاريح السفر\\n لتحيا المرأة السعودية .\\n @mbc_group\\n @MBC24News\\n @AlArabiya\\n @AlArabiya_Brk\\n @RotanaNet\\n @SAYA_Show\\n @SarahD\\n @Ali_Alalyani https://t.co/Ksl72HhYLJ',\n",
       " 'RT @Rotana27318319: #سعوديات_نطلب_اسقاط_الولايه800 نظام الولاية يسمح لك ترتكب ابشع انواع الجرائم والتعنيف وعادي الرجل يطلع منها بدون اي مسائلة!يرفع عليها قضية غياب او عقوق ويسجنها واجدد موضه يدخلها مستشفى الامراض النفسية عشان يتخلص منها!الى اين ياسعودية!قصص الافلام صارت واقع والكل داس راسه بالتراب',\n",
       " 'RT @salman1sa: مو شرط تكون من تطالب بإسقاط الولاية \\n معنفه او تكره وليها \\n بالعكس اثق بأهلي لكن الخوف من يتولاهم من بعدي ويظلمهم \\n \\n #سعوديات_نطلب_اسقاط_الولايه800',\n",
       " 'RT @SaudifiminstWMN: هاي بنات فتحت هذا الحساب للبنات الجنوبيات الي يطالبون باسقاط الولايه وراح اتكلم عن الولايه الظالمه عندنا وبعض من تخلفنا اتمنى تدعموني #سعوديات_نطلب_اسقاط_الولايه803',\n",
       " 'RT @SaudiImmigrants: المانع الأكبر لهجرة السعوديات هو نظام الولاية الظالم\\n وإلا لرأيتم هجرة ملايين النساء\\n \\n ولهذا نطالب بإسقاط الولاية #سعوديات_نطلب_اسقاط_الولايه800',\n",
       " 'RT @Sawyer1_1: كذابين المرأة بالسعودية مالها حقوق للأسف \\n يكفي ان اغلب القضاءة ضدها يادولة ذكوريّة \\n \\n حقوق المرأة إنكم تسقطون ألولاية وتطلعون سجينات دار الرعاية تلغون تهم التغيب والعقوق وتجعلون النساء أحراراً \\n #سعوديات_نطلب_اسقاط_الولايه802 https://t.co/pc5QCfSAaC',\n",
       " 'RT @se_550: اذا سقطت الولايه صدقني تقدر تحمي نفسها اما عليها مليون صك وولي فما بتقدر اكيد ، ياخي تبهروني بذكائكم.\\n #سعوديات_نطلب_اسقاط_الولايه801 https://t.co/gRaBcOreAi',\n",
       " 'RT @se_550: من ٢٠١٦ ل ٢٠١٨ تغير كثير والنساء صارو واعين لحقوقهم أكثر وكل شي صار لصالح المرأة السعودية والمساواة في كل شؤون الحياة قريبة باقي بس #اسقاط_الولاية وتعيش المرأة السعودية معززه مكرمة .\\n المغفل فقط الي يقول م تغير شي. https://t.co/YkmuLyyrIE',\n",
       " 'RT @selen13751990: #تجديد_سعوديات_نطلب_اسقاط_الولايه777 الولايه استخدمت استخدام سئ',\n",
       " 'RT @selen13751990: #ماذا_نتعلم_من_هجره_النبي نتعلم انه ليس من حق الدولة ان تمنع نساؤها من الهجرة وعليها ان تفتح لنا باب الهجرة او تسقط الولايه و تعترف بحقوق النساء المدنيه و سن رشدهم بلا شروط و لا مبررات و ان تعوضهم عن الظلم الذي عانيناه طوال ٤٠ سنه مضت #سعوديات_نطلب_اسقاط_الولايه802',\n",
       " 'RT @Shahadibraheemm: #سعوديات_نطلب_اسقاط_الولايه801\\n تخيلو الولاية تنتقل من شخص لشخص وانتي تتفرجين كل من هب ودب يصير وليك\\n حتى الجامعة ولية عليك خخخ\\n كل العالم ولي عليك الا انتي ههه',\n",
       " 'RT @SHFQR9lwJJHAsLh: 👩🏿\\u200d⚖️:نطالب باسقاط الولايه\\n \\n  #سعوديات_نطلب_اسقاط_الولايه800 https://t.co/33FGPPTRcZ',\n",
       " 'RT @sooma080808: باذن الله بتكتمل فرحتنا ب #اليوم_الوطني88 لما تنهد اسوار #الولاية وتاخذ المرأة حقوقها كاملة من غير لا موذي ولا شيطان\\n ونغني الا يا مرحبابشششش\\n \\n #سعوديات_نطلب_اسقاط_الولايه802',\n",
       " 'RT @SouadALshammary: ترى ذول المستشرفين اللي يخشون حرية عمل وسفر وتنقل المرأه واختيارها لنمط لبسها وكيفية حشمتها ويبكون النقاب ويخشون اسقاط الولاية\\n ويتباكون على الهيئة\\n ويهاجمون الانفتاح والترفية\\n لأنهم ليسوا ثقة لعوائلهم\\n ولم يحسنوا تربية بناتهم\\n بالعربي يبون يسربتون وهناك من يحمي مؤخراتهم ويحبس نساءهم https://t.co/cPdjbhLvRI',\n",
       " 'RT @taGReeed_1: الولايه = صك عبودية على المراة ونحن نرفضها لاننا احرار #سعوديات_نطلب_اسقاط_الولايه802',\n",
       " 'RT @taGReeed_1: خلنا نقول الحقيقه ، عند اسقاط الولايه لابد ان يكون فيه قوانين تحمي المراة .. #سعوديات_نطلب_اسقاط_الولايه803',\n",
       " 'RT @taGReeed_1: يسقط قانون وضعي يسقط الولايه ويسقط معها التخلف والتسلط #سعوديات_نطلب_اسقاط_الولايه801',\n",
       " 'RT @tmaraa7912: اوقفوا تعنيف المرأة\\n اوقفواارسالها للسجن بدل معنفها\\n اوقف حبس الاهالي لبناتهم في الغرف ذات الابواب الحديدية\\n اوقفوا بقاء الفتيات في السجون لان اولياؤهن لا يستلموهن \\n اوقفوا سلب حق المرأة في تقرير المصير واتخاذ القرار\\n اوقفوا تزويج القاصرات\\n اسقطوا الولاية\\n #سعوديات_نطلب_اسقاط_الولايه761',\n",
       " 'RT @tmaraa7912: تلخيص لعنة الولاية \\n طليقها يحرمها من ابناءها\\n والدها يعنفها يحبسها يوكل اختها الصغيرة تراقبها \\n بلاغ تغيب و تهمة اختطاف لانها راحت تجيب ابنها عشان توكله يصير ولي عليها فسجنوها وجلدوها 90 جلدة\\n  اساءة معاملتها في الدار\\n العبث في حياتها بإسم الولاية\\n  #سعوديات_نطلب_اسقاط_الولايه797 https://t.co/AV37uNOOBp',\n",
       " 'RT @xVIPikonic: #سعوديات_نطلب_اسقاط_الولايه800\\n الولاية تكون على القاصر والسفيه والمجنون \\n لا ولاية في الدين على المرأة البالغة \\n مثلها مثل الرجل البالغ \\n كلاهما مكلفين بالطاعات والعبادات وكلن سيحاسب لوحده',\n",
       " 'RT @yyaass_al: نساء اسقاط الولاية \\n انتم وطني وملجئي انا منكم \\n نعم أنا انتمي لهؤلاء القوم 💕\\n #سعوديات_نطلب_اسقاط_الولايه802\\n #سعوديات_نطلب_اسقاط_الولايه801',\n",
       " 'RT @Z8r369: يارب حرية لكل نساء الوطن ، يارب تسقط الولاية الظالمة \\n #سعوديات_نطلب_اسقاط_الولايه802 https://t.co/1FDIDe8O51',\n",
       " 'احس خبر اسقاط الولايه مره قرب',\n",
       " 'اخخخخ يا قلبي 💔💔💔\\n في هذه اللحظه فقط اتمنى إسقاط الولايه \\n بعدين خلاص الوضع يرجع طبيعي🤓 https://t.co/T8mgeoBt6O',\n",
       " 'اسقاط الولاية جد احتاجها خلاص مصخت https://t.co/hKUrQLbM6Y',\n",
       " 'اسقاط الولايه شي لا بد منه',\n",
       " 'الحسنة الوحيدة بمدرستي لقيت وحدة مع إسقاط الولاية تصبح علي \"صباح الخير ابتهال سقطت ولايتك\" وأعطيها هاي فايف اه تجنن يا بنات💖',\n",
       " 'الله يلعن الذكور هاشتاق اسقاط الولايه بالله',\n",
       " 'اللهم سقوط الولاية او تيسير امور الهجرة \\n تعبنا نقضي عمرنا بذل وهوان والذنب / انثى. \\n \\n  #سعوديات_نطلب_اسقاط_الولايه801',\n",
       " 'المرأه السعودية نصف المجتمع المفروض بمناسبة العيد الوطني حقكم \\n ليش ما تسعدوهن ؟؟؟! وتسقطوا الولاية مثل ما سمحتوا المرأه بسواقه السياره !!! إذا تم إسقاط الولاية بحتفل معاكم من داخل اليمن 😍\\n #سعوديات_نطلب_اسقاط_الولايه803\\n #نسويات_يمنيات',\n",
       " 'المسؤل ولمعارض ان الولاية ماتسقط تعذبت الاف النساء بهاذا النظام الظالم الي يستنقص من المرأة ويجعلها انسانة بلا اي قيمة بلد العنة على النساء #سعوديات_نطلب_اسقاط_الولايه801',\n",
       " 'الولاية سجن #سعوديات_نطلب_اسقاط_الولايه802',\n",
       " 'الولاية هي عبودية ضد المرأة استغلها ذكور للتسلط عليها #سعوديات_نطلب_اسقاط_الولايه802',\n",
       " 'الولايه = صك عبودية على المراة ونحن نرفضها لاننا احرار #سعوديات_نطلب_اسقاط_الولايه802',\n",
       " 'امنياتي بهذا الْيَوْمَ الوطني خبر إسقاط الولاية ي الله ي كريم💜\\n  #اليوم_الوطني_السعودي',\n",
       " 'انا مع اسقاط الولايه',\n",
       " 'اي ذكر ضد اسقاط الولايه اعرفوا انه مو معطي اللي واليهم حققوهم كامله وهو عارف هالشي ولو معطيهم كامل حقوقهم كان مافرقت معاه تسقط الولايه او لا لان بالحالتين معطيهم حريتهم وحقوقهم\\n ذولا اللي يسموون نفسهم رجال يرتجفون وينفعلون لما احد يجيب طاري اسقاط الولايه عندهم 👅👅',\n",
       " 'اي قرار ما يضر الدولة ولا يضر اهلها ما فيه شي لو تطبق ، ايش الضرر الي راح يصير من اسقاطها ؟ ولا شي بالعكس غالبا الاهل راح يعطون الحب لابنائهم بشكل اكبر ، صوتكم وصل لي ووصل لكثيرين #سعوديات_نطلب_اسقاط_الولاية',\n",
       " 'إسقاط الولاية \\n  #امنياتكم_في_١٤٤٠',\n",
       " 'إسقاط الولاية كلياً بلا قيود وشروط. #سعوديات_نطلب_اسقاط_الولايه802',\n",
       " 'إسقاط الولايه هي أشرف قضيه نسويه',\n",
       " 'إلى ان تسقط الولاية \\n #سعوديات_نطلب_اسقاط_الولايه803\\n #سعوديات_نطلب_اسقاط_الولايه804 https://t.co/hoVpIvtJ7e',\n",
       " 'أنا بس أنتظر قرار إسقاط الولايه.',\n",
       " 'باقي بس اسقاط الولايه😭😭😭❤️ https://t.co/DySIsXGrXB',\n",
       " 'بليزز قاد اسقاط الولايه بليز😢🙏🏼 https://t.co/apM19foGX7',\n",
       " 'تسقط الولاية، تسقط الولاية، تسقط الولاية، تسقط الولاية، تسقط الولاية، تسقط الولاية، تسقط الولاية، تسقط الولاية، تسقط الولاية، تسقط الولاية، تسقط الولاية، تسقط الولاية، تسقط الولاية، تسقط الولاية، تسقط الولاية، تسقط الولاية، تسقط الولاية.\\n #سعوديات_نطلب_اسقاط_الولايه804',\n",
       " 'دامها وصلت كذا ..\\n #اسقاط_الولاية قررربببتتتتتتتتت☹️💔💔 https://t.co/teyfLVpbnc',\n",
       " 'رجاءًا لا تستهزؤون بمن يطالب ب #اسقاط_الولاية لانو انتو مو فاهمين ف ايش احنا نمر ولا جربتو والله لايوريكم بما نعاني.',\n",
       " 'ستستقط وسمعوني صياحكم يادرر وياذكوور #سعوديات_نطلب_اسقاط_الولايه',\n",
       " 'صباحكم جميل مليئ بالقوة والحب ♥️ #سعوديات_نطلب_اسقاط_الولايه ابتسمو ما يحتاج تضيقو صدركم الاخبار الحلوه قريبه ولا تستلمون. #النساء_لنساء',\n",
       " 'صك الولاية مصدر ذل و استغلال للمراة #سعوديات_نطلب_اسقاط_الولايه804',\n",
       " 'عقبال جميع الجامعات تفتح ابوابها لخروج الطالبات بعد انتهاء...وقريباً سيأتي قرار #اسقاط_الولاية_عن_المرأة https://t.co/LFbjGztn3G',\n",
       " 'علينا جميعا تكسير صنم الأبوية والأمومة بعد صنم الإله والدين..\\n لسنا مدينين لهما على جلبنا لهذا الجحيم..\\n \\n البنات طبعا عم الضحية الكبرى..\\n الأم تجلبهن للحياة وتضع فيها أفكار أنها أقل من الولد..\\n والأب يقيد حريتها ويسيطر عليها في كل شيء..\\n \\n #عقلانيون\\n #اسقاط_الولاية',\n",
       " 'عموما اتوقع ماراح ننتظر كثير ان شاءلله على خبر اسقاط الولايه وبنشوف دموع كثيره وقتها👅👅 🤣',\n",
       " 'فلتذهب الولاية اللعينة إلى الجحيم،،، نريد حريتنا التي وهبها الله لنا نريد حريتنااااا #سعوديات_نطلب_اسقاط_الولايه804',\n",
       " 'فهالظهريّة البائسة أحب أعلن إني مع إسقاط الولاية ✔️',\n",
       " 'قربت اسقاط الولاية الحمدلله ❤️ https://t.co/6f7zvP8QWn',\n",
       " 'قررت اصير مع #اسقاط_الولاية وبقوه',\n",
       " 'قررت اصير مع إسقاط الولايه ضد العنف والمعنفات الله ياخذهم العيال عطوني هاشتاقكم قايز😭😭😭😭',\n",
       " 'كذابين المرأة بالسعودية مالها حقوق للأسف \\n يكفي ان اغلب القضاءة ضدها يادولة ذكوريّة \\n \\n حقوق المرأة إنكم تسقطون ألولاية وتطلعون سجينات دار الرعاية تلغون تهم التغيب والعقوق وتجعلون النساء أحراراً \\n #سعوديات_نطلب_اسقاط_الولايه802 https://t.co/pc5QCfSAaC',\n",
       " 'كل العالمين ولدو احرار الا السعوديات #إسقاط_الولاية',\n",
       " 'كل بنت تنتظر خبر اسقاط الولايه انا احبها',\n",
       " 'كنت مخططة لشي و ما صار فزعلت كثير و ماراح يرضيني وينسيني اياه الليلة إلا وحدة من ثلاث نقاط:\\n -فوز النصر\\n -الإعلان عن السماح بفتح المحلات وقت الصلاة\\n -إسقاط الولاية\\n 🤝',\n",
       " 'كيف اكون ملكة و وطني باعني بصكوك الولاية جعلني اعاني لا ملكة بل جارية وعبدة يسرق مالي ولا احد يبالي اهتك اظلم فيزدون ظلم على دلم لحالي فقدوا العقل والتميز \\n #سعوديات_نطلب_اسقاط_الولايه802 https://t.co/XYNlCUq0C3',\n",
       " 'لازم تفهم البنت انها مُستقلّة وانها المفروض تعيش حياتها لنفسها .. مو لأهل ولا لزوج ولا لطفل والأولوية لمستقبلها ووظيفتها فقط.. ماراح ترضى بالوضع اللي مجتمعها اوهمها \"بإسم الدين\" انه مناسب لها وبتطالب بـ #إسقاط_الولاية لأنه أبسط حقوقها',\n",
       " 'لتسقط فنحن عاقلات راشدات لا تنطبق علينا الولاية المطلقة #سعوديات_نطلب_اسقاط_الولايه803',\n",
       " 'للامام يا وطن اسقط الولاية يا عمري #سعوديات_نطلب_اسقاط_الولايه801',\n",
       " 'للجدد احب انوه للمرة المليون ان عمري ١٦ ومع اسقاط الولاية وضد حقوق الشواذ اللي يسمون نفسهم مثليين لكن ما أحاربهم لأن مالي شغل هعهعهخههه وماحب محمد عبده',\n",
       " 'مايحق لك تخرج عن القطيع أو تخالفهم في شيء أو حتى تناقشهم بقناعاتهم لأن وقتها بينبذونك بشتّى الطّرق\\n عشان كذا يشوفون الأنثى اللي تطالب بـ #إسقاط_الولاية خارجة عن العادات والتقاليد\\n وأغلب اللي ينبذونها من بنات جنسها .. لأنهم تأقلموا على وضع الإستعباد وان الذكر هو المُسيطر دائماً',\n",
       " 'متى يجي اليوم اللي نصبح فيه على خبر اسقاط الولاية !!! قد ايش رح يكون عظيم هالصباح #سعوديات_نطلب_اسقاط_الولايه805',\n",
       " 'من بطالبون بعودة #الهيئة او من يقفون ضد #اسقاط_الولاية هم من لا يستطيعون \"اقناع\" بناتهم او اخواتهم او زوجاتهم بالامتثال الى توجيهاتهم ويرغبون من #الحكومة اعطاءهم صلاحية التحكم بحياتهن ومعاملتهن كالرقيق.',\n",
       " 'من شدة ما ان السبل مغلقة في وجهي و خلاص مؤمنة ان مافي شي حيتغير ، حتى لو سقطت الولاية التعامل في عايلتنا و العنصرية و التفرقة الجنسية بتجلس نفسها ، جديًا اتمنى اكون ولد و احسد جميع الرجال في هذا العالم #سعوديات_نطلب_اسقاط_الولايه801',\n",
       " 'نريد اسقاط الولاية 🤚\\n #اسقاط_الولايه',\n",
       " 'نساء اسقاط الولاية \\n انتم وطني وملجئي انا منكم \\n نعم أنا انتمي لهؤلاء القوم 💕\\n #سعوديات_نطلب_اسقاط_الولايه802\\n #سعوديات_نطلب_اسقاط_الولايه801',\n",
       " 'نظام الولاية نظام ظالم و محد يرضى يتقبله الا الي يشوف نفسه إنسان ناقص غير عاقل و محتاج ولي، لان مو معقول حياتك توقف على ولي امرك اذا كان كويس بتكون حياتك تمام و ناجحة و اذا كان سيء بتكون حياتك متدمرة ! #سعوديات_نطلب_اسقاط_الولايه802 \\n #السعودية',\n",
       " 'نعيد ونكرر الولاية على المجنون والقاصر فقط لا ولاية على المرأة البالغة العاقلة (ما لكم كيف تحكمون) #سعوديات_نطلب_اسقاط_الولايه801',\n",
       " 'وبسم الله الرحمن الرحيم #سعوديات_نطلب_اسقاط_الولايه https://t.co/YqyfLuXSZN',\n",
       " 'يارب اسقاط الولايه يارب',\n",
       " 'يارب اليوم الوطني الجاي نحتفل فيه وهم مسقطين الولايه #سعوديات_نطلب_اسقاط_الولايه801',\n",
       " 'يارب بشرنا يارب انا بقووووووووه مع اسقاط الولايه اللعينه الله ينكبها يارب ويسقطها على رؤوس الذكور ونسمع صياحهم وبكاهم يارب العالمين يارب 🤲🏻\\n خوفي يطلع واحد زق ويرفض كل شي ونرجع زي اول وجديد ويرجعون الواد والجواري https://t.co/EyAKwBzR8b',\n",
       " 'يارب حرية لكل نساء الوطن ، يارب تسقط الولاية الظالمة \\n #سعوديات_نطلب_اسقاط_الولايه802 https://t.co/1FDIDe8O51',\n",
       " 'يارب ما تنتهي هالسنه وإلا نفرح بخبر إسقاط الولايه #سعوديات_نطلب_اسقاط_الولايه801',\n",
       " '🤣👏🏽👏🏽 رساله الى \\n #سعوديات_نطلب_اسقاط_الولايه٨٠٠ \\n #اسقاط_الولاية https://t.co/3Vwd4HotHv',\n",
       " '#اسقاط_الولاية #تضامن_مع_ترف_العسيري \\n الى كل من تطالب بأسقاط ولاية ولي امرها.. \\n اسقطت ولاية ولي الأمر قبل في الغرب بقرون واصبحت مدنهم عبارة عن حديقة حيوانات \\n اصبحت المراة هناك اضعف من نسائنا\\n لعبة للمال وملهى لذكور ومنتجة لاولاد الشوارع \\n فالانثى هي الانثى في اي ديانة ومعتقد',\n",
       " '#اسقاط_الولاية #سعوديات_نطلب_اسقاط_الولايه #تضامن_مع_ترف_العسيري \\n للمرأة المسلمة فقط..\\n لا يغطى ولا يحفظ الا الحاجة الغالية الثمينه.. \\n ببلدان الغرب المراة التي أصبحت في قوانينهم ولية امر نفسها اما اصبحت سلعة ومتعة لذكور او تبحث عن بيت يأويها ورجل يحميها فلا تجده الا نادراً',\n",
       " '#اسقاط_الولاية لا يا سيدات ماله داعي نسقط الولايه زي ما قالت الاخت الرجال ما سوو لنا شيء 🐩 https://t.co/7COcfrAxog',\n",
       " '#اسقاط_الولاية\\n لم أرى فتاه تطلب إسقاط الولايه إلا يتبين لي عبر حسابها أنها فاقده للحياء وانحلال أخلاقي لاحدود له .. ألا تعلموا أن جمال الفتاه بحيائها',\n",
       " '#اش_ناقصنا_بتويتر حذف الهاشتاقات التي فيها ضر ر اوتحريض من جهات خارجيه \\n مثل هاشتاق اسقاط الولايه \\n هاشتاق النقاب \\n هاشتاق التعنيف \\n وهاشتاق المطالبه بالتجنيس \\n وغيرها الكثير',\n",
       " '#اش_ناقصنا_بتويتر \\n اغلاق حسابات نوعية اسقاط الولايه والسفيهات الي تقول الذكور وتنكر صفة الرجوله على الرجل ونوعيات وجهي ليس عوره وجودهم زي عدمه 😁',\n",
       " '#اش_ناقصنا_بتويتر اباده العاهات وحقين اسقاط الولايه',\n",
       " '#اش_ناقصنا_بتويتر القضاء على حسابات إسقاط الولاية والداشرات اللي كل يوم بحكاية\\n تنقية الجو العام \\n تدخل تويتر تحس ان العالم ماعاد فيه خير وان القيامة قربت تقوم!!',\n",
       " '#اش_ناقصنا_بتويتر يحذفون حقين اسقاط الولاية والملحدين وما الى ذلك 😆',\n",
       " '#اش_ناقصنا_بتويتر\\n \\n كذا بتويتر تلقائي اي وحده تغرد عن اسقاط الولايه ينلغى حسابها \\n وعن نزع الحجاب كذا \\n تشك تشك يقفل بوجها حسابها',\n",
       " '#اش_ناقصنا_بتويتر\\n \\n مبزره اسقاط الولايه والحكوكيات ينتفونهم...',\n",
       " '#اش_ناقصنا_بتويتر\\n \\n ودك المطبلين لجماعة الضلال #الأخوان وحقون إسقاط الولاية كلهم نجمعهم ونرميهم في منفى واحد ماله راس ولا له قعر ...',\n",
       " '#اش_ناقصنا_بتويتر\\n ١-ناقصنا اي هاشتاق مخل بالأدب ما ينزل \\n ٢- حقين إسقاط الولايه تفكونا من هاشتاقتهم الغبيه \\n ٣-فكونا من المبررة الي كل يوم حاطين هاشاق تافه \\n ٤- الحسابات الإباحيه المفروض تتبلك تلقئياً .',\n",
       " '#اش_ناقصنا_بتويتر\\n الحسابات القذره وحقين اسقاط الولايه يختفون من التويتر بس يخلون الحلوين اللي مثلي☺️',\n",
       " '#اش_ناقصنا_بتويتر\\n ان تويتر ينظف من الملحدين ومن بنات اسقاط الولايه \\n ويكون بدون الفاظ وسب وغيره \\n بصراحهً يبيله تنظيف من قلب',\n",
       " '#اش_ناقصنا_بتويتر\\n بس يطلعون الحقوقيات حقين اسقاط الولايه،وبزران الانمي',\n",
       " '#اش_ناقصنا_بتويتر\\n حذف حسابات اسقاط الولايه و السمنة والفياجرا والشعوذة وفك السحر',\n",
       " '#اش_ناقصنا_بتويتر\\n فاعل خير يبلك حقون اسقاط الولاية والذباب الاكتروني والاخبار الكاذبة',\n",
       " '#اش_ناقصنا_بتويتر. ان نفرق بين المطالبه بالحريه والحريه المطلوبه لكل امراه تحاول إسقاط الولايه ع حساب سمعة وطنها وبناته هذه رسالتي لك \\n معشر الإناث عليكن أن تدركن بأنّنا لسنا\\n \\n  بحاجة لمحاربة الرّجال بل لتثقيف النّساء. https://t.co/JumepMzufx',\n",
       " '#اغلاق_باث \\n بالله دورو لكم تطبيق ثاني لاتجون تويتر احنا يالله متحملين حقين اسقاط الولايه',\n",
       " '#اغلاق_باث الحين نعارض حقين اسقاط الولاية ولا المولعين ولا مبزرة الانستقرام ولا المراهقات',\n",
       " '#التعدد_مطلبنا\\n \\n ياصاحب الهشتاق سدد في الأول فاتورة الماء والكهرب والجوال والبقاله ثم تعال \\n هايط .\\n المشكلة للمره الثانية نجد هذا الهشتاق\\n شكلها مجاكر مع إسقاط الولاية 😂',\n",
       " '#تضامن_مع_ترف_العسيري فئه اسقاط الولايه القذره\\n حثالة المجتمع الذين سمعوا عن الحريه فنادوا بخلع الحجاب والملابس ويعتبرونها (حريةالشخص)\\n الحجاب عباده☝🏽. https://t.co/QW8Gd2mcQv',\n",
       " '#تضامن_مع_ترف_العسيري \\n \\n كل مسلم يحب ان تنشأ بنته واخته على التربية السليمة الفطرية المحتشمة !\\n س: كيف تنشأ الفتاة نشأة طيبة؟\\n ج: بقدر مايكون تعظيمها لاوامر الله وحبها للحجاب والستر يكون صلاحها .\\n #اسقاط_الولاية ومن خلفها يريدون يكّرهون الناس والنساء بالحجاب والعباية حتى يصلون للقاع',\n",
       " '#تضامن_مع_ترف_العسيري \\n تجمعو شلة اسقاط الولايه بعد ماشفنا الصور اتضح لي انهم من مخلفات الحجاج وبعض المتجنسات وفيه كم اثيوبيه',\n",
       " '#تضامن_مع_ترف_العسيري / اللي يتضامن مع ذي اللي اسمها قرف هم من شلة اسقاط الولايه عبيدات الغرب الله يشيلهم يعنني مفتخرين انهم نزعو الحجاب ترى الحجاب شرع الله ياحماره انتي وياها',\n",
       " '#تضامن_مع_ترف_العسيري ✨✨واضحه عشان اسقاط الولايه وتخرب البنات لحد يغرد فالهشااق وقفو عشان مايطلع فوق زياده حسبي الله🙂🙂🙂✨✨✨✨✨✨✨✨✨✨✨',\n",
       " '#تضامن_مع_ترف_العسيري اخر احصائية عن عدد اللقطاء بلغ ١٧ الف وربما تجاوز ال٢٠ الف وهذا عدد كبير ومؤثر هولاء أغلبهم حاقدون على المجتمع ويريدون الانتقام منه وأغلب دعاة إسقاط الولاية من اللقطاء ومن فئة خط ١١٠ التي تعاني الاضطهاد من المجتمع لذا لا حل لهم الا بتفتيت المجتمع',\n",
       " '#تضامن_مع_ترف_العسيري اسماء مستعاره وخارج البلاد ولا لهم اي صله باالبنات السعوديات وكل صورهم من النت نسخ لصق موتو بغيضكم هشتاقاتكم لا تزيدنا الا اصرار ع حجابنا يااتباع اسقاط الولايه #اسقاط_الولايه',\n",
       " '#تضامن_مع_ترف_العسيري الطيور على اشكالها تقع، لقد ظهرت شرذمة إسقاط الولاية و ما شابهها على حقيقتهن هم أعداء لأحكام الدين ثم يتحدثن ان هذا الامر ليس من الدين و هذا ليس من الدين وهم في الأساس لم يكن الدين محط اهتمام لهن اصلا ، بئسا لهن و لمن كان على شاكلتهن',\n",
       " '#تضامن_مع_ترف_العسيري اللذين يطلبون إسقاط الولايه هل أنتم تصلون صلوات في أوقاتها هل أنتم بارين بوالديكم تذكروا ان الدنيا هذي اختبار حتى لو عشت ١٠٠سنه مردك تحت التراب وتبدى الحياه الابديه يا تكون في الجنه او في النار',\n",
       " '#تضامن_مع_ترف_العسيري اي هاشتاق زق زي ذا تلقون حقين اسقاط الولايه مشاركين فيه وهم اوصخ فئه ف تويتر',\n",
       " '#تضامن_مع_ترف_العسيري أغلب إن لم يكن الكل من الي يصايح في الهاشتاق صايعات إسقاط الولاية وعينات خارجية مدعومة وحسابات وهمية والهدف واضح ..اسأل الله أن لايحقق لهم ما يريدون وأن يسلط عليهم .. شكراً من القلب لبناتنا المحترمات العفيفات اسأل الله ان يزيدهم ثباتاً وقرباً منه 🙏🏻 ❤️',\n",
       " '#تضامن_مع_ترف_العسيري أي هاشتاق وتجد فيه حسابات جديده من الأمعات هو نفس أسقاط الولايه، إو التعنيف أو غيره من السخافه ، يعني كم تدفع أكثر ↔️عشان تشارك بأي شي تافهه ، مشكلتهم مفضوحين ❌ https://t.co/3cQYdRIagT',\n",
       " '#تضامن_مع_ترف_العسيري شراميط اسقاط الولاية يبي لهم خال يعلمه ايش هو التحرر 💔😂',\n",
       " '#تضامن_مع_ترف_العسيري لكل من أراد إسقاط الولاية ، أولاً جعلكم تسقطون في بير ماله قاع ، ثانياً ليتهم رقدوا ابرك من إن يطلعون لنا هالعاهات .',\n",
       " '#تضامن_مع_ترف_العسيري والله ماعرفنا ايش اللي تبغوه بالضبط قبل فتره اسقاط الولايه وبعده ليش الرجل يسافر لحاله والحريم لازم محرم واليوم تضامن ف خلع الحجاب الله يلعن التحرر اللي زي كذا شي يسد النفس والله',\n",
       " '#تضامن_مع_ترف_العسيري\\n \\n الموضه الجديده لحقين إسقاط الولايه التلزق بالقبائل الله ياخذهم 😷',\n",
       " '#تضامن_مع_ترف_العسيري\\n \\n الهاشتاق عباره عن عاهرات اسقاط الولايه',\n",
       " '#تضامن_مع_ترف_العسيري\\n \\n حقين اسقاط الولايه لاتنزلون صوركم تخرشون الشعب والله ماحد ينام ذالليله',\n",
       " '#تضامن_مع_ترف_العسيري\\n \\n شكلها من البثرات اللي يناهقن ويطلبت اسقاط الولايه 😏😏😏\\n \\n ماخلصن نهيييق للحين',\n",
       " '#تضامن_مع_ترف_العسيري\\n \\n للي يقول انضغطوا اكثر محد يقدر يتحكم فينا والله تضحكون ترا محد معطيكم وجه وقضيتكم تعبانة مرة حالها حال اسقاط الولاية شكلكم مسويين قروب ثاني مرة هنا ومرة هناك 😂',\n",
       " '#تضامن_مع_ترف_العسيري\\n @tarif_77\\n \\n وحدة من جواري كوهين وكالعادة خطتهم مشكلة لفتاة مظلومة وبعدها تاق إسقاط الولاية وبعدها جارية وعبدة لكوهين تنفذ مايملى عليها .وأغلب النسويات عجز وإذا فيه بنات وجيههم تسد النفس المتسعودات🤮بس أبي أقولكم ترى صاحين لكم والله 👌🏻 https://t.co/6U8ipfv9nm',\n",
       " '#تضامن_مع_ترف_العسيري\\n بالمختصر انتم حثالة ، وتبقون حثالة \\n وجميع من يطالب اسقاط الولاية .. انت خنيث نادر.',\n",
       " '#تضامن_مع_ترف_العسيري\\n بنات السعودية فخر وعز واذا فيه شواذ فهم يمثلون انفسهم وتربيتهم لايمثلون المرأة السعودية المسلمة شلة اسقاط الولاية بالداخل ينعدون على الاصابع ومعروف اصولهم وبقية المعرفات من الخارج منتحلين اسماء قبائل سعودية واهدافهم يعرفها حتى الاطفال',\n",
       " '#تضامن_مع_ترف_العسيري\\n تجمعو جماعة إسقاط الولايه كمية تلوث بصري الله وكيلكم',\n",
       " '#تضامن_مع_ترف_العسيري\\n تجمعو شلة اسقاط الولايه بعد ماشفنا الصور تبين انهم من مخلفين الحجاج وبعض المتجنسات وفيه كم تشاديه ..',\n",
       " '#تضامن_مع_ترف_العسيري\\n ترا العالم كلها شايله نقابها بس ماصورت وقالت زيكم انا شلت نقابي وانا صرت وحده حره وانا معا اسقاط الولايه\\n عبالكم كذا انكم بتقعرون الرجال😂وربي انكم مرضا يوم تفكرو كذا 🤢',\n",
       " '#تضامن_مع_ترف_العسيري\\n حزب إسقاط الولاية \\n يذكرني بحزب اللات \\n القائمين على الحزبين شياطين الإنس الضالين المضلين',\n",
       " '#تضامن_مع_ترف_العسيري\\n دخلت الهشتاق على بالي وحده عندها قضيه او حاله مرضيه او محتاجه تبي مساعده طلع هشتاق رخيص وراه كلبات اسقاط الولايه لعنه تلعنكم الى يوم الدين',\n",
       " '#تضامن_مع_ترف_العسيري\\n رجعو بنات إسقاط الولاية 😏\\n الله لا يبلانا بس',\n",
       " '#تضامن_مع_ترف_العسيري\\n فئه اسقاط الولايه القذره يدعمون كل امر ضد الدين وتستمر المسرحيات والاسماء المزيفه وبالاخير لن تنالون من امة محمد وموتوا بغيظكم وسيبقى الحجاب تاج على كل مسلمه https://t.co/H637WaYSWr',\n",
       " '#تضامن_مع_ترف_العسيري\\n كلبة التاق كالعادة من شلة اسقاط الولاية \\n صدق نبينا محمد صل الله عليه وسلم حينما قال (رأيتكن أكثر أهل النار ) https://t.co/7rTuwHVd8z',\n",
       " '#تضامن_مع_ترف_العسيري\\n يجب معاقبه هذي التي لا تعترف بدين\\n وتريد اسقاط الحجاب عن النساء\\n هوؤلا الذين طالبن بسقاط الولاية وتمجيد\\n الحرية هيا وكل من ينبح معهاا\\n راح تتحاسب وتسقط ترف هيا وجميع من هتف معهاا..ويكون الحجاب ستر لكل نساء\\n وعقاب لمن طالبن بسقاط الحجاب\\n ومن يدعم التضامن\\n #سمؤ_شخص https://t.co/NFW7SizBSp',\n",
       " '#سعوديات_نطلب_اسقاط_الولايه800 اللي يبغون يسقطون الولايه هم اهل الدعاره الحقيقين فكل مهنه لها ناسها تخدمها الميكانيكا لها ميكانيكيين الكهرباء لها كهرباىيين الدعاره لها هذه النوعيه من الناس والحمدلله هم قليل ولازم نبترهم نقطع عرق و نسيح دمه الله يكفينا ولا يب',\n",
       " '#سعوديات_نطلب_اسقاط_الولايه800\\n \\n السعوديات واعيات لما يحاك لهن..\\n وهن يعلمن علم اليقين من يدير مثل هذا الهاشتاق الشيطاني الوقح..\\n هن لسن بهذه الدرجة من السذاجة\\n ويدركن أن المقصد... \\n ليس إسقاط الولاية بل إسقاط العباية.\\n خبتم وخاب مسعاكم.',\n",
       " '#سعوديات_نطلب_اسقاط_الولايه800\\n الله يسقط راس كل وحدة تطلب باسقاط الولاية',\n",
       " '#سعوديات_نطلب_اسقاط_الولايه800\\n أي فتاة تطالب بأمور لا يقرها الدين كإسقاط الولاية والتبرج والحرية وغيرها فهي أحد أمرين \\n الامر الأولى: بها مس وتحتاج رقية شرعية مكثفة \\n الامر الثاني: تعاني من شهوة جنسية شديدة وتحتاج زوج نشيط وبشكل عاجل',\n",
       " '#سعوديات_نطلب_اسقاط_الولايه800\\n معقوله في سعوديه أصل وفصل تفكر لو مجرد تفكير تسقط ولاية ابوها او اخوها؟\"(الرجال قوامون على النساء)\"معليش اللي يشوفون ان اللي يعارضون اسقاط الولايه ذليلات ويعبدن الذكور هذولي يحتاج لها عميلة نقل العقل من المؤخره للراس الله يخـلف بس.',\n",
       " '(٣) من التوغل في مجتمعنا ودس السم بالعسل تحت مسمى الحرية او اسقاط الولاية او نزع الحجاب او الهجره او غيرها من الشعارات الرنانه التي تطفوا على سطح المشهد الحالي لتحريض الفتيات خاص للخروج عن أمر اهلها ونبذ الدين والعادات والتقاليد للقبائل السعودية وزرع افكار تمرديه تحت غطاء إعلامي',\n",
       " '@1993ailen11 واضح من كلمة الذكور انك من كلاب اسقاط الولايه ولا بالله حنا وش دخلنا الحين 😂😂💔',\n",
       " '@7RMfc قايل لكم ها الأجانب زلايب هم اصحاب هاشتاق إسقاط الولاية و الهاشتاقات التحريضية🤢',\n",
       " '@9Ehdaa @tarif_77 تقهر ي خخخي مشكله هالوراعين الي يطالبون ب اسقاط الولايه قسم سرابيتت ودك تديها ع عينها عشان تصير حرمه زي الناس',\n",
       " '@9fa836caa8bb4f6 @K27mxGH @RanaMahssen95 سعود مو جديد علينا تفكر المنحطات حقين اسقاط الولايه معقدات نفسيا وجسديا 😂🤣',\n",
       " '@ABDULMAJEEDSU تافهه من فئة إسقاط الولاية وخلع الحجاب 🤷🏻\\u200d♀️',\n",
       " '@AjelNews24 بل بداية اسقاط الولاية وتمرد المرأة ع والديها واخوانها وانفلاتها ع مجتمعها لنزع بذرة الايمان',\n",
       " '@ALMUSAFRS @naif4002 كلهم وجهين لعمله واحده .. نفففس الخطر\\n اكيد مو خافيك التاقات تبع اسقاط الولايه وغيرها من تشويه الدين وقيم المجتمع \\n لمتى نستنى ؟ لمتى نتفرج؟ لين يخربون الدنيا وعقول شبابنا وبناتنا..',\n",
       " '@chameleonalk @hila26226 @A1bdn @SaudiNews50 انتي لو نظيفه كان م طالبتي ب اسقاط شرع الله الي هي الولايه 👍',\n",
       " '@dhlzm هذي مثال على الفسويات وحقين #اسقاط_الولاية اللي في التاق كلهم اباحيات وشراميط وشواذ لذلك دائما نحذر منهم👆👆👆',\n",
       " '@DrkhalidAlsalim هاشتاقات لمطالبات اسقاط الولايه لاتهتم شرذمه ويبون بلبله',\n",
       " '@EliaOlail @AjelNews24 البنات الي يطالبون باسقاط الولايه انا اسميهم عاهرات اسقاط الولايه انت بسميك خنيث اسقاط الولايه',\n",
       " '@Fvls_ اسقاط الولاية؟؟ ، لن تسقط',\n",
       " '@hind777777 عشان تعرفون كل الي يطالب ب اسقاط الولايه اجانبب مجنسينن،انقلعو بلدكم وفكونا منكم ققررررف',\n",
       " '@Kefah1298 توي تجادلت مع ملحدات مجندات من الخارج يعززون لبعض مسوين حزب كلبات إسقاط الولايه 😂😂.',\n",
       " '@Kefah1298 ذولا بزرات قروب اسقاط الولايه متجنسات مو سعوديات واغلبية حساباتهم مشتريه ومسويات وهميه يعززن لنفسهم بها لاتعطونهم اكبر من حجمهم',\n",
       " '@Kefah1298 ذولا شلة إسقاط الولاية \\n مجنسين وطرش بحر مدري متى يفكونا من شرهم',\n",
       " '@loloh33s @rruwidaa وش ترتجين من وحده همها الاول والاخير اسقاط الولايه ياربي لاتبلانا بس',\n",
       " '@m6qxa @pq9__ هش يا كلبه انبحي. مثلك. مثل الكلبه محبوسه بلبيت وتطلب إسقاط. الولايه. انا قلت منتي شريفه مثل الجزمه كل من جاء لبسها',\n",
       " '@marsdnews24 بارك الله فيها وفي أمثالها وشافاها الله هي ووالدها\\n \\n هذي هي الفتاة الصالحة التي من المستحيل أن تراها في تاق إسقاط الولايه... \\n \\n #فتاه_تتبرع_لوالدها_بكليتها',\n",
       " '@MESHAL_BNSAD و إسقاط الولاية\\n \\n لايطالب بها على النحو المتداول به ومايصبون إليه\\n \\n إلا منكوسي الفطر الجهلة من التنويريين و العلمانيين والليبراليين.',\n",
       " '@modric55 ياليل حقون اسقاط الولايه',\n",
       " '@MrsRiyadh الله يتقبل منك ويحفظك يا اختي\\n حقون إسقاط الولاية حربهم ع الدين\\n مادري انتي جديده بعالمهم او ماتعرفيهم زين\\n \\n https://t.co/EAXDFmWXl0',\n",
       " '@MrsRiyadh ترى اغلبها حسابات خارجيه\\n هدفها نشر الالحاد بين الشباب\\n المستهدف الاول النسويات\\n وفي معرفات باسماء شيوخ يدخلون تاق اسقاط الولايه وهم ملاحده ونصارى\\n اغلب الاي بي يوضح انهم مصريين وبعضهم شوام طبعا ملحدين ونصارى\\n الامر مرتب اكبر مما تتصوري https://t.co',\n",
       " '@NACi_ وش ترجين فيهم اقولك صارت تكتب كذا لادينيه نسويه مع اسقاط الولايه المرحله الثانيه الإلحاد المرحله الثالثه يبثون في الارض فساد☠️ نوره ما تشوف الملحدات كاثرين؟؟ او بس انا قاعد اشوف',\n",
       " '@Newss_24 اساساً شعار اسقاط الولاية نعلم من هو خلفه!\\n ومن يردده!\\n ولماذا يردده',\n",
       " '@Newss_24 غباء تردد مايرددو المغرضون المهتمون بضياع المجتمع وتفكيكه #اسقاط_الولاية كان سقطت هي من فوق ولا طالبة ولي العهد النظر في امرها كان واجهت ماجنت يداها هم اداء لمن يخطط لهدم القيم والمبادي بعيد عن الحضاره',\n",
       " '@o_obeidk هذي مو سعوديه متجنسه وصلبيه وبقره وحيوانه تبطي من اسقاط الولايه مافيه اي سعوديه تطالب بسقاط الولايه',\n",
       " '@Oh__28 @___VolumeUp من يريد إسقاط الولاية فهو ساقط. \\n كل من يسعى إليها أصحاب الشهوات. يريدون الوصول للنساء عن هذا الطريق. \\n الحمدلله حنا في دولة تحكم بشرع الله. وولاة أمرنا منهجهم كتاب الله وسنة رسوله صلى الله عليه وسلم.',\n",
       " '@pc_x5 @Basooool999 @Free__95 @KingSalman تخسين م فيه اسقاط الولايه وراح نمنع عنكم الحقوق للابد 😌',\n",
       " '@pyfc9 كل من عرضت لحمها فالهاشتاق\\n  هي نفسها تطالب بإسقاط الولاية \\n \\n ثم يقولون ماله علاقة بين اسقاط الولايه و الانفلات.',\n",
       " '@r9_a_9a @tarif_77 هذا الي يبونه النسويات حقون اسقاط الولايه',\n",
       " '@Rehab61156814 اسقاط الولايه اجل هههههههههههههههههههههههههههههههههههههههههههههههههههههههههههههههههههههههههه',\n",
       " '@Roksan97581028 @_3zon @pq9__ ازعل من ايش قد قلتك انبحي مثلك مثل الكلبه تجلس بغرفه محبوسه وانبحي اجل تبين إسقاط الولايه وبعدين تسبين السعوديه وانتي تاكلين. من خيره. او انك مهجنة ابوك إيراني وامك اعراقيه',\n",
       " '@saj882 اكتنهن حقات اسقاط الولايه نفسهن، مجتمعات بتاق عشان يرمون الحجاب :)',\n",
       " '@SouadALshammary @ghazl28 اظن ان هذولي اللي يطالبون با اسقاط الولاية حتى تكون الحرمة رخيصة ما يحتاج يسافرون',\n",
       " '@srsss_3 تغردين عن إسقاط الولايه وتتكلمين عن الدين ؟ الله لايبلانا بما ابتلاك ؟',\n",
       " '@WiseMan_Vx هذولي ي زينهم ودك الي ينقرضون حقين خيو و البنت المسترجله و حقين اسقاط الولايه',\n",
       " '@xi___aa @ixxxx19801 الشاذّين عن العادات والتقاليد التي تحفظ نساءنا من كل ما قد يمس حيائهم وعفتهم مثل مفهوم الحريه في خلع النقاب او إسقاط الولايه وغيرها من المطالبات الهادفه لهدم مجتمعنا وتغيير مساره الصحيح .',\n",
       " '@YKhoshaim السلق والكلاب الي يطالبون ب اسقاط الولايه ٨٠٪ منهم مجنسين يبون يطبقون قوانين بلادهم ببلاد الأسلام وال ٢٠ ٪ الباقين ينقسمون الى 4 - - - -',\n",
       " '@YKhoshaim هي شكلها نشبت لك تطلع لها التصريح و انت مو فاضي لها\\n وتبغى الفكه منها\\n اسقط الله رأسك ياخي #اسقاط_الولاية #سعوديات_نطلب_اسقاط_الولايه٨٠٠',\n",
       " '@zomordh9 دام كلامك كله تحريض واسقاط ولاية وانتي اصلا ماتدرين ماهي اسقاط الولاية فقط اللي فاهمته الحرية فقط وهذا همك لكن هم الروس الكبيرة مؤخرتك !!!\\n ودامك صافة معهم بتنجلدين لانك مؤيده لهم \\n ادشري افعلي ماشئتي لكن بدون بلبله و دفاع عن رؤوس خارجية همها الاو',\n",
       " '1\\n التمرد على الأهل والدين والثوابت يصل في الأخير إلى التمرد على ولي الأمر والدولة. \\n وهذا هو بالضبط هدف النسويات والليبراليين ومن لف لفهم بالدعوة إلى إسقاط الولاية والانحلال وحقوق المرأة المزعومة لديهم (التي تدور على فسخ الحجاب والتبرج والدياثة وغيرهم من الانحلال بأنواعه ودرجاته)',\n",
       " 'RT @_7xiih: الي ماسكين حسابات وهاشتاقات اسقاط الولايه اشخاص وهميين هدفهم تدمير المرأه السعوديه https://t.co/F2lestlLta',\n",
       " 'RT @8ht1z: #سعوديات_نطلب_اسقاط_الولايه800\\n الله يمحيكم من الوجود اللي تطالبون إسقاط الولايه والله والله إنكم اخطر من اليهود وأمكر من الشيطان. لاتريدون الا الفساد مجموعه جهلة متخلفين تابعين ينابحون بكل مكان لتشويه المراه وسلامتها وتصويرها على انها مضطهده حسبي الله ونعم الوكيل',\n",
       " 'RT @a__eu: ناقصنا انهم يبعدون عنا حقين الوزن عاوز تنحف عاوز تتخن طفشونا هههههه .. وايضاً حقين اسقاط الولاية الله يموتهم جميعاً .. وكل علماني \\n \\n  #اش_ناقصنا_بتويتر',\n",
       " 'RT @a_ksao: @Akhbaar24 اسقاط الولايه هدفها الاخلال بأمن هذا الوطن واثارة الرأي العام ع حكامنا وخدمة اعداء هذا الوطن ممن استغلوا عداوتهم لوطننا في الحديث عن #اسقاط_الولايه. واعتقد الآن وضحت الصوره امام الشعب السعودي والحمدلله اصبح الكل عارف من وراء اسقاط الولايه بعد فضيحة عملاء السفارات',\n",
       " 'RT @AAlgarni2030: #تضامن_مع_ترف_العسيري أغلب إن لم يكن الكل من الي يصايح في الهاشتاق صايعات إسقاط الولاية وعينات خارجية مدعومة وحسابات وهمية والهدف واضح ..اسأل الله أن لايحقق لهم ما يريدون وأن يسلط عليهم .. شكراً من القلب لبناتنا المحترمات العفيفات اسأل الله ان يزيدهم ثباتاً وقرباً منه 🙏🏻 ❤️',\n",
       " 'RT @abdulaah_02: #اش_ناقصنا_بتويتر\\n \\n ودك المطبلين لجماعة الضلال #الأخوان وحقون إسقاط الولاية كلهم نجمعهم ونرميهم في منفى واحد ماله راس ولا له قعر ...',\n",
       " 'RT @abdullah0599422: #سعوديات_نطلب_اسقاط_الولايه800\\n الهدف من إسقاط الولاية\\n هو أبعاد ولي الأمر عنها من أجل سهولة للوصول لها واستغلالها\\n ولأن تقف هذي المتطلبات هنا\\n سيكون مطلب بنزع الحجاب\\n وتغريب المرأة عن المجتمع\\n لأن المرأة هي الأم وعماد المجتمع\\n ومربية الأجيال القادمة\\n لذالك محاربه من من أعداء الإسلام',\n",
       " 'RT @abn_saeid: الأصوات المستعارة والمستأجرة\\n طالبت بالسماح للمرأة بقيادة السيارات\\n وتم السماح لهن وقيلاً من يقودون\\n السيارات والاصوات التي تطالب\\n بإسقاط الولاية هي تلك الأفواه \\n التي طالبت بقيادة السيارات والطلب الأول مقبول لكن الطلب الثاني بإسقاط الولاية مرفوض قطعياً.\\n #سعوديات_نطلب_اسقاط_الولايه800',\n",
       " 'RT @AboDeem21146837: #سعوديات_نطلب_اسقاط_الولايه800 اللي يطالبون بإسقاط الولايه أعتقد أنهم من بقايا يهود بنو قريظه',\n",
       " 'RT @afaf7766: #سعوديات_نطلب_اسقاط_الولايه800\\n \\n اللي مسويه التاق عسى ربي يسقطك في بير ماتطلعين منه أنتي وأمثالك 😜\\n والله ماتطلب إسقاط الولايه الا وحده ماعندها عقل وحده متخلفه ✋🏻',\n",
       " 'RT @awssaleh1458: #سعوديات_نطلب_اسقاط_الولايه800\\n \\n السعوديات واعيات لما يحاك لهن..\\n وهن يعلمن علم اليقين من يدير مثل هذا الهاشتاق الشيطاني الوقح..\\n هن لسن بهذه الدرجة من السذاجة\\n ويدركن أن المقصد... \\n ليس إسقاط الولاية بل إسقاط العباية.\\n خبتم وخاب مسعاكم.',\n",
       " 'RT @banofl12: #اسقاط_الولاية #سعوديات_نطلب_اسقاط_الولايه #تضامن_مع_ترف_العسيري \\n للمرأة المسلمة فقط..\\n لا يغطى ولا يحفظ الا الحاجة الغالية الثمينه.. \\n ببلدان الغرب المراة التي أصبحت في قوانينهم ولية امر نفسها اما اصبحت سلعة ومتعة لذكور او تبحث عن بيت يأويها ورجل يحميها فلا تجده الا نادراً',\n",
       " 'RT @DrTalebJawad: تيار مفضوح أكثر من أي تيار آخر في الوجود.\\n \\n تيار سجلّه أسود.\\n \\n تيار لا تتوقف هزائمه أمام الليبرالية. و المعركة القادمة هي #إسقاط_الولاية و قد أفلسوا نظريا و سينهزمون لا محالة.\\n \\n و رغم ذلك تجد أغبى شعب في العالم يبجل هذا التيار. و يهتم بكلامهم الفارغ المحشو بالتفاهات كحال أسلافهم',\n",
       " 'RT @f_alajmi74: حقيقة ؛\\n \\n التيار الليبرالي وشلة إسقاط الولاية وأعوانهم من خارج الوطن يستغلون اي حدث في بلادنا من أجل خططهم الخبيثة فهم هدفهم إفساد نساء وبنات الوطن ،\\n يجب على الدولة ردع الليبرالية الفاسدين في بلادنا بالقانون بكل قوة وحزم ،\\n هؤلاء خطر يهدد ديننا وأمن بلادنا ،\\n #اختطاف_فاطمه_بنت_فهد',\n",
       " 'RT @fahd_albluwi: سفر بلا محرم \\n كشف الوجه \\n إسقاط الولاية \\n عمل مختلط \\n قيادة المرأة \\n \\n عزيزي السعودي إن استطعت تشكيل وربط هذه الخمس ستعلم ماذا يريد منا الليبرالي',\n",
       " 'RT @Fmm_p: #سعوديات_نطلب_اسقاط_الولايه731 والله بنات الحمايل ما يخافون من الولايه لانهم عارفين انفسهم انهم ما شين على الطريق الصح ماغير المجنسات هم من ينددو بالولايه واسقاطها الله يحفظ ولاة الامر اجمعين',\n",
       " 'RT @fsool__7: 🔴إسقاط الولاية عندهم تعني\\n \\n إسقاط أوامر الله الموجهة للمرأة\\n إسقاط حق الزوج على الزوجة\\n إسقاط حق الوالد على البنت\\n التمرّد على الدّين\\n التمرّد على الأسرة والمجتمع\\n حرية الإنفلات الأخلاقي تحت\\n مسمّيات مغلّفة كاذبة\\n \\n لن تنالو مرادكم ياكلبات كوهين👌🏻\\n #سعوديات_نطلب_اسقاط_الولايه800',\n",
       " 'RT @FTB_88: 1\\n التمرد على الأهل والدين والثوابت يصل في الأخير إلى التمرد على ولي الأمر والدولة. \\n وهذا هو بالضبط هدف النسويات والليبراليين ومن لف لفهم بالدعوة إلى إسقاط الولاية والانحلال وحقوق المرأة المزعومة لديهم (التي تدور على فسخ الحجاب والتبرج والدياثة وغيرهم من الانحلال بأنواعه ودرجاته)',\n",
       " 'RT @hanialsharief: @ifus81 @bip_ksa محاولة تأليب الرأي العام لن تنفع معكم لأن الشعب عارف قذارتكم وقذارة من يحرضكم من الفسويات والمطالبات ب #اسقاط_الولاية .. نحن لكم بالمرصاد وسنفضحكم في كل منبر \\n #اختطاف_فاطمة_بنت_فهد',\n",
       " 'RT @hbbb000: #سعوديات_نطلب_اسقاط_الولايه800\\n لستم سعوديات ولا تتكلمون بإسمنا \\n ونرفض اسقاط الولايه جملة وتفصيلا \\n النسويات ماذا يريدون \\n السفر والانحلال والتغيب والعقوق \\n وهذه ضد الشرع \\n الحمد لله حقوقنا كامله مكمله ولا نريد اسقاط الولايه فهي فساد اعظم',\n",
       " 'RT @hfeeedh3: #سعوديات_نفخر_بولايه_اهلنا_لنا \\n \\n هؤلاء دكتورات أخذن اعلى المراتب وهم بولاية أهلهم \\n \\n الفاشلات فقط هن من يردن اسقاط الولاية .. https://t.co/t7O1p1uxxE',\n",
       " 'RT @hosh_550: #الشعب_يرفض_اسقاط_الولايه\\n كل من تطالب بإسقاط الولايه هي ساقطه\\n والاعذار والاكاذيب ليست من الدين \\n والحسابات الوهميه العلمانية الخبيثه هي التي تدير حملة اسقاط الولاية بإسماء بنات ومعرفات بأسماء قبائل الشمال والجنوب ونحن نتبرأ من أي حساب بأسم قبيلة (شمر) يطالب .... أنتهى',\n",
       " 'RT @hrhp11: #تضامن_مع_ترف_العسيري\\n يجب معاقبه هذي التي لا تعترف بدين\\n وتريد اسقاط الحجاب عن النساء\\n هوؤلا الذين طالبن بسقاط الولاية وتمجيد\\n الحرية هيا وكل من ينبح معهاا\\n راح تتحاسب وتسقط ترف هيا وجميع من هتف معهاا..ويكون الحجاب ستر لكل نساء\\n وعقاب لمن طالبن بسقاط الحجاب\\n ومن يدعم التضامن\\n #سمؤ_شخص https://t.co/NFW7SizBSp',\n",
       " 'RT @jooj_____505: #سعوديات_نطلب_اسقاط_الولايه800\\n تبون تسقط عشان تسوون لنا اكشن زي فاطمة أمس الله يشفيها\\n الولاية ماسقطت ولن تسقط سقط حظك انتي وياها😌',\n",
       " 'RT @khaled55499743: #تضامن_مع_ترف_العسيري الطيور على اشكالها تقع، لقد ظهرت شرذمة إسقاط الولاية و ما شابهها على حقيقتهن هم أعداء لأحكام الدين ثم يتحدثن ان هذا الامر ليس من الدين و هذا ليس من الدين وهم في الأساس لم يكن الدين محط اهتمام لهن اصلا ، بئسا لهن و لمن كان على شاكلتهن',\n",
       " 'RT @khalid7586: مجنسات وأجنبيات يطالبون بإسقاط الولاية واللي مارباهن أهلهن زين الحكومة تربيهن #سعوديات_نطلب_اسقاط_الولايه800',\n",
       " 'RT @ll3xk: #تضامن_مع_ترف_العسيري\\n فئه اسقاط الولايه القذره يدعمون كل امر ضد الدين وتستمر المسرحيات والاسماء المزيفه وبالاخير لن تنالون من امة محمد وموتوا بغيظكم وسيبقى الحجاب تاج على كل مسلمه https://t.co/H637WaYSWr',\n",
       " 'RT @mshh9000: @alotibi_sSs1 @Proud_2Bme الهدف تبسيط صور الانحلال وان المجتمع السعودي تقبل مثل هذه المشاهد من الاختلاط والتعري وقلة الأدب ولم يصبح عيباً ويجب أن نتعايش مع الواقع \\n كل هذا لأنهم فشلوا في إقناع المرأه السعوديه بنت البلد وليس المجنسه بالخروج للملاعب وقيادة السياره ومؤامرة إسقاط الولاية للحكويات',\n",
       " 'RT @nooood483: #سعوديات_نطلب_اسقاط_الولايه800\\n  رجعتو طلعتو من جحوركم معروف من تكونون عمر السعودية ماتطلب اسقاط الولاية وماراح تسقط باذن الله واللي تشوف نفسها معنفه على كلامها. عندها الحكومة تاخذ بحقها وماتقصر دولتنا ميه جهه تاخذين منها حقك وبلاش تاليف قصص حنا بعصر الحزم والعزم محد ينظام .🇸🇦',\n",
       " 'RT @r8vc_: #سعوديات_نطلب_اسقاط_الولايه800\\n سلامااات وين عايشين فيه،بس تحبون تقلدون على الاجانب،ومسوين روحكم المظلومين،احمدي ربك انتي وهي احنا في بلد امن الحمدلله واهلنا معانا في نعمه انتي لو في حرب والا في بلاد ثانيه ،كان تمنيتي بس انك تعيشين بخير هذا الي ناقص بعد اسقاط الولايه وقاحهه .',\n",
       " 'RT @Rana27862436: #قاتل_القريات بفهم شي واحد الي متفاعلات بموضوع اسقاط الولايه على بالكن بتنبسطن لااسقطتنها والله بتاكلن تبن من وراء هالتغير انتن لو ابوك والا اخوك يسلمك مهمة يوم كامل تقومين بكامل حقوقك لوحدك والله مابتحلين امر واحد من امورك فااقول انخرسن وسكرن حلوقكن.اكتفي👏',\n",
       " 'RT @rty__Gh: #اش_ناقصنا_بتويتر اباده العاهات وحقين اسقاط الولايه',\n",
       " 'RT @SaudiNews50: عضو هيئة العلماء \"المطلق\":\\n لا يجوز للمرأة أن تتمرد على قوامة الرجل ولا يجوز للرجل أن يظلم المرأة.. ومطالب إسقاط الولاية تتعارض مع الشريعة.\\n .\\n #السعودية #الإسلام #المرأة\\n . https://t.co/zxhLBrqbHe',\n",
       " 'RT @sayj202084: #سعوديات_نطلب_اسقاط_الولايه800\\n رسالة لليبرالين الذين يسعون لإسقاط الولاية لكي يسهل عليهم هتك الأعراض واشباع حيوانيتهم https://t.co/vVwICoFhwi',\n",
       " 'RT @se_550: السعاودة من كثر مو خايفين من #اسقاط_الولاية اتأكد انهم مضطهدين نسائهم وحارمينهم من الحياة ، واقول ياااارب تسقط قريب واللعنه ع كل ظالم #سعوديات_نطلب_اسقاط_الولايه801',\n",
       " 'RT @shor11_11: #سعوديات_نطلب_اسقاط_الولايه800 من قال ان السعوديات يبغون يسقطون الولايه اَي وحده تبغاء إسقاط الولايه مو سعودية ولا بنت أصل وهذا اصلن ماتبي اَهلها ولا اخوانها تبي بس تدشر وحدها وتسافر وتسوي كل شي يغضب وجه ربي لا ياحبيبتي الشغله مو على كيفك حنا هنا في بلاد تحكم بشرع الله ياجاهله😤',\n",
       " 'RT @unona98: #اش_ناقصنا_بتويتر يحذفون حقين اسقاط الولاية والملحدين وما الى ذلك 😆',\n",
       " 'RT @vib_60: @toraifah18 @shor11_11 يوم صار كلمها هو الصح قلتي كلن يرا الناس بعين طبعه ، لا كلامها صح وهاذا حنا نشوف الي برا من السعوديات كيف لابسه وكيف رايحه وكيف جايه ولارقيب ولاحسيب ليه.؟\\n اش الله حداك ماتجلسين بعصمة اخوانك وابوك وزوجك الي وقت الاوزم في صفك ،ولا وش اسقاط الولايه في مخك ..؟',\n",
       " 'RT @waleed_alsaawi: #سعوديات_نطلب_اسقاط_الولايه800\\n \\n ياليت يتم إنشاء لجنه مسؤولة عن حصر الحسابات التي تطالب بإسقاط الولايه ويتم اعتقالهم لأنهم يثيرون البلبله ويشجعون على التمرد والخروج على ولي الأمر وهذا مرفوض شرعاً وقانون.',\n",
       " 'RT @waleedalrwili: #من_اجمل_سعوديه_ولامغربيه\\n \\n فئتين في المجتمع السعودي لو يحرق فيهم 🔥سيعيش مجتمعنا بسلام ودون عقد ونشر غسيل \\n \\n فئة قذارة إسقاط الولايه\\n وفئة دشير المغرب وبلاد الدعارة والخمر\\n \\n الفئة الأولى ناقمات على الرجل والدين والأخلاق\\n الفئة الثانيه هوايتهم نشر الغسيل والسخريه من السعوديات',\n",
       " 'RT @xxxxxxm09: #اش_ناقصنا_بتويتر\\n الحسابات القذره وحقين اسقاط الولايه يختفون من التويتر بس يخلون الحلوين اللي مثلي☺️',\n",
       " 'ارادوا لها العزه بمنحها الفرص لتكون لبنه صالحه متزنه تساهم في نهضة بلدها فأستغله ضعفاءالنفوس ومُغربي التفكير من الجنسين لتشويه صورة المرأة السعوديه اصلاً وفصلاً واقصد\"البيور\" اباً عن جد ليجعلوهاوقحه باحثه عن\"الانحلال الاختلاط اسقاط الولايه\"لتكون مثار شفقه وسخريه بأن هذا طموحها.!',\n",
       " 'ازالة عاهرات اسقاط الولاية من التويتر 😁🤜 #اش_ناقصنا_بتويتر',\n",
       " 'اسعد الله مسائكم مو ملاحظين بعد القبض على #خونة_الوطن اختفاء هاشتاق #اسقاط_الولاية 🤔🤔 قلنا وكررنا انه عمل الغرض منه اثارة الفتن والبلبه داخل المجتمع وكان البعض يقولون المشاركين هن نساء الوطن .. نساء و بنات الوطن يطالبون ولكن لايخونون الوطن ولا يبيعون عقولهن 👎🏻👎🏻👎🏻',\n",
       " 'الي ماسكين حسابات وهاشتاقات اسقاط الولايه اشخاص وهميين هدفهم تدمير المرأه السعوديه https://t.co/F2lestlLta',\n",
       " 'أنا لو أسمع كلام #النسويات ،\\n وبنات #إسقاط_الولاية ،\\n كان مايصير في حياتي ولا رجّال !\\n لا أخ ولا زوج ولا ولد !\\n أكيد هم متعقدات من العنف والكبت اللي يشوفوه من أخوانهم أو أزواجهم !\\n بس ياليتهم يحلوا مشاكلهم ،\\n بدلآ من التنمر والتحريض ،\\n ولا يعمموا !\\n لإن الرجال يختلفوا !',\n",
       " 'أنا وغيري وكثير من السعوديين لم نذهب لبلاد الرذيلة فلماذا تأتي عاهرة تدعوا لإسقاط الولاية \"لاجل مزيد من حرية الدشارة \"\\n وتعمم علينا بالصياعه!\\n \\n لماذا المجتمع يصمت عن هذه التجاوزات والكذب وتشويه صورة السعودي بينما لو فضحت قطيع إسقاط الولايه قالوا عنك تقذف! #من_اجمل_سعوديه_ولامغربيه',\n",
       " 'بدا التحلل والانحطاط من بدايات اسقاط الولاية وقيادة المرأة،و الحقوقيين للحين ينشرون السم بالمجتمع فانت اذا تبي تخرب لنفسك لا تدخل احد ابد ،اتوقع بدينا ننهار وصارنا تحت رحمة الليبرالية والحقوقيين اما اصحاب الدين لقبوهم بالمتشددين والارهابيين،الله يكفينا شرهم #تضامن_مع_ترف_العسيري',\n",
       " 'تدري وش اللي يقهرك اذا وحده تترقص في السويشل ميديا ويعتبر مصدردخل لها \\n \\n وبعد فتره تطلع تتكلم عن حقوق المراه و إسقاط الولايه ... الله يلعن ذي الأشكال \\n \\n #السعودية',\n",
       " 'حاولت مجموعة من النسويات بقايا #عملاء_السفارات وأسيادهم الليبراليين من المحرضين للعهر في #اسقاط_الولاية \\n تهكير حسابي في تويتر على بالهم اني من الخفافيش امثالهم\\n انا موثق حسابي بالايميل و رقمي الخاص شكرًا #تويتر \\n \\n ومازال والدعم مستمر لاعداء الوطن والمواطن',\n",
       " 'حقون اسقاط الولايه عندهم مبدأ ان الحجاب حريه شخصيه، لكن لما يشوفون وحده منقبه على طول ينسون مبدئهم ذا ويقولون انها متخلفه',\n",
       " 'حقين اسقاط الولايه الله يسقط رقابهم #تضامن_مع_ترف_العسيري',\n",
       " 'صباح الخير ... \\n \\n هذي نهاية أسقاط الولايه والمساواه والحقوق النسويه وهالخرابيط .. https://t.co/cq4eGbexUj',\n",
       " 'عاهات إسقاط الولايه يضحكون اجل تقول ليش ابوي يتصرف ؟ انتي من وين جايه يبنت الكلب هههههههههههههههههههههههههههههههههههههههههههههههههههههههههههههههههههههههههههههههههههههههههههههههههه.',\n",
       " 'على فكرة التاقات الي مثل هذا #من_اجمل_سعوديه_ولامغربيه تستهدف المرأة السعودية مثلها مثل تاقات\\n #اسقاط_الولاية هي تستهدفها في عقيدتها و أخلاقها وفِي ثقتها في نفسَها\\n المؤمراة على المرأة السعودية كبيرة وللاسف تدار من الداخل قبل الخارج من الليبراليين القذرين اصحاب الشهوات الحيوانية',\n",
       " 'غيرو سعوديات وحطو عاهرات نطلب اسقاط الولايه #سعوديات_نطلب_اسقاط_الولايه',\n",
       " 'كله حبه حبه بدو فاسقاط الولاية بحجه ماهو فالدين \\n وبعدها اسقاط النقاب بحجة انه برضه ماهو فالدين \\n والان اسقاط جميع ماعلى المرأه الا لبسها وغداً نعلم ويش بيصير جميعها حجج باطله من اولهآ الى آخرها \\n كل شي اخذوه باسم الدين هؤلاء الساقطات والدين براءً منهم ! \\n \\n  #تضامن_مع_ترف_العسيري',\n",
       " 'لو الكل واعي بيعرف ان اغلب المطالبين بهالهشتاقات مدفوع لها حسابات وهميه يريدون الخراب انتِ مستهدفه كوني واعيه لابو هالعقليه المعفنه \\n #اسقاط_الولاية',\n",
       " 'ماذا تريدين من اسقاط الولايه يافتاه لاتنجرفين حول المعرفات الوهميه والمعاديه للوطن ركزي وخليك مثل امك ست بيت الله يلعن امك اشغلتينا #سعوديات_نطلب_اسقاط_الولايه800',\n",
       " 'من هذا المنبر اطالب بضم عينات اسقاط الولايه لدينا في #الحد_الجنوبي \\n \\n  #تضامن_مع_ترف_العسيري',\n",
       " 'مهما حسيت انك ما عندك حياة تذكر السبايك حقين اسقاط الولايه',\n",
       " 'ناقصينا يختفون حقين اسقاط الولاية والمثليين والبنات العوانس اللي خاقين ع الزواج 😫 #اش_ناقصنا_بتويتر',\n",
       " 'نتعشى ونتفرج لبتوع اسقاط الولايه ونستمتع بالتخلف العقلي 🌹',\n",
       " 'هذه احدى مومسات اسقاط الولايه من المعجبات بالملحد #عبدالرحمن_المطيري ولا اظنهم يتحاملون على اهل القصيم الا لدينهم وصلاحهم وعلمهم .. يسبون دين القصمان لان العلماء منهم ومن غيرهم لانهم لا يستطيعون سب الاسلام بطريقه مباشره .. واذا مسكوها زي فاطمه فهد وزي المدمن بيقولوا ثنائي قطب !!! https://t.co/abHbd42bOS',\n",
       " 'وقرن في بيتوكن ولا تبرجن تبرج الجاهلية\\n الاسلام اكرم المرءة بسترها وحجابها وطاعت ولي امرها . ومن يطالب باسقاط الولاية فهو بذالك يطالب باسقاط كرامة المرءة المسلمه \\n \\n  #سعوديات_نطلب_اسقاط_الولايه800',\n",
       " 'ويجون النسويات يطالبون ب اسقاط الولايه شوفو اخوها صبح عليها واخوي امس جابلي شاورما وين العنف اللي تتكلمون عنه 😷يالمعنفات يالحكوكيات تفو الله يرحم الامير نايف وصدام بس 😔\\n الامير نايف لو كان عايش ماكان شفنا الحريم يسقن يالله حسن الخاتمه يالله لا تسخط علينا 😢 https://t.co/F30pu4X0l0',\n",
       " 'ياخي حقين اسقاط الولايه يبي لهم كف يعدل وجيهم',\n",
       " '��🔴 تقرير CNN يظهر أن من يقف خلف حملة اسقاط الولاية كثير من المرتدات عن الاسلام ( مترجم ) https://t.co/ayfFEY2tra',\n",
       " '# #سعوديات_نطلب_اسقاط_الولايه840 اسقطوووووو الولايه اللعينه اللي سرقت حياتي😔💔',\n",
       " '#اختطاف_طفلتين \\n لا وتزعلون اذا بنات اسقاط الولايه طالبو بنزع صكوك الولايه عن هالاشكال\\n والله مالوم بنات الاسقاط فيكم\\n دشير شواذ متحرشين بالاطفال خرفان المغرب محششين سكرجيه مرضى نفسيين \\n \"\\n وبالاخير معه صك ولايه عشان ايش\\n عشان يحمي شرفه 😑؟ https://t.co/BGMednaaMk',\n",
       " '#اسقاط_الولايه_قريبا نطالب باسقاط الولايه',\n",
       " '#إسقاط_الولايه انتي لستي دره ولا ملكه ولا حلوى مغلفة ، انتي انسانه كامله ولستي ناقصه، انتي بشر يحق له العيش بالطريقه التي يختارها ، انتي قويه قاومي يا صديقتي حتى اخر رمق #كلنا_نقدرك https://t.co/nGfOwZ2CR7',\n",
       " '#سعوديات_نطلب_اسقاط_الولايه838\\n \\n اسقاط الولايه يعني تكوني انسان كامل الاهليه يدير اموره بنفسه\"\"\\n \\n كيف تعارضين انك تكوني شخص مسؤول عن اموره لدرجهه ماعندك ثقه بنفسك وعقلك لهدرجه انتي انسانه عاجزه بدون ولي امر يكون ذكر يسيرك زي ماهو حاب مو زي ماانتي حابه!!!!',\n",
       " '#سعوديات_نطلب_اسقاط_الولايه840 \\n \\n الولاية عبودية الولاية لا يتمسك بها الا ظالم او شكاك او شحاد فلوس ولا تقولون لي غيرة واخلاق لان هذي هي الولاية موجودة والغيرة مضروبة والاخلاق ضايعة .. اتركو كل شخص يقرر حياته حطو سن رشد لهم مو معقول حتى اللي عمرها ٥٠ سنة تعاملوها قاصر 🎬',\n",
       " '#سعوديات_نطلب_اسقاط_الولايه840 #سعوديات_نطلب_اسقاط_الولايه841 نطالب بإسقاط الولايه لأنه نظام يسلّع المرأه ويهمشها ويجعلها كائن عديم الارادة غير قادر على إدارة حياته ويجردها من انسانيتها ويجعل منها كائن شرير غريزي غير قادر على التحكم بنفسه',\n",
       " '#سعوديات_نطلب_اسقاط_الولايه840 إسقاط الولاية وحده لايكفي الولاية جزء صغير من حقوق كثيرة حرمت منها المرأة شرط تصريح السفر والمساواة الكامله وتمكين الفتاة من الحصول على بيت مستقل من عمر ١٨، كفاية الأعمار اللي راحت ضحية لقرارات تعسفية ما انزل الله بها من سلطان',\n",
       " '#سعوديات_نطلب_اسقاط_الولايه840\\n \\n سقوط الولايه بداية لحياة كثير من السعوديات',\n",
       " '#سعوديات_نطلب_اسقاط_الولايه840\\n #سعوديات_نطلب_اسقاط_الولايه841\\n هلو بابا سلمان طولتوا مو قال #محمد_بن_سلمان ان الولايه راح تسقط قريب . متى هالقريب ترى راح عمرنا واحنا ننتظر اسقوطها بليز واعتقونا😩💔 @KingSalman https://t.co/azJgVvYUwk',\n",
       " '#سعوديات_نطلب_اسقاط_الولايه840\\n الولاية خسرتني اشياء ما تتعوض',\n",
       " '#سعوديات_نطلب_اسقاط_الولايه840\\n الولايه عبوديه ظالمه ليست من الاسلام ولا اخلاق العرب يامن وضعها عليك لعنة الله والناس اجمعين',\n",
       " '#سعوديات_نطلب_اسقاط_الولايه841 \\n تفكيركم انه اذا سقطت الولايه البنت بتصيع او تضيع غلط ! \\n البنت تبي تعيش تبي تكون حرة نفسها ..بغض النظر عن الذكور فالسعوديه وعن حياتهم ومصايبهم',\n",
       " '#سعوديات_نطلب_اسقاط_الولايه841 اسقاط الولايه بشكل كامل تحديد سن الرشد للمراة المساواه بينها وبين الرجل في جميع الوظايف حتى في الرواتب .. https://t.co/x0a1NqaryW',\n",
       " '#سعوديات_نطلب_اسقاط_الولايه841 يسقط صك الولايه على المرأه في النظام السعودي الأن وبدون شروط ولا قيود ولا نفس حتى',\n",
       " '#سعوديات_نطلب_اسقاط_الولايه841\\n #سعوديات_نطلب_اسقاط_الولايه842 \\n تتوقعون لو بقي نظام الولايه مارح نلجأ للهجره!\\n رح نبقى سجينات اهالينا طول العمر! لا والف لا\\n انا بانتظار بلدي كي يصحح اخطاءه وسوف انتظر مااستطعت \\n ففي النهايه انا تربيت وعشت هنا ولدي بقايا ذكريات لااريد التخلي عنها',\n",
       " '#سعوديات_نطلب_اسقاط_الولايه841\\n احنا نعيش بمجتمع نصف افراده مرضى نفسيين كارهي لجنس الأنثى لدرجة يشوفوا انها كثير عليها التنفس ولو بيدهم قطعوا نفسها وارتاحوا..تجوا أنتم تحطوا ^الولاية^يعني اكبر سلطة ممكن تنحط بيد مجرمين زيهم!!ليش مو مستوعبين ان حياتنا في خطر بسببكم!انقذونا..',\n",
       " '#سعوديات_نطلب_اسقاط_الولايه841\\n المطلب وطني حق نساء مع حدٍ سواء لكي يعم توازن والازدهار وحق لابد رد اعتباره بما اننا تجاوزنا حقبه صحوة ضالمه والافكار مكبله بالجهل وعادات وتقاليد سالبه(البأئسه)\\n فكر رجعي وتسلط الولايه وسطوتها على طمس شباب وتطلعاته للحياه محصورة حصرآ من الولي ضالم.',\n",
       " '#سعوديات_نطلب_اسقاط_الولايه841\\n الولاية على المرأة العاقل البالغ ظلم عظيم\\n تسبب في تعطيل حياتها ومستقبلها .\\n \\n تسقط الولاية',\n",
       " '#سعوديات_نطلب_اسقاط_الولايه841\\n في العالم مافي امرأة عليها ولاية السفية\\n الا المرأة السعودية حياتها في يد غيرها \\n اسقاط الولاية من ابسط حقوقنا .',\n",
       " '#سعوديات_نطلب_اسقاط_الولايه842 ماراح نسامح اللي كان السبب بتضييع عمرنا المفىوض الولاية ساقطة من زمان',\n",
       " '#سعوديات_نطلب_اسقاط_الولايه842\\n \\n الولايه انتهاك للحريه ...',\n",
       " '#سعوديات_نطلب_اسقاط_الولايه842\\n المرأه السعوديه بدأ صبرها ينفذ من تخلف وهمجية عقول الذكور اللي ف حياتها شخص متخلف فاشل جاهل ينتهك حريتها ويسرق احلامها الى متى المعاناه ؟ لن تأتي نهضه ونجاح دون اسقاط الولايه !!!',\n",
       " '#سعوديات_نطلب_اسقاط_الولايه842\\n قانون الولايه فليذهب الى مزبله التاريخ',\n",
       " '#سعوديات_نطلب_اسقاط_الولايه842\\n لا ولاية على المرأة البالغة العاقلة الراشدة في الاسلام .\\n الولاية على الصغير والخبل والمهبول والمعتوة\\n اللي حط هذا القانون .',\n",
       " '#سعوديات_نطلب_اسقاط_الولايه842\\n من 2016 الى 2018 وحنا نطلب تحديد سن للرشد وإلغاء الولاية وش الصعب والمستحيل في هذه البديهيات من الحقوق !!!! تسسقط',\n",
       " '#غرد_عن_اجواء_مدينتك ما اعرف الأجواء الى من تصوير الناس اللي عندي💔 لان ممنوع اطلع وماعرف اي شي خارج حدود غرفتي.. انتظر الفرج من الله انتظر اسقاط الولايه الظالمه #سعوديات_نطلب_اسقاط_الولايه840 حسبي الله ونعم الوكيل.💔 @kbsalsaud @KingSalman',\n",
       " '#فتاة_عرقة \\n اسقاط الولاية لازم اليوم قبل بكرة، في كل تأخيره فيه بنت تنظلم ويذبحها القهر',\n",
       " '#فتاة_عرقة \\n لاجديد !!\\n هذه حالة من بين عشرات الحالات مثلها \\n وللأسف لاحياة لمن تنادي\\n حياة المرأة هنا مربوطة بشكل كامل ب ولي أمرها ؛ إن كان ولي أمرها شخص سوي صلحت حياتها وإن كان ظالم مستبد ذاقت مرارة الظلم والتسلط \\n لايوجد حل إلا ب #اسقاط_الولاية وجعل المرأة تملك حياتها وقراراتها',\n",
       " '#فتاة_عرقة وجب الان وبدون اي تأخير #اسقاط_الولاية لما فيه امتهان وظلم بحق المرأة ! انسانه بالغه عاقله ووفق للتقارير الطبيه توضح سلامتها ومع ذلك مقيده مثلها مثل المذنب !! الى وين بنوصل له الى وييين !!!',\n",
       " '#فتاة_عرقة يعني لما اشوف بنات زي كذا في مجتمعنا أحزن..القوانين وضعت للحماية مو لسلب الحياة من ذويها والظلم ، إسقاط الولاية مطلب وليس \"إقتراح\"',\n",
       " '#فتاة_عرقة\\n \\n اسقاط الولايه صار شيء ظروري',\n",
       " '#فتاة_عرقة\\n \\n الحل الوحيد لكل هذه القضايا هو #اسقاط_الولاية',\n",
       " '#فتاة_عرقة\\n #اسقاط_الولاية',\n",
       " '#فتاة_عرقة\\n #سعوديات_نطلب_اسقاط_الولايه841\\n الولايه تكشف الستار عن معاناه جديده لا نعلم عنها شيء .. فهي تستبيح حرمان المرأه من حياتها لمجرد حمايتها بطريقه بشعه و وحشيه ! هل يعقل انهم يريدو سجنها في دار الرعايه لمجرد فقدانها العضو الذكوري ؟! \\n نحن حقاً بحاجه لتكثيف المطالبه بالحقوق',\n",
       " '#فتاة_عرقة\\n طولت كثير مسألة #إسقاط_الولايه أكثر مما كنت أعتقد \\n الحل الأنسب هو الضغط على هذا الملف والإلحاح عليه الآن\\n فهم اليوم في وضع حرج مع العالم الخارجي وآخر مايحتاجونه بلبلة من الداخل فالأغلب سيُنظر بأمره\\n للأسف أن نضطر للإلتجاء لإستغلال سوء وضع دولتنا السياسي لنأخذ \"\"حقوقنا\"\"',\n",
       " '#فتاه_عرقه\\n إسقاط الولايه هو الحل',\n",
       " '#هالوين_الرياض ب #حي_الرمال\\n هل بعد ذلك سوف يتم دعم حقوق المرأة ؟؟\\n هل سوف يتم إسقاط الولاية؟؟\\n شعارات التنوير وأنتي حرة ودعم الليبرالية هل ستستمر ؟؟\\n نداء عاجل إلى الإحتفاظ بما تبقى من كرامة المملكة العربية السعودية !!🛑',\n",
       " '@brooonya111 اسقاط الولاية لا تعني الفسسساااد او المجاهره بالمعصية الله ياخذ اشكالك .',\n",
       " '@Fiiiiiu90 @x77za اسقاط الولايه هو الحل',\n",
       " '@Ge7Lt4 كلنا مع اسقاط الولايه لكن السعودية وصورة السعودية دائما بالقمة ولم ولن تتضرر دولتنا وقادتنا بالصدارة ونحن من يقود الشرق الأوسط 🇸🇦🇸🇦🇸🇦🇸🇦',\n",
       " '@khalid98k98 طيب وإذا أسقطت الولاية وش بيصير يعني ل كفرت بالله مثلاً ، ان كيان لي حرية اختيار حياتي بنفسي موب سلعة أو ملكية تنقل مليكتها من مالك الى آخر ، زمن العبودية قد ولى و إسقاط الولاية مسألة وقت ي عيوني .',\n",
       " '@khalidguwaiz شدخلكم معتبرين نفسكم أوصياء على كل بنت ، الله يعز الدولة اللي تفلت بوجييهكم وعقبال أكبر تفله اسقاط الولاية.',\n",
       " '@malmosallam وش فايده وجود المراه في مناصب كبيره وهي ستل قاصر وماتقدر تخلص امورها بدون ذكر؟؟؟؟؟ تمكين المراه من دون اسقاط الولايه عنها كلام فاضي',\n",
       " '@mes___94 وش دخل تشربت الذل ؟؟ اوك كلنا ضد ذَا القانون و نبي إسقاط الولايه بس لو كنتي مكانها بتروحين تتصلين عليه عشان يسوي تصريح و الا تقعدين تلعنين الولايه عشان ما ينقال انك تشربتي الذل ؟؟؟',\n",
       " '@mhomadl انا مع اسقاط الولايه وضد ذي الامور ترا اسقاط الولايه مو يعني اسقاط قوانين الدوله',\n",
       " '@MROOOJ_311 @ttswek @maryam_al_harth @Ali35806684 @myowNotes @MmMn60 خنزير متجرد من انسانيته انتي ؟ بمجرد ان اوليائك قايمين بالواجب معك مو معناته كل الناس مثلك فكري بالمعنفات بالمحرومات بالمعذبات ! اسقاط الولايه قضيه انسانيه تحركها دوافع انسانيه عجب ما اكبر حقارتك ووحشيتك',\n",
       " '@nhtq11 ترا انتم فاهمين إسقاط ولايه يعني حريه بلا حدود لا علاقه ذَا بذا إسقاط الولايه فئه من المجتمع يطالبون بحقوقهم كالبشر بعدين ذي المسخرة والفساد الي شايفينه ترا من زمان بس قبل مافي توتير وانستا وسناب ولا على الفساد في كل مكان وزمان',\n",
       " '@oioi__0__ اجزم ان بنات اسقاط الولايه هم اكثركم انسانيه يا عيال الكلب فالمواضيع هذي مانشوف منكم الا ما ندر ونلقاهم ينفون ويشككون بس اذا الموضوع يخص البنات تطلعون من جحوركم يا متخلفين لعنه تلحقكم وتلعن من يخمد سالفه مثل هذي تمس اطفال',\n",
       " '@Rasha188Z @hizam_elqahtani زي مثلا قيادة السيارة .. و اسقاط الولاية اللي قادم لا محالة .. لكن هي مسألة وقت',\n",
       " '@ray_17n تراني مع اسقاط الولاية لا تجرحيني',\n",
       " '@Reluctant_Rak @AzJabir اذا مع اسقاط الولايه انا بجيكم',\n",
       " '@rkh_112 @CelineNjd112233 اسقاط الولاية ماتعني الغاء وجود تعني الاعتراف بأنك انسان كامل العقل قادر على التصرف بأمور حياته مو محتاج شخص ثاني يدير اموره مثل الطفل والمجنون',\n",
       " '@saraaaah_4 ايوه أكيد والولاية مفروض تسقط بدون اسباب حتى ، بس هم أي قصة تطلع ينكرونها ويحاربونها عشان خايفين من إسقاط الولاية حتى لو ما أحد جاب سيرتها',\n",
       " 'RT @_01iNspiration: #سعوديات_نطلب_اسقاط_الولايه842\\n المرأه السعوديه بدأ صبرها ينفذ من تخلف وهمجية عقول الذكور اللي ف حياتها شخص متخلف فاشل جاهل ينتهك حريتها ويسرق احلامها الى متى المعاناه ؟ لن تأتي نهضه ونجاح دون اسقاط الولايه !!!',\n",
       " 'RT @_fti9: #سعوديات_نطلب_اسقاط_الولايه840 إسقاط الولاية وحده لايكفي الولاية جزء صغير من حقوق كثيرة حرمت منها المرأة شرط تصريح السفر والمساواة الكامله وتمكين الفتاة من الحصول على بيت مستقل من عمر ١٨، كفاية الأعمار اللي راحت ضحية لقرارات تعسفية ما انزل الله بها من سلطان',\n",
       " 'RT @2wsc2149: #فتاة_عرقة \\n انا اقترح اسقاط الولايه في الرياض فقط لانها مدينه كبيره سكانها اكثر من سته مليون اغلبهم مهاجرين من المحافظات\\n وفيها تفكك اسري مثل كل عواصم العالم\\n لذلك ماتنفع الولايه مع التفكك الاسري',\n",
       " 'RT @599Swmr: @U0ii2 سعوديه تبي اسقاط الولاية ..يارب يارب قريبا يصدر هالقرار 🤲🏽',\n",
       " 'RT @92VBETfIvMj0EGB: #سعوديات_نطلب_اسقاط_الولايه835\\n \\n قريبا اسقاط الولايه ان شاءالله',\n",
       " 'RT @9Amyy: البنت بسعودية علطول عايشه بقلق على حياتها و روحها ومستقبله وتدخل في صراعات مع وصاية الولي والاهل والمجتمع حرفياً عايشه بجحيم \\n والسبب عائد لدونية القانونيه للمرأة اسقطوا الولايه\\n #سجينات_منسيات\\n #سعوديات_نطلب_اسقاط_الولايه839',\n",
       " 'RT @AAADeepAAA: حرام تكون الولايه بيد هالأشكال #سعوديات_نطلب_اسقاط_الولايه740 https://t.co/sFjCOdIcaX',\n",
       " 'RT @alafaaaf: المرأه الكويتيه في 2019 راح تصير قاضية\\n والمرأه السعوديه في 2019 تطالب الإعتراف بأهليتها وعدم معاملتها مثل السفيه والمجنون !!!\\n احنا وش ينقصنا عنهم عشان نتعامل بهذي الطريقه ! \\n اسقطوا الولايه \\n @Badermasaker \\n #سعوديات_نطلب_اسقاط_الولايه840',\n",
       " 'RT @Annealshammari: #سعوديات_نطلب_اسقاط_الولايه742\\n - الحرية لسجينات دور الأيتام والحماية والضيافة والرعاية\\n - الحرية لسجينات السكن الجامعي\\n - الحرية للسجينات بالبيوت\\n - الحرية لجميع النساء\\n ..\\n قرار اسقاط الولاية كلياً بجميع مسمياتها وأشكالها، لن يزلزل البلد بل سينهضها ويخرجها من ابط الكرة الأرضية. 😷',\n",
       " 'RT @Awash_70: وغيرهم الآف من النساء, سيبقى نظام الولاية عار لا يمكن نسيانه خذيتم من عُمر النساء الكثير أما آنْ الأوان لسقوطها ؟؟ #سعوديات_نطلب_اسقاط_الولايه840 https://t.co/1DzbVrjfCB',\n",
       " 'RT @badlifegirls: انا فخوره بكوني من الجيل اللي واعي ويطالب بحقوق المرأه من الجيل اللي طالب بسواقة المرأه وحصل من الجيل اللي لا يرضى بظُلم المرأه \\n #النساء_للنساء #نسوية #سعوديات_نطلب_اسقاط_الولايه',\n",
       " 'RT @Dally121212: حقوق النساء يجب أن لا يتم تجاهلها وسط كل مزاعم التطور و التقدم بحجه أن المجتمع السعودي غير جاهز الآن \\n \\n لقد آن الآوان لإنهاء الولايه الجائره التي تعيق تقدم المرأه وتبيح للرجل تعنيفها و سجنها\\n \\n #سعوديات_نطلب_اسقاط_الولايه838\\n #ولي_العهد_في_منتدى_الاستثمار\\n #شعب_جبار_وعظيم',\n",
       " 'RT @EmyyOtb: #سعوديات_نطلب_اسقاط_الولايه841\\n احنا نعيش بمجتمع نصف افراده مرضى نفسيين كارهي لجنس الأنثى لدرجة يشوفوا انها كثير عليها التنفس ولو بيدهم قطعوا نفسها وارتاحوا..تجوا أنتم تحطوا ^الولاية^يعني اكبر سلطة ممكن تنحط بيد مجرمين زيهم!!ليش مو مستوعبين ان حياتنا في خطر بسببكم!انقذونا..',\n",
       " 'RT @Fattom9o9: #فتاة_عرقة \\n لاجديد !!\\n هذه حالة من بين عشرات الحالات مثلها \\n وللأسف لاحياة لمن تنادي\\n حياة المرأة هنا مربوطة بشكل كامل ب ولي أمرها ؛ إن كان ولي أمرها شخص سوي صلحت حياتها وإن كان ظالم مستبد ذاقت مرارة الظلم والتسلط \\n لايوجد حل إلا ب #اسقاط_الولاية وجعل المرأة تملك حياتها وقراراتها',\n",
       " 'RT @feminist__a: في مستشفى ، في مسجد ، في جامعة ، في مول ، في استراحات ، في المجالس ، في القاعات ، في الجمعات ، وفِي كل مكان شكوى النساء واحدة (ذكر متسلط) \\n من كل قلبي اتمنى يجي اليوم اللي تسقط فيه الولاية في اقرب وقت لان قلبي يوجعني مع شكوى كل امرأة أقابلها .. #سعوديات_نطلب_اسقاط_الولايه840',\n",
       " 'RT @feminist__a: يارب ياحبيبي ان محمد بن سلمان يسقط الولاية عن المرأة السعودية #سعوديات_نطلب_اسقاط_الولايه830',\n",
       " 'RT @fgfgffdl: #سعوديات_نطلب_اسقاط_الولايه840\\n الولايه عبوديه ظالمه ليست من الاسلام ولا اخلاق العرب يامن وضعها عليك لعنة الله والناس اجمعين',\n",
       " 'RT @Free_Spirit_84: أنا إنسانة حرة ، لست ملك لأحد ، ولا أريد أن يستولي أحد على حياتي ، ويتخذ قراراتي المصيرية بدلاً عني. إن أصبت فلنفسي ، وإن أخطأت فعليها. أنا كاملة الأهلية ولست ناقصة عقل.\\n #اسقاط_الولاية\\n #سعوديات_نطالب_باسقاط_الولاية\\n #سعوديات_نطلب_اسقاط_الولايه781',\n",
       " 'RT @fza_dhc: #سعوديات_نطلب_اسقاط_الولايه839\\n الولاية عالمرأة البالغة العاقلة ليست من الشرع والله لم يفرضها جت من قانون وضعي من ٣٥سنة https://t.co/vooV4soZLG',\n",
       " 'RT @ghaid166: أحس عايفه نفسي من كل السعوديه\\n حتى لو سقت ..\\n وسقطت الولايه ..\\n واستقليت .. \\n مابغى اعيش بهالبلد خلااعص أبي أطلع منها!!\\n #سعوديات_نطلب_اسقاط_الولايه840\\n #سعوديات_نطلب_اسقاط_الولايه841',\n",
       " 'RT @GhaidaAyyad: جاني اختناق واني اقراه، مجتمع ظالم مُستعبد للنّساء بشكل فاحش 💔 ، أبسط الأمور اللي بنات العالم ونساءها يعتبرونها من المسلّمات وحتى ما تندرج تحت \"حقوق\" ، هم عندهم حرام ومحظور! وش هالعيشة؟ واللي يقهر اكثر يجون بنات من نفس المجتمع ونفس البيئة ويرفضون اسقاط الولاية عنهم! https://t.co/QKWftQGXKS',\n",
       " 'RT @hooor_b7: #سعوديات_نطلب_اسقاط_الولايه838\\n \\n اسقاط الولايه يعني تكوني انسان كامل الاهليه يدير اموره بنفسه\"\"\\n \\n كيف تعارضين انك تكوني شخص مسؤول عن اموره لدرجهه ماعندك ثقه بنفسك وعقلك لهدرجه انتي انسانه عاجزه بدون ولي امر يكون ذكر يسيرك زي ماهو حاب مو زي ماانتي حابه!!!!',\n",
       " 'RT @human365: #فتاة_عرقة\\n طولت كثير مسألة #إسقاط_الولايه أكثر مما كنت أعتقد \\n الحل الأنسب هو الضغط على هذا الملف والإلحاح عليه الآن\\n فهم اليوم في وضع حرج مع العالم الخارجي وآخر مايحتاجونه بلبلة من الداخل فالأغلب سيُنظر بأمره\\n للأسف أن نضطر للإلتجاء لإستغلال سوء وضع دولتنا السياسي لنأخذ \"\"حقوقنا\"\"',\n",
       " 'RT @ivenuseight: #سعوديات_نطلب_اسقاط_الولايه841 يسقط صك الولايه على المرأه في النظام السعودي الأن وبدون شروط ولا قيود ولا نفس حتى',\n",
       " 'RT @j0oo0le: #سعوديات_نطلب_اسقاط_الولايه839\\n مع صك الولايه تعامل النساء معاملة الورث كأنها احدى الممتلكات التي تنتقل بعد ولاية الأب من شخص لآخر .. شي مهين للمرأة لأبعد الحدود .',\n",
       " 'RT @j0oo0le: #سعوديات_نطلب_اسقاط_الولايه839\\n من سخرية القدر ان المراة البالغه العاقله الراشده لا تستطع ان تتولى أمور حياتها بنفسها ؟ الولاية ليست الا استنقاص من قدر المراة والطعن في صحة عقلها وقدراتها ..',\n",
       " 'RT @j0oo0le: #سعوديات_نطلب_اسقاط_الولايه841\\n الولاية على المرأة العاقل البالغ ظلم عظيم\\n تسبب في تعطيل حياتها ومستقبلها .\\n \\n تسقط الولاية',\n",
       " 'RT @j0oo0le: #سعوديات_نطلب_اسقاط_الولايه842\\n لا ولاية على المرأة البالغة العاقلة الراشدة في الاسلام .\\n الولاية على الصغير والخبل والمهبول والمعتوة\\n اللي حط هذا القانون .',\n",
       " 'RT @jeeisfree: #سعوديات_نطالب_باسقاط_الولايه \\n #سعوديات_نطلب_اسقاط_الولايه568 \\n كل طلبنا اننا نصير كفلاء نفسنا محد يمتلكنا ويمتلك شؤونا ، لسا عبيد ولا مملوكين، ابي ادرس اتعالج اتوظف ابتعث بقرار مني لانها حياتي، الكل لديه سلطه على حياتي ماعدا انا!',\n",
       " 'RT @jinij_: #سعوديات_نطلب_اسقاط_الولايه839\\n الغاء الولاية بالكامل وإغلاق سجون دار الرعاية ووضع قوانين حماية لردع المتخلفين\\n هذه من أبسط حقوقنا',\n",
       " 'RT @jinij_: #سعوديات_نطلب_اسقاط_الولايه842\\n من 2016 الى 2018 وحنا نطلب تحديد سن للرشد وإلغاء الولاية وش الصعب والمستحيل في هذه البديهيات من الحقوق !!!! تسسقط',\n",
       " 'RT @kamahareb85: #سعوديات_نطلب_اسقاط_الولايه840 \\n \\n الولاية عبودية الولاية لا يتمسك بها الا ظالم او شكاك او شحاد فلوس ولا تقولون لي غيرة واخلاق لان هذي هي الولاية موجودة والغيرة مضروبة والاخلاق ضايعة .. اتركو كل شخص يقرر حياته حطو سن رشد لهم مو معقول حتى اللي عمرها ٥٠ سنة تعاملوها قاصر 🎬',\n",
       " 'RT @kiltalltale: #سعوديات_نطلب_اسقاط_الولايه840 تذكري إنك عاجزة عن ابسط الأشياء بسبب الولاية . وطالبي !',\n",
       " 'RT @ksaconstitution: من أهم حقوق المرأة هو حق اسقاط الولاية ، هذا الحق الذي طالبت به الحقوقيات لمدة 637 يوما الى هذا اليوم - ممايدل على أهميته الشديدة- يصنف هذا الحق على أنه حق طبيعي لكل انسان منذ ولادته ولكن في السعودية الأمر مختلف!!! \\n \\n #الشعب_يريد_دستورا_جديدا \\n #سعوديات_نطالب_باسقاط_الولاية',\n",
       " 'RT @l11in: #وش_تفكر_فيه_الان\\n متى مبس يسقط الولايه ويسوي لنا سبرايز \\n #سعوديات_نطلب_اسقاط_الولايه840',\n",
       " 'RT @Lonargirl: # #سعوديات_نطلب_اسقاط_الولايه840 اسقطوووووو الولايه اللعينه اللي سرقت حياتي😔💔',\n",
       " 'RT @ma67735: @suot_almrah @4heend4444 لا ياقلبي هم مستوعبين وعارفين هالشي وهم خرفان جنب بنات الأجانب ..لكنهم مستأسدين على بنات البلد ..ببساطة هم عارفين إن مالهم قيمة عشان كذا هم أكثر الأشخاص محاربة للحقوقيات وجماعة اسقاط الولاية ..بدون التسلط على المرأة وولاية امرها هم ولاشي',\n",
       " 'RT @malq___: اتمنى الحريه لكل بنت سعوديه وان شاءالله اسقاط الولايه يعجل لانه اهوا المنقذ الوحيد 🇸🇦👏🏻 #فتاة_عرقة',\n",
       " 'RT @marwaalsaleh: حرام تبقى فتاة سنتين و نص و هي بكامل قواها العقلية في مستشفى الامل و السبب ما جاء أحد استلمها. #اسقاط_الولاية #فتاة_عرقة https://t.co/4pZelpglF9',\n",
       " 'RT @non_fml: #فتاة_عرقة\\n #سعوديات_نطلب_اسقاط_الولايه841\\n الولايه تكشف الستار عن معاناه جديده لا نعلم عنها شيء .. فهي تستبيح حرمان المرأه من حياتها لمجرد حمايتها بطريقه بشعه و وحشيه ! هل يعقل انهم يريدو سجنها في دار الرعايه لمجرد فقدانها العضو الذكوري ؟! \\n نحن حقاً بحاجه لتكثيف المطالبه بالحقوق',\n",
       " 'RT @Noorjode: #سعوديات_نطلب_اسقاط_الولايه839\\n \\n في بلادي فقط :\\n \\n - المحاميات الدرر يسألونك :\\n ليه مو عاجبتك الولاية وش بتصيرين ؟!\\n \\n - الطبيب :\\n ما أسوي لك عملية إلا بتوقيع ولي أمرك !!\\n \\n - شيخ كذاب بيقرأ عليك ويتفل عليك🙂\\n لازم ولي أمرك ..\\n \\n تتمنين لو انك أنولدتي خفاش\\n منقلب على وجهه ونايم 24 ساعة 🙂',\n",
       " 'RT @Noudii_1411: #سعوديات_نطلب_اسقاط_الولايه840 لا تمكين دون اسقاط قانون الولايه@KingSalman \\n #سجينات_منسيات',\n",
       " 'RT @ommaha18: #إسقاط _الولاية ليس إنقاص من حق الرجولة إلا من يرى أن رجولته لاتكتمل إلا بكونه ولي على المرأة #سعوديات_نطالب_باسقاط_الولاية29',\n",
       " 'RT @Pearllbabygirll: اللي تعارض اسقاط الولايه وتحارب حقوقنا بتويتر وبالقنوات وتتمسخر ع المعنفات قاعده تتمتع بالحقوق هنا واللي طالبوا وتحملوا الأذى والتنمر مسجونات!!!! آااهه يالغبنه https://t.co/B6OcvGlBlM',\n",
       " 'RT @RanaMahssen95: النساء في السعوديه غير مسؤلات عن أنفسهن وعليهن ولايه وصايه في كل أمور حياتهن بس في حال العقوبات وتطبيق القانون تكون كاملة الأهليه ياجماعه والله عيب وحرام وفشله وغلط الي يصير الغو قانون الولايه الفاشل😒#سعوديات_نطلب_اسقاط_الولايه841',\n",
       " 'RT @rimj92: @saraaaah_4 ايوه أكيد والولاية مفروض تسقط بدون اسباب حتى ، بس هم أي قصة تطلع ينكرونها ويحاربونها عشان خايفين من إسقاط الولاية حتى لو ما أحد جاب سيرتها',\n",
       " 'RT @S_gge: #سعوديات_نطالب_باسقاط_الولاية9\\n يرفضون اسقاط الولاية بحجة أن الظلم سببه ولاة ظالمين , كمن يقول العبودية جيدة لولا بعض الملّاك السيئين\\n #شرير',\n",
       " 'RT @so8qIFez2MCLcsr: #سعوديات_نطلب_اسقاط_الولايه841\\n المطلب وطني حق نساء مع حدٍ سواء لكي يعم توازن والازدهار وحق لابد رد اعتباره بما اننا تجاوزنا حقبه صحوة ضالمه والافكار مكبله بالجهل وعادات وتقاليد سالبه(البأئسه)\\n فكر رجعي وتسلط الولايه وسطوتها على طمس شباب وتطلعاته للحياه محصورة حصرآ من الولي ضالم.',\n",
       " 'RT @SowanTh: #سعوديات_نطلب_اسقاط_الولايه839\\n \\n ضاعت الأعمار سدى بسبب نظام الولاية\\n فمن سيعوضنا عن ما فات من أعمارنا\\n وعن كرامتنا المهدرة وعن صحتنا\\n التي أهلتكها الحسرة والقلق والإكتئاب\\n \\n من سيعوضنا عن خساراتنا الفادح\\n \\n لا أحد أزيحوا نظام اللعنة عن كواهلنا\\n ويكفي ما أنتهك من حقوقنا حتى أنهك أنفسنا.',\n",
       " 'RT @voiceofwomen_: #سعوديات_نطلب_اسقاط_الولايه840\\n الذكر ليس عليه ولاية منذ ان يصل ١٨ ولم تضيع العائلة فلماذا الاعتقاد بأن العائلة ستضيع اذا سقطت الولاية عن المرأة وأنها ستفعل الموبقات ! https://t.co/aIlsintgGQ',\n",
       " 'RT @whosruntheworld: نسوية معناها العدل ومطالبة الحقوق مو معناها كارهات الرجال! #النساء_للنساء #اسقاط_الولاية',\n",
       " 'RT @xsara090: ضاعت الأعمار سدى بسبب نظام الولاية\\n فمن سيعوضنا عن ما فات من أعمارنا\\n وعن كرامتنا المهدرة وعن صحتنا\\n التي أهلتكها الحسرة والقلق والإكتئاب\\n من سيعوضنا عن خساراتنا\\n لا أحد أزيحوا نظام الولاية عن كواهلنا\\n ويكفي ما أنتهك من حقوقنا حتى أنهك أنفسنا.#سعوديات_نطلب_اسقاط_الولايه842 @KingSalman',\n",
       " 'RT @xsara090: ومازال هذا النضال والحِراك النسوي السلمي حتى تسقط هذه الولاية الظاااالمة ،لتسقط ويسقط معها كل من استغل هذه الولايه في تكبيل للحريات والحقوق . #سعوديات_نطلب_اسقاط_الولايه840 #StopEnslavingSaudiWomen @KingSalman @Badermasaker @kbsalsaud',\n",
       " 'RT @yyaass_al: مبس لازم يعرف ان 2030 لو تحققت بنصير دبي تقليد لكن لو سقطت الولاية وتحققت 2030 راح يميز البلد وتطلع لنا مدينة متطورة تطيح بدبي و تنافس العالم الاول النساء هنا طاقات مقموعة ومكبوتة #StopEnslavingSaudiWomen #سعوديات_نطلب_اسقاط_الولايه840 #سعوديات_نطلب_اسقاط_الولايه841',\n",
       " 'RT @zooztox: تركي تكفى قل لمحمد بن سلمان هذا هو التوقيت المناسب اللي كنت تنتظره لاسقاط الولاية عن المرأة مافيه أنسب من هذا الوقت وهذي الظروف لاقرار حدث تاريخي ينتظره الشعب من سنتين خله يعلنها بكرا في يوم ميلادي عشان يصير لميلادي معنى 😢@Turki_alalshikh\\n \\n #سعوديات_نطلب_اسقاط_الولايه840',\n",
       " 'اتمنى الحريه لكل بنت سعوديه وان شاءالله اسقاط الولايه يعجل لانه اهوا المنقذ الوحيد 🇸🇦👏🏻 #فتاة_عرقة',\n",
       " 'اسقاط الولاية صارت من مطلب لحاجة .. شوفو المصايب الي قاعدة تصير https://t.co/XNm1kPkOF6',\n",
       " 'اسقطوها يكفي مامضى من جرائم وضحايا باسم الولاية #سعوديات_نطلب_اسقاط_الولايه842',\n",
       " 'اعظم قرارين ممكن انهاتصير اسقاط الولايه ورفع اغلاق المحلات وقت الصلاه',\n",
       " 'الحمدلله الذي بنعمته تتم الصالحات امي من مؤيدات إسقاط الولايه',\n",
       " 'الحياة قاعده تضغطنا بالمشاكل يومياً\\n كـ سعوديات ! ننتظر الفرج العظيم و الحياة الجديدة بـ إسقاط الولاية.\\n يارب♥️',\n",
       " 'الخوف من اسقاط الولايه لا مبرر له بالمره، حق البنت البالغه الراشده تملك زمام أمور حياتها بنفسها💗 خايفين تصيع وتخرب بما ان (البنات في السعوديه متهمات بالانحلال مسبقا وبلا سبب)،خلاص حطوا قوانين صارمه في حال تصرفت بطريقه خطأ ودوها الرعايه و ارتاحوا، #فتاة_عرقة',\n",
       " 'الشعب يريد اسقاط الولايه',\n",
       " 'اللهم أيقظهم على إسقاط الولاية https://t.co/HI8vIzAUbp',\n",
       " 'النساء في السعوديه غير مسؤلات عن أنفسهن وعليهن ولايه وصايه في كل أمور حياتهن بس في حال العقوبات وتطبيق القانون تكون كاملة الأهليه ياجماعه والله عيب وحرام وفشله وغلط الي يصير الغو قانون الولايه الفاشل😒#سعوديات_نطلب_اسقاط_الولايه841',\n",
       " 'الولايه اهم سبب لانتاج نساء اتكاليات فارغات بلاهدف لاتملك من امر نفسها شيئاً سينتهي بها الامر لفراغ قاتل وضياع الحياه وحرمان الحقوق وتضييق الخناق على حياتها سيحولها لشخص ضعيف يسهل التلاعب به يلهث خلف اي متنفس وستضطر للبحث عن معنى للحياه في درب خاطئ #سعوديات_نطلب_اسقاط_الولايه840',\n",
       " 'اليوم صارلي موقف يعلمك شلون نحتاج بحق وحقيق اسقاط الولايه لان بعض البنات وضعهم معاها مزري \\n انا حزنت عليهم وربي\\n كبيره وفاهمه وواعيه ومحتاجه احد وراك يقولك لاتسوين ولاتحطين باامور مايستحق ابداً احد يفكر فيها ويقرر فيها عنك جميلتي؟\\n \\n ماودي اقول الموقف لان مالي خلق بصراحه😂',\n",
       " 'انا فخوره بكوني من الجيل اللي واعي ويطالب بحقوق المرأه من الجيل اللي طالب بسواقة المرأه وحصل من الجيل اللي لا يرضى بظُلم المرأه \\n #النساء_للنساء #نسوية #سعوديات_نطلب_اسقاط_الولايه',\n",
       " 'أبشرك الأمور بدأت تتغير ..والبنات ماعادوا مثل أول ..صارت كل وحده تعتمد على نفسها وتشتغل ،وظلّ وظيفه ولا ظلّ ذكر ..وانشاءالله نسمع عن قريب خبر اسقاط الولاية 😎 https://t.co/c9f29m07Zx',\n",
       " 'بفهم الحين ليش السعاوده ضد إسقاط الولايه وقيادة المرأه وتمكين المرأه وكل شي حنا نطالب فيه ؟ — لان رجولتهم معلقه في هالأشياء ولو سقطت الولايه بتسقط رجولتهم الي مب موجوده اصلا نويقصين ضعيفين وش متوقعه منهم https://t.co/Ei35QDwybj',\n",
       " 'تسقط الولاية وانتم already بتسقطوا \\n الفرج قريب للجميع.\\n #سعوديات_نطلب_اسقاط_الولايه841 https://t.co/OHe2irEH2Z',\n",
       " 'تشبه اسقاط الولاية بمثابة تحرير للعبيد يااامي شفيك انتي !! ههههه صاحية والله لو هي شايفه نفسها عبده بكيفها ... هي انظمة قليلة نبغاها تتعدل وانتهى واصلن الكم سنه دي جالسه تتعدل حاجات كتير ..',\n",
       " 'تصبحون على إسقاط الولايه يا بنات يا حلوات❤️❤️🌈',\n",
       " 'جاني اختناق واني اقراه، مجتمع ظالم مُستعبد للنّساء بشكل فاحش 💔 ، أبسط الأمور اللي بنات العالم ونساءها يعتبرونها من المسلّمات وحتى ما تندرج تحت \"حقوق\" ، هم عندهم حرام ومحظور! وش هالعيشة؟ واللي يقهر اكثر يجون بنات من نفس المجتمع ونفس البيئة ويرفضون اسقاط الولاية عنهم! https://t.co/QKWftQGXKS',\n",
       " 'جميلةٌ كلحظةِ إعلانِ إسقاطِ الولاية♥️ https://t.co/VsSgdOg4an',\n",
       " 'راضيه اسمع قرار إسقاط الولاية واطلع من السعودية شهر بس اسوي كل ملذات الحياة الي فاتتني وبعدها اموت والله راضية ولا يروح الباقي من عمري مايساوي لحظة من هالشهر',\n",
       " 'سيتمّ اسقاط الولاية\\n سيتمّ دمج الجنسين اكاديمياً\\n سيتمّ السماح بعدم اغلاق المعارض التجارية للصلاة',\n",
       " 'ضاعت الأعمار سدى بسبب نظام الولاية\\n فمن سيعوضنا عن ما فات من أعمارنا\\n وعن كرامتنا المهدرة وعن صحتنا\\n التي أهلتكها الحسرة والقلق والإكتئاب\\n من سيعوضنا عن خساراتنا\\n لا أحد أزيحوا نظام الولاية عن كواهلنا\\n ويكفي ما أنتهك من حقوقنا حتى أنهك أنفسنا.#سعوديات_نطلب_اسقاط_الولايه842 @KingSalman',\n",
       " 'عند سقوط الولايه راح تاتي حرية المراة .. #سعوديات_نطلب_اسقاط_الولايه841',\n",
       " 'في مستشفى ، في مسجد ، في جامعة ، في مول ، في استراحات ، في المجالس ، في القاعات ، في الجمعات ، وفِي كل مكان شكوى النساء واحدة (ذكر متسلط) \\n من كل قلبي اتمنى يجي اليوم اللي تسقط فيه الولاية في اقرب وقت لان قلبي يوجعني مع شكوى كل امرأة أقابلها .. #سعوديات_نطلب_اسقاط_الولايه840',\n",
       " 'ليش مايبون يسقطون الولايه في السفر لان خايفيين ولا وحده تقعد فهالبلد غير الذكور وعبداتهم الدرات #سعوديات_نطلب_اسقاط_الولايه841',\n",
       " 'ليه ربط اسقاط الولايه بإلغاء الاهل؟\\n طيب العيال ماعليهم ولايه وعايشين مع اهلهم عادي فتحو مخكم وصححو فكرة الإسقاطط https://t.co/UUvYNW1FdB',\n",
       " 'مافي شي بيسعدني هالفتره الا اسقاط الولايه فياليت مبس يستعجل شوي',\n",
       " 'متى بيجي هالتغيير تعبنا من الانتظار أعمارنا راحت #سعوديات_نطلب_اسقاط_الولايه840 #سعوديات_نطلب_اسقاط_الولايه841\\n #اسقاط_الولايه https://t.co/zPmr75r80O',\n",
       " 'متى تسقط الولاية #اسقاط_الولاية #اسقاط_الولايه_قريبا https://t.co/wSNtOinpHL',\n",
       " 'مشكلة الي بتويتر يشوفون الي يطالبون همومهم بسيطة فيحسبون اسقاط الولاية دلع .. بينما دار الرعاية وحده هو اكبر مصايب الولاية . خلاص وحدة ما فيه احد يرعاها واهلها ما يبونها تروح تشتغل وتترزق الله وتدور شقة وتعيش !!! عاد ما احكيكم عن وش الملعنة الي تصير بالدار',\n",
       " 'وتكفخت وانهنت وفقدت ثقتي بكل اللي حولي وحسيت محد لي بهالدنيا في عمر ١٩ حسيت بكل هالبشاعة لاني اكتب بهاشتاق اسقاط الولاية 😑',\n",
       " 'وغيرهم الآف من النساء, سيبقى نظام الولاية عار لا يمكن نسيانه خذيتم من عُمر النساء الكثير أما آنْ الأوان لسقوطها ؟؟ #سعوديات_نطلب_اسقاط_الولايه840 https://t.co/1DzbVrjfCB',\n",
       " 'يسقط المطر حين يعجز السحاب عن حمل ثقل الماء وتسقط الدموع حين يعجز القلب على تحمل الظلم هذا الحياة من الولايه\\n #سعوديات_نطلب_اسقاط_الولايه840\\n #سعوديات_نطلب_اسقاط_الولايه841 https://t.co/ZIkW47MPgp',\n",
       " '#اختطاف_طفلتين والله شوفو الهشتاق ذا والصور موب مصدقهم ابد واضح كلها شوشره وتشويه سمعه من اعداء الوطن ، او منمن يريدون اسقاط الولايه كي يظهر ان الرجال مجرمون مستعبدون النساء .، ولو الخطف صدق ماصور وزين بلبله علشان يقبض عليه حدث العاقل بما يعقل ، ؟! وصدقوني هذا الحدث ل هدف.',\n",
       " '#حقيقه_اختطاف_الطفلتين الحقوقيات ذولي يبون يظهرون الرجل السعودي على انه وحش كله عشان اسقاط الولايه كل لاشياء ذي تصير في الدول الي انتي تقلدينها ماسلم منهم احد حبيبتي تبين تطالبين طالبي بدون فبركه وكذب لان كذبكم صار يفشل ،، لاباء ولامهات انتبهو لعيالكم انتم مسؤلين امام الله عنهم',\n",
       " '#سعوديات_ضد_اسقاط_الولايه https://t.co/eTBS6wgy4O',\n",
       " '#سعوديات_نرفض_اسقاط_الولايه https://t.co/2mrjtmH7cD',\n",
       " '#سعوديات_نرفض_اسقاط_الولايه\\n لن تسقط الولايه وسمعوني صياحكن https://t.co/qxuawbHIVi',\n",
       " '#نحن_سعوديات_ولا_نريد_إسقاط_الولاية https://t.co/ZqVLcuxnRc',\n",
       " '#هالوين_الرياض\\n \\n الحفل حضر فيه اكثر من 3000 بنت أين اولياء الأمور !!\\n \\n لو تم اسقاط الولاية كم عدد الحضور وقتها ؟؟\\n \\n انحطاط ديني وأخلاقي غير مسبوق في عام 2018 دون انظمة وعقوبات صارمة وما نراه الآن سيكون له توابع مخيفة \\n \\n الخميس صلاة استسقاء والجمعه هالوين في عاصمة الإسلام 💔',\n",
       " '#هالوين_الرياض\\n \\n المفروض المباحث تسوي فخ وتعمل هالوين ثاني وتمسكهم لان هم نفسهم اصحاب هاشتاق اسقاط الولاية وبكذا نفتك من شرهم . https://t.co/hT7lHc8x1n',\n",
       " '#هالوين_الرياض\\n \\n شفتو دشارة البنات ومدى الانحلال اللي وصلوا له في غضون عام ونصف فقط\\n \\n لاحظوا وهذا و #اسقاط_الولاية لم يحدث بعد وربما قادم في الطريق!!!!\\n \\n ربي رحمتك\\n فلا تؤاخذنا بما فعل السفهاء منا',\n",
       " '#هالوين_الرياض\\n \\n يارب عجل بهلاك.حقين اسقاط الولايه \\n \\n ما كثرة المشاكل والفتن إلا منهم',\n",
       " '#هالوين_الرياض\\n :\\n اعرف ان نابحات اسقاط الولاية هنا يصفقون لهذا الفعل لكن عزيزتي اللبرالية تخسييين يصير اللي في بالك',\n",
       " '#هالوين_الرياض\\n الي يبغو التفتح و اسقاط الولاية و العيش بهذي الطريقة ، اهلا و سهلا على الدين',\n",
       " '#هالوين_الرياض\\n حسبي الله ونعم الوكيل. شوهو سمعه البنت السعوديه . وماعاد لنا وجهه نواجهه كل من يتشمت في البنات السعوديات . !! \\n هذي اخر اسقاط الولايه . وقياده المرٱه .! ناس فاهمه الحريه غلط في غلط . وهذا هدفهم خراب في خراب ..',\n",
       " '#هالوين_الرياض\\n ذولا الحقوقيات المفلسات والنسويات راعيات اسقاط الولاية \\n اذا جو يسوون نفسهم متحررين 😂😂\\n اهم شئ القرد المعلق بالمسرح https://t.co/T00c9aAznm',\n",
       " '#هالوين_الرياض\\n شراميط وقحاب اراد الله أن يفضحهم ع عيون الاشهاد وانا اجزم ع ذالك أن الموجودات بهذا المكان كلهم كانو يطالبون ب إسقاط الولاية والتحرر',\n",
       " '#هالوين_الرياض\\n شلة اسقاط الولايه \\n شلة التحرر \\n شلة زمن الصحوه \\n مجمع نسويات مليء بالقذاره والوصاخه',\n",
       " '#هالوين_الرياض\\n صدقوني اغلبهم من حقين اسقاط الولايه وين المحبوسه المشرده المغلوب على امرها؟!! شفت ناس كذابين بس مثلهم ماشفت فاله امها وتقول يلا نبي نسقط الولايه.! https://t.co/pr6sJvVMZR',\n",
       " '#هالوين_الرياض\\n هالوين الوسخات الصايعات .\\n اقذر واوسخ خلق الله .\\n الفسويات عايشين دور البطوله في هالتجمع\\n لا وبعد يطالبون ب إسقاط الولاية. https://t.co/GqqcTFntd6',\n",
       " '#هالوين_الرياض\\n هذه الحرية التي يطالب بها البعض وهذا مايطالب به بعض الحقوقيات \\n يريدون #اسقاط_الولاية من اجل ان تخرج الفتاة لمثل هذا التجمع والاختلاط.',\n",
       " '#هالوين_الرياض\\n هذولا طلعو اغلب حقين اسقاط الولايه🌝',\n",
       " '#هالوين_الرياض\\n هذولي هم اهل اسقاط الولايه',\n",
       " '#هالوين_الرياض\\n وإذا خلصت من السهره وهزت مكوتها جت ع التويتر تطالب ب إسقاط الولاية والحرية \\n اه ع زمن هئية الامر بالمعروف والنهي عن المنكر م كان شفنا هالاشكال تسرح وتمرح وتقاحب ع كيفها ف البارات \\n انا ابعرف اهلهم م يسالونهم وين رايحين وين جايين وش هالدياثه الي عندهم نعوذ بالله',\n",
       " '#ياسر_الفيصل .. والله انك رجل وكفووو .. دوووووووووووس على روووووس اطفال بتووووع اسقاط الولاية \\n \\n تفووووووو على هيييييك بنات',\n",
       " '#ياسر_الفيصل يمثلني ويمثل كل انسان شريف ذو كرامه واخلاق رجل نزيه ويدافع بقوة عن كرامة المسلمين وعاداتهم الطاهره وينبه عن الاخطار المحدقه من حولنا\\n ولايفهم ياسر الفيصل الا الشرفاء النبلاء\\n اما الديوثين وشلة #اسقاط_الولاية لاينظرون الا بعين واحده فقط وهي عين قلة الحياء التي يتمنونها',\n",
       " '#ياسر_الفيصل\\n \\n رغم اني ما أدانيه ..\\n بس يعجبني لما يدعس ع كلبات إسقاط الولايه والداشرات هههههههههههههههه\\n ههههههههههههههههه',\n",
       " '#ياسر_الفيصل\\n النسويات راعين اسقاط الولاية قاموا يصيحون \\n هههههههههههههههههههههههههههههههههههههههههههههههههههههههههههههههه\\n خرّب باريتهم اللحجي',\n",
       " '@1sweilem بدا بدا انا ضد اسقاط الولايه',\n",
       " '@6oshi عاهرات اسقاط الولاية تجمعو',\n",
       " '@707Basoom @6oshi الله ياخذكم انتي وسالفه هالذكور اللي ماعندكم غيرها ، هذا شي يخالف شرع الله وين عقلك انتي قسم باللله تفقعون الكبد كل شي مدخلين فيه سالفه ذكور وذكور يعني عاجبك صليب ومحتفله بشي اساسا مو موجود لا بدين ولا عقل ولا منطق بس فعلا حقات اسقاط الولايه بقر مهما تتكلم كنك تكلم جدار',\n",
       " '@a_albander عقبال حزب إسقاط الولاية اللي كل يوم بهشتاق مُغرض ويسيء لرجالنا',\n",
       " '@Aggb505 @no0on_u0o0u @AliAlHumaid الحكوكيات رافعين شعار اسقاط الولاية.. ما يُسمونهم جاريات كوهين.. زبالة القوم تراهم مجتمعين في كل مكان يدافعون فيه عن وقاحة المرأة وجرأتها وسفالتها -وكما قال صاحبنا الكاتب (وودّت الزانية النساء كلهم زواني)\\n \\n لا يكلّون ولا يمّلون حتى يفسدوا عقول المراهقات وصغيرات العقول. \\n حسبنا الله',\n",
       " '@alcadillac1 @s9m9i9 @RanaAldaknan ماراح ارد عليك بنفس الاسلوب لكن ربي فوقك وراح ياخذ حقي منك وحسبي الله ونعم الوكيل اما انا طول عمري راسي مرفوع فخر و محد عاملني معاملة سيئة ما يهينون الا المطالبات باسقاط الولاية وبرضو ينبحون يبون اسقاط الولاية رغم الاهانة مثل البزر الي يصيح وامه ساحبه عليه 😊',\n",
       " '@alcadillac1 @s9m9i9 @RanaAldaknan والله انتي المسكينة من عباد اسقاط الولاية ههههههههه انبحي من اليوم ليوم الدين ماراح تسقط لان ولي امري سندي والمساواة بين الرجل والمرأة مو عدل ظلم وما ارضى انظلم',\n",
       " '@AngelQShe_ عارفين انه مسوي جريمه وحيتحاسب عليها \\n طبعاً وبرضو عارفين انك من جماعة اسقاط الولايه واستغليتي الجريمه هذي ياذكيه هههه \\n الفسويات يفضحهم ذكائهم ياخي💋',\n",
       " '@arubya360 هذا دور المرأة في البيت مثل الرجل يشتغل ويكد ويصرف هذي في البيت لازم تكد وتشتغل عشان تحدث موازنة ..\\n \\n تبون اسقاط الولاية تخسون 🤧',\n",
       " '@asa289072 @an_sa100 @hussah311 @Ccoktaill اتركيها ذي ماعندها حياء ويمكن مهي سعودية وتحرض على اسقاط الولاية لاكن انشاءالله انها تبطي ماسقطت',\n",
       " '@askayan3 @Norhh434 هذي من كلاب اسقاط الولايه طقة لجين هذلول',\n",
       " '@Biiiiiiiiiii67 اغلب الي يبون اسقاط الولايه يبونها عشان الدشره وتروح وتجي بكيفها وتطلع بدون عبايه صح ولا ؟',\n",
       " '@br_alazmi37 لا تظلم بنات المسلمين. هذولي فئة اسقاط الولايه. ليبراليات ليلهم ونهارهم يطالبون باسقاط الولايه والانحلال دخيلات على السعوديه واهلها. حسبي الله عليهم. مايجي منهم الا الفساد. الله يخصهم بذنبهم ويكفينا شرهم 💔💔💔',\n",
       " '@calllzzzz @Jomanah114 @Eman04486644 @0nlysalman ههههههه حقات اسقاط الولاية انفضحو اثاريهم حقات حفلات وصليب وشياطين وهالوين ودعارة 😂😂😂 فضحكم الله يا..',\n",
       " '@cklak2 @0nlysalman هههههههههه ماعاد فيه حفلات دعارة بعد اليوم . مسكو المنظمين حقينكم وباقي المنظم حق اسقاط الولاية اللي يقودكم كنكم كلبات . فضحكم الله ياللي تشيلون الصليب ودعارة وهالوين . وتفصخ',\n",
       " '@e25a166a6a5d4c2 يريدون اسقاط الولايه ليعيثوا بالارض الفساد ،،اللهم استرنا فوق الارض وتحت الارض ويوم العرض ،،مثل هؤلاء يقال لهم ثكلتكم امهاتهم ...',\n",
       " '@engmoh1382 @RanaAldaknan @bip_ksa ما ابغى احلف بس متأكدة الفكرة اللي برأس أخ محمد إن الهدف من الموضوع إسقاط الولاية 😂\\n الله يقويك ويكون معاك رنا ويُرفع الظلم عن المحتجزة وعن كل البنات',\n",
       " '@freespirit00112 @sa3408 ههههههههههههههههههههههههههههههههههههههههههههههههههههههههههههههه اقول روحي جمعي المستعهرات اللي مثلك وطاقعوا للحلم العظيم حقكم وهو اسقاط الولاية هذا اقصى طموحاتكم في هالدنيا والله لو تنابحوا من اكسا* ماراح يجي هاليوم ، اقلبي وجهك انعطيتي اكبر من حجمك مابقي الاجاهله تتفلت',\n",
       " '@Fukpapi @Qatifx 😂😂😂😂😂 \\n باقي النوعيات ذي ماانقرضت \\n حقين #اسقاط_الولاية الحكوكين الخ ... \\n .\\n .\\n ياخي والله ماحد يمكم \\n والملك قالها : ( لا للانحطاط والتطرف ) 😊👋🏻',\n",
       " '@GirlPwr17 @hyam_502 أنا ذكرت بما امر الله \\n اما إسقاط الولايه فهذا الفساد بعينه \\n فلا يصح ان نسقط شريعه بسبب فئه فاسده تستخدمها بغير محلها والفئه الأخرى تستخدمها بما امر الله بإحسان فإسقاطها ظلم لهؤلاء لأنهم لم يظلموا وهذه هي الفئه الأكبر \\n اما الحجاب فهو واجب وانتم تطالبون باسقاطه وهذا فساد',\n",
       " '@Haiayt0 وفوق كذا يبون إسقاط الولايه عشان يصيرون صيد سهل للي ما يخاف الله ،،',\n",
       " '@HollyD7om @ITaghout المشكله يسوون كل ذي الاشياء الوصخه قبل اسقاط الولايه لو سقطت ايش بيصير ياترى؟.',\n",
       " '@iAnsx_ قحيب ضد الدين يرجال وكلهم من مخانيث اسقاط الولايه!! كذا مسوين مع الولايه كيف بدونها ؟',\n",
       " '@ii_ya7ya اتوقع ان كل الموجودات هم من دعاة اسقاط الولايه\\n عز الله بدون ماتسقط سوو كذا\\n اجل لو فعلا اسقطوها وش بيسوون',\n",
       " '@ii_ya7ya سبحان الله..\\n جميع من يدافع عن هالمنكر ويؤيده اضغطوا على حساباتهم تجدهم من صويحبات اسقاط الولايه..\\n والا الباقيات تجدهم يقاتلون ويستنكرون قبل الرجال..\\n رحم الله من رباكم ..',\n",
       " '@IIRII_4 @0nlysalman @Alhaidan_10 هههههههه قهركم ياسر الفيصل يا حقات اسقاط الولاية ههههههه اثاريكم حقات حفلات صليب وهالوين ودعارة مختلطه وتفصخ يا عيباه عهههههههههه😂😂😂',\n",
       " '@ircwx @Mzhareah سبايك اسقاط الولايه هدو اطيازكم شوي لاتصيحون خلاص',\n",
       " '@jex_mr @Zankkal @abufiras2009 الله يسامحك ويصلح حالي وحالك \\n اللي يحب الرسول صل الله عليه وسلم \\n مايحب داعش ولا للبراليين \\n الرسول امرنا بالأعتدال بأن لانتشدد مثل داعش ولا ننحل مثل اللبراليين \\n وقالها خادم الحرمين الشريفين حفظه الله ورعاه ردا على اسقاط الولايه \\n لامكان بيننا للمتشددين والأنحلاليين',\n",
       " '@khjjhjh1 @uiuj17 مشكلة لما يجونك بنات حقين اسقاط الولاية و أوه خلاص صرنا ف فيقاس وبارتي هالوين ومندمجين ومدري وش وتجي الشرطة والمرور وتدجهم زي الكلاب طيب استرو انفسكم ف أستراحة يالحوج يالفله #هاليون_الرياض',\n",
       " '@LiiFA_ الدين الإسلامي حررّ المرأة واعطاها حقوقها كامله من جميع النواحي واللي يمشون وراه النسويات وحملات إسقاط الولايه هذا مش تحرر كثر ماهو إدعاء للفتنه والفساد مشكلتنا نخالف تعاليم ديننا من ناحية إكرام المرأه وتقديرها الخلل الأول والأخير هذا ، مافيه مثل تكريم المرأه في الإسلام',\n",
       " '@lyhalana3 @muhamed701 @teef5454 @pojihygt ابعرف شي واحد قبل اموت\\n ليش تبغون اسقاط الولايه اهاليكم مضطهدينكم شذنب الولايه !\\n تحت مبدأ حديث الرسول كلكم راع وكلكم مسؤول عن رعيته\\n يعني تبغون تسافرون بدون شور اهلكم\\n واذا سافرتن لحالكن وشبتسون',\n",
       " '@MF410M @nwaf201000 إسقاط الولاية اجل ياملعون الجد لعن ابو من جابك ياسلوقي. https://t.co/OJjyyVIGOH',\n",
       " '@Mk1eH3b0PC7Yw25 @aziiizfahad اتفق معاك ومعروف للمجتمع كله حقين اسقاط الولاية ممحونات ..',\n",
       " '@myowNotes @ilnl0 @ttswek @maryam_al_harth @Ali35806684 @MmMn60 روحي الحقي الهربانات شوفي عيشتهن كيف \\n تعري وتبرج وتعرض جسدها....يعني هذي اهدافكم من وراء إسقاط الولاية....',\n",
       " '@NaMohd_ سعوديات نطالب بعدم اسقاط الولاية https://t.co/BsxXnEakDz',\n",
       " '@neverstop256 المعنفات ؟؟؟؟ قصدك المسلسلات الي يسوونها اصحاب اسقاط الولايه والتمثيل الي فيها اممممم مشكلتكم ناس غبيه',\n",
       " '@nhtq11 حقوقية = قليلة ادب\\n نسوية = ناقصة\\n اسقاط الولاية = صايعة',\n",
       " '@Nkhalid12 @x259xxx والله من شفتك من قوم اسقاط الولايه غسلت يدي',\n",
       " '@noor18837500 اصلا لاحظيهم اغلبهم علمانيه يطالبون ب تحرر المرأة و اسقاط الولاية \\n يالله انك لا تبلانا',\n",
       " '@puresoul299 خفي علينا ي الاسبانيه ..قلبك مع بنات السعوديه ومسويه نفسك بالسعوديه ؟؟؟ كيف تجي ذي؟؟؟ مدري من لاعب عليكم وقالكم اننا معنفات والا مسجونات؟؟؟ ترا عايشين حياتنا بالطول والعرض..واخرتها اللي محتفلات بالهالوين😂والا كلاب اسقاط الولايه تنبح الله يسقطها على روسهم ان شاءالله م راح نسقطها',\n",
       " '@Rehab61156814 😂😂😂😂😂😂😂اجل انتي من قطيع إسقاط الولاية يااااااعمري انبحو لين يوم القيامه مافيه إسقاط اوكي. ..كلكم نفس الاسلوب تت يالله',\n",
       " '@ROOT_070 لانه تسقط الولاية عنهم بسن ١٨ عاما ونشاهدهم في الشوراع والبارات والمرقاص ودور الدعارة مشردين وهذا مايطلبه النسويات من اسقاط الولاية فلنحذر',\n",
       " '@SaudiNews50 هؤلاء عينات اسقاط الولاية ،، هذي افكارهم وهذي خططهم لابوهم لابو من جمعهم 😡',\n",
       " '@Secrtie اكتبي زين اول بعدين سوي لي فيها انجليزي و ترى كلامك ماله دخل باللي كتبته لكن دامك فسويه ومن زقان اسقاط الولايه ما استغرب غبائك تفو عليكم',\n",
       " '@selen13751990 @RiO_0_0_O @alwasmy930073 @1_a2s ايوا شفتك تتكلمين عن هالوين الرياض !!! ولا تسكتين عن القح** وتسكتين عن كل الانحلال وتجين تنابحين فقط ضد بعض الجرائم اما الجرائم الي بحق الدين وبحق المجتمع ما اشوفكم ترفضونها يا قذارة اسقاط الولاية !!! ٤٠٠ تغريدة عن هالاختطاف القذر لكن ٠ تغريدة عن الهالوين والكارثة الي حصلت 😜😜😜',\n",
       " '@selen13751990 @RiO_0_0_O @alwasmy930073 @1_a2s واخيرا نقول لعن الله الخاطف ولعن كل شيطان اخرس يسكت عن بعض الجرائم الي يحبها ويتكلم على بعض الجرائم الي ينكرها والواجب هو انكار كل منكر لكن كلاب اسقاط الولاية و من يسمونهم بجواري كوهين الملحد ماهي غريبة عليهم هالتصرفات',\n",
       " '@strong_girl_ree ويقولون اسقاط الولاية ، اخرتها رقص واستراحات',\n",
       " '@u8JxOB7Ch30olc8 @soso500500 @sabqorg هي تقصد الحكوكيات الي يطالبون اسقاط الولاية ماتقصد البنتين كلامها واضح اخوي',\n",
       " '@xx_188_ @sjoooi1 @k_makyya @3tooob @0nlysalman هههههه اذكرك من حقات اسقاط الولاية ههههه وثاريك من الحاضرين في حفل الدعارة الهالوين وصليب وحركات وشياطين . ههههههههه يافضحكم فضحاه مابنيتوه في ٤٠٠ هاشتاق فضحكم فيه ياسر الفيصل حفل اجنبيات ومتسعودات 😂😂',\n",
       " 'RT @_AilOul: نسقط ولكن ما تسقط الولايه انتهى..... #سعوديات_نطلب_اسقاط_الولايه841',\n",
       " 'RT @_cxkl: ذولا الحقوقيات المفلسات والنسويات راعيات اسقاط الولاية \\n اذا جو يسوون نفسهم متحررين 😂😂\\n \\n صور + فيديو من الحفله .. https://t.co/BQyDmAlVZq \\n \\n تقرير رجال الشرطه .. https://t.co/SI1yiDJgsc\\n .\\n .\\n #هالوين_الرُياضِ\\n #ياسًر_الفيصلِ\\n \\n ^^ https://t.co/xDWSNW6yxC',\n",
       " 'RT @_riiiiz: أزعجونا حقين إسقاط الولايه يع',\n",
       " 'RT @39_moon: #ياسر_الفيصل\\n على اني اكره هالادمي لألفاظه وتغريداته السي\\n \\n بس اذ الكلام صحيح الله يجزاه خير اللي وقف هالمسخره الله ياخذ من تسعى وراء اسقاط الولايه والانفتاح اللي مايجيب الا غضب ربي الله يسترنا بستره صراحه سوى خير يمحي سيئاته القديمه 😂',\n",
       " 'RT @3weshan_17: حين ينبحون بـ اسقاط الولايه ولم تسقط يسقطون انفسهم. #هالوين_الرياض https://t.co/2insTH7qxC',\n",
       " 'RT @5vil_: نحن في زمن قال عنه #النبيﷺ\\n القابض على دينه كالقابض ع الجمر بالأخص\\n المرأة\\n وخصوصاا في هذا الزمن المرأة بين شريعه الاغبياء وشريعه الانبياء\\n اسمعوا ماقاله 👇👌\\n وبئساا لكل امرأة تطالب بأسقاط الولايه \\n #سعوديات_نطلب_اسقاط_الولايه600 https://t.co/SCtBJ5JbBP',\n",
       " 'RT @al_lehyani2: #وش_بتسوي_لو_صرت_الملك\\n امنع العباءه الي ماتعرف هي عباءه ولا ستارة ولا العباءه ام حزام.\\n ارجع الهيئة.\\n امنع البنات من حضور المباريات.\\n عرب إسقاط الولاية اوظفهم في مغسلة الاموات .\\n انحر البطاله .\\n ما اخلي اجنبي في وظيفه كل الوظائف لعيالنا .\\n والقائمة تطول بس خليني امسك الحكم وابشروا .',\n",
       " 'RT @alnjla_00: ما اتابع حسابات مسيئه للسعودية ولا قرف حسابات اسقاط الولايه ولا المنحرفين أخلاقياً ونصيحة لا حد يتابعني ولا أتابع حد غير الموجودين من اول ومزاجي ممكن يتغير باي لحظه واحظر اذا مالي خلق للنقاش✋',\n",
       " 'RT @baharat86787297: حصري اليوم || ♣\\n \\n فيديو حفلة ياسر اباحية +18\\n \\n ذولا الحقوقيات المفلسات والنسويات راعيات اسقاط الولاية \\n \\n .\\n .\\n الفديو والصور من هنا .. https://t.co/MeiMEoTmMd \\n \\n شاهد من هنا .. https://t.co/MeiMEoTmMd \\n \\n #هالوين_الرياضَِ ِ \\n \\n ^^ https://t.co/tfyCHdv6bA',\n",
       " 'RT @ftmvr: @_3aib_ انا ضد اسقاط الولاية لأن المرأة ناقصة عقل و عواطفها تتحكم فيها لازم رجل يحكمها',\n",
       " 'RT @HOTDEDI: ارفض اسقاط الولايه الله يخلي لي ابوي واخواني عزوتي وكل الي تطالب باسقاط الولايه متجنسه ليست بنت اصل وفصل https://t.co/3FM6KHLqJ0',\n",
       " 'RT @KSA24: في الجهة المقابلة\\n هاشتاقات لمحاربة المجتمع و محافظته على دينه ومدعوم من الغرب\\n #اسقاط_الولايه\\n #انا_وليه_امري\\n #قياده_المراه\\n وكل مايدور بهالفلك',\n",
       " 'RT @mazins320: #هالوين_الرياض\\n \\n شفتو دشارة البنات ومدى الانحلال اللي وصلوا له في غضون عام ونصف فقط\\n \\n لاحظوا وهذا و #اسقاط_الولاية لم يحدث بعد وربما قادم في الطريق!!!!\\n \\n ربي رحمتك\\n فلا تؤاخذنا بما فعل السفهاء منا',\n",
       " 'RT @monnaiia: هكذا قال رسول الله عليه الصلاة والسلام (ما تركت بعدي فتنةً أضر على الرجال من النساء) \\n تمكين المرأه \\n حرية المرأه\\n اسقاط الولايه و النتيجه #هالوين_الرياض \\n الرجل حريته خرابه على نفسه\\n المرأه حريتها خراب للأمه',\n",
       " 'RT @nhtq11: #هالوين_الرياض\\n ذولا الحقوقيات المفلسات والنسويات راعيات اسقاط الولاية \\n اذا جو يسوون نفسهم متحررين 😂😂\\n اهم شئ القرد المعلق بالمسرح https://t.co/T00c9aAznm',\n",
       " 'RT @Nona66807820: @e25a166a6a5d4c2 يريدون اسقاط الولايه ليعيثوا بالارض الفساد ،،اللهم استرنا فوق الارض وتحت الارض ويوم العرض ،،مثل هؤلاء يقال لهم ثكلتكم امهاتهم ...',\n",
       " 'RT @nz39357: من تطالب ب إسقاط الولاية ... هي من فشلت في حياتها وخضعت لضعفها وعدم ثقتها بنفسها فأصبحت تبث سمها على مجتمعنا ... عاقبها المولى #سعوديات_نفخر_بولايه_اهلنا_لنا',\n",
       " 'RT @o_obeidk: #اختطاف_طفلتين\\n قذر ومنحط حتى لو كان يمزح أو من باب الطقطقه طقوا راسه بمطرقه!!\\n لكن أستغلال الحدث للسب والشتم\\n بالرجال فيوجد فرق بين الرجل والذكر \\n أستغلال شله #اسقاط_الولاية بجعل المجتمع ذكوري كهذا الساقط لهو ورقه أفلاس من تلگ الفئه التي خبثها لايخفى على عاقل!\\n \\n بأذن الله سيُحاسب👌',\n",
       " 'RT @qeeer12: #ياسر_الفيصل يمثلني ويمثل كل انسان شريف ذو كرامه واخلاق رجل نزيه ويدافع بقوة عن كرامة المسلمين وعاداتهم الطاهره وينبه عن الاخطار المحدقه من حولنا\\n ولايفهم ياسر الفيصل الا الشرفاء النبلاء\\n اما الديوثين وشلة #اسقاط_الولاية لاينظرون الا بعين واحده فقط وهي عين قلة الحياء التي يتمنونها',\n",
       " 'RT @qeeql: #هالوين_الرياض\\n \\n الحفل حضر فيه اكثر من 3000 بنت أين اولياء الأمور !!\\n \\n لو تم اسقاط الولاية كم عدد الحضور وقتها ؟؟\\n \\n انحطاط ديني وأخلاقي غير مسبوق في عام 2018 دون انظمة وعقوبات صارمة وما نراه الآن سيكون له توابع مخيفة \\n \\n الخميس صلاة استسقاء والجمعه هالوين في عاصمة الإسلام 💔',\n",
       " 'RT @R_0_R_4: أنا بنت وضد إسقاط الولاية والله يديم ولاية أبوي وخواني https://t.co/uXWsSsb70q',\n",
       " 'RT @R_4AF: @28Fajr مع انه مو موجود في التويتر ويطالب بالسناب بمعاقبة اللي يتحرش بالطفلتين الا ان كلبات إسقاط الولاية ماخلوه في حالة كل ما سبيتوا ياسر يكبر في عيني ياصغيرات العقول ياحشرات',\n",
       " 'RT @raghad_b7: حقات اسقاط الولايه وكل من يدافع عن هالاشكال حلات من مسكم كلكم وجمعكم بغرفه واحرق فيكم وخلينا الدنيا ترتاح منكم يا قذرين ، ما يبردني فيكم الا ياسر الفيصل.\\n #هالوين_الرياض',\n",
       " 'RT @Shhmo517: @707Basoom @6oshi الله ياخذكم انتي وسالفه هالذكور اللي ماعندكم غيرها ، هذا شي يخالف شرع الله وين عقلك انتي قسم باللله تفقعون الكبد كل شي مدخلين فيه سالفه ذكور وذكور يعني عاجبك صليب ومحتفله بشي اساسا مو موجود لا بدين ولا عقل ولا منطق بس فعلا حقات اسقاط الولايه بقر مهما تتكلم كنك تكلم جدار',\n",
       " 'RT @ssaud03: @ROOT_070 لانه تسقط الولاية عنهم بسن ١٨ عاما ونشاهدهم في الشوراع والبارات والمرقاص ودور الدعارة مشردين وهذا مايطلبه النسويات من اسقاط الولاية فلنحذر',\n",
       " 'RT @toot98t: #سعوديات_نطلب_اسقاط_الولايه732\\n #سعوديات_نفخر_بولايه_اهلنا_لنا\\n إعلاميه تكشف إن قرار قيادة المرأه هو قرار من الغرب للوصول لإسقاط الولايه وهدم السعوديه\\n \\n عرفتوا لماذا العلماء والشعب رافض\\n قيادة المرأه لانه باب فساد ويقف خلفه الغرب وفاسدات\\n \\n 🛑كلام خطير نطالب إلغاء قيادتنا للسياره https://t.co/WrdkFiYFti',\n",
       " 'RT @U0ii2: #سعوديات_نرفض_اسقاط_الولايه https://t.co/dTasvZ75dj',\n",
       " 'RT @Y1sPVgqQ8jHr89w: #هالوين_الرياض\\n شراميط وقحاب اراد الله أن يفضحهم ع عيون الاشهاد وانا اجزم ع ذالك أن الموجودات بهذا المكان كلهم كانو يطالبون ب إسقاط الولاية والتحرر',\n",
       " 'RT @Y1sPVgqQ8jHr89w: #هالوين_الرياض\\n وإذا خلصت من السهره وهزت مكوتها جت ع التويتر تطالب ب إسقاط الولاية والحرية \\n اه ع زمن هئية الامر بالمعروف والنهي عن المنكر م كان شفنا هالاشكال تسرح وتمرح وتقاحب ع كيفها ف البارات \\n انا ابعرف اهلهم م يسالونهم وين رايحين وين جايين وش هالدياثه الي عندهم نعوذ بالله',\n",
       " 'RT @Z302x: 🙎🏻\\u200d♀️:\\n أصلًا المعارضات على إسقاط الولاية\\n (عبدات ذكور). https://t.co/b9S34UlAV0',\n",
       " 'احب حياتي وانا ضد اسقاط الولايه والمرأه ماتقدر تستغني عن الرجل https://t.co/LwO1CeCHCP',\n",
       " 'ارفض اسقاط الولايه الله يخلي لي ابوي واخواني عزوتي وكل الي تطالب باسقاط الولايه متجنسه ليست بنت اصل وفصل https://t.co/3FM6KHLqJ0',\n",
       " 'اشكالهم تفشل وتحزن بنفس الوقت، واجزم ان هالأشكال هم اللي يطالبون ويناضلون من اجل إسقاط الولايه ويسعون من اجل مسمى الحريه الدنيئ عندهم، عمر الحريه ماكانت بهالشكل والتصرفات الرجعيه ولابتكون .. وغالباً هالاشكال يكونون مكبوتين ومحرومين نشوفهم ينفلتون على ادنى شي #هالوين_الرياض',\n",
       " 'اشوف محد عاجبه هالحفل الا حقات إسقاط الولايه😂من الحين 🌚انتضروا ليما تسقط الولايه طيب 🤪 #هالوين_الرياض',\n",
       " 'الحسابات القذرة من إسقاط الولاية اللي تسلط كل شيء للرجل السعودي المحافظ على شرفة ودينة وبلدة ببعض تصرفات همجية من ذكور اشباهكم ايها النسويات تبًا لكم وعلى همجيتكم يا اصغر عقول الارض.\\n \\n اللهم احفظ رجال ونساء هذا الوطن المتمسكين بالدين والشرف، ولنرقص علَى بُكَائهم. #اختطاف_طفلتين',\n",
       " 'الفسويات وبنات اسقاط الولايه #هالوين_الرياض',\n",
       " 'الله جعل القوامه للرجل لان الله ادرى فينا ويجون الكلاب يبغون اسقاط الولايه #ولي_امري_ادرى_بأمري',\n",
       " 'اللي ضد اسقاط الولايه والسواقه\\n اللي ضد مصطلح \"الحريه الشخصيه\"\\n اللي يعتبرو البنت عار\\n اللي يعنفو بناتهم\\n اللي يغصبو بناتهم على الزواج او يزوجوهم قاصرات\\n اللي يحسبو نفسهم رب عيالهم\\n اللي يفرقو بين عيالهم بالحب والتعامل\\n اللي لسا تفكيرهم قديم\\n \\n ذول نفسي اجمعهم كلهم بحفره واولع النار فيها',\n",
       " 'المرأة ناقصة عقل ودين انا ضد اسقاط الولايه وبحط صورة العرض العريفي ولا محمد بن نايف https://t.co/kpNZpxBk5N',\n",
       " 'انا ضد قرار سواقة المرأة ودخول الملاعب وضد إسقاط الولايه انا ضد أي قرار يريدون فيه تحرير المرأه \\n إحنا مستهدفييين يابنات مستهدفين 🤣\\n https://t.co/T3ApBBi5Gr',\n",
       " 'انا ماغبني وقهرني الا البنات حقين اسقاط الولايه \\n للاسف صارو يكفرون بالله عيانا بيانا 💔💔\\n #ياسر_الفيصل',\n",
       " 'انا ملكه بولايه ابي واخي وضد اسقاط الولايه https://t.co/KL8o9KcHg0',\n",
       " 'أتوقع حزب اسقاط الولايه هو نفسهم الي مربينهم الشغالات. \\n #لاتخلين_الشغاله_تربي_عيالك',\n",
       " 'بس فالحين فيه يهايطون بتويتر هالحقوقيات وعن الحُـرية والولاية ولا يوم جتكم المباحث هجيتوا! وراه ماواجهتهم وطالبتوا بـ اسقاط الولاية وطالبتوا بحقوقكم وانها حرية شخصية؟ ولا بس تنابحون هنا واذا نصحتكم وحدة قلتوا لها يامستعبده؟! 🙂 #ياسر_الفيصل',\n",
       " 'بنات إسقاط الولاية يانويقصات الله ياخذكم وحده ورا الثانية قولوا آمين',\n",
       " 'تراني ضد اسقاط الولايه https://t.co/b8lsHBFFkG',\n",
       " 'حتى اسقاط الولايه اغلب اللي طالبوا فيها قالوا لي نبغى نطلع نسافر مع البوي فريند واللي قالت ابغى اتزوج حبيبتي!!!!! واصير مثليه محد له دخل فيني ايش فيه ذا حدود تفكيركم جن** ذي اسقاط الولايه بالنسبه لكم؟ اسقاط الولايه اذا بتثبتين انك قد مسؤولية انك تحافظين على نفسك وتنجحين مو تتم**',\n",
       " 'حقات اسقاط الولايه وكل من يدافع عن هالاشكال حلات من مسكم كلكم وجمعكم بغرفه واحرق فيكم وخلينا الدنيا ترتاح منكم يا قذرين ، ما يبردني فيكم الا ياسر الفيصل.\\n #هالوين_الرياض',\n",
       " 'ذولا الحقوقيات المفلسات والنسويات راعيات اسقاط الولاية \\n اذا جو يسوون نفسهم متحررين 😂😂\\n \\n صور + فيديو من الحفله .. https://t.co/3jQKEwLX8k \\n \\n تقرير رجال الشرطه .. https://t.co/WL2y1mzrAr\\n .\\n .\\n #هالوين_الرُياضِ\\n #ياسًر_الفيصلِ\\n \\n ^^ https://t.co/3YNKzlHwG6',\n",
       " 'صدقوني ابوي واخوي ادرى بمصلحتي \\n #سعوديات_ضد_اسقاط_الولايه https://t.co/avH8FWeQmb',\n",
       " 'مانبي اسقاط الولاية نفتخر بذكورنا عزوتنا💚🇸🇦 https://t.co/7jSImsMl6x',\n",
       " 'مين يسكت النسويات وحقين اسقاط الولاية الحين https://t.co/oTCgSwTQbs',\n",
       " 'هذي العينات القذره الي يطالبون با إسقاط الولاية #هالوين_الرياض',\n",
       " 'ويبون اسقاط الولايه اقسم بالله اذا اسقطو الولايه هذا ترا ولا شيء ابد الامر طبيعي ترا لسى ما شافو شيء #هالوين_الرياض',\n",
       " 'يلا خلصنا من اسقاط الولايه أشتغلنا في النقاب https://t.co/m5Zb0AXsIz',\n",
       " '#ابها_ترفض_قياده_المراه وهذا قليل من القادم نرفض اليوم والغد يتم غصبنا بالامر والقوة علي سياقة المراه .',\n",
       " '#القصيم: 30 ألف م2 لأول مدرسة نسائية للقيادة \\n #عكاظ #قيادة_المرأة\\n https://t.co/LT0hgxqnJn',\n",
       " '#سعوديات_نطلب_اسقاط_الولايه800\\n الولاية راح تسقط ونشوف كل المعارضين مؤيدين لها زي ماشفناهم في قيادة المرأة للسيارة !\\n المرأة مو جاهله ولامجنونه ولاطفله عشان تنحرم من حقوقها وتعليمها وممارسة حياتها بسبب ولي امر متسلط !! https://t.co/Y4gJA7eaPQ',\n",
       " '#سعوديات_نطلب_اسقاط_الولايه800\\n يتباهى الكثير من ذكور الوطن بكل مكان انه لم يرى امرأة تقود ويتباشرون بهذا الأمر فرحآ بينهم .. والاجابه بكل بساطه أنه كيف ستقود نساء تحت وصاية أمثال هؤلا ..\\n \\n كل خطوة في تمكين المرأة تسبق إسقاط الولاية عنها هي خطوة فاشلة ومجرد عبث\\n #قيادة_المرأة',\n",
       " '#صباح_الخير \\n تصحى من نومك عشان مشوار عشر دقايق بس !! 😩\\n قرار قيادة المرأة تأخر كثييييير',\n",
       " '#صحيفة_عين_الحقيقة_الاخبارية\\n بدأ العمل بتجهيز مدرسة تعليم قيادة المرأة للسيارة بجامعة حائل للبنات - https://t.co/lUBSqBeBFq https://t.co/KuqTIwCfci',\n",
       " '#صحيفة_عين_الحقيقة_الاخبارية\\n جامعة القصيم: 6 أشهر لإنشاء وتشغيل مدرسة قيادة المرأة - https://t.co/xronNxEtAm https://t.co/Sj0hNa5TFP',\n",
       " '#قيادة_المرأة \\n \\n شعور جممميلللل 😍♥️♥️♥️♥️ https://t.co/FVrGehMDFr',\n",
       " '@__xj22 @dooodo_o @8Eu2I3meuS1TC5r @AjelNews24 خلط الأوراق كمان ما يغير الموضوع\\n انا مع قيادة المرأة منذ زمن فهو خير لها من سائق أجنبي\\n \\n وعموما خذي لك فرة في الصباح على البوليفار او جرير حول الامام وشوفي بنات الناس المولعات شرواك طبعا 😂',\n",
       " '@_95n_ هل هذا القرار صحيح !\\n اعتقد انه تزامن مع قرار قيادة المرأة \\n حيث بدأت من الجامعة فبالتأكيد الجامعة ستخرج أكاديميات قياديات طبيبات باحثات عالمات نسأل الله السلامة والتوفيق للجميع بناتنا واخواتنا وامهاتنا العزيزات ❤️',\n",
       " '@_lulu11_ اليوم المغرب دخلت شارع ضيق ووقف لي واحد روحي يمين وروحي يسار ولما عديت قال تراي مع قيادة المرأة 😁',\n",
       " '@17Amfahad رفضوا قيادة المرأة للسيارة\\n بعد القرار هن أول من يقود بكل فخر 😉\\n الآن يرفضون الحرية 🤔\\n التعيسات 🐄\\n يبجلون الذكور فقط لأنهم ذكر',\n",
       " '@1hskq لاتنسوا أنكم لم تنالوا حقكم في قيادة المرأة إلا بعد سجون، ضرب، تشهير، تقديم لجين لمحكمة الإرهاب....إلخ. يعني حق بسيط قالوا إرهابيات وإلى يومكم في السجن\\n \\n وأي واحد يقول حقوق المرأة في الإسلام قولوا له: تناول التبن\\n المطلوب حقوق = حقوق الرجل\\n \\n الحل السر',\n",
       " '@2222_now نطالب في المسوه بين الرجل والمرأه مو الرجل يتحكم في المرأة ع كيفه من حق المرأة تعيش بحريتها وكرمتها والمرأة اللي تخاف ربه مايضره شي ولاكن الأمل با ألله ثم ولي العهد محمد ابن سلمان أنه تسقط الأولوية مثل ما سقط قنون قيادة المرأة للسيارة بسعودية',\n",
       " 'والله هذا كله ماله اي علاقه بالفساد وين الفساد من قيادة المرأه او النوادي شوية عاهات تسعي لتشويه البلد انت منهم وهذي معارضه ومغالطه لقرارات الدوله',\n",
       " '@Abo__Saood1 قيادة المرأة ليس انحلال.\\n \\n ولم يقره لأجل الغرب.\\n \\n لكن المجون والانحلال والفساد هو الذي في عقلكم يالاخونجيه ان كان فيكم عقل.\\n \\n تفكيركم الفاسد راح ضحيته نفوس وارواح لا تعد ولا تحصى.\\n \\n الله ينتقم منكم شر انتقام.',\n",
       " '@ainar4x قيادة المرأة ✅ \\n إسقاط الولايه ⏳',\n",
       " '@AjelNews24 الحمدلله لو لا سواقة المراه لماتو نص السعوديين فعلا قرار قيادة المراه كان له حكمه لنقاذ الاف البشر شكرا اعلامنا البناء',\n",
       " '@AjelNews24 الله يجزاها كل خير هذي من فؤائد قيادة المرآه وهذي خير من يمثل بنات الاجاويد',\n",
       " '@AjelNews24 انا مره طلعت مع بنتي في باص المدرسه والله بدون اي مبالغه سائق متهور وسرعته عاااليه ولا يهتم بجلوسهم ع المقاعد /// مع قرار قيادة المراه ولو انه توه تفعل اتمننننى مستقبلا اشوف الي يسوقون الباصات نساء لانهم اكثر حرص ع الاطفال واكثر شعور بالمسؤليه',\n",
       " '@AjelNews24 قرار قيادة المرأه مرّ برداً و سلاماً،\\n وكثير ماتفاعلوا معه .\\n فبلاش تستعجلون في حكمكم على قرار الجامعه وتقذفون الناس بأعراضهم.',\n",
       " '@AjelNews24 قرار يخدم ويعزز لقرار قيادة المرأة للسيارة ؛ ويضع ولي الأمر تحت ضغط إضافي وبالتالي الخضوع لمطلب قيادة المرأة لمن كان (محافظاً) .',\n",
       " '@AjelNews24 هذا من فوائد قيادة المرأه',\n",
       " '@AjelNews24 والله مع قيادة المرأة واهمية سواقتها بس خلاص كل يوم فلم نازل 😩',\n",
       " '@Almajlliss الرديكاليين يسحبون الناس للجهل بشتى الطرق .. \\n حرموا قياده المراه بعدها صارت عادي \\n حرموا دخول النساء الجامعات بعدها صارت عادي \\n حرموا عمل المرأه بعدها صارت عادي \\n حرموا التصوير بعدها صارت عادي \\n حرموا التلفونات بعدها صارت عادي \\n حرموا الرسيفرات بعد',\n",
       " '@Bader_Saij @Prof_Subaie عندما تم إقرار قياده المرأة للسياره بأمر ملكي\\n \\n نص الامر الملكي بأن الموافقه على السماح للمرأه بقياده السياره جاء بعد موافقه اغلبيه أعضاء هيئه كبار العلماء \\n \\n وفِي الاخر من وجهه نظري انه تركب المرأة سيارتها أفضل واطهر من انها تركب م',\n",
       " '@Ezhalhasa خدمه رائعه 👍🏻 شكرا #قيادة_المرأة_السيارة https://t.co/qZ1Xa3NjGp',\n",
       " '@FakeZura @24Dh @iQnasSudeer @Eyaaaad وقفتوا ضدنا حتى فأبسط شي اللي هو قيادة المرأة وسقنا غصب وبتسقط الولايه قريب صدقني\\n اللي تدور الفساد بتلقاه حتى فغرفتها فـ لحد يستشرف علينا.انتم تفكيركم كله جنس فجنس عشان كذا تحسبون اذا سقطت الولايه بتفسد البنت\\n هذا يعني',\n",
       " '@fbfozan @AjelNews24 بالتزامن مع قيادة المرأة\\n اشوف القرار جيد ومدروس فوائدة اكثر من اضراره',\n",
       " '@gh_mm1 اي قيادة المراة والغاء الهيئة باقي الولاية مجرد وقت كما قال محمد بن سلمان💪💪 هذا الكلام',\n",
       " '@Ghadaelshatiti انا مع قياده المرأه للحافلات وتخصيص مواصلات خاصه بالسيدات',\n",
       " '@joojooo574 @mirnaOh يقولون أكثر من 5 آلاف موقف للطالبات، ومدرسة قيادة خلال 6 أشهر من رمضان، يعني بعد صدور قرار #قيادة_المرأة_السيارة بأكثر من سنة 😒 وبعد دخوله حيز التنفيذ بحوالي 5 أشهر &lt; هذا بداية (تعليم) القيادة ترى 😒\\n #تسلط_جامعه_القصيم \\n https://t.',\n",
       " '@joory2m15678 ان شاء الله تتحقق مع قيادة المرأه 😂💔',\n",
       " '@liirel احد فوائد قيادة المرأه خلها تسوق😂',\n",
       " '@lllollloiii 😍😍 انا مع قيادة المراة',\n",
       " '@MROOOJ_333 @Y_Alamri_Y قوانين الولاية سلبت من نساء كثير حقوقهن، وشيء يفشلني انه الدولة اللي انتمي لها عندها هالقوانين. مثلما كنت اتفشل من منع قيادة المراة. لما يكون كل العالم قدام وانت لسى ورا صعب انك تفخر باللي قاعد يصير.',\n",
       " '@mutt3b_otb قيادة المرأة غيرت وستغير مفاهم كثيرة مغلوطة في مجتمعنا.\\n وأول التغييرات الفورد وهو فورد صار مظلوم ومغلوط عليه 😅',\n",
       " ...]"
      ]
     },
     "execution_count": 33,
     "metadata": {},
     "output_type": "execute_result"
    }
   ],
   "source": [
    "sentences"
   ]
  },
  {
   "cell_type": "code",
   "execution_count": 34,
   "metadata": {
    "colab": {
     "base_uri": "https://localhost:8080/",
     "height": 54
    },
    "colab_type": "code",
    "id": "YjHQTPniCdmO",
    "outputId": "8921b977-399c-4c60-cd10-3d2ed50c3167"
   },
   "outputs": [
    {
     "data": {
      "text/plain": [
       "4252"
      ]
     },
     "execution_count": 34,
     "metadata": {},
     "output_type": "execute_result"
    }
   ],
   "source": [
    "len(sentences)"
   ]
  },
  {
   "cell_type": "code",
   "execution_count": 35,
   "metadata": {},
   "outputs": [],
   "source": [
    "sentences_as_one_string = \" \".join(sentences)"
   ]
  },
  {
   "cell_type": "code",
   "execution_count": 46,
   "metadata": {
    "colab": {
     "base_uri": "https://localhost:8080/",
     "height": 626
    },
    "colab_type": "code",
    "id": "2GVjDXBFCK7_",
    "outputId": "5c866692-0432-4ed1-d22c-f48fff53e231",
    "scrolled": true
   },
   "outputs": [
    {
     "name": "stdout",
     "output_type": "stream",
     "text": [
      "Requirement already satisfied: ar_wordcloud in i:\\anaconda3\\lib\\site-packages (0.0.4)\n",
      "Requirement already satisfied: wordcloud>=1.7.0 in i:\\anaconda3\\lib\\site-packages (from ar_wordcloud) (1.7.0)\n",
      "Requirement already satisfied: arabic_reshaper>=2.0.14 in i:\\anaconda3\\lib\\site-packages (from ar_wordcloud) (2.1.0)\n",
      "Requirement already satisfied: requests in i:\\anaconda3\\lib\\site-packages (from ar_wordcloud) (2.22.0)\n",
      "Requirement already satisfied: python-bidi>=0.4.2 in i:\\anaconda3\\lib\\site-packages (from ar_wordcloud) (0.4.2)\n",
      "Requirement already satisfied: matplotlib in i:\\anaconda3\\lib\\site-packages (from wordcloud>=1.7.0->ar_wordcloud) (3.1.3)\n",
      "Requirement already satisfied: numpy>=1.6.1 in i:\\anaconda3\\lib\\site-packages (from wordcloud>=1.7.0->ar_wordcloud) (1.18.1)\n",
      "Requirement already satisfied: pillow in i:\\anaconda3\\lib\\site-packages (from wordcloud>=1.7.0->ar_wordcloud) (7.0.0)\n",
      "Requirement already satisfied: future in i:\\anaconda3\\lib\\site-packages (from arabic_reshaper>=2.0.14->ar_wordcloud) (0.18.2)\n",
      "Requirement already satisfied: setuptools in i:\\anaconda3\\lib\\site-packages (from arabic_reshaper>=2.0.14->ar_wordcloud) (45.2.0.post20200210)\n",
      "Requirement already satisfied: certifi>=2017.4.17 in i:\\anaconda3\\lib\\site-packages (from requests->ar_wordcloud) (2019.11.28)\n",
      "Requirement already satisfied: chardet<3.1.0,>=3.0.2 in i:\\anaconda3\\lib\\site-packages (from requests->ar_wordcloud) (3.0.4)\n",
      "Requirement already satisfied: idna<2.9,>=2.5 in i:\\anaconda3\\lib\\site-packages (from requests->ar_wordcloud) (2.8)\n",
      "Requirement already satisfied: urllib3!=1.25.0,!=1.25.1,<1.26,>=1.21.1 in i:\\anaconda3\\lib\\site-packages (from requests->ar_wordcloud) (1.25.8)\n",
      "Requirement already satisfied: six in i:\\anaconda3\\lib\\site-packages (from python-bidi>=0.4.2->ar_wordcloud) (1.14.0)\n",
      "Requirement already satisfied: cycler>=0.10 in i:\\anaconda3\\lib\\site-packages (from matplotlib->wordcloud>=1.7.0->ar_wordcloud) (0.10.0)\n",
      "Requirement already satisfied: python-dateutil>=2.1 in i:\\anaconda3\\lib\\site-packages (from matplotlib->wordcloud>=1.7.0->ar_wordcloud) (2.8.1)\n",
      "Requirement already satisfied: pyparsing!=2.0.4,!=2.1.2,!=2.1.6,>=2.0.1 in i:\\anaconda3\\lib\\site-packages (from matplotlib->wordcloud>=1.7.0->ar_wordcloud) (2.4.6)\n",
      "Requirement already satisfied: kiwisolver>=1.0.1 in i:\\anaconda3\\lib\\site-packages (from matplotlib->wordcloud>=1.7.0->ar_wordcloud) (1.1.0)\n"
     ]
    },
    {
     "ename": "UnicodeDecodeError",
     "evalue": "'charmap' codec can't decode byte 0x81 in position 75: character maps to <undefined>",
     "output_type": "error",
     "traceback": [
      "\u001b[1;31m---------------------------------------------------------------------------\u001b[0m",
      "\u001b[1;31mUnicodeDecodeError\u001b[0m                        Traceback (most recent call last)",
      "\u001b[1;32m<ipython-input-46-e6e537bfed3c>\u001b[0m in \u001b[0;36m<module>\u001b[1;34m\u001b[0m\n\u001b[0;32m      5\u001b[0m \u001b[1;31m#plt.imshow(WordCloud().generate(sentences_as_one_string))\u001b[0m\u001b[1;33m\u001b[0m\u001b[1;33m\u001b[0m\u001b[1;33m\u001b[0m\u001b[0m\n\u001b[0;32m      6\u001b[0m \u001b[0mget_ipython\u001b[0m\u001b[1;33m(\u001b[0m\u001b[1;33m)\u001b[0m\u001b[1;33m.\u001b[0m\u001b[0msystem\u001b[0m\u001b[1;33m(\u001b[0m\u001b[1;34m'pip install ar_wordcloud'\u001b[0m\u001b[1;33m)\u001b[0m\u001b[1;33m\u001b[0m\u001b[1;33m\u001b[0m\u001b[0m\n\u001b[1;32m----> 7\u001b[1;33m \u001b[1;32mfrom\u001b[0m \u001b[0mar_wordcloud\u001b[0m \u001b[1;32mimport\u001b[0m \u001b[0mArabicWordCloud\u001b[0m\u001b[1;33m\u001b[0m\u001b[1;33m\u001b[0m\u001b[0m\n\u001b[0m\u001b[0;32m      8\u001b[0m \u001b[0mawc\u001b[0m \u001b[1;33m=\u001b[0m \u001b[0mArabicWordCloud\u001b[0m\u001b[1;33m(\u001b[0m\u001b[0mbackground_color\u001b[0m\u001b[1;33m=\u001b[0m\u001b[1;34m\"white\"\u001b[0m\u001b[1;33m)\u001b[0m\u001b[1;33m\u001b[0m\u001b[1;33m\u001b[0m\u001b[0m\n\u001b[0;32m      9\u001b[0m \u001b[1;33m\u001b[0m\u001b[0m\n",
      "\u001b[1;32mI:\\anaconda3\\lib\\site-packages\\ar_wordcloud\\__init__.py\u001b[0m in \u001b[0;36m<module>\u001b[1;34m\u001b[0m\n\u001b[0;32m      4\u001b[0m \u001b[0m__date__\u001b[0m \u001b[1;33m=\u001b[0m \u001b[1;34m\"May, 17 2020\"\u001b[0m\u001b[1;33m\u001b[0m\u001b[1;33m\u001b[0m\u001b[0m\n\u001b[0;32m      5\u001b[0m \u001b[1;33m\u001b[0m\u001b[0m\n\u001b[1;32m----> 6\u001b[1;33m \u001b[1;32mfrom\u001b[0m \u001b[1;33m.\u001b[0m\u001b[0mar_wordcloud\u001b[0m \u001b[1;32mimport\u001b[0m \u001b[0mArabicWordCloud\u001b[0m\u001b[1;33m\u001b[0m\u001b[1;33m\u001b[0m\u001b[0m\n\u001b[0m",
      "\u001b[1;32mI:\\anaconda3\\lib\\site-packages\\ar_wordcloud\\ar_wordcloud.py\u001b[0m in \u001b[0;36m<module>\u001b[1;34m\u001b[0m\n\u001b[0;32m     17\u001b[0m \u001b[1;33m\u001b[0m\u001b[0m\n\u001b[0;32m     18\u001b[0m \u001b[0mTHIS_DIR\u001b[0m \u001b[1;33m=\u001b[0m \u001b[0mPath\u001b[0m\u001b[1;33m(\u001b[0m\u001b[0m__file__\u001b[0m\u001b[1;33m)\u001b[0m\u001b[1;33m.\u001b[0m\u001b[0mparent\u001b[0m\u001b[1;33m.\u001b[0m\u001b[0mabsolute\u001b[0m\u001b[1;33m(\u001b[0m\u001b[1;33m)\u001b[0m\u001b[1;33m\u001b[0m\u001b[1;33m\u001b[0m\u001b[0m\n\u001b[1;32m---> 19\u001b[1;33m \u001b[0mSTOPWORDS\u001b[0m \u001b[1;33m=\u001b[0m \u001b[0mset\u001b[0m\u001b[1;33m(\u001b[0m\u001b[0mmap\u001b[0m\u001b[1;33m(\u001b[0m\u001b[0mstr\u001b[0m\u001b[1;33m.\u001b[0m\u001b[0mstrip\u001b[0m\u001b[1;33m,\u001b[0m \u001b[0mopen\u001b[0m\u001b[1;33m(\u001b[0m\u001b[0mos\u001b[0m\u001b[1;33m.\u001b[0m\u001b[0mpath\u001b[0m\u001b[1;33m.\u001b[0m\u001b[0mjoin\u001b[0m\u001b[1;33m(\u001b[0m\u001b[0mTHIS_DIR\u001b[0m\u001b[1;33m,\u001b[0m \u001b[1;34m\"stopwords\"\u001b[0m\u001b[1;33m)\u001b[0m\u001b[1;33m)\u001b[0m\u001b[1;33m.\u001b[0m\u001b[0mreadlines\u001b[0m\u001b[1;33m(\u001b[0m\u001b[1;33m)\u001b[0m\u001b[1;33m)\u001b[0m\u001b[1;33m)\u001b[0m\u001b[1;33m\u001b[0m\u001b[1;33m\u001b[0m\u001b[0m\n\u001b[0m\u001b[0;32m     20\u001b[0m \u001b[1;33m\u001b[0m\u001b[0m\n\u001b[0;32m     21\u001b[0m \u001b[1;33m\u001b[0m\u001b[0m\n",
      "\u001b[1;32mI:\\anaconda3\\lib\\encodings\\cp1252.py\u001b[0m in \u001b[0;36mdecode\u001b[1;34m(self, input, final)\u001b[0m\n\u001b[0;32m     21\u001b[0m \u001b[1;32mclass\u001b[0m \u001b[0mIncrementalDecoder\u001b[0m\u001b[1;33m(\u001b[0m\u001b[0mcodecs\u001b[0m\u001b[1;33m.\u001b[0m\u001b[0mIncrementalDecoder\u001b[0m\u001b[1;33m)\u001b[0m\u001b[1;33m:\u001b[0m\u001b[1;33m\u001b[0m\u001b[1;33m\u001b[0m\u001b[0m\n\u001b[0;32m     22\u001b[0m     \u001b[1;32mdef\u001b[0m \u001b[0mdecode\u001b[0m\u001b[1;33m(\u001b[0m\u001b[0mself\u001b[0m\u001b[1;33m,\u001b[0m \u001b[0minput\u001b[0m\u001b[1;33m,\u001b[0m \u001b[0mfinal\u001b[0m\u001b[1;33m=\u001b[0m\u001b[1;32mFalse\u001b[0m\u001b[1;33m)\u001b[0m\u001b[1;33m:\u001b[0m\u001b[1;33m\u001b[0m\u001b[1;33m\u001b[0m\u001b[0m\n\u001b[1;32m---> 23\u001b[1;33m         \u001b[1;32mreturn\u001b[0m \u001b[0mcodecs\u001b[0m\u001b[1;33m.\u001b[0m\u001b[0mcharmap_decode\u001b[0m\u001b[1;33m(\u001b[0m\u001b[0minput\u001b[0m\u001b[1;33m,\u001b[0m\u001b[0mself\u001b[0m\u001b[1;33m.\u001b[0m\u001b[0merrors\u001b[0m\u001b[1;33m,\u001b[0m\u001b[0mdecoding_table\u001b[0m\u001b[1;33m)\u001b[0m\u001b[1;33m[\u001b[0m\u001b[1;36m0\u001b[0m\u001b[1;33m]\u001b[0m\u001b[1;33m\u001b[0m\u001b[1;33m\u001b[0m\u001b[0m\n\u001b[0m\u001b[0;32m     24\u001b[0m \u001b[1;33m\u001b[0m\u001b[0m\n\u001b[0;32m     25\u001b[0m \u001b[1;32mclass\u001b[0m \u001b[0mStreamWriter\u001b[0m\u001b[1;33m(\u001b[0m\u001b[0mCodec\u001b[0m\u001b[1;33m,\u001b[0m\u001b[0mcodecs\u001b[0m\u001b[1;33m.\u001b[0m\u001b[0mStreamWriter\u001b[0m\u001b[1;33m)\u001b[0m\u001b[1;33m:\u001b[0m\u001b[1;33m\u001b[0m\u001b[1;33m\u001b[0m\u001b[0m\n",
      "\u001b[1;31mUnicodeDecodeError\u001b[0m: 'charmap' codec can't decode byte 0x81 in position 75: character maps to <undefined>"
     ]
    }
   ],
   "source": [
    "#!pip install WordCloud\n",
    "#from wordcloud import WordCloud\n",
    "\n",
    "#plt.figure(figsize=(20,20))\n",
    "#plt.imshow(WordCloud().generate(sentences_as_one_string))\n",
    "!pip install ar_wordcloud\n",
    "from ar_wordcloud import ArabicWordCloud\n",
    "awc = ArabicWordCloud(background_color=\"white\")\n",
    "\n",
    "t = 'أهلاً وسهلا، اللغة العربية جميلة'\n",
    "wc = awc.from_text(t)"
   ]
  },
  {
   "cell_type": "code",
   "execution_count": 47,
   "metadata": {},
   "outputs": [
    {
     "data": {
      "text/plain": [
       "<matplotlib.image.AxesImage at 0x2fa82f60448>"
      ]
     },
     "execution_count": 47,
     "metadata": {},
     "output_type": "execute_result"
    },
    {
     "data": {
      "image/png": "[encoded data removed]",
      "text/plain": [
       "<Figure size 1440x1440 with 1 Axes>"
      ]
     },
     "metadata": {
      "needs_background": "light"
     },
     "output_type": "display_data"
    }
   ],
   "source": [
    "negative_list = negative[\"text\"].tolist()\n",
    "negative_sentences_as_one_string = \" \".join(negative_list)\n",
    "plt.figure(figsize=(20,20))\n",
    "plt.imshow(WordCloud().generate(negative_sentences_as_one_string))"
   ]
  },
  {
   "cell_type": "markdown",
   "metadata": {
    "colab_type": "text",
    "id": "Y0GmpAjG3GiH"
   },
   "source": [
    "# TASK #5: PERFORM DATA CLEANING - REMOVE PUNCTUATION FROM TEXT"
   ]
  },
  {
   "cell_type": "code",
   "execution_count": 50,
   "metadata": {
    "colab": {
     "base_uri": "https://localhost:8080/",
     "height": 34
    },
    "colab_type": "code",
    "id": "fMoyni7vLnBj",
    "outputId": "a53ff402-92e0-4909-afdd-f6fe7f96eec3"
   },
   "outputs": [
    {
     "data": {
      "text/plain": [
       "'!\"#$%&\\'()*+,-./:;<=>?@[\\\\]^_`{|}~'"
      ]
     },
     "execution_count": 50,
     "metadata": {},
     "output_type": "execute_result"
    }
   ],
   "source": [
    "import string\n",
    "string.punctuation"
   ]
  },
  {
   "cell_type": "code",
   "execution_count": 51,
   "metadata": {
    "colab": {},
    "colab_type": "code",
    "id": "6fXNKTwHPIBN"
   },
   "outputs": [],
   "source": [
    "Test = 'كل روساء الدول في كفه ومحمد بن سلمان وابوه في كفه 🇸🇦😍#غرد_بحبك_لمحمد_بن_سلمان'"
   ]
  },
  {
   "cell_type": "code",
   "execution_count": 52,
   "metadata": {
    "colab": {
     "base_uri": "https://localhost:8080/",
     "height": 874
    },
    "colab_type": "code",
    "id": "_2EewIUSPIHJ",
    "outputId": "676369fb-b40b-4137-8a15-d158d6bcb515"
   },
   "outputs": [
    {
     "data": {
      "text/plain": [
       "['ك',\n",
       " 'ل',\n",
       " ' ',\n",
       " 'ر',\n",
       " 'و',\n",
       " 'س',\n",
       " 'ا',\n",
       " 'ء',\n",
       " ' ',\n",
       " 'ا',\n",
       " 'ل',\n",
       " 'د',\n",
       " 'و',\n",
       " 'ل',\n",
       " ' ',\n",
       " 'ف',\n",
       " 'ي',\n",
       " ' ',\n",
       " 'ك',\n",
       " 'ف',\n",
       " 'ه',\n",
       " ' ',\n",
       " 'و',\n",
       " 'م',\n",
       " 'ح',\n",
       " 'م',\n",
       " 'د',\n",
       " ' ',\n",
       " 'ب',\n",
       " 'ن',\n",
       " ' ',\n",
       " 'س',\n",
       " 'ل',\n",
       " 'م',\n",
       " 'ا',\n",
       " 'ن',\n",
       " ' ',\n",
       " 'و',\n",
       " 'ا',\n",
       " 'ب',\n",
       " 'و',\n",
       " 'ه',\n",
       " ' ',\n",
       " 'ف',\n",
       " 'ي',\n",
       " ' ',\n",
       " 'ك',\n",
       " 'ف',\n",
       " 'ه',\n",
       " ' ',\n",
       " '🇸',\n",
       " '🇦',\n",
       " '😍',\n",
       " 'غ',\n",
       " 'ر',\n",
       " 'د',\n",
       " 'ب',\n",
       " 'ح',\n",
       " 'ب',\n",
       " 'ك',\n",
       " 'ل',\n",
       " 'م',\n",
       " 'ح',\n",
       " 'م',\n",
       " 'د',\n",
       " 'ب',\n",
       " 'ن',\n",
       " 'س',\n",
       " 'ل',\n",
       " 'م',\n",
       " 'ا',\n",
       " 'ن']"
      ]
     },
     "execution_count": 52,
     "metadata": {},
     "output_type": "execute_result"
    }
   ],
   "source": [
    "Test_punc_removed = []\n",
    "for char in Test:\n",
    "    if(char not in string.punctuation):\n",
    "        Test_punc_removed.append(char)\n",
    "Test_punc_removed        "
   ]
  },
  {
   "cell_type": "code",
   "execution_count": 53,
   "metadata": {
    "colab": {
     "base_uri": "https://localhost:8080/",
     "height": 34
    },
    "colab_type": "code",
    "id": "EMWeHpqNPIJ4",
    "outputId": "eba46aa3-a3b9-4a1e-b1b4-416204e45aba"
   },
   "outputs": [
    {
     "data": {
      "text/plain": [
       "'كل روساء الدول في كفه ومحمد بن سلمان وابوه في كفه 🇸🇦😍غردبحبكلمحمدبنسلمان'"
      ]
     },
     "execution_count": 53,
     "metadata": {},
     "output_type": "execute_result"
    }
   ],
   "source": [
    "# Join the characters again to form the string.\n",
    "Test_punc_removed_join = \"\".join(Test_punc_removed)\n",
    "Test_punc_removed_join"
   ]
  },
  {
   "cell_type": "markdown",
   "metadata": {
    "colab_type": "text",
    "id": "78wsji1HPWW3"
   },
   "source": [
    "# TASK 6: PERFORM DATA CLEANING - REMOVE STOPWORDS"
   ]
  },
  {
   "cell_type": "code",
   "execution_count": 54,
   "metadata": {
    "colab": {
     "base_uri": "https://localhost:8080/",
     "height": 67
    },
    "colab_type": "code",
    "id": "g-R51U7HQhJx",
    "outputId": "447538a3-1d15-48fb-c381-61a1a259a00a"
   },
   "outputs": [
    {
     "name": "stderr",
     "output_type": "stream",
     "text": [
      "[nltk_data] Downloading package stopwords to\n",
      "[nltk_data]     C:\\Users\\bsalo\\AppData\\Roaming\\nltk_data...\n",
      "[nltk_data]   Package stopwords is already up-to-date!\n"
     ]
    },
    {
     "data": {
      "text/plain": [
       "True"
      ]
     },
     "execution_count": 54,
     "metadata": {},
     "output_type": "execute_result"
    }
   ],
   "source": [
    "import nltk # Natural Language tool kit \n",
    "nltk.download('stopwords')"
   ]
  },
  {
   "cell_type": "code",
   "execution_count": 55,
   "metadata": {
    "colab": {
     "base_uri": "https://localhost:8080/",
     "height": 1000
    },
    "colab_type": "code",
    "id": "Afteb9uNPZht",
    "outputId": "63f54f75-af41-4d58-fd9d-6235f0d5d2b6"
   },
   "outputs": [
    {
     "data": {
      "text/plain": [
       "['إذ',\n",
       " 'إذا',\n",
       " 'إذما',\n",
       " 'إذن',\n",
       " 'أف',\n",
       " 'أقل',\n",
       " 'أكثر',\n",
       " 'ألا',\n",
       " 'إلا',\n",
       " 'التي',\n",
       " 'الذي',\n",
       " 'الذين',\n",
       " 'اللاتي',\n",
       " 'اللائي',\n",
       " 'اللتان',\n",
       " 'اللتيا',\n",
       " 'اللتين',\n",
       " 'اللذان',\n",
       " 'اللذين',\n",
       " 'اللواتي',\n",
       " 'إلى',\n",
       " 'إليك',\n",
       " 'إليكم',\n",
       " 'إليكما',\n",
       " 'إليكن',\n",
       " 'أم',\n",
       " 'أما',\n",
       " 'أما',\n",
       " 'إما',\n",
       " 'أن',\n",
       " 'إن',\n",
       " 'إنا',\n",
       " 'أنا',\n",
       " 'أنت',\n",
       " 'أنتم',\n",
       " 'أنتما',\n",
       " 'أنتن',\n",
       " 'إنما',\n",
       " 'إنه',\n",
       " 'أنى',\n",
       " 'أنى',\n",
       " 'آه',\n",
       " 'آها',\n",
       " 'أو',\n",
       " 'أولاء',\n",
       " 'أولئك',\n",
       " 'أوه',\n",
       " 'آي',\n",
       " 'أي',\n",
       " 'أيها',\n",
       " 'إي',\n",
       " 'أين',\n",
       " 'أين',\n",
       " 'أينما',\n",
       " 'إيه',\n",
       " 'بخ',\n",
       " 'بس',\n",
       " 'بعد',\n",
       " 'بعض',\n",
       " 'بك',\n",
       " 'بكم',\n",
       " 'بكم',\n",
       " 'بكما',\n",
       " 'بكن',\n",
       " 'بل',\n",
       " 'بلى',\n",
       " 'بما',\n",
       " 'بماذا',\n",
       " 'بمن',\n",
       " 'بنا',\n",
       " 'به',\n",
       " 'بها',\n",
       " 'بهم',\n",
       " 'بهما',\n",
       " 'بهن',\n",
       " 'بي',\n",
       " 'بين',\n",
       " 'بيد',\n",
       " 'تلك',\n",
       " 'تلكم',\n",
       " 'تلكما',\n",
       " 'ته',\n",
       " 'تي',\n",
       " 'تين',\n",
       " 'تينك',\n",
       " 'ثم',\n",
       " 'ثمة',\n",
       " 'حاشا',\n",
       " 'حبذا',\n",
       " 'حتى',\n",
       " 'حيث',\n",
       " 'حيثما',\n",
       " 'حين',\n",
       " 'خلا',\n",
       " 'دون',\n",
       " 'ذا',\n",
       " 'ذات',\n",
       " 'ذاك',\n",
       " 'ذان',\n",
       " 'ذانك',\n",
       " 'ذلك',\n",
       " 'ذلكم',\n",
       " 'ذلكما',\n",
       " 'ذلكن',\n",
       " 'ذه',\n",
       " 'ذو',\n",
       " 'ذوا',\n",
       " 'ذواتا',\n",
       " 'ذواتي',\n",
       " 'ذي',\n",
       " 'ذين',\n",
       " 'ذينك',\n",
       " 'ريث',\n",
       " 'سوف',\n",
       " 'سوى',\n",
       " 'شتان',\n",
       " 'عدا',\n",
       " 'عسى',\n",
       " 'عل',\n",
       " 'على',\n",
       " 'عليك',\n",
       " 'عليه',\n",
       " 'عما',\n",
       " 'عن',\n",
       " 'عند',\n",
       " 'غير',\n",
       " 'فإذا',\n",
       " 'فإن',\n",
       " 'فلا',\n",
       " 'فمن',\n",
       " 'في',\n",
       " 'فيم',\n",
       " 'فيما',\n",
       " 'فيه',\n",
       " 'فيها',\n",
       " 'قد',\n",
       " 'كأن',\n",
       " 'كأنما',\n",
       " 'كأي',\n",
       " 'كأين',\n",
       " 'كذا',\n",
       " 'كذلك',\n",
       " 'كل',\n",
       " 'كلا',\n",
       " 'كلاهما',\n",
       " 'كلتا',\n",
       " 'كلما',\n",
       " 'كليكما',\n",
       " 'كليهما',\n",
       " 'كم',\n",
       " 'كم',\n",
       " 'كما',\n",
       " 'كي',\n",
       " 'كيت',\n",
       " 'كيف',\n",
       " 'كيفما',\n",
       " 'لا',\n",
       " 'لاسيما',\n",
       " 'لدى',\n",
       " 'لست',\n",
       " 'لستم',\n",
       " 'لستما',\n",
       " 'لستن',\n",
       " 'لسن',\n",
       " 'لسنا',\n",
       " 'لعل',\n",
       " 'لك',\n",
       " 'لكم',\n",
       " 'لكما',\n",
       " 'لكن',\n",
       " 'لكنما',\n",
       " 'لكي',\n",
       " 'لكيلا',\n",
       " 'لم',\n",
       " 'لما',\n",
       " 'لن',\n",
       " 'لنا',\n",
       " 'له',\n",
       " 'لها',\n",
       " 'لهم',\n",
       " 'لهما',\n",
       " 'لهن',\n",
       " 'لو',\n",
       " 'لولا',\n",
       " 'لوما',\n",
       " 'لي',\n",
       " 'لئن',\n",
       " 'ليت',\n",
       " 'ليس',\n",
       " 'ليسا',\n",
       " 'ليست',\n",
       " 'ليستا',\n",
       " 'ليسوا',\n",
       " 'ما',\n",
       " 'ماذا',\n",
       " 'متى',\n",
       " 'مذ',\n",
       " 'مع',\n",
       " 'مما',\n",
       " 'ممن',\n",
       " 'من',\n",
       " 'منه',\n",
       " 'منها',\n",
       " 'منذ',\n",
       " 'مه',\n",
       " 'مهما',\n",
       " 'نحن',\n",
       " 'نحو',\n",
       " 'نعم',\n",
       " 'ها',\n",
       " 'هاتان',\n",
       " 'هاته',\n",
       " 'هاتي',\n",
       " 'هاتين',\n",
       " 'هاك',\n",
       " 'هاهنا',\n",
       " 'هذا',\n",
       " 'هذان',\n",
       " 'هذه',\n",
       " 'هذي',\n",
       " 'هذين',\n",
       " 'هكذا',\n",
       " 'هل',\n",
       " 'هلا',\n",
       " 'هم',\n",
       " 'هما',\n",
       " 'هن',\n",
       " 'هنا',\n",
       " 'هناك',\n",
       " 'هنالك',\n",
       " 'هو',\n",
       " 'هؤلاء',\n",
       " 'هي',\n",
       " 'هيا',\n",
       " 'هيت',\n",
       " 'هيهات',\n",
       " 'والذي',\n",
       " 'والذين',\n",
       " 'وإذ',\n",
       " 'وإذا',\n",
       " 'وإن',\n",
       " 'ولا',\n",
       " 'ولكن',\n",
       " 'ولو',\n",
       " 'وما',\n",
       " 'ومن',\n",
       " 'وهو',\n",
       " 'يا']"
      ]
     },
     "execution_count": 55,
     "metadata": {},
     "output_type": "execute_result"
    }
   ],
   "source": [
    "# You have to download stopwords Package to execute this command\n",
    "from nltk.corpus import stopwords\n",
    "stopwords.words('arabic')"
   ]
  },
  {
   "cell_type": "code",
   "execution_count": 56,
   "metadata": {
    "colab": {
     "base_uri": "https://localhost:8080/",
     "height": 34
    },
    "colab_type": "code",
    "id": "VIAdiVf_PZkE",
    "outputId": "1ca6e448-44ba-4b9b-c761-b6384918a495"
   },
   "outputs": [
    {
     "data": {
      "text/plain": [
       "['كل',\n",
       " 'روساء',\n",
       " 'الدول',\n",
       " 'في',\n",
       " 'كفه',\n",
       " 'ومحمد',\n",
       " 'بن',\n",
       " 'سلمان',\n",
       " 'وابوه',\n",
       " 'في',\n",
       " 'كفه',\n",
       " '🇸🇦😍غردبحبكلمحمدبنسلمان']"
      ]
     },
     "execution_count": 56,
     "metadata": {},
     "output_type": "execute_result"
    }
   ],
   "source": [
    "Test_punc_removed_join_clean = []\n",
    "for word in Test_punc_removed_join.split():\n",
    "    if(word.lower() not in stopwords.words('english')):\n",
    "        Test_punc_removed_join_clean.append(word)\n",
    "Test_punc_removed_join_clean        "
   ]
  },
  {
   "cell_type": "code",
   "execution_count": 57,
   "metadata": {
    "colab": {
     "base_uri": "https://localhost:8080/",
     "height": 34
    },
    "colab_type": "code",
    "id": "KPlPakMxPfQJ",
    "outputId": "0d12712b-5e4b-46fc-d8c7-4b7404261ef8"
   },
   "outputs": [
    {
     "data": {
      "text/plain": [
       "['كل',\n",
       " 'روساء',\n",
       " 'الدول',\n",
       " 'في',\n",
       " 'كفه',\n",
       " 'ومحمد',\n",
       " 'بن',\n",
       " 'سلمان',\n",
       " 'وابوه',\n",
       " 'في',\n",
       " 'كفه',\n",
       " '🇸🇦😍غردبحبكلمحمدبنسلمان']"
      ]
     },
     "execution_count": 57,
     "metadata": {},
     "output_type": "execute_result"
    }
   ],
   "source": [
    "Test_punc_removed_join_clean "
   ]
  },
  {
   "cell_type": "markdown",
   "metadata": {
    "colab_type": "text",
    "id": "7Kxb4M0pRBkU"
   },
   "source": [
    "# TASK 7: PERFORM COUNT VECTORIZATION (TOKENIZATION)"
   ]
  },
  {
   "attachments": {
    "image.png": {
     "image/png": "[encoded data removed]"
    }
   },
   "cell_type": "markdown",
   "metadata": {},
   "source": [
    "![image.png](attachment:image.png)"
   ]
  },
  {
   "cell_type": "code",
   "execution_count": 59,
   "metadata": {
    "colab": {},
    "colab_type": "code",
    "id": "bRstHzLkRMxA"
   },
   "outputs": [],
   "source": [
    "from sklearn.feature_extraction.text import CountVectorizer\n",
    "sample_data = ['كلنا هذا الرجل الطموح #غرد_بحبك_لمحمد_بن_سلمان','الكلام قليل بحقك ياسيدي... حفظك الله ورعااك #غرد_بحبك_لمحمد_بن_سلمان','تعجز الاحرف عن التعبير عن حبه ، لكن يشهد الله اني احبه❤️🇸🇦 #غرد_بحبك_لمحمد_بن_سلمان','تاج فوق رووؤس الملايين حفظه الله#غرد_بحبك_لمحمد_بن_سلمان']"
   ]
  },
  {
   "cell_type": "code",
   "execution_count": 60,
   "metadata": {
    "colab": {
     "base_uri": "https://localhost:8080/",
     "height": 34
    },
    "colab_type": "code",
    "id": "zFACTUGSRMz6",
    "outputId": "67c8cfb6-1268-4ba4-df97-6ff88a404b15"
   },
   "outputs": [],
   "source": [
    "vectorizer = CountVectorizer()"
   ]
  },
  {
   "cell_type": "code",
   "execution_count": 61,
   "metadata": {
    "colab": {
     "base_uri": "https://localhost:8080/",
     "height": 84
    },
    "colab_type": "code",
    "id": "i_2dw2lMRNCP",
    "outputId": "3d03bb26-0e59-4616-8f63-e4946d6d9e73"
   },
   "outputs": [],
   "source": [
    "X = vectorizer.fit_transform(sample_data)"
   ]
  },
  {
   "cell_type": "code",
   "execution_count": null,
   "metadata": {},
   "outputs": [],
   "source": []
  },
  {
   "cell_type": "markdown",
   "metadata": {
    "colab_type": "text",
    "id": "2geMzGITbZPJ"
   },
   "source": [
    "# TASK #8: CREATE A PIPELINE TO REMOVE PUNCTUATIONS, STOPWORDS AND PERFORM COUNT VECTORIZATION"
   ]
  },
  {
   "cell_type": "code",
   "execution_count": 66,
   "metadata": {
    "colab": {},
    "colab_type": "code",
    "id": "WHJnbIDeSmlm"
   },
   "outputs": [],
   "source": [
    "# Let's define a pipeline to clean up all the messages \n",
    "# The pipeline performs the following: (1) remove punctuation, (2) remove stopwords\n",
    "\n",
    "def message_cleaning(message):\n",
    "    Test_punc_removed = [char for char in message if char not in string.punctuation]\n",
    "    Test_punc_removed_join = ''.join(Test_punc_removed)\n",
    "    Test_punc_removed_join_clean = [word for word in Test_punc_removed_join.split() if word.lower() not in stopwords.words('arabic')]\n",
    "    return Test_punc_removed_join_clean"
   ]
  },
  {
   "cell_type": "code",
   "execution_count": 67,
   "metadata": {
    "colab": {},
    "colab_type": "code",
    "id": "TxAYpIXXSmoZ"
   },
   "outputs": [],
   "source": [
    "# Let's test the newly added function\n",
    "tweets_df_clean = tweets_df['text'].apply(message_cleaning)"
   ]
  },
  {
   "cell_type": "code",
   "execution_count": 68,
   "metadata": {
    "colab": {
     "base_uri": "https://localhost:8080/",
     "height": 34
    },
    "colab_type": "code",
    "id": "DXnYj4Q8SmrH",
    "outputId": "689c9dc9-4871-48d8-88df-40d02ff51e58"
   },
   "outputs": [
    {
     "name": "stdout",
     "output_type": "stream",
     "text": [
      "['RT', 'fatemaar7', 'انا', 'كامرأة', 'يوجعني', 'حزن', 'نساء', 'العالم،', 'سواء', 'تعنفت،', 'ضُربت،', 'قُتلت', 'جريمة', 'شرف،', 'اغتُصِبت،', 'حرِمت', 'دراسة', 'عمل', 'جبرت', 'زواج', 'او', 'حياة', 'تخترتها', 'الدفاع', 'حقوق', 'المرأة', 'الي', 'تُعتبر', 'أغلب', 'دول', 'العالم', 'مواطن', 'بالدرجة', 'الثانية،', 'مو', 'ترند', 'لكنه', 'إنسانية', 'والساكت', 'الحق', 'شيطان', 'أخرس', 'httpstcoc494qBVPx4']\n"
     ]
    }
   ],
   "source": [
    "print(tweets_df_clean[5]) # show the cleaned up version"
   ]
  },
  {
   "cell_type": "code",
   "execution_count": 69,
   "metadata": {
    "colab": {
     "base_uri": "https://localhost:8080/",
     "height": 34
    },
    "colab_type": "code",
    "id": "ygy78EHZTGTD",
    "outputId": "c65088d4-80b3-49de-85f1-e16e28e51f3c"
   },
   "outputs": [
    {
     "name": "stdout",
     "output_type": "stream",
     "text": [
      "RT @fatemaar7: انا كامرأة يوجعني كل حزن نساء العالم، سواء تعنفت، ضُربت، قُتلت في جريمة شرف، اغتُصِبت، حرِمت من دراسة أو عمل أو جبرت على زواج او حياة لم تخترتها. \n",
      " \n",
      " الدفاع عن حقوق المرأة الي تُعتبر في أغلب دول العالم مواطن بالدرجة الثانية، مو ترند.. لكنه إنسانية. \n",
      " \n",
      " والساكت عن الحق شيطان أخرس. https://t.co/c494qBVPx4\n"
     ]
    }
   ],
   "source": [
    "print(tweets_df['text'][5]) # show the original version"
   ]
  },
  {
   "cell_type": "code",
   "execution_count": 70,
   "metadata": {
    "colab": {},
    "colab_type": "code",
    "id": "0oZBSWUVTGV9"
   },
   "outputs": [],
   "source": [
    "from sklearn.feature_extraction.text import CountVectorizer\n",
    "# Define the cleaning pipeline we defined earlier\n",
    "vectorizer = CountVectorizer(analyzer = message_cleaning)\n",
    "tweets_countvectorizer = vectorizer.fit_transform(tweets_df['text'])"
   ]
  },
  {
   "cell_type": "code",
   "execution_count": 71,
   "metadata": {
    "colab": {},
    "colab_type": "code",
    "id": "Ajna6zStUH8j"
   },
   "outputs": [
    {
     "data": {
      "text/plain": [
       "(4252, 28535)"
      ]
     },
     "execution_count": 71,
     "metadata": {},
     "output_type": "execute_result"
    }
   ],
   "source": [
    "tweets_countvectorizer.shape"
   ]
  },
  {
   "cell_type": "code",
   "execution_count": 72,
   "metadata": {
    "colab": {},
    "colab_type": "code",
    "id": "HdsbGToxFCP9"
   },
   "outputs": [],
   "source": [
    "X = tweets_countvectorizer"
   ]
  },
  {
   "cell_type": "code",
   "execution_count": 73,
   "metadata": {
    "colab": {},
    "colab_type": "code",
    "id": "-Y5f8HWWFglY"
   },
   "outputs": [],
   "source": [
    "y = tweets_df[\"Sentiment\"]"
   ]
  },
  {
   "cell_type": "code",
   "execution_count": 74,
   "metadata": {
    "colab": {},
    "colab_type": "code",
    "id": "RgxKnJOcFids"
   },
   "outputs": [
    {
     "data": {
      "text/plain": [
       "<4252x28535 sparse matrix of type '<class 'numpy.int64'>'\n",
       "\twith 79768 stored elements in Compressed Sparse Row format>"
      ]
     },
     "execution_count": 74,
     "metadata": {},
     "output_type": "execute_result"
    }
   ],
   "source": [
    "X"
   ]
  },
  {
   "cell_type": "code",
   "execution_count": 75,
   "metadata": {
    "colab": {},
    "colab_type": "code",
    "id": "0TQZtuY5FnhP"
   },
   "outputs": [],
   "source": [
    "y = tweets_df['Sentiment']"
   ]
  },
  {
   "cell_type": "markdown",
   "metadata": {
    "colab_type": "text",
    "id": "jIVxZdZ1USAz"
   },
   "source": [
    "# TASK #9: TRAIN A NAIVE BAYES CLASSIFIER MODEL"
   ]
  },
  {
   "cell_type": "code",
   "execution_count": 76,
   "metadata": {
    "colab": {},
    "colab_type": "code",
    "id": "uUclD-muUhvW"
   },
   "outputs": [
    {
     "data": {
      "text/plain": [
       "(4252, 28535)"
      ]
     },
     "execution_count": 76,
     "metadata": {},
     "output_type": "execute_result"
    }
   ],
   "source": [
    "X.shape"
   ]
  },
  {
   "cell_type": "code",
   "execution_count": 77,
   "metadata": {
    "colab": {},
    "colab_type": "code",
    "id": "XowpfEecUnJz"
   },
   "outputs": [
    {
     "data": {
      "text/plain": [
       "(4252,)"
      ]
     },
     "execution_count": 77,
     "metadata": {},
     "output_type": "execute_result"
    }
   ],
   "source": [
    "y.shape"
   ]
  },
  {
   "cell_type": "code",
   "execution_count": 78,
   "metadata": {
    "colab": {},
    "colab_type": "code",
    "id": "V7M9V4QAUnOM"
   },
   "outputs": [],
   "source": [
    "from sklearn.model_selection import train_test_split\n",
    "X_train, X_test, y_train, y_test = train_test_split(X, y, test_size=0.2)"
   ]
  },
  {
   "cell_type": "code",
   "execution_count": 79,
   "metadata": {
    "colab": {},
    "colab_type": "code",
    "id": "sdiBOX1xUnMo"
   },
   "outputs": [
    {
     "data": {
      "text/plain": [
       "MultinomialNB(alpha=1.0, class_prior=None, fit_prior=True)"
      ]
     },
     "execution_count": 79,
     "metadata": {},
     "output_type": "execute_result"
    }
   ],
   "source": [
    "from sklearn.naive_bayes import MultinomialNB\n",
    "\n",
    "NB_classifier = MultinomialNB()\n",
    "NB_classifier.fit(X_train, y_train)"
   ]
  },
  {
   "cell_type": "markdown",
   "metadata": {
    "colab_type": "text",
    "id": "uO-AtlgRVoVX"
   },
   "source": [
    "# TASK #10: ASSESS TRAINED MODEL PERFORMANCE  "
   ]
  },
  {
   "cell_type": "code",
   "execution_count": 80,
   "metadata": {
    "colab": {},
    "colab_type": "code",
    "id": "8CSu7xXdVyGI"
   },
   "outputs": [],
   "source": [
    "from sklearn.metrics import classification_report, confusion_matrix"
   ]
  },
  {
   "cell_type": "code",
   "execution_count": 81,
   "metadata": {
    "colab": {},
    "colab_type": "code",
    "id": "4gSgbN3JVymd"
   },
   "outputs": [
    {
     "data": {
      "text/plain": [
       "<matplotlib.axes._subplots.AxesSubplot at 0x2fa8567ddc8>"
      ]
     },
     "execution_count": 81,
     "metadata": {},
     "output_type": "execute_result"
    },
    {
     "data": {
      "image/png": "[encoded data removed]",
      "text/plain": [
       "<Figure size 432x288 with 2 Axes>"
      ]
     },
     "metadata": {
      "needs_background": "light"
     },
     "output_type": "display_data"
    }
   ],
   "source": [
    "# Predicting the Test set results\n",
    "y_predict_test = NB_classifier.predict(X_test)\n",
    "cm = confusion_matrix(y_test, y_predict_test)\n",
    "sns.heatmap(cm, annot=True)"
   ]
  },
  {
   "cell_type": "code",
   "execution_count": 82,
   "metadata": {
    "colab": {},
    "colab_type": "code",
    "id": "l2sReJpmV8CK"
   },
   "outputs": [
    {
     "name": "stdout",
     "output_type": "stream",
     "text": [
      "              precision    recall  f1-score   support\n",
      "\n",
      "           0       0.89      0.73      0.80       341\n",
      "           1       0.84      0.94      0.89       510\n",
      "\n",
      "    accuracy                           0.85       851\n",
      "   macro avg       0.86      0.83      0.84       851\n",
      "weighted avg       0.86      0.85      0.85       851\n",
      "\n"
     ]
    }
   ],
   "source": [
    "print(classification_report(y_test, y_predict_test))"
   ]
  },
  {
   "cell_type": "code",
   "execution_count": null,
   "metadata": {},
   "outputs": [],
   "source": []
  }
 ],
 "metadata": {
  "accelerator": "GPU",
  "colab": {
   "collapsed_sections": [],
   "name": "Twitter Sentiment Analysis.ipynb",
   "provenance": []
  },
  "kernelspec": {
   "display_name": "Python 3",
   "language": "python",
   "name": "python3"
  },
  "language_info": {
   "codemirror_mode": {
    "name": "ipython",
    "version": 3
   },
   "file_extension": ".py",
   "mimetype": "text/x-python",
   "name": "python",
   "nbconvert_exporter": "python",
   "pygments_lexer": "ipython3",
   "version": "3.7.6"
  }
 },
 "nbformat": 4,
 "nbformat_minor": 4
}
